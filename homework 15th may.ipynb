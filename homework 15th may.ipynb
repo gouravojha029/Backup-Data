{
 "cells": [
  {
   "cell_type": "code",
   "execution_count": 1,
   "id": "416b060c",
   "metadata": {},
   "outputs": [],
   "source": [
    "s = \"this is my first python programing class and i am learning python string and its function\""
   ]
  },
  {
   "cell_type": "code",
   "execution_count": 2,
   "id": "802bf518",
   "metadata": {},
   "outputs": [
    {
     "data": {
      "text/plain": [
       "'h   r tnrri a d  ai tntna sutn'"
      ]
     },
     "execution_count": 2,
     "metadata": {},
     "output_type": "execute_result"
    }
   ],
   "source": [
    "s[1:300:3]"
   ]
  },
  {
   "cell_type": "code",
   "execution_count": 3,
   "id": "53a8193e",
   "metadata": {},
   "outputs": [
    {
     "data": {
      "text/plain": [
       "'noitcnuf sti dna gnirts nohtyp gninrael ma i dna ssalc gnimargorp nohtyp tsrif ym si siht'"
      ]
     },
     "execution_count": 3,
     "metadata": {},
     "output_type": "execute_result"
    }
   ],
   "source": [
    "s[::-1]"
   ]
  },
  {
   "cell_type": "code",
   "execution_count": 4,
   "id": "71e5d812",
   "metadata": {},
   "outputs": [
    {
     "data": {
      "text/plain": [
       "'THIS IS MY FIRST PYTHON PROGRAMING CLASS AND I AM LEARNING PYTHON STRING AND ITS FUNCTION'"
      ]
     },
     "execution_count": 4,
     "metadata": {},
     "output_type": "execute_result"
    }
   ],
   "source": [
    "s.upper()"
   ]
  },
  {
   "cell_type": "code",
   "execution_count": 5,
   "id": "afc3e67d",
   "metadata": {},
   "outputs": [
    {
     "data": {
      "text/plain": [
       "['this',\n",
       " 'is',\n",
       " 'my',\n",
       " 'first',\n",
       " 'python',\n",
       " 'programing',\n",
       " 'class',\n",
       " 'and',\n",
       " 'i',\n",
       " 'am',\n",
       " 'learning',\n",
       " 'python',\n",
       " 'string',\n",
       " 'and',\n",
       " 'its',\n",
       " 'function']"
      ]
     },
     "execution_count": 5,
     "metadata": {},
     "output_type": "execute_result"
    }
   ],
   "source": [
    "s.split(\" \")"
   ]
  },
  {
   "cell_type": "code",
   "execution_count": 6,
   "id": "96cd0fc0",
   "metadata": {},
   "outputs": [
    {
     "data": {
      "text/plain": [
       "'this is my first python programing class and i am learning python string and its function'"
      ]
     },
     "execution_count": 6,
     "metadata": {},
     "output_type": "execute_result"
    }
   ],
   "source": [
    "s.lower()"
   ]
  },
  {
   "cell_type": "code",
   "execution_count": 7,
   "id": "0829a250",
   "metadata": {},
   "outputs": [
    {
     "data": {
      "text/plain": [
       "'This is my first python programing class and i am learning python string and its function'"
      ]
     },
     "execution_count": 7,
     "metadata": {},
     "output_type": "execute_result"
    }
   ],
   "source": [
    "s.capitalize()"
   ]
  },
  {
   "cell_type": "code",
   "execution_count": 11,
   "id": "dd7fc84c",
   "metadata": {},
   "outputs": [],
   "source": [
    "#write the difference between isalnum() and isalpha()\n",
    "#isalnum- A string is alpha-numeric if all character in string are alpha or numeric.\n",
    "#isalpha()- A string is alphabetic if all characters in the string are a alphabetic."
   ]
  },
  {
   "cell_type": "code",
   "execution_count": 13,
   "id": "25ba4e97",
   "metadata": {},
   "outputs": [],
   "source": [
    "s = 'gourav\\tkumar\\tojha'"
   ]
  },
  {
   "cell_type": "code",
   "execution_count": 14,
   "id": "04e33cbb",
   "metadata": {},
   "outputs": [
    {
     "data": {
      "text/plain": [
       "'gourav  kumar   ojha'"
      ]
     },
     "execution_count": 14,
     "metadata": {},
     "output_type": "execute_result"
    }
   ],
   "source": [
    "s.expandtabs()"
   ]
  },
  {
   "cell_type": "code",
   "execution_count": 16,
   "id": "03f5153e",
   "metadata": {},
   "outputs": [],
   "source": [
    "s = '   happybirthday    '"
   ]
  },
  {
   "cell_type": "code",
   "execution_count": 17,
   "id": "24407747",
   "metadata": {},
   "outputs": [
    {
     "data": {
      "text/plain": [
       "'happybirthday'"
      ]
     },
     "execution_count": 17,
     "metadata": {},
     "output_type": "execute_result"
    }
   ],
   "source": [
    "s.strip()"
   ]
  },
  {
   "cell_type": "code",
   "execution_count": 18,
   "id": "2863d7cb",
   "metadata": {},
   "outputs": [],
   "source": [
    "s = \"   kaira\""
   ]
  },
  {
   "cell_type": "code",
   "execution_count": 19,
   "id": "8ffce8d1",
   "metadata": {},
   "outputs": [
    {
     "data": {
      "text/plain": [
       "'kaira'"
      ]
     },
     "execution_count": 19,
     "metadata": {},
     "output_type": "execute_result"
    }
   ],
   "source": [
    "s.lstrip()"
   ]
  },
  {
   "cell_type": "code",
   "execution_count": 20,
   "id": "9de58c18",
   "metadata": {},
   "outputs": [],
   "source": [
    "s = \"kolkata     \""
   ]
  },
  {
   "cell_type": "code",
   "execution_count": 21,
   "id": "b44a86e9",
   "metadata": {},
   "outputs": [
    {
     "data": {
      "text/plain": [
       "'kolkata'"
      ]
     },
     "execution_count": 21,
     "metadata": {},
     "output_type": "execute_result"
    }
   ],
   "source": [
    "s.rstrip()"
   ]
  },
  {
   "cell_type": "code",
   "execution_count": 22,
   "id": "c9b9f936",
   "metadata": {},
   "outputs": [],
   "source": [
    "z = \"gourav\""
   ]
  },
  {
   "cell_type": "code",
   "execution_count": 25,
   "id": "3e07b660",
   "metadata": {},
   "outputs": [
    {
     "data": {
      "text/plain": [
       "'gourbv'"
      ]
     },
     "execution_count": 25,
     "metadata": {},
     "output_type": "execute_result"
    }
   ],
   "source": [
    "z.replace(\"a\", \"b\")"
   ]
  },
  {
   "cell_type": "code",
   "execution_count": 26,
   "id": "7e7b41e2",
   "metadata": {},
   "outputs": [],
   "source": [
    "s = \"good\""
   ]
  },
  {
   "cell_type": "code",
   "execution_count": 29,
   "id": "078a29da",
   "metadata": {},
   "outputs": [
    {
     "data": {
      "text/plain": [
       "'$$$$$$$$good$$$$$$$$'"
      ]
     },
     "execution_count": 29,
     "metadata": {},
     "output_type": "execute_result"
    }
   ],
   "source": [
    "s.center(20,\"$\")"
   ]
  },
  {
   "cell_type": "code",
   "execution_count": null,
   "id": "be78348d",
   "metadata": {},
   "outputs": [],
   "source": []
  }
 ],
 "metadata": {
  "kernelspec": {
   "display_name": "Python 3 (ipykernel)",
   "language": "python",
   "name": "python3"
  },
  "language_info": {
   "codemirror_mode": {
    "name": "ipython",
    "version": 3
   },
   "file_extension": ".py",
   "mimetype": "text/x-python",
   "name": "python",
   "nbconvert_exporter": "python",
   "pygments_lexer": "ipython3",
   "version": "3.9.12"
  }
 },
 "nbformat": 4,
 "nbformat_minor": 5
}
