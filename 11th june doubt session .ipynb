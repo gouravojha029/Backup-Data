{
 "cells": [
  {
   "cell_type": "code",
   "execution_count": 1,
   "id": "f6dd565c",
   "metadata": {},
   "outputs": [],
   "source": [
    "s=\"deepak\""
   ]
  },
  {
   "cell_type": "code",
   "execution_count": 2,
   "id": "89596aa4",
   "metadata": {},
   "outputs": [
    {
     "data": {
      "text/plain": [
       "''"
      ]
     },
     "execution_count": 2,
     "metadata": {},
     "output_type": "execute_result"
    }
   ],
   "source": [
    "s[0:6:-1]"
   ]
  },
  {
   "cell_type": "code",
   "execution_count": 3,
   "id": "b4564831",
   "metadata": {},
   "outputs": [
    {
     "data": {
      "text/plain": [
       "'d'"
      ]
     },
     "execution_count": 3,
     "metadata": {},
     "output_type": "execute_result"
    }
   ],
   "source": [
    "s[0::-1]"
   ]
  },
  {
   "cell_type": "code",
   "execution_count": 4,
   "id": "51f7b606",
   "metadata": {},
   "outputs": [],
   "source": [
    "fun_concat = lambda *args: \" \".join([i for i in args])"
   ]
  },
  {
   "cell_type": "code",
   "execution_count": 5,
   "id": "fea6024c",
   "metadata": {},
   "outputs": [
    {
     "data": {
      "text/plain": [
       "'sunny savita gourav'"
      ]
     },
     "execution_count": 5,
     "metadata": {},
     "output_type": "execute_result"
    }
   ],
   "source": [
    "fun_concat(\"sunny\",\"savita\",\"gourav\")"
   ]
  },
  {
   "cell_type": "code",
   "execution_count": 6,
   "id": "5e33d48f",
   "metadata": {},
   "outputs": [],
   "source": [
    "s= lambda *args: \"\".join([i for i in args])"
   ]
  },
  {
   "cell_type": "code",
   "execution_count": 7,
   "id": "d0c100e3",
   "metadata": {},
   "outputs": [
    {
     "data": {
      "text/plain": [
       "'sunny savita gourav'"
      ]
     },
     "execution_count": 7,
     "metadata": {},
     "output_type": "execute_result"
    }
   ],
   "source": [
    "s(\"sunny\",\"savita\",\"gourav\")"
   ]
  },
  {
   "cell_type": "code",
   "execution_count": 8,
   "id": "e781d446",
   "metadata": {},
   "outputs": [],
   "source": [
    "fun_concat = lambda *args: \"\".join([i for i in args])"
   ]
  },
  {
   "cell_type": "code",
   "execution_count": 9,
   "id": "bc8b81cc",
   "metadata": {},
   "outputs": [
    {
     "data": {
      "text/plain": [
       "'sunnysavitagourav'"
      ]
     },
     "execution_count": 9,
     "metadata": {},
     "output_type": "execute_result"
    }
   ],
   "source": [
    "fun_concat(\"sunny\",\"savita\",\"gourav\")"
   ]
  },
  {
   "cell_type": "code",
   "execution_count": null,
   "id": "d4e9ed7d",
   "metadata": {},
   "outputs": [],
   "source": []
  }
 ],
 "metadata": {
  "kernelspec": {
   "display_name": "Python 3 (ipykernel)",
   "language": "python",
   "name": "python3"
  },
  "language_info": {
   "codemirror_mode": {
    "name": "ipython",
    "version": 3
   },
   "file_extension": ".py",
   "mimetype": "text/x-python",
   "name": "python",
   "nbconvert_exporter": "python",
   "pygments_lexer": "ipython3",
   "version": "3.9.12"
  }
 },
 "nbformat": 4,
 "nbformat_minor": 5
}
