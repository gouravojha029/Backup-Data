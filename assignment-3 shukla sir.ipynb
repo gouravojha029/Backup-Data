{
 "cells": [
  {
   "cell_type": "code",
   "execution_count": 1,
   "id": "53ce1a7f",
   "metadata": {},
   "outputs": [],
   "source": [
    "#1) write a python script to convert a number into str type."
   ]
  },
  {
   "cell_type": "code",
   "execution_count": 9,
   "id": "6b1a2341",
   "metadata": {},
   "outputs": [
    {
     "name": "stdout",
     "output_type": "stream",
     "text": [
      "45 <class 'str'>\n"
     ]
    }
   ],
   "source": [
    "x= 45\n",
    "str(x)\n",
    "print(x,type(str(x)))"
   ]
  },
  {
   "cell_type": "code",
   "execution_count": 10,
   "id": "6ed7c16d",
   "metadata": {},
   "outputs": [],
   "source": [
    "#2) write a python script to print unicode of the character 'm'"
   ]
  },
  {
   "cell_type": "code",
   "execution_count": 11,
   "id": "0c448dca",
   "metadata": {},
   "outputs": [
    {
     "data": {
      "text/plain": [
       "109"
      ]
     },
     "execution_count": 11,
     "metadata": {},
     "output_type": "execute_result"
    }
   ],
   "source": [
    "ord('m')  "
   ]
  },
  {
   "cell_type": "code",
   "execution_count": 13,
   "id": "b9144c0a",
   "metadata": {},
   "outputs": [],
   "source": [
    "#3)write a python script to print character representation of a given unicode\n",
    "#  100"
   ]
  },
  {
   "cell_type": "code",
   "execution_count": 14,
   "id": "1e70924a",
   "metadata": {},
   "outputs": [
    {
     "data": {
      "text/plain": [
       "'d'"
      ]
     },
     "execution_count": 14,
     "metadata": {},
     "output_type": "execute_result"
    }
   ],
   "source": [
    "chr(100)"
   ]
  },
  {
   "cell_type": "code",
   "execution_count": 16,
   "id": "281bb7d3",
   "metadata": {},
   "outputs": [],
   "source": [
    "#4) write a python script to print any number and its binary equivalent"
   ]
  },
  {
   "cell_type": "code",
   "execution_count": 18,
   "id": "2353f7be",
   "metadata": {},
   "outputs": [
    {
     "data": {
      "text/plain": [
       "'0b1011'"
      ]
     },
     "execution_count": 18,
     "metadata": {},
     "output_type": "execute_result"
    }
   ],
   "source": [
    "x= 11  # binary starts with 0b,octal starts with 0o,and hexa starts with 0x\n",
    "bin(11)"
   ]
  },
  {
   "cell_type": "code",
   "execution_count": 19,
   "id": "ebfdd782",
   "metadata": {},
   "outputs": [],
   "source": [
    "#5) write a python script to print any number and its octal equivalent"
   ]
  },
  {
   "cell_type": "code",
   "execution_count": 20,
   "id": "532b11e4",
   "metadata": {},
   "outputs": [
    {
     "data": {
      "text/plain": [
       "'0o14'"
      ]
     },
     "execution_count": 20,
     "metadata": {},
     "output_type": "execute_result"
    }
   ],
   "source": [
    "x=12\n",
    "oct(12)"
   ]
  },
  {
   "cell_type": "code",
   "execution_count": 21,
   "id": "4742f7c9",
   "metadata": {},
   "outputs": [],
   "source": [
    "#6) write a python script to print any number and its hexadecimal equivalent"
   ]
  },
  {
   "cell_type": "code",
   "execution_count": 22,
   "id": "755abb75",
   "metadata": {},
   "outputs": [
    {
     "data": {
      "text/plain": [
       "'0xc'"
      ]
     },
     "execution_count": 22,
     "metadata": {},
     "output_type": "execute_result"
    }
   ],
   "source": [
    "x=12\n",
    "hex(12)"
   ]
  },
  {
   "cell_type": "code",
   "execution_count": 34,
   "id": "34c97138",
   "metadata": {},
   "outputs": [],
   "source": [
    "#7) write a python script to store binary number 1100101 in variable and print\n",
    "#   it in decimal format."
   ]
  },
  {
   "cell_type": "code",
   "execution_count": 35,
   "id": "62ee3077",
   "metadata": {},
   "outputs": [],
   "source": [
    "x=0b1100101"
   ]
  },
  {
   "cell_type": "code",
   "execution_count": 36,
   "id": "31b92822",
   "metadata": {},
   "outputs": [
    {
     "name": "stdout",
     "output_type": "stream",
     "text": [
      "101\n"
     ]
    }
   ],
   "source": [
    "print(x)"
   ]
  },
  {
   "cell_type": "code",
   "execution_count": 26,
   "id": "d66b8dce",
   "metadata": {},
   "outputs": [],
   "source": [
    "#8) write a python script to store a hexadecimal number 2F in variable and print\n",
    "#   it in octal format"
   ]
  },
  {
   "cell_type": "code",
   "execution_count": 27,
   "id": "ad2c9aaf",
   "metadata": {},
   "outputs": [
    {
     "name": "stdout",
     "output_type": "stream",
     "text": [
      "0o57\n"
     ]
    }
   ],
   "source": [
    "a=0x2F\n",
    "print(oct(a))"
   ]
  },
  {
   "cell_type": "code",
   "execution_count": 28,
   "id": "86a2c639",
   "metadata": {},
   "outputs": [],
   "source": [
    "#9) write a python script to store an octal number 125 in a variable and print\n",
    "#   it in binary format."
   ]
  },
  {
   "cell_type": "code",
   "execution_count": 31,
   "id": "151e0c77",
   "metadata": {},
   "outputs": [
    {
     "name": "stdout",
     "output_type": "stream",
     "text": [
      "0b1010101\n"
     ]
    }
   ],
   "source": [
    "x=0o125\n",
    "print(bin(x))"
   ]
  },
  {
   "cell_type": "code",
   "execution_count": 32,
   "id": "70a1275f",
   "metadata": {},
   "outputs": [],
   "source": [
    "#10) write a python script to add two number 25(in octal) and 39(in hexadecimal)\n",
    "#    and display the result in binary format"
   ]
  },
  {
   "cell_type": "code",
   "execution_count": 37,
   "id": "af1c116a",
   "metadata": {},
   "outputs": [
    {
     "data": {
      "text/plain": [
       "'0b101010b111001'"
      ]
     },
     "execution_count": 37,
     "metadata": {},
     "output_type": "execute_result"
    }
   ],
   "source": [
    "bin(0o25) + bin(0x39)"
   ]
  },
  {
   "cell_type": "code",
   "execution_count": null,
   "id": "9be7d2d4",
   "metadata": {},
   "outputs": [],
   "source": []
  }
 ],
 "metadata": {
  "kernelspec": {
   "display_name": "Python 3 (ipykernel)",
   "language": "python",
   "name": "python3"
  },
  "language_info": {
   "codemirror_mode": {
    "name": "ipython",
    "version": 3
   },
   "file_extension": ".py",
   "mimetype": "text/x-python",
   "name": "python",
   "nbconvert_exporter": "python",
   "pygments_lexer": "ipython3",
   "version": "3.9.12"
  }
 },
 "nbformat": 4,
 "nbformat_minor": 5
}
