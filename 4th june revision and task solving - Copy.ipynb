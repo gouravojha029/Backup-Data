{
 "cells": [
  {
   "cell_type": "markdown",
   "id": "cb22ea3e",
   "metadata": {},
   "source": [
    "# task 1"
   ]
  },
  {
   "cell_type": "code",
   "execution_count": 1,
   "id": "47744663",
   "metadata": {},
   "outputs": [],
   "source": [
    "s = \"this is my first python programing class and i am learning python string and its function\""
   ]
  },
  {
   "cell_type": "code",
   "execution_count": 2,
   "id": "3fd9853d",
   "metadata": {},
   "outputs": [
    {
     "data": {
      "text/plain": [
       "'tssyityopgmglsnimengyosi dtfco'"
      ]
     },
     "execution_count": 2,
     "metadata": {},
     "output_type": "execute_result"
    }
   ],
   "source": [
    "s[0:300:3]"
   ]
  },
  {
   "cell_type": "code",
   "execution_count": 3,
   "id": "cff2b282",
   "metadata": {},
   "outputs": [
    {
     "data": {
      "text/plain": [
       "'noitcnuf sti dna gnirts nohtyp gninrael ma i dna ssalc gnimargorp nohtyp tsrif ym si siht'"
      ]
     },
     "execution_count": 3,
     "metadata": {},
     "output_type": "execute_result"
    }
   ],
   "source": [
    "s [::-1]"
   ]
  },
  {
   "cell_type": "code",
   "execution_count": 4,
   "id": "080f509d",
   "metadata": {},
   "outputs": [
    {
     "data": {
      "text/plain": [
       "'THIS IS MY FIRST PYTHON PROGRAMING CLASS AND I AM LEARNING PYTHON STRING AND ITS FUNCTION'"
      ]
     },
     "execution_count": 4,
     "metadata": {},
     "output_type": "execute_result"
    }
   ],
   "source": [
    "s.upper()"
   ]
  },
  {
   "cell_type": "code",
   "execution_count": 5,
   "id": "7dc9993d",
   "metadata": {},
   "outputs": [
    {
     "data": {
      "text/plain": [
       "['this',\n",
       " 'is',\n",
       " 'my',\n",
       " 'first',\n",
       " 'python',\n",
       " 'programing',\n",
       " 'class',\n",
       " 'and',\n",
       " 'i',\n",
       " 'am',\n",
       " 'learning',\n",
       " 'python',\n",
       " 'string',\n",
       " 'and',\n",
       " 'its',\n",
       " 'function']"
      ]
     },
     "execution_count": 5,
     "metadata": {},
     "output_type": "execute_result"
    }
   ],
   "source": [
    "s.split(\" \")"
   ]
  },
  {
   "cell_type": "code",
   "execution_count": 1,
   "id": "f4135757",
   "metadata": {},
   "outputs": [],
   "source": [
    "s = \"this is my first python programing class and i am learning python string and its function\""
   ]
  },
  {
   "cell_type": "code",
   "execution_count": 2,
   "id": "ba0ac0d7",
   "metadata": {},
   "outputs": [
    {
     "data": {
      "text/plain": [
       "'this is my first python programing class and i am learning python string and its function'"
      ]
     },
     "execution_count": 2,
     "metadata": {},
     "output_type": "execute_result"
    }
   ],
   "source": [
    "s.lower()"
   ]
  },
  {
   "cell_type": "code",
   "execution_count": 5,
   "id": "e49630db",
   "metadata": {},
   "outputs": [
    {
     "data": {
      "text/plain": [
       "'This is my first python programing class and i am learning python string and its function'"
      ]
     },
     "execution_count": 5,
     "metadata": {},
     "output_type": "execute_result"
    }
   ],
   "source": [
    "s.capitalize()   # the  very first alphabet will be capital and rest will e small"
   ]
  },
  {
   "cell_type": "code",
   "execution_count": 6,
   "id": "6f27a796",
   "metadata": {},
   "outputs": [],
   "source": [
    "s1 = \"ojha123\""
   ]
  },
  {
   "cell_type": "code",
   "execution_count": 7,
   "id": "8a1c51a4",
   "metadata": {},
   "outputs": [
    {
     "data": {
      "text/plain": [
       "True"
      ]
     },
     "execution_count": 7,
     "metadata": {},
     "output_type": "execute_result"
    }
   ],
   "source": [
    "s1.isalnum()"
   ]
  },
  {
   "cell_type": "code",
   "execution_count": 8,
   "id": "09827bca",
   "metadata": {},
   "outputs": [],
   "source": [
    "s2 = \"ojha1233\""
   ]
  },
  {
   "cell_type": "code",
   "execution_count": 9,
   "id": "83bd7ecc",
   "metadata": {},
   "outputs": [
    {
     "data": {
      "text/plain": [
       "False"
      ]
     },
     "execution_count": 9,
     "metadata": {},
     "output_type": "execute_result"
    }
   ],
   "source": [
    "s2.isalpha()"
   ]
  },
  {
   "cell_type": "code",
   "execution_count": 12,
   "id": "74383b85",
   "metadata": {},
   "outputs": [],
   "source": [
    "a = \"xyzyu\\tojha\\t1234\"     # \\t is tab and by using expandtabs() it will be removed by three spaces"
   ]
  },
  {
   "cell_type": "code",
   "execution_count": 11,
   "id": "f70872e3",
   "metadata": {},
   "outputs": [
    {
     "data": {
      "text/plain": [
       "'xyzyu   ojha    1234'"
      ]
     },
     "execution_count": 11,
     "metadata": {},
     "output_type": "execute_result"
    }
   ],
   "source": [
    "a.expandtabs()"
   ]
  },
  {
   "cell_type": "code",
   "execution_count": 13,
   "id": "43ba5e92",
   "metadata": {},
   "outputs": [],
   "source": [
    "temp = \"         baby        \""
   ]
  },
  {
   "cell_type": "code",
   "execution_count": 14,
   "id": "2a66324d",
   "metadata": {},
   "outputs": [
    {
     "data": {
      "text/plain": [
       "'baby'"
      ]
     },
     "execution_count": 14,
     "metadata": {},
     "output_type": "execute_result"
    }
   ],
   "source": [
    "temp.strip()"
   ]
  },
  {
   "cell_type": "code",
   "execution_count": 15,
   "id": "e4718a1a",
   "metadata": {},
   "outputs": [
    {
     "data": {
      "text/plain": [
       "'baby        '"
      ]
     },
     "execution_count": 15,
     "metadata": {},
     "output_type": "execute_result"
    }
   ],
   "source": [
    "temp.lstrip()"
   ]
  },
  {
   "cell_type": "code",
   "execution_count": 16,
   "id": "138ef77a",
   "metadata": {},
   "outputs": [
    {
     "data": {
      "text/plain": [
       "'         baby'"
      ]
     },
     "execution_count": 16,
     "metadata": {},
     "output_type": "execute_result"
    }
   ],
   "source": [
    "temp.rstrip()"
   ]
  },
  {
   "cell_type": "code",
   "execution_count": 17,
   "id": "7c8a6598",
   "metadata": {},
   "outputs": [],
   "source": [
    "ad = \"cold storage\""
   ]
  },
  {
   "cell_type": "code",
   "execution_count": 18,
   "id": "8ccfb44f",
   "metadata": {},
   "outputs": [
    {
     "data": {
      "text/plain": [
       "'cold container'"
      ]
     },
     "execution_count": 18,
     "metadata": {},
     "output_type": "execute_result"
    }
   ],
   "source": [
    "ad.replace(\"storage\",\"container\")"
   ]
  },
  {
   "cell_type": "code",
   "execution_count": 19,
   "id": "8af9d7fa",
   "metadata": {},
   "outputs": [
    {
     "data": {
      "text/plain": [
       "'cold storage'"
      ]
     },
     "execution_count": 19,
     "metadata": {},
     "output_type": "execute_result"
    }
   ],
   "source": [
    "ad"
   ]
  },
  {
   "cell_type": "code",
   "execution_count": 23,
   "id": "f777bc9d",
   "metadata": {},
   "outputs": [
    {
     "data": {
      "text/plain": [
       "'##coder###'"
      ]
     },
     "execution_count": 23,
     "metadata": {},
     "output_type": "execute_result"
    }
   ],
   "source": [
    "n = \"coder\"\n",
    "n.center(10,\"#\")"
   ]
  },
  {
   "cell_type": "code",
   "execution_count": 24,
   "id": "32b74242",
   "metadata": {},
   "outputs": [],
   "source": [
    "# python is both compiled as well as interpreter language \n",
    "# it works in two layer first the .py file is compiled to an intermidiate code of .pyc file is directly interpreted"
   ]
  },
  {
   "cell_type": "code",
   "execution_count": 26,
   "id": "7f1f5d6d",
   "metadata": {},
   "outputs": [],
   "source": [
    "# flow is like  source code---->byte code---->interpreter---->machine code---python virtual machine is going to execute each and every thing"
   ]
  },
  {
   "cell_type": "code",
   "execution_count": 27,
   "id": "28dfd417",
   "metadata": {},
   "outputs": [],
   "source": [
    "# 34:00 min in live class for question to write usecases of python "
   ]
  },
  {
   "cell_type": "code",
   "execution_count": 33,
   "id": "9e7d39f4",
   "metadata": {},
   "outputs": [
    {
     "ename": "SyntaxError",
     "evalue": "EOF while scanning triple-quoted string literal (288086609.py, line 7)",
     "output_type": "error",
     "traceback": [
      "\u001b[1;36m  Input \u001b[1;32mIn [33]\u001b[1;36m\u001b[0m\n\u001b[1;33m    \u001b[0m\n\u001b[1;37m    ^\u001b[0m\n\u001b[1;31mSyntaxError\u001b[0m\u001b[1;31m:\u001b[0m EOF while scanning triple-quoted string literal\n"
     ]
    }
   ],
   "source": [
    "\"\"\" python is commonly used for :\n",
    " 1) developing websites and software\n",
    " 2) task automation\n",
    " 3) data analysis\n",
    " 4)data visualisation\n",
    " 5) and many more.'''\n",
    "                  "
   ]
  },
  {
   "cell_type": "markdown",
   "id": "5ad57c23",
   "metadata": {},
   "source": [
    "# task 2\n"
   ]
  },
  {
   "cell_type": "code",
   "execution_count": 35,
   "id": "ac810548",
   "metadata": {},
   "outputs": [],
   "source": [
    "l = [3,4,5,6,7, [23,456,67,8,78,78],[345,56,87,8,98,9],(234,6657,6),{\"key1\":\"sudh\",234:[23,45,656]}]"
   ]
  },
  {
   "cell_type": "code",
   "execution_count": 36,
   "id": "73aff522",
   "metadata": {},
   "outputs": [
    {
     "data": {
      "text/plain": [
       "[{'key1': 'sudh', 234: [23, 45, 656]},\n",
       " (234, 6657, 6),\n",
       " [345, 56, 87, 8, 98, 9],\n",
       " [23, 456, 67, 8, 78, 78],\n",
       " 7,\n",
       " 6,\n",
       " 5,\n",
       " 4,\n",
       " 3]"
      ]
     },
     "execution_count": 36,
     "metadata": {},
     "output_type": "execute_result"
    }
   ],
   "source": [
    "l[::-1]"
   ]
  },
  {
   "cell_type": "code",
   "execution_count": 37,
   "id": "e8bb19cd",
   "metadata": {},
   "outputs": [],
   "source": [
    "l.reverse()"
   ]
  },
  {
   "cell_type": "code",
   "execution_count": 38,
   "id": "f0e47806",
   "metadata": {},
   "outputs": [
    {
     "data": {
      "text/plain": [
       "[{'key1': 'sudh', 234: [23, 45, 656]},\n",
       " (234, 6657, 6),\n",
       " [345, 56, 87, 8, 98, 9],\n",
       " [23, 456, 67, 8, 78, 78],\n",
       " 7,\n",
       " 6,\n",
       " 5,\n",
       " 4,\n",
       " 3]"
      ]
     },
     "execution_count": 38,
     "metadata": {},
     "output_type": "execute_result"
    }
   ],
   "source": [
    "l"
   ]
  },
  {
   "cell_type": "code",
   "execution_count": 39,
   "id": "2872c0c5",
   "metadata": {},
   "outputs": [],
   "source": [
    "l = [3,4,5,6,7, [23,456,67,8,78,78],[345,56,87,8,98,9],(234,6657,6),{\"key1\":\"sudh\",234:[23,45,656]}]"
   ]
  },
  {
   "cell_type": "code",
   "execution_count": 40,
   "id": "ed6d9c24",
   "metadata": {},
   "outputs": [
    {
     "data": {
      "text/plain": [
       "234"
      ]
     },
     "execution_count": 40,
     "metadata": {},
     "output_type": "execute_result"
    }
   ],
   "source": [
    "l[7][0]"
   ]
  },
  {
   "cell_type": "code",
   "execution_count": 41,
   "id": "1c0a3ef9",
   "metadata": {},
   "outputs": [
    {
     "data": {
      "text/plain": [
       "{'key1': 'sudh', 234: [23, 45, 656]}"
      ]
     },
     "execution_count": 41,
     "metadata": {},
     "output_type": "execute_result"
    }
   ],
   "source": [
    "l[8]"
   ]
  },
  {
   "cell_type": "code",
   "execution_count": 42,
   "id": "4274a797",
   "metadata": {},
   "outputs": [
    {
     "data": {
      "text/plain": [
       "dict_keys(['key1', 234])"
      ]
     },
     "execution_count": 42,
     "metadata": {},
     "output_type": "execute_result"
    }
   ],
   "source": [
    "l[8].keys()"
   ]
  },
  {
   "cell_type": "code",
   "execution_count": 1,
   "id": "319400a8",
   "metadata": {},
   "outputs": [
    {
     "ename": "SyntaxError",
     "evalue": "unexpected EOF while parsing (1169881281.py, line 1)",
     "output_type": "error",
     "traceback": [
      "\u001b[1;36m  Input \u001b[1;32mIn [1]\u001b[1;36m\u001b[0m\n\u001b[1;33m    l[8].keys()[1    # it is a dict therefore indexing is not applicable\u001b[0m\n\u001b[1;37m                                                                        ^\u001b[0m\n\u001b[1;31mSyntaxError\u001b[0m\u001b[1;31m:\u001b[0m unexpected EOF while parsing\n"
     ]
    }
   ],
   "source": [
    "l[8].keys()[1    # it is a dict therefore indexing is not applicable"
   ]
  },
  {
   "cell_type": "code",
   "execution_count": 45,
   "id": "42ea9f11",
   "metadata": {},
   "outputs": [
    {
     "data": {
      "text/plain": [
       "234"
      ]
     },
     "execution_count": 45,
     "metadata": {},
     "output_type": "execute_result"
    }
   ],
   "source": [
    "list(l[8].keys())[1]"
   ]
  },
  {
   "cell_type": "code",
   "execution_count": 2,
   "id": "a555c46f",
   "metadata": {},
   "outputs": [],
   "source": [
    "l = [3,4,5,6,7, [23,456,67,8,78,78],[345,56,87,8,98,9],(234,6657,6),{\"key1\":\"sudh\",234:[23,45,656]}]"
   ]
  },
  {
   "cell_type": "code",
   "execution_count": 3,
   "id": "c03cabf5",
   "metadata": {},
   "outputs": [
    {
     "data": {
      "text/plain": [
       "{'key1': 'sudh', 234: [23, 45, 656]}"
      ]
     },
     "execution_count": 3,
     "metadata": {},
     "output_type": "execute_result"
    }
   ],
   "source": [
    "l[8]"
   ]
  },
  {
   "cell_type": "code",
   "execution_count": 4,
   "id": "9aacde65",
   "metadata": {},
   "outputs": [
    {
     "data": {
      "text/plain": [
       "dict_keys(['key1', 234])"
      ]
     },
     "execution_count": 4,
     "metadata": {},
     "output_type": "execute_result"
    }
   ],
   "source": [
    "l[8].keys()"
   ]
  },
  {
   "cell_type": "code",
   "execution_count": 5,
   "id": "7134a5af",
   "metadata": {},
   "outputs": [
    {
     "data": {
      "text/plain": [
       "['key1', 234]"
      ]
     },
     "execution_count": 5,
     "metadata": {},
     "output_type": "execute_result"
    }
   ],
   "source": [
    "list(l[8].keys())"
   ]
  },
  {
   "cell_type": "code",
   "execution_count": 6,
   "id": "ef482373",
   "metadata": {},
   "outputs": [
    {
     "data": {
      "text/plain": [
       "234"
      ]
     },
     "execution_count": 6,
     "metadata": {},
     "output_type": "execute_result"
    }
   ],
   "source": [
    "list(l[8].keys())[1]"
   ]
  },
  {
   "cell_type": "code",
   "execution_count": 7,
   "id": "58d06e5b",
   "metadata": {},
   "outputs": [
    {
     "data": {
      "text/plain": [
       "[23, 456, 67, 8, 78, 78]"
      ]
     },
     "execution_count": 7,
     "metadata": {},
     "output_type": "execute_result"
    }
   ],
   "source": [
    "l[5]"
   ]
  },
  {
   "cell_type": "code",
   "execution_count": 8,
   "id": "cd685161",
   "metadata": {},
   "outputs": [
    {
     "data": {
      "text/plain": [
       "456"
      ]
     },
     "execution_count": 8,
     "metadata": {},
     "output_type": "execute_result"
    }
   ],
   "source": [
    "l[5][1]"
   ]
  },
  {
   "cell_type": "code",
   "execution_count": 9,
   "id": "41ddf64a",
   "metadata": {},
   "outputs": [
    {
     "data": {
      "text/plain": [
       "[[23, 456, 67, 8, 78, 78], [345, 56, 87, 8, 98, 9]]"
      ]
     },
     "execution_count": 9,
     "metadata": {},
     "output_type": "execute_result"
    }
   ],
   "source": [
    "l[5:7]"
   ]
  },
  {
   "cell_type": "code",
   "execution_count": 10,
   "id": "3b1a79b4",
   "metadata": {},
   "outputs": [
    {
     "data": {
      "text/plain": [
       "[23, 456, 67, 8, 78, 78]"
      ]
     },
     "execution_count": 10,
     "metadata": {},
     "output_type": "execute_result"
    }
   ],
   "source": [
    "l[5]"
   ]
  },
  {
   "cell_type": "code",
   "execution_count": 11,
   "id": "cd903236",
   "metadata": {},
   "outputs": [
    {
     "data": {
      "text/plain": [
       "[345, 56, 87, 8, 98, 9]"
      ]
     },
     "execution_count": 11,
     "metadata": {},
     "output_type": "execute_result"
    }
   ],
   "source": [
    "l[6]"
   ]
  },
  {
   "cell_type": "code",
   "execution_count": 12,
   "id": "6b605b1a",
   "metadata": {},
   "outputs": [
    {
     "data": {
      "text/plain": [
       "{'key1': 'sudh', 234: [23, 45, 656]}"
      ]
     },
     "execution_count": 12,
     "metadata": {},
     "output_type": "execute_result"
    }
   ],
   "source": [
    "l[8]"
   ]
  },
  {
   "cell_type": "code",
   "execution_count": 13,
   "id": "da02eded",
   "metadata": {},
   "outputs": [
    {
     "data": {
      "text/plain": [
       "dict_values(['sudh', [23, 45, 656]])"
      ]
     },
     "execution_count": 13,
     "metadata": {},
     "output_type": "execute_result"
    }
   ],
   "source": [
    "l[8].values()"
   ]
  },
  {
   "cell_type": "code",
   "execution_count": 14,
   "id": "b7c78cbe",
   "metadata": {},
   "outputs": [
    {
     "data": {
      "text/plain": [
       "['sudh', [23, 45, 656]]"
      ]
     },
     "execution_count": 14,
     "metadata": {},
     "output_type": "execute_result"
    }
   ],
   "source": [
    "list(l[8].values())"
   ]
  },
  {
   "cell_type": "code",
   "execution_count": 16,
   "id": "65edbf05",
   "metadata": {},
   "outputs": [
    {
     "data": {
      "text/plain": [
       "'sudh'"
      ]
     },
     "execution_count": 16,
     "metadata": {},
     "output_type": "execute_result"
    }
   ],
   "source": [
    "list(l[8].values())[0]"
   ]
  },
  {
   "cell_type": "code",
   "execution_count": 17,
   "id": "dc1c2919",
   "metadata": {},
   "outputs": [
    {
     "data": {
      "text/plain": [
       "'sudh'"
      ]
     },
     "execution_count": 17,
     "metadata": {},
     "output_type": "execute_result"
    }
   ],
   "source": [
    "l[8][\"key1\"]"
   ]
  },
  {
   "cell_type": "code",
   "execution_count": 18,
   "id": "a0a28e40",
   "metadata": {},
   "outputs": [
    {
     "data": {
      "text/plain": [
       "dict_keys(['key1', 234])"
      ]
     },
     "execution_count": 18,
     "metadata": {},
     "output_type": "execute_result"
    }
   ],
   "source": [
    "l[8].keys()"
   ]
  },
  {
   "cell_type": "code",
   "execution_count": 19,
   "id": "04a5d387",
   "metadata": {},
   "outputs": [
    {
     "data": {
      "text/plain": [
       "['key1', 234]"
      ]
     },
     "execution_count": 19,
     "metadata": {},
     "output_type": "execute_result"
    }
   ],
   "source": [
    "list(l[8].keys())"
   ]
  },
  {
   "cell_type": "code",
   "execution_count": 21,
   "id": "69b684e2",
   "metadata": {},
   "outputs": [
    {
     "data": {
      "text/plain": [
       "['sudh', [23, 45, 656]]"
      ]
     },
     "execution_count": 21,
     "metadata": {},
     "output_type": "execute_result"
    }
   ],
   "source": [
    "list(l[8].values())"
   ]
  },
  {
   "cell_type": "markdown",
   "id": "ab4a00cf",
   "metadata": {},
   "source": [
    "# task3"
   ]
  },
  {
   "cell_type": "code",
   "execution_count": 22,
   "id": "1727bba2",
   "metadata": {},
   "outputs": [
    {
     "name": "stdout",
     "output_type": "stream",
     "text": [
      "please enter how many rows you want to print 4\n",
      "\n",
      "ineuron\n",
      "ineuronineuron\n",
      "ineuronineuronineuron\n",
      "ineuronineuronineuronineuron\n"
     ]
    }
   ],
   "source": [
    "row = int(input(\"please enter how many rows you want to print \"))\n",
    "print()\n",
    "for i in range(row):\n",
    "    print(\"ineuron\"*(i+1))"
   ]
  },
  {
   "cell_type": "code",
   "execution_count": 23,
   "id": "bcc57a93",
   "metadata": {},
   "outputs": [
    {
     "name": "stdout",
     "output_type": "stream",
     "text": [
      "please enter how many rows you want to print 4\n",
      "\n",
      "ineuron \n",
      "ineuron ineuron \n",
      "ineuron ineuron ineuron \n",
      "ineuron ineuron ineuron ineuron \n"
     ]
    }
   ],
   "source": [
    "row = int(input(\"please enter how many rows you want to print \"))\n",
    "print()\n",
    "for i in range(row):\n",
    "    print(\"ineuron \"*(i+1))"
   ]
  },
  {
   "cell_type": "code",
   "execution_count": 24,
   "id": "56e3bbdd",
   "metadata": {},
   "outputs": [
    {
     "name": "stdout",
     "output_type": "stream",
     "text": [
      "please enter how many rows you want to print 7\n",
      "\n",
      "ineuron \n",
      "ineuron ineuron \n",
      "ineuron ineuron ineuron \n",
      "ineuron ineuron ineuron ineuron \n",
      "ineuron ineuron ineuron ineuron ineuron \n",
      "ineuron ineuron ineuron ineuron ineuron ineuron \n",
      "ineuron ineuron ineuron ineuron ineuron ineuron ineuron \n"
     ]
    }
   ],
   "source": [
    "row = int(input(\"please enter how many rows you want to print \"))\n",
    "print()\n",
    "for i in range(row):\n",
    "    print(\"ineuron \"*(i+1))"
   ]
  },
  {
   "cell_type": "code",
   "execution_count": 26,
   "id": "4a563b6b",
   "metadata": {},
   "outputs": [
    {
     "name": "stdout",
     "output_type": "stream",
     "text": [
      "                                                  \n",
      "                     ineuron                      \n",
      "                 ineuron ineuron                  \n",
      "             ineuron ineuron ineuron              \n",
      "                 ineuron ineuron                  \n",
      "                     ineuron                      \n"
     ]
    }
   ],
   "source": [
    "for i in range(6):\n",
    "    if i <=3:\n",
    "        n=i\n",
    "    else:\n",
    "        n = 6-i\n",
    "    print((\"ineuron \"*n).center(50,\" \"))"
   ]
  },
  {
   "cell_type": "code",
   "execution_count": null,
   "id": "1146c8db",
   "metadata": {},
   "outputs": [],
   "source": []
  },
  {
   "cell_type": "code",
   "execution_count": 27,
   "id": "f48f21c3",
   "metadata": {},
   "outputs": [
    {
     "name": "stdout",
     "output_type": "stream",
     "text": [
      "                              \n",
      "           ineuron            \n",
      "       ineuron ineuron        \n",
      "   ineuron ineuron ineuron    \n",
      "       ineuron ineuron        \n",
      "           ineuron            \n"
     ]
    }
   ],
   "source": [
    "for i in range(6):\n",
    "    if i <=3:\n",
    "        n=i\n",
    "    else:\n",
    "        n = 6-i\n",
    "    print((\"ineuron \"*n).center(30,\" \"))"
   ]
  },
  {
   "cell_type": "code",
   "execution_count": null,
   "id": "7a43bd83",
   "metadata": {},
   "outputs": [],
   "source": []
  },
  {
   "cell_type": "code",
   "execution_count": 28,
   "id": "edcd15c4",
   "metadata": {},
   "outputs": [
    {
     "name": "stdout",
     "output_type": "stream",
     "text": [
      "                    \n",
      "      ineuron       \n",
      "  ineuron ineuron   \n",
      "ineuron ineuron ineuron \n",
      "  ineuron ineuron   \n",
      "      ineuron       \n"
     ]
    }
   ],
   "source": [
    "for i in range(6):\n",
    "    if i <=3:\n",
    "        n=i\n",
    "    else:\n",
    "        n = 6-i\n",
    "    print((\"ineuron \"*n).center(20,\" \"))"
   ]
  },
  {
   "cell_type": "code",
   "execution_count": 2,
   "id": "89966c99",
   "metadata": {},
   "outputs": [
    {
     "name": "stdout",
     "output_type": "stream",
     "text": [
      "please enter the number of row you want to print4\n",
      "\n",
      "ineuron \n",
      "ineuron ineuron \n",
      "ineuron ineuron ineuron \n",
      "ineuron ineuron ineuron ineuron \n"
     ]
    }
   ],
   "source": [
    "row = int(input(\"please enter the number of row you want to print\"))\n",
    "print()\n",
    "for i in range(row):\n",
    "    print(\"ineuron \"*(i+1))"
   ]
  },
  {
   "cell_type": "code",
   "execution_count": 5,
   "id": "bd854c71",
   "metadata": {},
   "outputs": [
    {
     "name": "stdout",
     "output_type": "stream",
     "text": [
      "please the number row you want to print5\n",
      "\n",
      "ineuron \n",
      "ineuron ineuron \n",
      "ineuron ineuron ineuron \n",
      "ineuron ineuron ineuron ineuron \n",
      "ineuron ineuron ineuron ineuron ineuron \n"
     ]
    }
   ],
   "source": [
    "row = int(input(\"please the number row you want to print\"))\n",
    "print()\n",
    "for i in range(row):\n",
    "    print(\"ineuron \"*(i+1))"
   ]
  },
  {
   "cell_type": "code",
   "execution_count": 6,
   "id": "07341407",
   "metadata": {},
   "outputs": [],
   "source": [
    "l = [[1,2,3,4],(2,3,4,5,6),(3,4,5,6,7), set([23,4,5,45,4,4,5,45,45,4,5]),{'k1':\"sudh\",\"k2\":\"ineuron\",\"k3\":\"kumar\",\n",
    "                      3:6,7:8},[\"ineuron\",\"data science\"]]"
   ]
  },
  {
   "cell_type": "code",
   "execution_count": 8,
   "id": "cecbe593",
   "metadata": {},
   "outputs": [
    {
     "name": "stdout",
     "output_type": "stream",
     "text": [
      "[1, 2, 3, 4]\n",
      "['ineuron', 'data science']\n"
     ]
    }
   ],
   "source": [
    "for i in l:\n",
    "    if type(i)==list:\n",
    "        print(i)"
   ]
  },
  {
   "cell_type": "code",
   "execution_count": 9,
   "id": "0b2e8c95",
   "metadata": {},
   "outputs": [
    {
     "name": "stdout",
     "output_type": "stream",
     "text": [
      "{'k1': 'sudh', 'k2': 'ineuron', 'k3': 'kumar', 3: 6, 7: 8}\n"
     ]
    }
   ],
   "source": [
    "for i in l:\n",
    "    if type(i)==dict:\n",
    "        print(i)"
   ]
  },
  {
   "cell_type": "code",
   "execution_count": 17,
   "id": "eaea21ce",
   "metadata": {},
   "outputs": [],
   "source": [
    "l = [[1,2,3,4],(2,3,4,5,6),(3,4,5,6,7), set([23,4,5,45,4,4,5,45,45,4,5]),{'k1':\"sudh\",\"k2\":\"ineuron\",\"k3\":\"kumar\",\n",
    "                      3:6,7:8},[\"ineuron\",\"data science\"]]"
   ]
  },
  {
   "cell_type": "code",
   "execution_count": 22,
   "id": "fd09e332",
   "metadata": {},
   "outputs": [],
   "source": [
    "l1 =[]\n",
    "for i in l:\n",
    "    if type(i)==list or type(i)==tuple or type(i)==set:\n",
    "        for j in i:\n",
    "            if type(j)==int:\n",
    "                l1.append(j)\n",
    "    if type(i)==dict:\n",
    "        for k in i.items():\n",
    "            for g in k:\n",
    "                if type(g)==int:\n",
    "                    l1.append(g)\n",
    "            \n",
    "            "
   ]
  },
  {
   "cell_type": "code",
   "execution_count": 24,
   "id": "17d0b889",
   "metadata": {},
   "outputs": [
    {
     "data": {
      "text/plain": [
       "[1, 2, 3, 4, 2, 3, 4, 5, 6, 3, 4, 5, 6, 7, 45, 4, 5, 23, 3, 6, 7, 8]"
      ]
     },
     "execution_count": 24,
     "metadata": {},
     "output_type": "execute_result"
    }
   ],
   "source": [
    "l1"
   ]
  },
  {
   "cell_type": "code",
   "execution_count": 28,
   "id": "43abbc3a",
   "metadata": {},
   "outputs": [],
   "source": [
    "l1 = []\n",
    "for i in l:\n",
    "    if type(i)==list or type(i)==tuple or type(i)==set:\n",
    "        for j in i:\n",
    "            if type(j)==int:\n",
    "                l1.append(j)\n",
    "    if type(i)==dict:\n",
    "        for k in i.items():\n",
    "            for g in k:\n",
    "                if type(g)==int:\n",
    "                    l1.append(g)"
   ]
  },
  {
   "cell_type": "code",
   "execution_count": 29,
   "id": "50899e51",
   "metadata": {},
   "outputs": [
    {
     "data": {
      "text/plain": [
       "[1, 2, 3, 4, 2, 3, 4, 5, 6, 3, 4, 5, 6, 7, 45, 4, 5, 23, 3, 6, 7, 8]"
      ]
     },
     "execution_count": 29,
     "metadata": {},
     "output_type": "execute_result"
    }
   ],
   "source": [
    "l1"
   ]
  },
  {
   "cell_type": "code",
   "execution_count": 30,
   "id": "e4b35d73",
   "metadata": {},
   "outputs": [
    {
     "data": {
      "text/plain": [
       "156"
      ]
     },
     "execution_count": 30,
     "metadata": {},
     "output_type": "execute_result"
    }
   ],
   "source": [
    "sum(l1)"
   ]
  },
  {
   "cell_type": "code",
   "execution_count": 31,
   "id": "18f2052a",
   "metadata": {},
   "outputs": [
    {
     "data": {
      "text/plain": [
       "[1, 2, 3, 4, 2, 3, 4, 5, 6, 3, 4, 5, 6, 7, 45, 4, 5, 23, 3, 6, 7, 8]"
      ]
     },
     "execution_count": 31,
     "metadata": {},
     "output_type": "execute_result"
    }
   ],
   "source": [
    "l1"
   ]
  },
  {
   "cell_type": "code",
   "execution_count": 33,
   "id": "3d3a4ddb",
   "metadata": {},
   "outputs": [
    {
     "name": "stdout",
     "output_type": "stream",
     "text": [
      "1 3 3 5 3 5 7 45 5 23 3 7 "
     ]
    }
   ],
   "source": [
    "for i in l1:\n",
    "    if i%2 !=0:\n",
    "        print(i,end=\" \")"
   ]
  },
  {
   "cell_type": "code",
   "execution_count": 34,
   "id": "11c2faac",
   "metadata": {},
   "outputs": [
    {
     "name": "stdout",
     "output_type": "stream",
     "text": [
      "1 3 3 5 3 5 7 45 5 23 3 7 "
     ]
    }
   ],
   "source": [
    "for i in l1:\n",
    "    if i %2 ==0:\n",
    "        pass\n",
    "    else:\n",
    "        print(i,end= \" \")"
   ]
  },
  {
   "cell_type": "code",
   "execution_count": 35,
   "id": "e0cd8906",
   "metadata": {},
   "outputs": [
    {
     "data": {
      "text/plain": [
       "[[1, 2, 3, 4],\n",
       " (2, 3, 4, 5, 6),\n",
       " (3, 4, 5, 6, 7),\n",
       " {4, 5, 23, 45},\n",
       " {'k1': 'sudh', 'k2': 'ineuron', 'k3': 'kumar', 3: 6, 7: 8},\n",
       " ['ineuron', 'data science']]"
      ]
     },
     "execution_count": 35,
     "metadata": {},
     "output_type": "execute_result"
    }
   ],
   "source": [
    "l"
   ]
  },
  {
   "cell_type": "code",
   "execution_count": 39,
   "id": "48722dbf",
   "metadata": {},
   "outputs": [],
   "source": [
    "l1= []\n",
    "for i in l:\n",
    "    if type(i)==list or type(i)==tuple or type(i)==set:\n",
    "        for j in i:\n",
    "            if j == \"ineuron\":\n",
    "                l1.append(j)\n",
    "            \n",
    "    if type(i)==dict:\n",
    "        for k in i.items():\n",
    "            for g in k:\n",
    "                if g==\"ineuron\":\n",
    "                    l1.append(g)\n",
    "                \n",
    "        "
   ]
  },
  {
   "cell_type": "code",
   "execution_count": 40,
   "id": "1bec7a8c",
   "metadata": {},
   "outputs": [
    {
     "data": {
      "text/plain": [
       "['ineuron', 'ineuron']"
      ]
     },
     "execution_count": 40,
     "metadata": {},
     "output_type": "execute_result"
    }
   ],
   "source": [
    "l1"
   ]
  },
  {
   "cell_type": "code",
   "execution_count": 41,
   "id": "11337047",
   "metadata": {},
   "outputs": [],
   "source": [
    "l1 = []\n",
    "for i in l:\n",
    "    if type(i)==list or type(i)==tuple or type(i)==set:\n",
    "        for j in i:\n",
    "            if type(j)==int or type(j)==str:\n",
    "                l1.append(j)\n",
    "    if type(i)==dict:\n",
    "        for k in i.items():\n",
    "            for g in k:\n",
    "                if type(g)==int or type(g)==str:\n",
    "                    l1.append(g)"
   ]
  },
  {
   "cell_type": "code",
   "execution_count": 42,
   "id": "b9cca469",
   "metadata": {},
   "outputs": [
    {
     "data": {
      "text/plain": [
       "[1,\n",
       " 2,\n",
       " 3,\n",
       " 4,\n",
       " 2,\n",
       " 3,\n",
       " 4,\n",
       " 5,\n",
       " 6,\n",
       " 3,\n",
       " 4,\n",
       " 5,\n",
       " 6,\n",
       " 7,\n",
       " 45,\n",
       " 4,\n",
       " 5,\n",
       " 23,\n",
       " 'k1',\n",
       " 'sudh',\n",
       " 'k2',\n",
       " 'ineuron',\n",
       " 'k3',\n",
       " 'kumar',\n",
       " 3,\n",
       " 6,\n",
       " 7,\n",
       " 8,\n",
       " 'ineuron',\n",
       " 'data science']"
      ]
     },
     "execution_count": 42,
     "metadata": {},
     "output_type": "execute_result"
    }
   ],
   "source": [
    "l1"
   ]
  },
  {
   "cell_type": "code",
   "execution_count": 43,
   "id": "27a962d3",
   "metadata": {},
   "outputs": [
    {
     "data": {
      "text/plain": [
       "{1,\n",
       " 2,\n",
       " 23,\n",
       " 3,\n",
       " 4,\n",
       " 45,\n",
       " 5,\n",
       " 6,\n",
       " 7,\n",
       " 8,\n",
       " 'data science',\n",
       " 'ineuron',\n",
       " 'k1',\n",
       " 'k2',\n",
       " 'k3',\n",
       " 'kumar',\n",
       " 'sudh'}"
      ]
     },
     "execution_count": 43,
     "metadata": {},
     "output_type": "execute_result"
    }
   ],
   "source": [
    "set(l1)"
   ]
  },
  {
   "cell_type": "code",
   "execution_count": 46,
   "id": "8e1e4307",
   "metadata": {},
   "outputs": [
    {
     "name": "stdout",
     "output_type": "stream",
     "text": [
      "1 : 1\n",
      "2 : 2\n",
      "3 : 4\n",
      "4 : 4\n",
      "5 : 3\n",
      "6 : 3\n",
      "7 : 2\n",
      "sudh : 1\n",
      "k2 : 1\n",
      "8 : 1\n",
      "kumar : 1\n",
      "45 : 1\n",
      "k3 : 1\n",
      "ineuron : 2\n",
      "23 : 1\n",
      "data science : 1\n",
      "k1 : 1\n"
     ]
    }
   ],
   "source": [
    "for i in set(l1):\n",
    "    print(i,\":\",l1.count(i))"
   ]
  },
  {
   "cell_type": "code",
   "execution_count": 47,
   "id": "9de64200",
   "metadata": {},
   "outputs": [
    {
     "name": "stdout",
     "output_type": "stream",
     "text": [
      "dict_items([('k1', 'sudh'), ('k2', 'ineuron'), ('k3', 'kumar'), (3, 6), (7, 8)])\n"
     ]
    }
   ],
   "source": [
    "for i in l:\n",
    "    if type(i)==dict:\n",
    "        print(i.items())"
   ]
  },
  {
   "cell_type": "code",
   "execution_count": 49,
   "id": "5c5ca8a7",
   "metadata": {},
   "outputs": [
    {
     "name": "stdout",
     "output_type": "stream",
     "text": [
      "['k1', 'k2', 'k3', 3, 7]\n"
     ]
    }
   ],
   "source": [
    "for i in l:\n",
    "    if type(i)==dict:\n",
    "        print(list(i.keys()))"
   ]
  },
  {
   "cell_type": "code",
   "execution_count": 50,
   "id": "6ad3cdc6",
   "metadata": {},
   "outputs": [
    {
     "name": "stdout",
     "output_type": "stream",
     "text": [
      "5\n"
     ]
    }
   ],
   "source": [
    "for i in l:\n",
    "    if type(i)==dict:\n",
    "        print(len(list(i.keys())))"
   ]
  },
  {
   "cell_type": "code",
   "execution_count": 51,
   "id": "a41771a9",
   "metadata": {},
   "outputs": [
    {
     "name": "stdout",
     "output_type": "stream",
     "text": [
      "5\n"
     ]
    }
   ],
   "source": [
    "for i in l:\n",
    "    if type(i)==dict:\n",
    "        print(len(i))"
   ]
  },
  {
   "cell_type": "code",
   "execution_count": 52,
   "id": "576207ae",
   "metadata": {},
   "outputs": [
    {
     "data": {
      "text/plain": [
       "[1,\n",
       " 2,\n",
       " 3,\n",
       " 4,\n",
       " 2,\n",
       " 3,\n",
       " 4,\n",
       " 5,\n",
       " 6,\n",
       " 3,\n",
       " 4,\n",
       " 5,\n",
       " 6,\n",
       " 7,\n",
       " 45,\n",
       " 4,\n",
       " 5,\n",
       " 23,\n",
       " 'k1',\n",
       " 'sudh',\n",
       " 'k2',\n",
       " 'ineuron',\n",
       " 'k3',\n",
       " 'kumar',\n",
       " 3,\n",
       " 6,\n",
       " 7,\n",
       " 8,\n",
       " 'ineuron',\n",
       " 'data science']"
      ]
     },
     "execution_count": 52,
     "metadata": {},
     "output_type": "execute_result"
    }
   ],
   "source": [
    "l1"
   ]
  },
  {
   "cell_type": "code",
   "execution_count": 53,
   "id": "b7b10a84",
   "metadata": {},
   "outputs": [
    {
     "name": "stdout",
     "output_type": "stream",
     "text": [
      "k1\n",
      "sudh\n",
      "k2\n",
      "ineuron\n",
      "k3\n",
      "kumar\n",
      "ineuron\n",
      "data science\n"
     ]
    }
   ],
   "source": [
    "for i in l1:\n",
    "    if type(i)==str:\n",
    "        print(i)"
   ]
  },
  {
   "cell_type": "code",
   "execution_count": 54,
   "id": "1b8d11a7",
   "metadata": {},
   "outputs": [
    {
     "name": "stdout",
     "output_type": "stream",
     "text": [
      "k1\n",
      "sudh\n",
      "k2\n",
      "ineuron\n",
      "k3\n",
      "kumar\n",
      "ineuron\n"
     ]
    }
   ],
   "source": [
    "for i in l1:\n",
    "    if type(i)==str:\n",
    "        if i.isalnum():\n",
    "            print(i)"
   ]
  },
  {
   "cell_type": "code",
   "execution_count": 1,
   "id": "298277e4",
   "metadata": {},
   "outputs": [],
   "source": [
    "l = [[1,2,3,4],(2,3,4,5,6),(3,4,5,6,7), set([23,4,5,45,4,4,5,45,45,4,5]),{'k1':\"sudh\",\"k2\":\"ineuron\",\"k3\":\"kumar\",\n",
    "                      3:6,7:8},[\"ineuron\",\"data science\"]]"
   ]
  },
  {
   "cell_type": "code",
   "execution_count": 5,
   "id": "515916de",
   "metadata": {},
   "outputs": [],
   "source": [
    "l1 = []\n",
    "for i in l:\n",
    "    if type(i)==list or type(i)==set or type(i)==set:\n",
    "        for j in i:\n",
    "            if type(j)==int or type(j)==str:\n",
    "                l1.append(j)\n",
    "    if type(i)==dict:\n",
    "        for k in i.items():\n",
    "            for g in  k:\n",
    "                if type(g)==int or type(g)==str:\n",
    "                    l1.append(g)"
   ]
  },
  {
   "cell_type": "code",
   "execution_count": 3,
   "id": "3f1d3ded",
   "metadata": {},
   "outputs": [
    {
     "data": {
      "text/plain": [
       "[1,\n",
       " 2,\n",
       " 3,\n",
       " 4,\n",
       " 45,\n",
       " 4,\n",
       " 5,\n",
       " 23,\n",
       " 'k1',\n",
       " 'sudh',\n",
       " 'k2',\n",
       " 'ineuron',\n",
       " 'k3',\n",
       " 'kumar',\n",
       " 3,\n",
       " 6,\n",
       " 7,\n",
       " 8,\n",
       " 'ineuron',\n",
       " 'data science']"
      ]
     },
     "execution_count": 3,
     "metadata": {},
     "output_type": "execute_result"
    }
   ],
   "source": [
    "l1"
   ]
  },
  {
   "cell_type": "code",
   "execution_count": 6,
   "id": "a711b907",
   "metadata": {},
   "outputs": [
    {
     "name": "stdout",
     "output_type": "stream",
     "text": [
      "k1\n",
      "sudh\n",
      "k2\n",
      "ineuron\n",
      "k3\n",
      "kumar\n",
      "ineuron\n"
     ]
    }
   ],
   "source": [
    "for i in l1:\n",
    "    if type(i)==str:\n",
    "        if i.isalnum():\n",
    "            print(i)"
   ]
  },
  {
   "cell_type": "code",
   "execution_count": 8,
   "id": "ffeb8574",
   "metadata": {},
   "outputs": [
    {
     "name": "stdout",
     "output_type": "stream",
     "text": [
      "<class 'list'> 24\n",
      "<class 'tuple'> 720\n",
      "<class 'tuple'> 2520\n",
      "<class 'set'> 20700\n",
      "<class 'dict'> 1\n",
      "<class 'dict'> 1\n",
      "<class 'dict'> 1\n",
      "<class 'dict'> 18\n",
      "<class 'dict'> 1008\n",
      "<class 'list'> 1\n"
     ]
    }
   ],
   "source": [
    "for i in l:\n",
    "    m = 1\n",
    "    if type(i)==list or type(i)==tuple or type(i)==set:\n",
    "        for j in i:\n",
    "            if type(j)==int:\n",
    "                m = m*j\n",
    "        print(type(i),m)\n",
    "    if type(i)==dict:\n",
    "        for k in i.items():\n",
    "            for n in k:\n",
    "                if type(n)==int:\n",
    "                    m = m*n\n",
    "            print(type(i),m)\n",
    "                        "
   ]
  },
  {
   "cell_type": "code",
   "execution_count": 9,
   "id": "3c561062",
   "metadata": {},
   "outputs": [],
   "source": [
    " # Q.15) try to unrape all the collection inside collection and create a flat list."
   ]
  },
  {
   "cell_type": "code",
   "execution_count": 10,
   "id": "bf4aee93",
   "metadata": {},
   "outputs": [
    {
     "data": {
      "text/plain": [
       "[1,\n",
       " 2,\n",
       " 3,\n",
       " 4,\n",
       " 45,\n",
       " 4,\n",
       " 5,\n",
       " 23,\n",
       " 'k1',\n",
       " 'sudh',\n",
       " 'k2',\n",
       " 'ineuron',\n",
       " 'k3',\n",
       " 'kumar',\n",
       " 3,\n",
       " 6,\n",
       " 7,\n",
       " 8,\n",
       " 'ineuron',\n",
       " 'data science']"
      ]
     },
     "execution_count": 10,
     "metadata": {},
     "output_type": "execute_result"
    }
   ],
   "source": [
    "l1"
   ]
  },
  {
   "cell_type": "code",
   "execution_count": 11,
   "id": "ec6e70c0",
   "metadata": {},
   "outputs": [
    {
     "name": "stdout",
     "output_type": "stream",
     "text": [
      "please enter the number of row you want4\n",
      "\n",
      "* \n",
      "* * \n",
      "* * * \n",
      "* * * * \n"
     ]
    }
   ],
   "source": [
    "a = int(input(\"please enter the number of row you want\"))\n",
    "print()\n",
    "for i in range(a):\n",
    "    print(\"* \"*(i+1))"
   ]
  },
  {
   "cell_type": "markdown",
   "id": "4200b5da",
   "metadata": {},
   "source": [
    "# task 4"
   ]
  },
  {
   "cell_type": "code",
   "execution_count": 13,
   "id": "b0be2fcc",
   "metadata": {},
   "outputs": [
    {
     "name": "stdout",
     "output_type": "stream",
     "text": [
      "* \n",
      "* * \n",
      "* * * \n",
      "* * * * \n",
      "* * * * * \n",
      "* * * * * * \n",
      "* * * * * * * \n",
      "* * * * * * * * \n",
      "* * * * * * * * * \n"
     ]
    }
   ],
   "source": [
    "i  = 9\n",
    "n = 1\n",
    "while n<=i:\n",
    "    print(\"* \"*n)\n",
    "    n+=1"
   ]
  },
  {
   "cell_type": "code",
   "execution_count": 14,
   "id": "19ac1d68",
   "metadata": {},
   "outputs": [
    {
     "name": "stdout",
     "output_type": "stream",
     "text": [
      "please enter the number of row u want9\n",
      "\n",
      "* \n",
      "* * \n",
      "* * * \n",
      "* * * * \n",
      "* * * * * \n",
      "* * * * * * \n",
      "* * * * * * * \n",
      "* * * * * * * * \n",
      "* * * * * * * * * \n"
     ]
    }
   ],
   "source": [
    "row = int(input(\"please enter the number of row u want\"))\n",
    "print()\n",
    "for i in range(row):\n",
    "    print(\"* \"*(i+1))"
   ]
  },
  {
   "cell_type": "code",
   "execution_count": 2,
   "id": "0e5884ba",
   "metadata": {},
   "outputs": [
    {
     "name": "stdout",
     "output_type": "stream",
     "text": [
      "* \n",
      "* * \n",
      "* * * \n",
      "* * * * \n",
      "* * * * * \n",
      "* * * * * * \n",
      "* * * * * * * \n",
      "* * * * * * * * \n",
      "* * * * * * * * * \n"
     ]
    }
   ],
   "source": [
    "i = 9\n",
    "n= 1\n",
    "while n<=9:\n",
    "    print(\"* \"*n)\n",
    "    n= n+1"
   ]
  },
  {
   "cell_type": "code",
   "execution_count": 3,
   "id": "9cb737cf",
   "metadata": {},
   "outputs": [
    {
     "name": "stdout",
     "output_type": "stream",
     "text": [
      "A \n",
      "B H \n",
      "C I N \n",
      "D J O S \n",
      "E K P T W \n",
      "F L Q U X Z \n",
      "G M R V Y \n"
     ]
    }
   ],
   "source": [
    "i= 0\n",
    "while i<=6:\n",
    "    c= 65+i\n",
    "    j= 0\n",
    "    while j<(i+1):\n",
    "        if c==91:\n",
    "            break\n",
    "        print(chr(c),end=\" \")\n",
    "        c=c+6-j\n",
    "        j+=1\n",
    "    i+=1\n",
    "    print()"
   ]
  },
  {
   "cell_type": "code",
   "execution_count": 6,
   "id": "7143ec4d",
   "metadata": {},
   "outputs": [
    {
     "name": "stdout",
     "output_type": "stream",
     "text": [
      "0\n",
      "65\n",
      "0\n",
      "A 65\n",
      "71\n",
      "1\n",
      "\n",
      "G 71\n",
      "76\n",
      "2\n",
      "\n",
      "L 76\n",
      "80\n",
      "3\n",
      "\n",
      "P 80\n",
      "83\n",
      "4\n",
      "\n",
      "S 83\n",
      "85\n",
      "5\n",
      "\n",
      "U 85\n",
      "86\n",
      "6\n",
      "\n",
      "V 86\n",
      "86\n",
      "7\n",
      "\n",
      "V 86\n",
      "85\n",
      "8\n",
      "\n",
      "U 85\n",
      "83\n",
      "9\n",
      "\n",
      "S 83\n",
      "80\n",
      "10\n",
      "\n",
      "P 80\n",
      "76\n",
      "11\n",
      "\n",
      "L 76\n",
      "71\n",
      "12\n",
      "\n",
      "G 71\n",
      "65\n",
      "13\n",
      "\n",
      "A 65\n",
      "58\n",
      "14\n",
      "\n",
      ": 58\n",
      "50\n",
      "15\n",
      "\n",
      "2 50\n",
      "41\n",
      "16\n",
      "\n",
      ") 41\n",
      "31\n",
      "17\n",
      "\n",
      "\u001f 31\n",
      "20\n",
      "18\n",
      "\n",
      "\u0014 20\n",
      "8\n",
      "19\n",
      "\n",
      "\b 8\n",
      "-5\n",
      "20\n",
      "\n"
     ]
    },
    {
     "ename": "ValueError",
     "evalue": "chr() arg not in range(0x110000)",
     "output_type": "error",
     "traceback": [
      "\u001b[1;31m---------------------------------------------------------------------------\u001b[0m",
      "\u001b[1;31mValueError\u001b[0m                                Traceback (most recent call last)",
      "Input \u001b[1;32mIn [6]\u001b[0m, in \u001b[0;36m<cell line: 2>\u001b[1;34m()\u001b[0m\n\u001b[0;32m      9\u001b[0m \u001b[38;5;28;01mif\u001b[39;00m c\u001b[38;5;241m==\u001b[39m\u001b[38;5;241m91\u001b[39m:\n\u001b[0;32m     10\u001b[0m     \u001b[38;5;28;01mbreak\u001b[39;00m\n\u001b[1;32m---> 11\u001b[0m \u001b[38;5;28mprint\u001b[39m(\u001b[38;5;28;43mchr\u001b[39;49m\u001b[43m(\u001b[49m\u001b[43mc\u001b[49m\u001b[43m)\u001b[49m,end\u001b[38;5;241m=\u001b[39m\u001b[38;5;124m\"\u001b[39m\u001b[38;5;124m \u001b[39m\u001b[38;5;124m\"\u001b[39m)\n\u001b[0;32m     12\u001b[0m \u001b[38;5;28mprint\u001b[39m(c)\n\u001b[0;32m     13\u001b[0m c \u001b[38;5;241m=\u001b[39m c\u001b[38;5;241m+\u001b[39m\u001b[38;5;241m6\u001b[39m\u001b[38;5;241m-\u001b[39mj\n",
      "\u001b[1;31mValueError\u001b[0m: chr() arg not in range(0x110000)"
     ]
    }
   ],
   "source": [
    "i =0 \n",
    "while i<7:\n",
    "    print(i)\n",
    "    c = 65+i\n",
    "    print(c)\n",
    "    j= 0 \n",
    "    print(j)\n",
    "    while j<(i+1):\n",
    "        if c==91:\n",
    "            break\n",
    "        print(chr(c),end=\" \")\n",
    "        print(c)\n",
    "        c = c+6-j\n",
    "        print(c)\n",
    "        j+=1\n",
    "        print(j)\n",
    "        i+=1\n",
    "        print()"
   ]
  },
  {
   "cell_type": "code",
   "execution_count": 1,
   "id": "b47e9d47",
   "metadata": {},
   "outputs": [],
   "source": [
    "# q3 : try to print all the number divisible by 3 in between a range of 40 -400"
   ]
  },
  {
   "cell_type": "code",
   "execution_count": 2,
   "id": "920e7053",
   "metadata": {},
   "outputs": [
    {
     "name": "stdout",
     "output_type": "stream",
     "text": [
      "42\n",
      "45\n",
      "48\n",
      "51\n",
      "54\n",
      "57\n",
      "60\n",
      "63\n",
      "66\n",
      "69\n",
      "72\n",
      "75\n",
      "78\n",
      "81\n",
      "84\n",
      "87\n",
      "90\n",
      "93\n",
      "96\n",
      "99\n",
      "102\n",
      "105\n",
      "108\n",
      "111\n",
      "114\n",
      "117\n",
      "120\n",
      "123\n",
      "126\n",
      "129\n",
      "132\n",
      "135\n",
      "138\n",
      "141\n",
      "144\n",
      "147\n",
      "150\n",
      "153\n",
      "156\n",
      "159\n",
      "162\n",
      "165\n",
      "168\n",
      "171\n",
      "174\n",
      "177\n",
      "180\n",
      "183\n",
      "186\n",
      "189\n",
      "192\n",
      "195\n",
      "198\n",
      "201\n",
      "204\n",
      "207\n",
      "210\n",
      "213\n",
      "216\n",
      "219\n",
      "222\n",
      "225\n",
      "228\n",
      "231\n",
      "234\n",
      "237\n",
      "240\n",
      "243\n",
      "246\n",
      "249\n",
      "252\n",
      "255\n",
      "258\n",
      "261\n",
      "264\n",
      "267\n",
      "270\n",
      "273\n",
      "276\n",
      "279\n",
      "282\n",
      "285\n",
      "288\n",
      "291\n",
      "294\n",
      "297\n",
      "300\n",
      "303\n",
      "306\n",
      "309\n",
      "312\n",
      "315\n",
      "318\n",
      "321\n",
      "324\n",
      "327\n",
      "330\n",
      "333\n",
      "336\n",
      "339\n",
      "342\n",
      "345\n",
      "348\n",
      "351\n",
      "354\n",
      "357\n",
      "360\n",
      "363\n",
      "366\n",
      "369\n",
      "372\n",
      "375\n",
      "378\n",
      "381\n",
      "384\n",
      "387\n",
      "390\n",
      "393\n",
      "396\n",
      "399\n"
     ]
    }
   ],
   "source": [
    "i= 40\n",
    "while i<=400:\n",
    "    if i%3 ==0:\n",
    "        print(i)\n",
    "    i = i+1"
   ]
  },
  {
   "cell_type": "code",
   "execution_count": 3,
   "id": "2cbaf1a5",
   "metadata": {},
   "outputs": [
    {
     "name": "stdout",
     "output_type": "stream",
     "text": [
      "42\n",
      "45\n",
      "48\n",
      "51\n",
      "54\n",
      "57\n",
      "60\n",
      "63\n",
      "66\n",
      "69\n",
      "72\n",
      "75\n",
      "78\n",
      "81\n",
      "84\n",
      "87\n",
      "90\n",
      "93\n",
      "96\n",
      "99\n",
      "102\n",
      "105\n",
      "108\n",
      "111\n",
      "114\n",
      "117\n",
      "120\n",
      "123\n",
      "126\n",
      "129\n",
      "132\n",
      "135\n",
      "138\n",
      "141\n",
      "144\n",
      "147\n",
      "150\n",
      "153\n",
      "156\n",
      "159\n",
      "162\n",
      "165\n",
      "168\n",
      "171\n",
      "174\n",
      "177\n",
      "180\n",
      "183\n",
      "186\n",
      "189\n",
      "192\n",
      "195\n",
      "198\n",
      "201\n",
      "204\n",
      "207\n",
      "210\n",
      "213\n",
      "216\n",
      "219\n",
      "222\n",
      "225\n",
      "228\n",
      "231\n",
      "234\n",
      "237\n",
      "240\n",
      "243\n",
      "246\n",
      "249\n",
      "252\n",
      "255\n",
      "258\n",
      "261\n",
      "264\n",
      "267\n",
      "270\n",
      "273\n",
      "276\n",
      "279\n",
      "282\n",
      "285\n",
      "288\n",
      "291\n",
      "294\n",
      "297\n",
      "300\n",
      "303\n",
      "306\n",
      "309\n",
      "312\n",
      "315\n",
      "318\n",
      "321\n",
      "324\n",
      "327\n",
      "330\n",
      "333\n",
      "336\n",
      "339\n",
      "342\n",
      "345\n",
      "348\n",
      "351\n",
      "354\n",
      "357\n",
      "360\n",
      "363\n",
      "366\n",
      "369\n",
      "372\n",
      "375\n",
      "378\n",
      "381\n",
      "384\n",
      "387\n",
      "390\n",
      "393\n",
      "396\n",
      "399\n"
     ]
    }
   ],
   "source": [
    "for i in range(40,400):\n",
    "    if i%3 ==0:\n",
    "        print(i)"
   ]
  },
  {
   "cell_type": "code",
   "execution_count": 5,
   "id": "524d502f",
   "metadata": {},
   "outputs": [],
   "source": [
    "# q4: try to filter out all the vowels from below text by using while loop:\n",
    "s=\"\"\"python is a high - level,interpreted, general-purpose programing languge. its design philosophy emphasizes code readibility\n",
    "python is dynamically-typed and garbage-collected.it supports multiple programing paradigns, including (particular) guido van Rossum\n",
    "began working on python  in the late 1980s as a successor to the ABC programing language and first released \n",
    "python consistently ranks as one of the most popular progarming language\"\"\""
   ]
  },
  {
   "cell_type": "code",
   "execution_count": 6,
   "id": "9afd96f3",
   "metadata": {},
   "outputs": [
    {
     "name": "stdout",
     "output_type": "stream",
     "text": [
      "o\n",
      "i\n",
      "a\n",
      "i\n",
      "e\n",
      "e\n",
      "i\n",
      "e\n",
      "e\n",
      "e\n",
      "e\n",
      "e\n",
      "a\n",
      "u\n",
      "o\n",
      "e\n",
      "o\n",
      "a\n",
      "i\n",
      "a\n",
      "u\n",
      "e\n",
      "i\n",
      "e\n",
      "i\n",
      "i\n",
      "o\n",
      "o\n",
      "e\n",
      "a\n",
      "i\n",
      "e\n",
      "o\n",
      "e\n",
      "e\n",
      "a\n",
      "i\n",
      "i\n",
      "i\n",
      "o\n",
      "i\n",
      "a\n",
      "i\n",
      "a\n",
      "e\n",
      "a\n",
      "a\n",
      "a\n",
      "e\n",
      "o\n",
      "e\n",
      "e\n",
      "i\n",
      "u\n",
      "o\n",
      "u\n",
      "i\n",
      "e\n",
      "o\n",
      "a\n",
      "i\n",
      "a\n",
      "a\n",
      "i\n",
      "i\n",
      "u\n",
      "i\n",
      "a\n",
      "i\n",
      "u\n",
      "a\n",
      "u\n",
      "i\n",
      "o\n",
      "a\n",
      "o\n",
      "u\n",
      "e\n",
      "a\n",
      "o\n",
      "i\n",
      "o\n",
      "o\n",
      "i\n",
      "e\n",
      "a\n",
      "e\n",
      "a\n",
      "a\n",
      "u\n",
      "e\n",
      "o\n",
      "o\n",
      "e\n",
      "a\n",
      "o\n",
      "a\n",
      "i\n",
      "a\n",
      "u\n",
      "a\n",
      "e\n",
      "a\n",
      "i\n",
      "e\n",
      "e\n",
      "a\n",
      "e\n",
      "o\n",
      "o\n",
      "i\n",
      "e\n",
      "a\n",
      "a\n",
      "o\n",
      "e\n",
      "o\n",
      "e\n",
      "o\n",
      "o\n",
      "u\n",
      "a\n",
      "o\n",
      "a\n",
      "i\n",
      "a\n",
      "u\n",
      "a\n",
      "e\n"
     ]
    }
   ],
   "source": [
    "i= 0\n",
    "v= 'aeiou'\n",
    "s= s.lower()\n",
    "while i<len(s):\n",
    "    if s[i] in v:\n",
    "        print(s[i])\n",
    "    i = i+1\n",
    "\n"
   ]
  },
  {
   "cell_type": "code",
   "execution_count": 7,
   "id": "56ed5656",
   "metadata": {},
   "outputs": [
    {
     "name": "stdout",
     "output_type": "stream",
     "text": [
      "o\n",
      "i\n",
      "a\n",
      "i\n",
      "e\n",
      "e\n",
      "i\n",
      "e\n",
      "e\n",
      "e\n",
      "e\n",
      "e\n",
      "a\n",
      "u\n",
      "o\n",
      "e\n",
      "o\n",
      "a\n",
      "i\n",
      "a\n",
      "u\n",
      "e\n",
      "i\n",
      "e\n",
      "i\n",
      "i\n",
      "o\n",
      "o\n",
      "e\n",
      "a\n",
      "i\n",
      "e\n",
      "o\n",
      "e\n",
      "e\n",
      "a\n",
      "i\n",
      "i\n",
      "i\n",
      "o\n",
      "i\n",
      "a\n",
      "i\n",
      "a\n",
      "e\n",
      "a\n",
      "a\n",
      "a\n",
      "e\n",
      "o\n",
      "e\n",
      "e\n",
      "i\n",
      "u\n",
      "o\n",
      "u\n",
      "i\n",
      "e\n",
      "o\n",
      "a\n",
      "i\n",
      "a\n",
      "a\n",
      "i\n",
      "i\n",
      "u\n",
      "i\n",
      "a\n",
      "i\n",
      "u\n",
      "a\n",
      "u\n",
      "i\n",
      "o\n",
      "a\n",
      "o\n",
      "u\n",
      "e\n",
      "a\n",
      "o\n",
      "i\n",
      "o\n",
      "o\n",
      "i\n",
      "e\n",
      "a\n",
      "e\n",
      "a\n",
      "a\n",
      "u\n",
      "e\n",
      "o\n",
      "o\n",
      "e\n",
      "a\n",
      "o\n",
      "a\n",
      "i\n",
      "a\n",
      "u\n",
      "a\n",
      "e\n",
      "a\n",
      "i\n",
      "e\n",
      "e\n",
      "a\n",
      "e\n",
      "o\n",
      "o\n",
      "i\n",
      "e\n",
      "a\n",
      "a\n",
      "o\n",
      "e\n",
      "o\n",
      "e\n",
      "o\n",
      "o\n",
      "u\n",
      "a\n",
      "o\n",
      "a\n",
      "i\n",
      "a\n",
      "u\n",
      "a\n",
      "e\n"
     ]
    }
   ],
   "source": [
    "i=0\n",
    "v = \"aeiou\"\n",
    "s= s.lower()\n",
    "while i<len(s):\n",
    "    if s[i] in v:\n",
    "        print(s[i])\n",
    "    i+=1"
   ]
  },
  {
   "cell_type": "code",
   "execution_count": 8,
   "id": "68bc7c76",
   "metadata": {},
   "outputs": [
    {
     "data": {
      "text/plain": [
       "438"
      ]
     },
     "execution_count": 8,
     "metadata": {},
     "output_type": "execute_result"
    }
   ],
   "source": [
    "len(s)"
   ]
  },
  {
   "cell_type": "code",
   "execution_count": 10,
   "id": "69b77af5",
   "metadata": {},
   "outputs": [],
   "source": [
    "g= \"gourav ojha\""
   ]
  },
  {
   "cell_type": "code",
   "execution_count": 12,
   "id": "866f6753",
   "metadata": {},
   "outputs": [
    {
     "data": {
      "text/plain": [
       "11"
      ]
     },
     "execution_count": 12,
     "metadata": {},
     "output_type": "execute_result"
    }
   ],
   "source": [
    "len(g)     # so length function count space as well in length"
   ]
  },
  {
   "cell_type": "code",
   "execution_count": 13,
   "id": "7e99b338",
   "metadata": {},
   "outputs": [],
   "source": [
    "# q5: try to generate all the even number between 1:1000"
   ]
  },
  {
   "cell_type": "code",
   "execution_count": 14,
   "id": "b054834f",
   "metadata": {},
   "outputs": [
    {
     "name": "stdout",
     "output_type": "stream",
     "text": [
      "2 4 6 8 10 12 14 16 18 20 22 24 26 28 30 32 34 36 38 40 42 44 46 48 50 52 54 56 58 60 62 64 66 68 70 72 74 76 78 80 82 84 86 88 90 92 94 96 98 100 102 104 106 108 110 112 114 116 118 120 122 124 126 128 130 132 134 136 138 140 142 144 146 148 150 152 154 156 158 160 162 164 166 168 170 172 174 176 178 180 182 184 186 188 190 192 194 196 198 200 202 204 206 208 210 212 214 216 218 220 222 224 226 228 230 232 234 236 238 240 242 244 246 248 250 252 254 256 258 260 262 264 266 268 270 272 274 276 278 280 282 284 286 288 290 292 294 296 298 300 302 304 306 308 310 312 314 316 318 320 322 324 326 328 330 332 334 336 338 340 342 344 346 348 350 352 354 356 358 360 362 364 366 368 370 372 374 376 378 380 382 384 386 388 390 392 394 396 398 400 402 404 406 408 410 412 414 416 418 420 422 424 426 428 430 432 434 436 438 440 442 444 446 448 450 452 454 456 458 460 462 464 466 468 470 472 474 476 478 480 482 484 486 488 490 492 494 496 498 500 502 504 506 508 510 512 514 516 518 520 522 524 526 528 530 532 534 536 538 540 542 544 546 548 550 552 554 556 558 560 562 564 566 568 570 572 574 576 578 580 582 584 586 588 590 592 594 596 598 600 602 604 606 608 610 612 614 616 618 620 622 624 626 628 630 632 634 636 638 640 642 644 646 648 650 652 654 656 658 660 662 664 666 668 670 672 674 676 678 680 682 684 686 688 690 692 694 696 698 700 702 704 706 708 710 712 714 716 718 720 722 724 726 728 730 732 734 736 738 740 742 744 746 748 750 752 754 756 758 760 762 764 766 768 770 772 774 776 778 780 782 784 786 788 790 792 794 796 798 800 802 804 806 808 810 812 814 816 818 820 822 824 826 828 830 832 834 836 838 840 842 844 846 848 850 852 854 856 858 860 862 864 866 868 870 872 874 876 878 880 882 884 886 888 890 892 894 896 898 900 902 904 906 908 910 912 914 916 918 920 922 924 926 928 930 932 934 936 938 940 942 944 946 948 950 952 954 956 958 960 962 964 966 968 970 972 974 976 978 980 982 984 986 988 990 992 994 996 998 1000 "
     ]
    }
   ],
   "source": [
    "i= 1\n",
    "while i<=1000:\n",
    "    if i%2 ==0:\n",
    "        print(i,end = ' ')\n",
    "    i+=1"
   ]
  },
  {
   "cell_type": "code",
   "execution_count": 15,
   "id": "305700c0",
   "metadata": {},
   "outputs": [],
   "source": [
    "# q6: define a function for all the above problem statement"
   ]
  },
  {
   "cell_type": "code",
   "execution_count": null,
   "id": "ab39ca7c",
   "metadata": {},
   "outputs": [],
   "source": [
    "def vowel(s):\n",
    "    \n",
    "    i=0\n",
    "    v = \"aeiou\"\n",
    "    s= s.lower()\n",
    "    while i<len(s):\n",
    "        if s[i] in v:\n",
    "            print(s[i])\n",
    "    i+=1\n"
   ]
  },
  {
   "cell_type": "code",
   "execution_count": null,
   "id": "c134b044",
   "metadata": {},
   "outputs": [],
   "source": [
    "vowel(s)"
   ]
  },
  {
   "cell_type": "code",
   "execution_count": null,
   "id": "eab04c67",
   "metadata": {},
   "outputs": [],
   "source": [
    " h=\"nice\""
   ]
  },
  {
   "cell_type": "code",
   "execution_count": null,
   "id": "50a01574",
   "metadata": {},
   "outputs": [],
   "source": [
    "h"
   ]
  },
  {
   "cell_type": "code",
   "execution_count": 2,
   "id": "107f05f5",
   "metadata": {},
   "outputs": [],
   "source": [
    "#kernel restarted"
   ]
  },
  {
   "cell_type": "code",
   "execution_count": 5,
   "id": "90702c1f",
   "metadata": {},
   "outputs": [],
   "source": [
    " #q7: write a code to get time in your system"
   ]
  },
  {
   "cell_type": "code",
   "execution_count": 12,
   "id": "1b8545fd",
   "metadata": {},
   "outputs": [
    {
     "data": {
      "text/plain": [
       "datetime.time(18, 11, 24, 333494)"
      ]
     },
     "execution_count": 12,
     "metadata": {},
     "output_type": "execute_result"
    }
   ],
   "source": [
    "import datetime\n",
    "datetime.datetime.now().time()"
   ]
  },
  {
   "cell_type": "code",
   "execution_count": 9,
   "id": "eab9c331",
   "metadata": {},
   "outputs": [],
   "source": [
    "#q8: write a code to get date fetch from your system "
   ]
  },
  {
   "cell_type": "code",
   "execution_count": 10,
   "id": "b3640871",
   "metadata": {},
   "outputs": [
    {
     "data": {
      "text/plain": [
       "datetime.date(2022, 7, 10)"
      ]
     },
     "execution_count": 10,
     "metadata": {},
     "output_type": "execute_result"
    }
   ],
   "source": [
    "import datetime\n",
    "datetime.date.today()"
   ]
  },
  {
   "cell_type": "code",
   "execution_count": 15,
   "id": "8ae87556",
   "metadata": {},
   "outputs": [
    {
     "data": {
      "text/plain": [
       "datetime.datetime(2022, 7, 10, 18, 13, 44, 810415)"
      ]
     },
     "execution_count": 15,
     "metadata": {},
     "output_type": "execute_result"
    }
   ],
   "source": [
    "import datetime\n",
    "datetime.datetime.now()"
   ]
  },
  {
   "cell_type": "code",
   "execution_count": 14,
   "id": "599ba6e1",
   "metadata": {},
   "outputs": [],
   "source": [
    "# so in above date is 10/7/2022 and rest is time"
   ]
  },
  {
   "cell_type": "code",
   "execution_count": 16,
   "id": "53266702",
   "metadata": {},
   "outputs": [],
   "source": [
    "# q9 : write a code to send a mail to your friend"
   ]
  },
  {
   "cell_type": "code",
   "execution_count": 17,
   "id": "a1e72344",
   "metadata": {},
   "outputs": [
    {
     "ename": "SMTPAuthenticationError",
     "evalue": "(535, b'authentication failed (#5.7.1)')",
     "output_type": "error",
     "traceback": [
      "\u001b[1;31m---------------------------------------------------------------------------\u001b[0m",
      "\u001b[1;31mSMTPAuthenticationError\u001b[0m                   Traceback (most recent call last)",
      "Input \u001b[1;32mIn [17]\u001b[0m, in \u001b[0;36m<cell line: 6>\u001b[1;34m()\u001b[0m\n\u001b[0;32m      2\u001b[0m server \u001b[38;5;241m=\u001b[39m smtplib\u001b[38;5;241m.\u001b[39mSMTP(\u001b[38;5;124m\"\u001b[39m\u001b[38;5;124msmtp.gamil.com\u001b[39m\u001b[38;5;124m\"\u001b[39m,\u001b[38;5;241m587\u001b[39m)\n\u001b[0;32m      4\u001b[0m server\u001b[38;5;241m.\u001b[39mstarttls()\n\u001b[1;32m----> 6\u001b[0m \u001b[43mserver\u001b[49m\u001b[38;5;241;43m.\u001b[39;49m\u001b[43mlogin\u001b[49m\u001b[43m(\u001b[49m\u001b[38;5;124;43m\"\u001b[39;49m\u001b[38;5;124;43mgouravojha029@gamil.com\u001b[39;49m\u001b[38;5;124;43m\"\u001b[39;49m\u001b[43m,\u001b[49m\u001b[38;5;124;43m\"\u001b[39;49m\u001b[38;5;124;43m6289701171\u001b[39;49m\u001b[38;5;124;43m\"\u001b[39;49m\u001b[43m)\u001b[49m\n\u001b[0;32m      8\u001b[0m server\u001b[38;5;241m.\u001b[39msendmail(\u001b[38;5;124m\"\u001b[39m\u001b[38;5;124mkumarmanglammishra@gmail.com\u001b[39m\u001b[38;5;124m\"\u001b[39m,\u001b[38;5;124m\"\u001b[39m\u001b[38;5;124mkumarmanglammishra@gmail.com\u001b[39m\u001b[38;5;124m\"\u001b[39m,\u001b[38;5;124m\"\u001b[39m\u001b[38;5;124mTEST EMAIL from python\u001b[39m\u001b[38;5;124m\"\u001b[39m)\n\u001b[0;32m     10\u001b[0m \u001b[38;5;28mprint\u001b[39m(\u001b[38;5;124m\"\u001b[39m\u001b[38;5;124mmail sent\u001b[39m\u001b[38;5;124m\"\u001b[39m)\n",
      "File \u001b[1;32m~\\anaconda3\\lib\\smtplib.py:750\u001b[0m, in \u001b[0;36mSMTP.login\u001b[1;34m(self, user, password, initial_response_ok)\u001b[0m\n\u001b[0;32m    747\u001b[0m         last_exception \u001b[38;5;241m=\u001b[39m e\n\u001b[0;32m    749\u001b[0m \u001b[38;5;66;03m# We could not login successfully.  Return result of last attempt.\u001b[39;00m\n\u001b[1;32m--> 750\u001b[0m \u001b[38;5;28;01mraise\u001b[39;00m last_exception\n",
      "File \u001b[1;32m~\\anaconda3\\lib\\smtplib.py:739\u001b[0m, in \u001b[0;36mSMTP.login\u001b[1;34m(self, user, password, initial_response_ok)\u001b[0m\n\u001b[0;32m    737\u001b[0m method_name \u001b[38;5;241m=\u001b[39m \u001b[38;5;124m'\u001b[39m\u001b[38;5;124mauth_\u001b[39m\u001b[38;5;124m'\u001b[39m \u001b[38;5;241m+\u001b[39m authmethod\u001b[38;5;241m.\u001b[39mlower()\u001b[38;5;241m.\u001b[39mreplace(\u001b[38;5;124m'\u001b[39m\u001b[38;5;124m-\u001b[39m\u001b[38;5;124m'\u001b[39m, \u001b[38;5;124m'\u001b[39m\u001b[38;5;124m_\u001b[39m\u001b[38;5;124m'\u001b[39m)\n\u001b[0;32m    738\u001b[0m \u001b[38;5;28;01mtry\u001b[39;00m:\n\u001b[1;32m--> 739\u001b[0m     (code, resp) \u001b[38;5;241m=\u001b[39m \u001b[38;5;28;43mself\u001b[39;49m\u001b[38;5;241;43m.\u001b[39;49m\u001b[43mauth\u001b[49m\u001b[43m(\u001b[49m\n\u001b[0;32m    740\u001b[0m \u001b[43m        \u001b[49m\u001b[43mauthmethod\u001b[49m\u001b[43m,\u001b[49m\u001b[43m \u001b[49m\u001b[38;5;28;43mgetattr\u001b[39;49m\u001b[43m(\u001b[49m\u001b[38;5;28;43mself\u001b[39;49m\u001b[43m,\u001b[49m\u001b[43m \u001b[49m\u001b[43mmethod_name\u001b[49m\u001b[43m)\u001b[49m\u001b[43m,\u001b[49m\n\u001b[0;32m    741\u001b[0m \u001b[43m        \u001b[49m\u001b[43minitial_response_ok\u001b[49m\u001b[38;5;241;43m=\u001b[39;49m\u001b[43minitial_response_ok\u001b[49m\u001b[43m)\u001b[49m\n\u001b[0;32m    742\u001b[0m     \u001b[38;5;66;03m# 235 == 'Authentication successful'\u001b[39;00m\n\u001b[0;32m    743\u001b[0m     \u001b[38;5;66;03m# 503 == 'Error: already authenticated'\u001b[39;00m\n\u001b[0;32m    744\u001b[0m     \u001b[38;5;28;01mif\u001b[39;00m code \u001b[38;5;129;01min\u001b[39;00m (\u001b[38;5;241m235\u001b[39m, \u001b[38;5;241m503\u001b[39m):\n",
      "File \u001b[1;32m~\\anaconda3\\lib\\smtplib.py:662\u001b[0m, in \u001b[0;36mSMTP.auth\u001b[1;34m(self, mechanism, authobject, initial_response_ok)\u001b[0m\n\u001b[0;32m    660\u001b[0m \u001b[38;5;28;01mif\u001b[39;00m code \u001b[38;5;129;01min\u001b[39;00m (\u001b[38;5;241m235\u001b[39m, \u001b[38;5;241m503\u001b[39m):\n\u001b[0;32m    661\u001b[0m     \u001b[38;5;28;01mreturn\u001b[39;00m (code, resp)\n\u001b[1;32m--> 662\u001b[0m \u001b[38;5;28;01mraise\u001b[39;00m SMTPAuthenticationError(code, resp)\n",
      "\u001b[1;31mSMTPAuthenticationError\u001b[0m: (535, b'authentication failed (#5.7.1)')"
     ]
    }
   ],
   "source": [
    "import smtplib\n",
    "server = smtplib.SMTP(\"smtp.gamil.com\",587)\n",
    "\n",
    "server.starttls()\n",
    "\n",
    "server.login(\"gouravojha029@gamil.com\",\"6289701171\")\n",
    "\n",
    "server.sendmail(\"kumarmanglammishra@gmail.com\",\"kumarmanglammishra@gmail.com\",\"TEST EMAIL from python\")\n",
    "\n",
    "print(\"mail sent\")"
   ]
  },
  {
   "cell_type": "code",
   "execution_count": 18,
   "id": "d447f9ce",
   "metadata": {},
   "outputs": [],
   "source": [
    "# q10: write a code to trigger alarm for you at scheduled time"
   ]
  },
  {
   "cell_type": "code",
   "execution_count": 19,
   "id": "cc29b245",
   "metadata": {},
   "outputs": [
    {
     "ename": "ModuleNotFoundError",
     "evalue": "No module named 'playsound'",
     "output_type": "error",
     "traceback": [
      "\u001b[1;31m---------------------------------------------------------------------------\u001b[0m",
      "\u001b[1;31mModuleNotFoundError\u001b[0m                       Traceback (most recent call last)",
      "Input \u001b[1;32mIn [19]\u001b[0m, in \u001b[0;36m<cell line: 2>\u001b[1;34m()\u001b[0m\n\u001b[0;32m      1\u001b[0m \u001b[38;5;28;01mimport\u001b[39;00m \u001b[38;5;21;01mtime\u001b[39;00m \n\u001b[1;32m----> 2\u001b[0m \u001b[38;5;28;01mimport\u001b[39;00m \u001b[38;5;21;01mplaysound\u001b[39;00m\n\u001b[0;32m      4\u001b[0m alarm_time \u001b[38;5;241m=\u001b[39m \u001b[38;5;124m\"\u001b[39m\u001b[38;5;124m10:22\u001b[39m\u001b[38;5;124m\"\u001b[39m\n\u001b[0;32m      5\u001b[0m \u001b[38;5;28;01mif\u001b[39;00m time\u001b[38;5;241m.\u001b[39masctime()[\u001b[38;5;241m11\u001b[39m:\u001b[38;5;241m-\u001b[39m\u001b[38;5;241m8\u001b[39m]\u001b[38;5;241m==\u001b[39m alarm_time:\n",
      "\u001b[1;31mModuleNotFoundError\u001b[0m: No module named 'playsound'"
     ]
    }
   ],
   "source": [
    "import time \n",
    "import playsound\n",
    "\n",
    "alarm_time = \"10:22\"\n",
    "if time.asctime()[11:-8]== alarm_time:\n",
    "    absolute_path = os.path.abspath(\"texttovoice.mp3\")\n",
    "    print(absolute_path)\n",
    "    playground.playground(absolute_path)"
   ]
  },
  {
   "cell_type": "code",
   "execution_count": 20,
   "id": "0f29a286",
   "metadata": {},
   "outputs": [],
   "source": [
    "# q11: write a code to check ip address of your system"
   ]
  },
  {
   "cell_type": "code",
   "execution_count": 21,
   "id": "98fb685f",
   "metadata": {},
   "outputs": [
    {
     "name": "stdout",
     "output_type": "stream",
     "text": [
      "your ip address is 192.168.0.102\n",
      "your computer name is Intel-PC\n"
     ]
    }
   ],
   "source": [
    "import socket\n",
    "host = socket.gethostname()\n",
    "ip = socket.gethostbyname(host)\n",
    "print(\"your ip address is\",ip)\n",
    "print(\"your computer name is\",host)"
   ]
  },
  {
   "cell_type": "code",
   "execution_count": 22,
   "id": "53c90ecd",
   "metadata": {},
   "outputs": [],
   "source": [
    "#q12: write a code to get a check a particular installation in your system"
   ]
  },
  {
   "cell_type": "code",
   "execution_count": 27,
   "id": "e8682cd0",
   "metadata": {},
   "outputs": [
    {
     "ename": "AttributeError",
     "evalue": "module 'winapps' has no attribute 'list_insatalled'",
     "output_type": "error",
     "traceback": [
      "\u001b[1;31m---------------------------------------------------------------------------\u001b[0m",
      "\u001b[1;31mAttributeError\u001b[0m                            Traceback (most recent call last)",
      "Input \u001b[1;32mIn [27]\u001b[0m, in \u001b[0;36m<cell line: 3>\u001b[1;34m()\u001b[0m\n\u001b[0;32m      1\u001b[0m \u001b[38;5;28;01mimport\u001b[39;00m \u001b[38;5;21;01mwinapps\u001b[39;00m\n\u001b[1;32m----> 3\u001b[0m \u001b[38;5;28mlist\u001b[39m(\u001b[43mwinapps\u001b[49m\u001b[38;5;241;43m.\u001b[39;49m\u001b[43mlist_insatalled\u001b[49m())\n",
      "\u001b[1;31mAttributeError\u001b[0m: module 'winapps' has no attribute 'list_insatalled'"
     ]
    }
   ],
   "source": [
    "import winapps\n",
    "\n",
    "list(winapps.list_insatalled())\n"
   ]
  },
  {
   "cell_type": "code",
   "execution_count": 28,
   "id": "0ca3ad3e",
   "metadata": {},
   "outputs": [
    {
     "name": "stdout",
     "output_type": "stream",
     "text": [
      "Requirement already satisfied: winapps in c:\\users\\intel\\anaconda3\\lib\\site-packages (0.2.0)\n",
      "Requirement already satisfied: plumbum<2.0,>=1.6 in c:\\users\\intel\\anaconda3\\lib\\site-packages (from winapps) (1.7.2)\n",
      "Requirement already satisfied: pywin32 in c:\\users\\intel\\anaconda3\\lib\\site-packages (from plumbum<2.0,>=1.6->winapps) (302)\n"
     ]
    }
   ],
   "source": [
    "!pip install winapps"
   ]
  },
  {
   "cell_type": "code",
   "execution_count": 1,
   "id": "672a5d73",
   "metadata": {},
   "outputs": [],
   "source": [
    "# q4: try to filter out all the vowels from below text by using while loop:\n",
    "s=\"\"\"python is a high - level,interpreted, general-purpose programing languge. its design philosophy emphasizes code readibility\n",
    "python is dynamically-typed and garbage-collected.it supports multiple programing paradigns, including (particular) guido van Rossum\n",
    "began working on python  in the late 1980s as a successor to the ABC programing language and first released \n",
    "python consistently ranks as one of the most popular progarming language\"\"\""
   ]
  },
  {
   "cell_type": "code",
   "execution_count": 2,
   "id": "77246d92",
   "metadata": {},
   "outputs": [
    {
     "name": "stdout",
     "output_type": "stream",
     "text": [
      "o\n",
      "i\n",
      "a\n",
      "i\n",
      "e\n",
      "e\n",
      "i\n",
      "e\n",
      "e\n",
      "e\n",
      "e\n",
      "e\n",
      "a\n",
      "u\n",
      "o\n",
      "e\n",
      "o\n",
      "a\n",
      "i\n",
      "a\n",
      "u\n",
      "e\n",
      "i\n",
      "e\n",
      "i\n",
      "i\n",
      "o\n",
      "o\n",
      "e\n",
      "a\n",
      "i\n",
      "e\n",
      "o\n",
      "e\n",
      "e\n",
      "a\n",
      "i\n",
      "i\n",
      "i\n",
      "o\n",
      "i\n",
      "a\n",
      "i\n",
      "a\n",
      "e\n",
      "a\n",
      "a\n",
      "a\n",
      "e\n",
      "o\n",
      "e\n",
      "e\n",
      "i\n",
      "u\n",
      "o\n",
      "u\n",
      "i\n",
      "e\n",
      "o\n",
      "a\n",
      "i\n",
      "a\n",
      "a\n",
      "i\n",
      "i\n",
      "u\n",
      "i\n",
      "a\n",
      "i\n",
      "u\n",
      "a\n",
      "u\n",
      "i\n",
      "o\n",
      "a\n",
      "o\n",
      "u\n",
      "e\n",
      "a\n",
      "o\n",
      "i\n",
      "o\n",
      "o\n",
      "i\n",
      "e\n",
      "a\n",
      "e\n",
      "a\n",
      "a\n",
      "u\n",
      "e\n",
      "o\n",
      "o\n",
      "e\n",
      "o\n",
      "a\n",
      "i\n",
      "a\n",
      "u\n",
      "a\n",
      "e\n",
      "a\n",
      "i\n",
      "e\n",
      "e\n",
      "a\n",
      "e\n",
      "o\n",
      "o\n",
      "i\n",
      "e\n",
      "a\n",
      "a\n",
      "o\n",
      "e\n",
      "o\n",
      "e\n",
      "o\n",
      "o\n",
      "u\n",
      "a\n",
      "o\n",
      "a\n",
      "i\n",
      "a\n",
      "u\n",
      "a\n",
      "e\n"
     ]
    },
    {
     "ename": "IndexError",
     "evalue": "string index out of range",
     "output_type": "error",
     "traceback": [
      "\u001b[1;31m---------------------------------------------------------------------------\u001b[0m",
      "\u001b[1;31mIndexError\u001b[0m                                Traceback (most recent call last)",
      "Input \u001b[1;32mIn [2]\u001b[0m, in \u001b[0;36m<cell line: 4>\u001b[1;34m()\u001b[0m\n\u001b[0;32m      3\u001b[0m s\u001b[38;5;241m.\u001b[39mlower()\n\u001b[0;32m      4\u001b[0m \u001b[38;5;28;01mwhile\u001b[39;00m i\u001b[38;5;241m<\u001b[39m\u001b[38;5;241m=\u001b[39m\u001b[38;5;28mlen\u001b[39m(s):\n\u001b[1;32m----> 5\u001b[0m     \u001b[38;5;28;01mif\u001b[39;00m \u001b[43ms\u001b[49m\u001b[43m[\u001b[49m\u001b[43mi\u001b[49m\u001b[43m]\u001b[49m \u001b[38;5;129;01min\u001b[39;00m v:\n\u001b[0;32m      6\u001b[0m         \u001b[38;5;28mprint\u001b[39m(s[i])\n\u001b[0;32m      7\u001b[0m     i\u001b[38;5;241m+\u001b[39m\u001b[38;5;241m=\u001b[39m\u001b[38;5;241m1\u001b[39m\n",
      "\u001b[1;31mIndexError\u001b[0m: string index out of range"
     ]
    }
   ],
   "source": [
    "i=0\n",
    "v = \"aeiou\"\n",
    "s.lower()\n",
    "while i<=len(s):\n",
    "    if s[i] in v:\n",
    "        print(s[i])\n",
    "    i+=1"
   ]
  },
  {
   "cell_type": "code",
   "execution_count": 3,
   "id": "e59186fa",
   "metadata": {},
   "outputs": [],
   "source": [
    "def vowel(s):\n",
    "    i=0\n",
    "    v = \"aeiou\"\n",
    "    s.lower()\n",
    "    while i<=len(s):\n",
    "        if s[i] in v:\n",
    "            print(s[i])\n",
    "        i+=1"
   ]
  },
  {
   "cell_type": "code",
   "execution_count": 4,
   "id": "96de46d0",
   "metadata": {},
   "outputs": [
    {
     "name": "stdout",
     "output_type": "stream",
     "text": [
      "o\n",
      "i\n",
      "a\n",
      "i\n",
      "e\n",
      "e\n",
      "i\n",
      "e\n",
      "e\n",
      "e\n",
      "e\n",
      "e\n",
      "a\n",
      "u\n",
      "o\n",
      "e\n",
      "o\n",
      "a\n",
      "i\n",
      "a\n",
      "u\n",
      "e\n",
      "i\n",
      "e\n",
      "i\n",
      "i\n",
      "o\n",
      "o\n",
      "e\n",
      "a\n",
      "i\n",
      "e\n",
      "o\n",
      "e\n",
      "e\n",
      "a\n",
      "i\n",
      "i\n",
      "i\n",
      "o\n",
      "i\n",
      "a\n",
      "i\n",
      "a\n",
      "e\n",
      "a\n",
      "a\n",
      "a\n",
      "e\n",
      "o\n",
      "e\n",
      "e\n",
      "i\n",
      "u\n",
      "o\n",
      "u\n",
      "i\n",
      "e\n",
      "o\n",
      "a\n",
      "i\n",
      "a\n",
      "a\n",
      "i\n",
      "i\n",
      "u\n",
      "i\n",
      "a\n",
      "i\n",
      "u\n",
      "a\n",
      "u\n",
      "i\n",
      "o\n",
      "a\n",
      "o\n",
      "u\n",
      "e\n",
      "a\n",
      "o\n",
      "i\n",
      "o\n",
      "o\n",
      "i\n",
      "e\n",
      "a\n",
      "e\n",
      "a\n",
      "a\n",
      "u\n",
      "e\n",
      "o\n",
      "o\n",
      "e\n",
      "o\n",
      "a\n",
      "i\n",
      "a\n",
      "u\n",
      "a\n",
      "e\n",
      "a\n",
      "i\n",
      "e\n",
      "e\n",
      "a\n",
      "e\n",
      "o\n",
      "o\n",
      "i\n",
      "e\n",
      "a\n",
      "a\n",
      "o\n",
      "e\n",
      "o\n",
      "e\n",
      "o\n",
      "o\n",
      "u\n",
      "a\n",
      "o\n",
      "a\n",
      "i\n",
      "a\n",
      "u\n",
      "a\n",
      "e\n"
     ]
    },
    {
     "ename": "IndexError",
     "evalue": "string index out of range",
     "output_type": "error",
     "traceback": [
      "\u001b[1;31m---------------------------------------------------------------------------\u001b[0m",
      "\u001b[1;31mIndexError\u001b[0m                                Traceback (most recent call last)",
      "Input \u001b[1;32mIn [4]\u001b[0m, in \u001b[0;36m<cell line: 1>\u001b[1;34m()\u001b[0m\n\u001b[1;32m----> 1\u001b[0m \u001b[43mvowel\u001b[49m\u001b[43m(\u001b[49m\u001b[43ms\u001b[49m\u001b[43m)\u001b[49m\n",
      "Input \u001b[1;32mIn [3]\u001b[0m, in \u001b[0;36mvowel\u001b[1;34m(s)\u001b[0m\n\u001b[0;32m      4\u001b[0m s\u001b[38;5;241m.\u001b[39mlower()\n\u001b[0;32m      5\u001b[0m \u001b[38;5;28;01mwhile\u001b[39;00m i\u001b[38;5;241m<\u001b[39m\u001b[38;5;241m=\u001b[39m\u001b[38;5;28mlen\u001b[39m(s):\n\u001b[1;32m----> 6\u001b[0m     \u001b[38;5;28;01mif\u001b[39;00m \u001b[43ms\u001b[49m\u001b[43m[\u001b[49m\u001b[43mi\u001b[49m\u001b[43m]\u001b[49m \u001b[38;5;129;01min\u001b[39;00m v:\n\u001b[0;32m      7\u001b[0m         \u001b[38;5;28mprint\u001b[39m(s[i])\n\u001b[0;32m      8\u001b[0m     i\u001b[38;5;241m+\u001b[39m\u001b[38;5;241m=\u001b[39m\u001b[38;5;241m1\u001b[39m\n",
      "\u001b[1;31mIndexError\u001b[0m: string index out of range"
     ]
    }
   ],
   "source": [
    "vowel(s)"
   ]
  },
  {
   "cell_type": "code",
   "execution_count": 6,
   "id": "dfbb8cf2",
   "metadata": {},
   "outputs": [],
   "source": [
    "# q14: you have to write a fun which will take sting and a len of it \n",
    "#without using a inbuilt fun len"
   ]
  },
  {
   "cell_type": "code",
   "execution_count": 8,
   "id": "32fbf897",
   "metadata": {},
   "outputs": [
    {
     "data": {
      "text/plain": [
       "4"
      ]
     },
     "execution_count": 8,
     "metadata": {},
     "output_type": "execute_result"
    }
   ],
   "source": [
    "s =\"sudh\"\n",
    "len(s)"
   ]
  },
  {
   "cell_type": "code",
   "execution_count": 1,
   "id": "822f7cda",
   "metadata": {},
   "outputs": [
    {
     "data": {
      "text/plain": [
       "4"
      ]
     },
     "execution_count": 1,
     "metadata": {},
     "output_type": "execute_result"
    }
   ],
   "source": [
    "s =\"sudh\"\n",
    "len(s)"
   ]
  },
  {
   "cell_type": "code",
   "execution_count": 2,
   "id": "21313321",
   "metadata": {},
   "outputs": [],
   "source": [
    "def str_len(s):\n",
    "    count =0\n",
    "    for i in s:\n",
    "        count = count +1\n",
    "    return count"
   ]
  },
  {
   "cell_type": "code",
   "execution_count": 3,
   "id": "ca03f4cb",
   "metadata": {},
   "outputs": [
    {
     "data": {
      "text/plain": [
       "6"
      ]
     },
     "execution_count": 3,
     "metadata": {},
     "output_type": "execute_result"
    }
   ],
   "source": [
    "str_len(\"gourav\")"
   ]
  },
  {
   "cell_type": "code",
   "execution_count": 4,
   "id": "c2793e80",
   "metadata": {},
   "outputs": [],
   "source": [
    "#q15: write a function which will be able to print an index of all premitive element which you will pass"
   ]
  },
  {
   "cell_type": "code",
   "execution_count": 5,
   "id": "84b56e19",
   "metadata": {},
   "outputs": [],
   "source": [
    "def print_print(l):\n",
    "    for i in range(len(l)):\n",
    "        print(i)"
   ]
  },
  {
   "cell_type": "code",
   "execution_count": 6,
   "id": "2aa4e323",
   "metadata": {},
   "outputs": [
    {
     "name": "stdout",
     "output_type": "stream",
     "text": [
      "0\n",
      "1\n",
      "2\n",
      "3\n",
      "4\n",
      "5\n",
      "6\n"
     ]
    }
   ],
   "source": [
    "print_print([\"gourav\",1,2,3,4,5,[8,7,6]])"
   ]
  },
  {
   "cell_type": "code",
   "execution_count": 11,
   "id": "71215174",
   "metadata": {},
   "outputs": [],
   "source": [
    "a = [\"gourav ojha\"]"
   ]
  },
  {
   "cell_type": "code",
   "execution_count": 12,
   "id": "c4497a26",
   "metadata": {},
   "outputs": [
    {
     "data": {
      "text/plain": [
       "'gourav ojha'"
      ]
     },
     "execution_count": 12,
     "metadata": {},
     "output_type": "execute_result"
    }
   ],
   "source": [
    "a[0]"
   ]
  },
  {
   "cell_type": "code",
   "execution_count": 13,
   "id": "35d38e78",
   "metadata": {},
   "outputs": [],
   "source": [
    "b = \"gourav\""
   ]
  },
  {
   "cell_type": "code",
   "execution_count": 14,
   "id": "c9531901",
   "metadata": {},
   "outputs": [
    {
     "data": {
      "text/plain": [
       "'g'"
      ]
     },
     "execution_count": 14,
     "metadata": {},
     "output_type": "execute_result"
    }
   ],
   "source": [
    "b[0]"
   ]
  },
  {
   "cell_type": "code",
   "execution_count": 15,
   "id": "3a734102",
   "metadata": {},
   "outputs": [
    {
     "data": {
      "text/plain": [
       "'v'"
      ]
     },
     "execution_count": 15,
     "metadata": {},
     "output_type": "execute_result"
    }
   ],
   "source": [
    "b[5]"
   ]
  },
  {
   "cell_type": "code",
   "execution_count": 20,
   "id": "f5ea8c7d",
   "metadata": {},
   "outputs": [
    {
     "ename": "TypeError",
     "evalue": "string indices must be integers",
     "output_type": "error",
     "traceback": [
      "\u001b[1;31m---------------------------------------------------------------------------\u001b[0m",
      "\u001b[1;31mTypeError\u001b[0m                                 Traceback (most recent call last)",
      "Input \u001b[1;32mIn [20]\u001b[0m, in \u001b[0;36m<cell line: 1>\u001b[1;34m()\u001b[0m\n\u001b[1;32m----> 1\u001b[0m \u001b[43mb\u001b[49m\u001b[43m[\u001b[49m\u001b[38;5;124;43m\"\u001b[39;49m\u001b[38;5;124;43mv\u001b[39;49m\u001b[38;5;124;43m\"\u001b[39;49m\u001b[43m]\u001b[49m\n",
      "\u001b[1;31mTypeError\u001b[0m: string indices must be integers"
     ]
    }
   ],
   "source": [
    "b[\"v\"]"
   ]
  },
  {
   "cell_type": "code",
   "execution_count": 19,
   "id": "f77aca8f",
   "metadata": {},
   "outputs": [
    {
     "data": {
      "text/plain": [
       "5"
      ]
     },
     "execution_count": 19,
     "metadata": {},
     "output_type": "execute_result"
    }
   ],
   "source": [
    "b.index(\"v\")"
   ]
  },
  {
   "cell_type": "code",
   "execution_count": 21,
   "id": "0472420f",
   "metadata": {},
   "outputs": [],
   "source": [
    "g= \"gourav\""
   ]
  },
  {
   "cell_type": "code",
   "execution_count": 22,
   "id": "9c76edcf",
   "metadata": {},
   "outputs": [],
   "source": [
    "def str_len(g):\n",
    "    count =0\n",
    "    for i in g:\n",
    "        count = count+1\n",
    "    return count"
   ]
  },
  {
   "cell_type": "code",
   "execution_count": 23,
   "id": "3db2cab5",
   "metadata": {},
   "outputs": [
    {
     "data": {
      "text/plain": [
       "4"
      ]
     },
     "execution_count": 23,
     "metadata": {},
     "output_type": "execute_result"
    }
   ],
   "source": [
    "str_len(\"ojha\")"
   ]
  },
  {
   "cell_type": "code",
   "execution_count": 24,
   "id": "0d097d1e",
   "metadata": {},
   "outputs": [],
   "source": [
    "def test_test(l):\n",
    "    for i in range(len(l)):\n",
    "        print(i)"
   ]
  },
  {
   "cell_type": "code",
   "execution_count": 26,
   "id": "b1cdbb38",
   "metadata": {},
   "outputs": [
    {
     "name": "stdout",
     "output_type": "stream",
     "text": [
      "0\n",
      "1\n",
      "2\n",
      "3\n",
      "4\n",
      "5\n",
      "6\n",
      "7\n"
     ]
    }
   ],
   "source": [
    "test_test([1,2,3,4,5,6,\"kumar\",\"kumar\"])"
   ]
  },
  {
   "cell_type": "code",
   "execution_count": 29,
   "id": "98421778",
   "metadata": {},
   "outputs": [
    {
     "name": "stdout",
     "output_type": "stream",
     "text": [
      "0\n",
      "1\n",
      "2\n",
      "3\n"
     ]
    }
   ],
   "source": [
    "test_test([\"a\",\"b\",\"v\",\"d\"])    # this one is list"
   ]
  },
  {
   "cell_type": "code",
   "execution_count": 31,
   "id": "85a0ced9",
   "metadata": {},
   "outputs": [
    {
     "name": "stdout",
     "output_type": "stream",
     "text": [
      "0\n",
      "1\n",
      "2\n",
      "3\n"
     ]
    }
   ],
   "source": [
    "test_test((\"a\",\"b\",\"c\",\"d\"))   # this one is tuple"
   ]
  },
  {
   "cell_type": "code",
   "execution_count": 32,
   "id": "6a9abff0",
   "metadata": {},
   "outputs": [],
   "source": [
    "# q16: write a fun which will take input as a dict and give me out as a list of all the values even in case of 2 level nesting\n",
    "# it should work."
   ]
  },
  {
   "cell_type": "code",
   "execution_count": 33,
   "id": "a45fd3c4",
   "metadata": {},
   "outputs": [],
   "source": [
    "d = {'k1':\"values\",'k2':\"values\",'k3':{\"k12\":\"sudh\",\"k13\":\"gafasd\"}}"
   ]
  },
  {
   "cell_type": "code",
   "execution_count": 34,
   "id": "fc5d7e88",
   "metadata": {},
   "outputs": [
    {
     "data": {
      "text/plain": [
       "dict_values(['values', 'values', {'k12': 'sudh', 'k13': 'gafasd'}])"
      ]
     },
     "execution_count": 34,
     "metadata": {},
     "output_type": "execute_result"
    }
   ],
   "source": [
    "d.values()"
   ]
  },
  {
   "cell_type": "code",
   "execution_count": 1,
   "id": "db0e345c",
   "metadata": {},
   "outputs": [],
   "source": [
    "d = {'k1':\"values\",'k2':\"values\",'k3':{\"k12\":\"sudh\",\"k13\":\"gafasd\"}}"
   ]
  },
  {
   "cell_type": "code",
   "execution_count": 4,
   "id": "5ee69553",
   "metadata": {},
   "outputs": [],
   "source": [
    "def dic_to_list(d):\n",
    "    l= []\n",
    "    for i in d.values():\n",
    "        if type(i) != dict:\n",
    "            l.append(i)\n",
    "        if type(i)== dict:\n",
    "            for j in i.values():\n",
    "                l.append(j)\n",
    "    return l"
   ]
  },
  {
   "cell_type": "code",
   "execution_count": 5,
   "id": "87441235",
   "metadata": {},
   "outputs": [
    {
     "data": {
      "text/plain": [
       "['values', 'values', 'sudh', 'gafasd']"
      ]
     },
     "execution_count": 5,
     "metadata": {},
     "output_type": "execute_result"
    }
   ],
   "source": [
    "dic_to_list(d)"
   ]
  },
  {
   "cell_type": "code",
   "execution_count": 6,
   "id": "5f9b9f0c",
   "metadata": {},
   "outputs": [
    {
     "data": {
      "text/plain": [
       "dict_values(['values', 'values', {'k12': 'sudh', 'k13': 'gafasd'}])"
      ]
     },
     "execution_count": 6,
     "metadata": {},
     "output_type": "execute_result"
    }
   ],
   "source": [
    "d.values()"
   ]
  },
  {
   "cell_type": "code",
   "execution_count": 7,
   "id": "f4b2ff8b",
   "metadata": {},
   "outputs": [],
   "source": [
    "# in the above the difference is that by making as well using function iam able to extract the value even it is in dict form "
   ]
  },
  {
   "cell_type": "code",
   "execution_count": 8,
   "id": "dc88dc35",
   "metadata": {},
   "outputs": [],
   "source": [
    "# how to send message in whatsapp using python"
   ]
  },
  {
   "cell_type": "code",
   "execution_count": null,
   "id": "1f1c2982",
   "metadata": {},
   "outputs": [],
   "source": [
    "!pip install pywhatkit"
   ]
  },
  {
   "cell_type": "code",
   "execution_count": 1,
   "id": "a6fb68c3",
   "metadata": {},
   "outputs": [
    {
     "ename": "ModuleNotFoundError",
     "evalue": "No module named 'pywhatkit'",
     "output_type": "error",
     "traceback": [
      "\u001b[1;31m---------------------------------------------------------------------------\u001b[0m",
      "\u001b[1;31mModuleNotFoundError\u001b[0m                       Traceback (most recent call last)",
      "Input \u001b[1;32mIn [1]\u001b[0m, in \u001b[0;36m<cell line: 1>\u001b[1;34m()\u001b[0m\n\u001b[1;32m----> 1\u001b[0m \u001b[38;5;28;01mimport\u001b[39;00m \u001b[38;5;21;01mpywhatkit\u001b[39;00m \u001b[38;5;28;01mas\u001b[39;00m \u001b[38;5;21;01mpwt\u001b[39;00m\n\u001b[0;32m      2\u001b[0m pwt\u001b[38;5;241m.\u001b[39msendwhatmsg(\u001b[38;5;124m\"\u001b[39m\u001b[38;5;124m+919748055501\u001b[39m\u001b[38;5;124m\"\u001b[39m,\u001b[38;5;124m\"\u001b[39m\u001b[38;5;124mWELCOME TO PYWHATKIT LIBRARY\u001b[39m\u001b[38;5;124m\"\u001b[39m,\u001b[38;5;241m15\u001b[39m,\u001b[38;5;241m36\u001b[39m)\n",
      "\u001b[1;31mModuleNotFoundError\u001b[0m: No module named 'pywhatkit'"
     ]
    }
   ],
   "source": [
    "import pywhatkit as pwt\n",
    "pwt.sendwhatmsg(\"+919748055501\",\"WELCOME TO PYWHATKIT LIBRARY\",15,36)"
   ]
  },
  {
   "cell_type": "code",
   "execution_count": 2,
   "id": "19ef7603",
   "metadata": {},
   "outputs": [],
   "source": [
    "#q19: write a function which will be able to read a image file and show it to you"
   ]
  },
  {
   "cell_type": "code",
   "execution_count": 3,
   "id": "320b4b79",
   "metadata": {},
   "outputs": [
    {
     "name": "stdout",
     "output_type": "stream",
     "text": [
      "Collecting opencv-python\n",
      "  Downloading opencv_python-4.6.0.66-cp36-abi3-win_amd64.whl (35.6 MB)\n",
      "Requirement already satisfied: numpy>=1.17.3 in c:\\users\\intel\\anaconda3\\lib\\site-packages (from opencv-python) (1.21.5)\n",
      "Installing collected packages: opencv-python\n",
      "Successfully installed opencv-python-4.6.0.66\n"
     ]
    }
   ],
   "source": [
    "!pip install opencv-python"
   ]
  },
  {
   "cell_type": "code",
   "execution_count": 1,
   "id": "e36d0105",
   "metadata": {},
   "outputs": [],
   "source": [
    "# so to use any library first i have to install it by !pip which is a package"
   ]
  },
  {
   "cell_type": "code",
   "execution_count": null,
   "id": "0703a195",
   "metadata": {},
   "outputs": [],
   "source": []
  }
 ],
 "metadata": {
  "kernelspec": {
   "display_name": "Python 3 (ipykernel)",
   "language": "python",
   "name": "python3"
  },
  "language_info": {
   "codemirror_mode": {
    "name": "ipython",
    "version": 3
   },
   "file_extension": ".py",
   "mimetype": "text/x-python",
   "name": "python",
   "nbconvert_exporter": "python",
   "pygments_lexer": "ipython3",
   "version": "3.9.12"
  }
 },
 "nbformat": 4,
 "nbformat_minor": 5
}
