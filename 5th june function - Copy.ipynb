{
 "cells": [
  {
   "cell_type": "code",
   "execution_count": 3,
   "id": "ab27686b",
   "metadata": {},
   "outputs": [],
   "source": [
    "def test(a,b):\n",
    "    return a +b\n",
    "\n",
    "  # here function will take input value as a,b  "
   ]
  },
  {
   "cell_type": "code",
   "execution_count": 4,
   "id": "39bc48f2",
   "metadata": {},
   "outputs": [
    {
     "data": {
      "text/plain": [
       "10"
      ]
     },
     "execution_count": 4,
     "metadata": {},
     "output_type": "execute_result"
    }
   ],
   "source": [
    "test(4,6)"
   ]
  },
  {
   "cell_type": "code",
   "execution_count": 6,
   "id": "0e416bb8",
   "metadata": {},
   "outputs": [
    {
     "data": {
      "text/plain": [
       "'sudh kumar'"
      ]
     },
     "execution_count": 6,
     "metadata": {},
     "output_type": "execute_result"
    }
   ],
   "source": [
    "test(\"sudh\",\" kumar\")"
   ]
  },
  {
   "cell_type": "code",
   "execution_count": 7,
   "id": "2b998bad",
   "metadata": {},
   "outputs": [
    {
     "data": {
      "text/plain": [
       "15"
      ]
     },
     "execution_count": 7,
     "metadata": {},
     "output_type": "execute_result"
    }
   ],
   "source": [
    "test(a = 9,b= 6)"
   ]
  },
  {
   "cell_type": "code",
   "execution_count": 8,
   "id": "1be197c8",
   "metadata": {},
   "outputs": [
    {
     "data": {
      "text/plain": [
       "48"
      ]
     },
     "execution_count": 8,
     "metadata": {},
     "output_type": "execute_result"
    }
   ],
   "source": [
    "test(b= 45,a=3)"
   ]
  },
  {
   "cell_type": "code",
   "execution_count": 9,
   "id": "b28eccf3",
   "metadata": {},
   "outputs": [
    {
     "name": "stdout",
     "output_type": "stream",
     "text": [
      "\n"
     ]
    }
   ],
   "source": [
    "print()     # here shift tab in print will give docstring"
   ]
  },
  {
   "cell_type": "code",
   "execution_count": 11,
   "id": "04121636",
   "metadata": {},
   "outputs": [
    {
     "data": {
      "text/plain": [
       "15"
      ]
     },
     "execution_count": 11,
     "metadata": {},
     "output_type": "execute_result"
    }
   ],
   "source": [
    "test(a = 9,b= 6)    # here shift tab will give no docstring as we have not mentioned that why this function has been created\n",
    " #  what is the nature of function and what are the parameter"
   ]
  },
  {
   "cell_type": "code",
   "execution_count": 12,
   "id": "5c5221fa",
   "metadata": {},
   "outputs": [],
   "source": [
    "# so all  the inbuild funcion are having docstring and even we can creat that"
   ]
  },
  {
   "cell_type": "code",
   "execution_count": 14,
   "id": "d4332339",
   "metadata": {},
   "outputs": [],
   "source": [
    "def test(a,b):\n",
    "    '''this is my function for concatination or addition'''\n",
    "    return a +b\n",
    "# even double qoutes can be used for creating docstring"
   ]
  },
  {
   "cell_type": "code",
   "execution_count": null,
   "id": "d013edc5",
   "metadata": {},
   "outputs": [],
   "source": [
    "test(a,b)"
   ]
  },
  {
   "cell_type": "code",
   "execution_count": 15,
   "id": "50346236",
   "metadata": {},
   "outputs": [],
   "source": [
    "def test1(a,b,c,d,e):\n",
    "    return a,b,c,d,e"
   ]
  },
  {
   "cell_type": "code",
   "execution_count": 18,
   "id": "a7c75a7a",
   "metadata": {},
   "outputs": [
    {
     "ename": "TypeError",
     "evalue": "test1() takes 5 positional arguments but 6 were given",
     "output_type": "error",
     "traceback": [
      "\u001b[1;31m---------------------------------------------------------------------------\u001b[0m",
      "\u001b[1;31mTypeError\u001b[0m                                 Traceback (most recent call last)",
      "Input \u001b[1;32mIn [18]\u001b[0m, in \u001b[0;36m<cell line: 1>\u001b[1;34m()\u001b[0m\n\u001b[1;32m----> 1\u001b[0m \u001b[43mtest1\u001b[49m\u001b[43m(\u001b[49m\u001b[38;5;241;43m3\u001b[39;49m\u001b[43m,\u001b[49m\u001b[38;5;241;43m4\u001b[39;49m\u001b[43m,\u001b[49m\u001b[38;5;241;43m5\u001b[39;49m\u001b[43m,\u001b[49m\u001b[38;5;241;43m6\u001b[39;49m\u001b[43m,\u001b[49m\u001b[38;5;241;43m7\u001b[39;49m\u001b[43m,\u001b[49m\u001b[38;5;241;43m8\u001b[39;49m\u001b[43m)\u001b[49m\n",
      "\u001b[1;31mTypeError\u001b[0m: test1() takes 5 positional arguments but 6 were given"
     ]
    }
   ],
   "source": [
    "test1(3,4,5,6,7,8)    # error because it was expecting 5 parameter or 5 varibale values  but 6 arguments has been passed  "
   ]
  },
  {
   "cell_type": "code",
   "execution_count": 20,
   "id": "663eb0e0",
   "metadata": {},
   "outputs": [
    {
     "data": {
      "text/plain": [
       "(4, 5, 6, 7, 8)"
      ]
     },
     "execution_count": 20,
     "metadata": {},
     "output_type": "execute_result"
    }
   ],
   "source": [
    "test1(4,5,6,7,8)   # now it is fine"
   ]
  },
  {
   "cell_type": "code",
   "execution_count": 21,
   "id": "2e621adb",
   "metadata": {},
   "outputs": [
    {
     "ename": "TypeError",
     "evalue": "test1() missing 1 required positional argument: 'e'",
     "output_type": "error",
     "traceback": [
      "\u001b[1;31m---------------------------------------------------------------------------\u001b[0m",
      "\u001b[1;31mTypeError\u001b[0m                                 Traceback (most recent call last)",
      "Input \u001b[1;32mIn [21]\u001b[0m, in \u001b[0;36m<cell line: 1>\u001b[1;34m()\u001b[0m\n\u001b[1;32m----> 1\u001b[0m \u001b[43mtest1\u001b[49m\u001b[43m(\u001b[49m\u001b[38;5;241;43m3\u001b[39;49m\u001b[43m,\u001b[49m\u001b[38;5;241;43m4\u001b[39;49m\u001b[43m,\u001b[49m\u001b[38;5;241;43m5\u001b[39;49m\u001b[43m,\u001b[49m\u001b[38;5;241;43m6\u001b[39;49m\u001b[43m)\u001b[49m\n",
      "\u001b[1;31mTypeError\u001b[0m: test1() missing 1 required positional argument: 'e'"
     ]
    }
   ],
   "source": [
    "test1(3,4,5,6)"
   ]
  },
  {
   "cell_type": "code",
   "execution_count": 22,
   "id": "997921ad",
   "metadata": {},
   "outputs": [],
   "source": [
    "# now i want to creat a function where i dont want such problem and can pass many arguments without limitation"
   ]
  },
  {
   "cell_type": "code",
   "execution_count": 23,
   "id": "2d138754",
   "metadata": {},
   "outputs": [],
   "source": [
    "def test(*a):\n",
    "    return a"
   ]
  },
  {
   "cell_type": "code",
   "execution_count": 24,
   "id": "a0d28463",
   "metadata": {},
   "outputs": [
    {
     "data": {
      "text/plain": [
       "(4, 5)"
      ]
     },
     "execution_count": 24,
     "metadata": {},
     "output_type": "execute_result"
    }
   ],
   "source": [
    "test(4,5)"
   ]
  },
  {
   "cell_type": "code",
   "execution_count": 25,
   "id": "dd4e0e32",
   "metadata": {},
   "outputs": [
    {
     "data": {
      "text/plain": [
       "(23, 3, 4, 5, 6, 7)"
      ]
     },
     "execution_count": 25,
     "metadata": {},
     "output_type": "execute_result"
    }
   ],
   "source": [
    "test(23,3,4,5,6,7)"
   ]
  },
  {
   "cell_type": "code",
   "execution_count": 26,
   "id": "bed16677",
   "metadata": {},
   "outputs": [
    {
     "data": {
      "text/plain": [
       "(1, 2, 3, 4, 5, 6, [3, 4, 5, 5, 9])"
      ]
     },
     "execution_count": 26,
     "metadata": {},
     "output_type": "execute_result"
    }
   ],
   "source": [
    "test(1,2,3,4,5,6,[3,4,5,5,9])"
   ]
  },
  {
   "cell_type": "code",
   "execution_count": 27,
   "id": "b6344ef5",
   "metadata": {},
   "outputs": [],
   "source": [
    "def test4(*args):\n",
    "    return args\n",
    " # well in internet we will see this args a lot but it is not a keyword it is just a name like it can be your"
   ]
  },
  {
   "cell_type": "code",
   "execution_count": 28,
   "id": "c8f89042",
   "metadata": {},
   "outputs": [
    {
     "data": {
      "text/plain": [
       "(34, 45, 5, 66)"
      ]
     },
     "execution_count": 28,
     "metadata": {},
     "output_type": "execute_result"
    }
   ],
   "source": [
    "test4(34,45,5,66)"
   ]
  },
  {
   "cell_type": "code",
   "execution_count": 1,
   "id": "d9748518",
   "metadata": {},
   "outputs": [],
   "source": [
    "def test5(*a):\n",
    "    l =[]\n",
    "    for i in a:\n",
    "        l.append(i)\n",
    "    return l\n",
    "    "
   ]
  },
  {
   "cell_type": "code",
   "execution_count": 2,
   "id": "9522075d",
   "metadata": {},
   "outputs": [
    {
     "data": {
      "text/plain": [
       "[2, 3, 4, 45, 5, [345, 56, 5, 6]]"
      ]
     },
     "execution_count": 2,
     "metadata": {},
     "output_type": "execute_result"
    }
   ],
   "source": [
    "test5(2,3,4,45,5,[345,56,5,6])"
   ]
  },
  {
   "cell_type": "code",
   "execution_count": 3,
   "id": "c5c8b55e",
   "metadata": {},
   "outputs": [],
   "source": [
    "# in the  above i want all the data in list so such function is created "
   ]
  },
  {
   "cell_type": "code",
   "execution_count": 4,
   "id": "5faef31e",
   "metadata": {},
   "outputs": [
    {
     "data": {
      "text/plain": [
       "[3, 4, 5, 56]"
      ]
     },
     "execution_count": 4,
     "metadata": {},
     "output_type": "execute_result"
    }
   ],
   "source": [
    "test5(3,4,5,56)"
   ]
  },
  {
   "cell_type": "code",
   "execution_count": 5,
   "id": "70ed9b49",
   "metadata": {},
   "outputs": [],
   "source": [
    "def test6(a,b,c,d,*m):\n",
    "    return a,b,c,d,m"
   ]
  },
  {
   "cell_type": "code",
   "execution_count": 8,
   "id": "c7c78688",
   "metadata": {},
   "outputs": [
    {
     "data": {
      "text/plain": [
       "(3, 4, 5, 5, (6, 6, 7, 7, 8, 8))"
      ]
     },
     "execution_count": 8,
     "metadata": {},
     "output_type": "execute_result"
    }
   ],
   "source": [
    "test6(3,4,5,5,6,6,7,7,8,8)    # the value of a,b,c,d is 3,4,5,5 and value of m is (6,6,7,7,8,8)"
   ]
  },
  {
   "cell_type": "code",
   "execution_count": 9,
   "id": "74f431f5",
   "metadata": {},
   "outputs": [],
   "source": [
    "def test7(*m,a,b,c,d,e):\n",
    "    return m, a,b,c,d,e"
   ]
  },
  {
   "cell_type": "code",
   "execution_count": 11,
   "id": "e456009b",
   "metadata": {},
   "outputs": [
    {
     "ename": "TypeError",
     "evalue": "test7() missing 5 required keyword-only arguments: 'a', 'b', 'c', 'd', and 'e'",
     "output_type": "error",
     "traceback": [
      "\u001b[1;31m---------------------------------------------------------------------------\u001b[0m",
      "\u001b[1;31mTypeError\u001b[0m                                 Traceback (most recent call last)",
      "Input \u001b[1;32mIn [11]\u001b[0m, in \u001b[0;36m<cell line: 1>\u001b[1;34m()\u001b[0m\n\u001b[1;32m----> 1\u001b[0m \u001b[43mtest7\u001b[49m\u001b[43m(\u001b[49m\u001b[38;5;241;43m4\u001b[39;49m\u001b[43m,\u001b[49m\u001b[38;5;241;43m5\u001b[39;49m\u001b[43m,\u001b[49m\u001b[38;5;241;43m65\u001b[39;49m\u001b[43m,\u001b[49m\u001b[38;5;241;43m6\u001b[39;49m\u001b[43m,\u001b[49m\u001b[38;5;241;43m6\u001b[39;49m\u001b[43m,\u001b[49m\u001b[38;5;241;43m7\u001b[39;49m\u001b[43m,\u001b[49m\u001b[38;5;241;43m7\u001b[39;49m\u001b[43m,\u001b[49m\u001b[38;5;241;43m56\u001b[39;49m\u001b[43m,\u001b[49m\u001b[38;5;241;43m67\u001b[39;49m\u001b[43m,\u001b[49m\u001b[38;5;241;43m34\u001b[39;49m\u001b[43m,\u001b[49m\u001b[38;5;241;43m54\u001b[39;49m\u001b[43m,\u001b[49m\u001b[38;5;241;43m67\u001b[39;49m\u001b[43m,\u001b[49m\u001b[38;5;241;43m78\u001b[39;49m\u001b[43m)\u001b[49m\n",
      "\u001b[1;31mTypeError\u001b[0m: test7() missing 5 required keyword-only arguments: 'a', 'b', 'c', 'd', and 'e'"
     ]
    }
   ],
   "source": [
    "test7(4,5,65,6,6,7,7,56,67,34,54,67,78)     # error because when asteric m is placed at first it is considering the all value in\n",
    "                                            # itself and there is no arguements for a,b,c,d and e"
   ]
  },
  {
   "cell_type": "code",
   "execution_count": 12,
   "id": "6dd56737",
   "metadata": {},
   "outputs": [],
   "source": [
    "# so we  can overcome this error by providing name asignement"
   ]
  },
  {
   "cell_type": "code",
   "execution_count": 13,
   "id": "6e56ddc9",
   "metadata": {},
   "outputs": [
    {
     "data": {
      "text/plain": [
       "((4, 5, 65, 6, 6, 7, 7, 56), 67, 34, 54, 67, 78)"
      ]
     },
     "execution_count": 13,
     "metadata": {},
     "output_type": "execute_result"
    }
   ],
   "source": [
    "test7(4,5,65,6,6,7,7,56,a=67,b=34,c=54,d=67,e=78)"
   ]
  },
  {
   "cell_type": "code",
   "execution_count": 14,
   "id": "62e62810",
   "metadata": {},
   "outputs": [],
   "source": [
    "def test8(**sudh):\n",
    "    return sudh"
   ]
  },
  {
   "cell_type": "code",
   "execution_count": 16,
   "id": "716da281",
   "metadata": {},
   "outputs": [
    {
     "ename": "TypeError",
     "evalue": "test8() takes 0 positional arguments but 4 were given",
     "output_type": "error",
     "traceback": [
      "\u001b[1;31m---------------------------------------------------------------------------\u001b[0m",
      "\u001b[1;31mTypeError\u001b[0m                                 Traceback (most recent call last)",
      "Input \u001b[1;32mIn [16]\u001b[0m, in \u001b[0;36m<cell line: 1>\u001b[1;34m()\u001b[0m\n\u001b[1;32m----> 1\u001b[0m \u001b[43mtest8\u001b[49m\u001b[43m(\u001b[49m\u001b[38;5;241;43m4\u001b[39;49m\u001b[43m,\u001b[49m\u001b[38;5;241;43m5\u001b[39;49m\u001b[43m,\u001b[49m\u001b[38;5;241;43m6\u001b[39;49m\u001b[43m,\u001b[49m\u001b[38;5;241;43m6\u001b[39;49m\u001b[43m)\u001b[49m\n",
      "\u001b[1;31mTypeError\u001b[0m: test8() takes 0 positional arguments but 4 were given"
     ]
    }
   ],
   "source": [
    "test8(4,5,6,6)    #error is coming because double asteric is there and it is expecting key value type data or dict kind data"
   ]
  },
  {
   "cell_type": "code",
   "execution_count": 17,
   "id": "5a434843",
   "metadata": {},
   "outputs": [
    {
     "data": {
      "text/plain": [
       "{'b': 4, 'c': 5, 'd': 6, 'o': 6}"
      ]
     },
     "execution_count": 17,
     "metadata": {},
     "output_type": "execute_result"
    }
   ],
   "source": [
    "test8(b=4,c= 5,d=6,o= 6)"
   ]
  },
  {
   "cell_type": "code",
   "execution_count": 19,
   "id": "626e9034",
   "metadata": {},
   "outputs": [],
   "source": [
    "d = {'b': 4, 'c': 5, 'd': 6, 'o': 6}"
   ]
  },
  {
   "cell_type": "code",
   "execution_count": 21,
   "id": "88bd0fde",
   "metadata": {},
   "outputs": [
    {
     "ename": "TypeError",
     "evalue": "test8() takes 0 positional arguments but 1 was given",
     "output_type": "error",
     "traceback": [
      "\u001b[1;31m---------------------------------------------------------------------------\u001b[0m",
      "\u001b[1;31mTypeError\u001b[0m                                 Traceback (most recent call last)",
      "Input \u001b[1;32mIn [21]\u001b[0m, in \u001b[0;36m<cell line: 1>\u001b[1;34m()\u001b[0m\n\u001b[1;32m----> 1\u001b[0m \u001b[43mtest8\u001b[49m\u001b[43m(\u001b[49m\u001b[43md\u001b[49m\u001b[43m)\u001b[49m\n",
      "\u001b[1;31mTypeError\u001b[0m: test8() takes 0 positional arguments but 1 was given"
     ]
    }
   ],
   "source": [
    "test8(d)   # so error will come because u have  to asign the value in key value pair"
   ]
  },
  {
   "cell_type": "code",
   "execution_count": 22,
   "id": "760eb833",
   "metadata": {},
   "outputs": [],
   "source": [
    "# so single asteric means u can take any number of variable and function will  always consider that as tuple\n",
    "# and double asteric means u will be able to dict"
   ]
  },
  {
   "cell_type": "code",
   "execution_count": 23,
   "id": "ee59cee0",
   "metadata": {},
   "outputs": [],
   "source": [
    "def test9(*n,**s):\n",
    "    return n, s"
   ]
  },
  {
   "cell_type": "code",
   "execution_count": 24,
   "id": "4f611bdc",
   "metadata": {},
   "outputs": [
    {
     "data": {
      "text/plain": [
       "((345, 45, 56, 5, 6, 56), {'b': 4, 'c': 6, 'd': 7, 'g': 9})"
      ]
     },
     "execution_count": 24,
     "metadata": {},
     "output_type": "execute_result"
    }
   ],
   "source": [
    "test9(345,45,56,5,6,56,b=4,c=6,d=7,g=9)"
   ]
  },
  {
   "cell_type": "code",
   "execution_count": 1,
   "id": "c8807d30",
   "metadata": {},
   "outputs": [],
   "source": [
    "def ojha(*a):\n",
    "    l= []\n",
    "    for i in a:\n",
    "        l.append(i)\n",
    "    return l"
   ]
  },
  {
   "cell_type": "code",
   "execution_count": 2,
   "id": "903df2d7",
   "metadata": {},
   "outputs": [
    {
     "data": {
      "text/plain": [
       "['kumar', 1, 2, 3, 4, [6, 5, 4, 3]]"
      ]
     },
     "execution_count": 2,
     "metadata": {},
     "output_type": "execute_result"
    }
   ],
   "source": [
    "ojha(\"kumar\",1,2,3,4,[6,5,4,3])"
   ]
  },
  {
   "cell_type": "code",
   "execution_count": 3,
   "id": "52d42b94",
   "metadata": {},
   "outputs": [],
   "source": [
    "def ojha1(*k,**m):\n",
    "    return k,m"
   ]
  },
  {
   "cell_type": "code",
   "execution_count": 5,
   "id": "2f8ffe89",
   "metadata": {},
   "outputs": [
    {
     "data": {
      "text/plain": [
       "((1, 2, 3, 4, 5), {'a': 8, 'b': 5, 'c': 7, 'd': 4})"
      ]
     },
     "execution_count": 5,
     "metadata": {},
     "output_type": "execute_result"
    }
   ],
   "source": [
    "ojha1(1,2,3,4,5, a=8,b=5,c=7,d=4)"
   ]
  },
  {
   "cell_type": "code",
   "execution_count": 13,
   "id": "9c19aeac",
   "metadata": {},
   "outputs": [],
   "source": [
    "def test10(*m):\n",
    "    n= 0\n",
    "    for i in m:\n",
    "        if type(i) == int:\n",
    "            n= n+i\n",
    "    return n\n",
    "            "
   ]
  },
  {
   "cell_type": "code",
   "execution_count": 14,
   "id": "474b4ad3",
   "metadata": {},
   "outputs": [
    {
     "data": {
      "text/plain": [
       "9"
      ]
     },
     "execution_count": 14,
     "metadata": {},
     "output_type": "execute_result"
    }
   ],
   "source": [
    "test10(2,3,4)"
   ]
  },
  {
   "cell_type": "code",
   "execution_count": 3,
   "id": "5afc2e65",
   "metadata": {},
   "outputs": [],
   "source": [
    "def nice(*b):\n",
    "    a= 0\n",
    "    l= []\n",
    "    for i in b:\n",
    "        if type== int:\n",
    "            l.append(i)\n",
    "        a=a+i\n",
    "    return a"
   ]
  },
  {
   "cell_type": "code",
   "execution_count": 4,
   "id": "0ad12f1f",
   "metadata": {},
   "outputs": [
    {
     "data": {
      "text/plain": [
       "15"
      ]
     },
     "execution_count": 4,
     "metadata": {},
     "output_type": "execute_result"
    }
   ],
   "source": [
    "nice(4,5,6)"
   ]
  },
  {
   "cell_type": "code",
   "execution_count": 5,
   "id": "4dff9c65",
   "metadata": {},
   "outputs": [],
   "source": [
    "# take care of indentation"
   ]
  },
  {
   "cell_type": "code",
   "execution_count": 6,
   "id": "2af98565",
   "metadata": {},
   "outputs": [],
   "source": [
    "# so above function is for sumation of all int value given on run time"
   ]
  },
  {
   "cell_type": "code",
   "execution_count": 8,
   "id": "4db8ae8d",
   "metadata": {},
   "outputs": [],
   "source": [
    "# so i can create same function for multiplication   but make sure to take value of a =1 not zero,zero is taken during sumation"
   ]
  },
  {
   "cell_type": "code",
   "execution_count": 9,
   "id": "95cbcd09",
   "metadata": {},
   "outputs": [],
   "source": [
    "def test(*v):\n",
    "    a= 1\n",
    "    l= []\n",
    "    for i in v:\n",
    "        if type(i)==int:\n",
    "            l.append(i)\n",
    "        a=a*i\n",
    "    return a"
   ]
  },
  {
   "cell_type": "code",
   "execution_count": 10,
   "id": "7222eef1",
   "metadata": {},
   "outputs": [
    {
     "data": {
      "text/plain": [
       "20"
      ]
     },
     "execution_count": 10,
     "metadata": {},
     "output_type": "execute_result"
    }
   ],
   "source": [
    "test(4,5)"
   ]
  },
  {
   "cell_type": "code",
   "execution_count": 11,
   "id": "3dc5a283",
   "metadata": {},
   "outputs": [
    {
     "data": {
      "text/plain": [
       "10.0"
      ]
     },
     "execution_count": 11,
     "metadata": {},
     "output_type": "execute_result"
    }
   ],
   "source": [
    "test(2.5,4)"
   ]
  },
  {
   "cell_type": "code",
   "execution_count": 21,
   "id": "7c134933",
   "metadata": {},
   "outputs": [],
   "source": [
    "def test1(*v):\n",
    "    a= 0\n",
    "    l= []\n",
    "    for i in v:\n",
    "        if type(i)==int:\n",
    "            l.append(i)\n",
    "        a=i-a\n",
    "    return a"
   ]
  },
  {
   "cell_type": "code",
   "execution_count": 22,
   "id": "d24ab934",
   "metadata": {},
   "outputs": [
    {
     "data": {
      "text/plain": [
       "-2"
      ]
     },
     "execution_count": 22,
     "metadata": {},
     "output_type": "execute_result"
    }
   ],
   "source": [
    "test1(5,3)   # will learn later how to create sub function"
   ]
  },
  {
   "cell_type": "code",
   "execution_count": 24,
   "id": "f1e24dbd",
   "metadata": {},
   "outputs": [],
   "source": [
    "# lambda or anonymous function or in line function"
   ]
  },
  {
   "cell_type": "code",
   "execution_count": 25,
   "id": "48fc41ed",
   "metadata": {},
   "outputs": [],
   "source": [
    "n= lambda a,b:a+b"
   ]
  },
  {
   "cell_type": "code",
   "execution_count": 26,
   "id": "c6428831",
   "metadata": {},
   "outputs": [
    {
     "data": {
      "text/plain": [
       "9"
      ]
     },
     "execution_count": 26,
     "metadata": {},
     "output_type": "execute_result"
    }
   ],
   "source": [
    "n(4,5)"
   ]
  },
  {
   "cell_type": "code",
   "execution_count": 27,
   "id": "8040a12e",
   "metadata": {},
   "outputs": [],
   "source": [
    "def test1(a,b):\n",
    "    return a+b"
   ]
  },
  {
   "cell_type": "code",
   "execution_count": 28,
   "id": "0f4e6ed2",
   "metadata": {},
   "outputs": [
    {
     "data": {
      "text/plain": [
       "9"
      ]
     },
     "execution_count": 28,
     "metadata": {},
     "output_type": "execute_result"
    }
   ],
   "source": [
    "test1(4,5)"
   ]
  },
  {
   "cell_type": "code",
   "execution_count": 29,
   "id": "056d7d7d",
   "metadata": {},
   "outputs": [],
   "source": [
    "# so in the above we use lambda to create same function as created below "
   ]
  },
  {
   "cell_type": "code",
   "execution_count": 31,
   "id": "5cd83464",
   "metadata": {},
   "outputs": [],
   "source": [
    "# so lambda is called anonymous fucnction as no name is given for this function.it is a function without a name"
   ]
  },
  {
   "cell_type": "code",
   "execution_count": 32,
   "id": "73c46573",
   "metadata": {},
   "outputs": [],
   "source": [
    "# generally we avoid lambda function for writting complex code but simpler one we can use it"
   ]
  },
  {
   "cell_type": "code",
   "execution_count": 33,
   "id": "ac9dc7e1",
   "metadata": {},
   "outputs": [
    {
     "data": {
      "text/plain": [
       "11"
      ]
     },
     "execution_count": 33,
     "metadata": {},
     "output_type": "execute_result"
    }
   ],
   "source": [
    "n(6,5)"
   ]
  },
  {
   "cell_type": "code",
   "execution_count": 34,
   "id": "f74324d3",
   "metadata": {},
   "outputs": [],
   "source": [
    "c=lambda a,b:a*b"
   ]
  },
  {
   "cell_type": "code",
   "execution_count": 35,
   "id": "8efa92a0",
   "metadata": {},
   "outputs": [
    {
     "data": {
      "text/plain": [
       "42"
      ]
     },
     "execution_count": 35,
     "metadata": {},
     "output_type": "execute_result"
    }
   ],
   "source": [
    "c(7,6)"
   ]
  },
  {
   "cell_type": "code",
   "execution_count": 36,
   "id": "220afa64",
   "metadata": {},
   "outputs": [],
   "source": [
    "b= lambda *sudh:sudh"
   ]
  },
  {
   "cell_type": "code",
   "execution_count": 37,
   "id": "1ecaa180",
   "metadata": {},
   "outputs": [
    {
     "data": {
      "text/plain": [
       "(45, 5, 4, 5, 5, 6, 667)"
      ]
     },
     "execution_count": 37,
     "metadata": {},
     "output_type": "execute_result"
    }
   ],
   "source": [
    "b(45,5,4,5,5,6,667)"
   ]
  },
  {
   "cell_type": "code",
   "execution_count": 38,
   "id": "d41e806c",
   "metadata": {},
   "outputs": [],
   "source": [
    "# comprehension operation"
   ]
  },
  {
   "cell_type": "code",
   "execution_count": 39,
   "id": "0ceec5d6",
   "metadata": {},
   "outputs": [],
   "source": [
    "t=(3,4,4,5,5,6,67,7,7)"
   ]
  },
  {
   "cell_type": "code",
   "execution_count": 40,
   "id": "6b3d510b",
   "metadata": {},
   "outputs": [
    {
     "data": {
      "text/plain": [
       "[3, 4, 4, 5, 5, 6, 67, 7, 7]"
      ]
     },
     "execution_count": 40,
     "metadata": {},
     "output_type": "execute_result"
    }
   ],
   "source": [
    "list(t)"
   ]
  },
  {
   "cell_type": "code",
   "execution_count": 41,
   "id": "d648f0c5",
   "metadata": {},
   "outputs": [
    {
     "data": {
      "text/plain": [
       "(3, 4, 4, 5, 5, 6, 67, 7, 7)"
      ]
     },
     "execution_count": 41,
     "metadata": {},
     "output_type": "execute_result"
    }
   ],
   "source": [
    "t"
   ]
  },
  {
   "cell_type": "code",
   "execution_count": 42,
   "id": "bc151d3a",
   "metadata": {},
   "outputs": [
    {
     "ename": "SyntaxError",
     "evalue": "cannot assign to function call (3452139137.py, line 1)",
     "output_type": "error",
     "traceback": [
      "\u001b[1;36m  Input \u001b[1;32mIn [42]\u001b[1;36m\u001b[0m\n\u001b[1;33m    list(t)=f\u001b[0m\n\u001b[1;37m    ^\u001b[0m\n\u001b[1;31mSyntaxError\u001b[0m\u001b[1;31m:\u001b[0m cannot assign to function call\n"
     ]
    }
   ],
   "source": [
    "list(t)=f"
   ]
  },
  {
   "cell_type": "code",
   "execution_count": 43,
   "id": "14d67398",
   "metadata": {},
   "outputs": [],
   "source": [
    "f= list(t)"
   ]
  },
  {
   "cell_type": "code",
   "execution_count": 44,
   "id": "1a822a25",
   "metadata": {},
   "outputs": [
    {
     "data": {
      "text/plain": [
       "[3, 4, 4, 5, 5, 6, 67, 7, 7]"
      ]
     },
     "execution_count": 44,
     "metadata": {},
     "output_type": "execute_result"
    }
   ],
   "source": [
    "f"
   ]
  },
  {
   "cell_type": "code",
   "execution_count": 45,
   "id": "70494244",
   "metadata": {},
   "outputs": [],
   "source": [
    "# now without using list function it can also be converted into list"
   ]
  },
  {
   "cell_type": "code",
   "execution_count": 46,
   "id": "2f5d1b06",
   "metadata": {},
   "outputs": [],
   "source": [
    "t=(3,4,4,5,5,6,67,7,7)\n",
    "l=[]\n",
    "for i in t:\n",
    "    l.append(i)"
   ]
  },
  {
   "cell_type": "code",
   "execution_count": 47,
   "id": "d9a0cc65",
   "metadata": {},
   "outputs": [
    {
     "data": {
      "text/plain": [
       "[3, 4, 4, 5, 5, 6, 67, 7, 7]"
      ]
     },
     "execution_count": 47,
     "metadata": {},
     "output_type": "execute_result"
    }
   ],
   "source": [
    "l"
   ]
  },
  {
   "cell_type": "code",
   "execution_count": 48,
   "id": "128a4858",
   "metadata": {},
   "outputs": [],
   "source": [
    "# comprehension operation"
   ]
  },
  {
   "cell_type": "code",
   "execution_count": 49,
   "id": "d58ceadb",
   "metadata": {},
   "outputs": [],
   "source": [
    "t=(3,4,4,5,5,6,67,7,7)"
   ]
  },
  {
   "cell_type": "code",
   "execution_count": 51,
   "id": "9d27a681",
   "metadata": {},
   "outputs": [
    {
     "data": {
      "text/plain": [
       "[3, 4, 4, 5, 5, 6, 67, 7, 7]"
      ]
     },
     "execution_count": 51,
     "metadata": {},
     "output_type": "execute_result"
    }
   ],
   "source": [
    "[ i for  i in t]    # for i in t return i, i will be in left"
   ]
  },
  {
   "cell_type": "code",
   "execution_count": 52,
   "id": "36782bfd",
   "metadata": {},
   "outputs": [],
   "source": [
    "s = \"sudh\""
   ]
  },
  {
   "cell_type": "code",
   "execution_count": 53,
   "id": "9142129d",
   "metadata": {},
   "outputs": [
    {
     "data": {
      "text/plain": [
       "['s', 'u', 'd', 'h']"
      ]
     },
     "execution_count": 53,
     "metadata": {},
     "output_type": "execute_result"
    }
   ],
   "source": [
    "[ i for i in s]"
   ]
  },
  {
   "cell_type": "code",
   "execution_count": 54,
   "id": "bfc553e2",
   "metadata": {},
   "outputs": [],
   "source": [
    "# now if i want to get same result without comprehension operation then loop or list function  can be used"
   ]
  },
  {
   "cell_type": "code",
   "execution_count": 2,
   "id": "fc2410cb",
   "metadata": {},
   "outputs": [],
   "source": [
    "def test(*a):\n",
    "    n=0\n",
    "    for i in a:\n",
    "        if type(i)==int:\n",
    "            n=n+i\n",
    "    return n"
   ]
  },
  {
   "cell_type": "code",
   "execution_count": 3,
   "id": "356c42a3",
   "metadata": {},
   "outputs": [
    {
     "data": {
      "text/plain": [
       "13"
      ]
     },
     "execution_count": 3,
     "metadata": {},
     "output_type": "execute_result"
    }
   ],
   "source": [
    "test(6,7)"
   ]
  },
  {
   "cell_type": "code",
   "execution_count": 5,
   "id": "4e56324c",
   "metadata": {},
   "outputs": [],
   "source": [
    "def test1(*a):\n",
    "    n=1\n",
    "    for i in a:\n",
    "        if type(i)==int:\n",
    "            n=n*i\n",
    "    return n"
   ]
  },
  {
   "cell_type": "code",
   "execution_count": 6,
   "id": "a76f8888",
   "metadata": {},
   "outputs": [
    {
     "data": {
      "text/plain": [
       "20"
      ]
     },
     "execution_count": 6,
     "metadata": {},
     "output_type": "execute_result"
    }
   ],
   "source": [
    "test1(5,4)"
   ]
  },
  {
   "cell_type": "code",
   "execution_count": 7,
   "id": "74ab29c1",
   "metadata": {},
   "outputs": [],
   "source": [
    "f=lambda a,b:a+b"
   ]
  },
  {
   "cell_type": "code",
   "execution_count": 8,
   "id": "84cd4e4e",
   "metadata": {},
   "outputs": [
    {
     "data": {
      "text/plain": [
       "9"
      ]
     },
     "execution_count": 8,
     "metadata": {},
     "output_type": "execute_result"
    }
   ],
   "source": [
    "f(4,5)"
   ]
  },
  {
   "cell_type": "code",
   "execution_count": 9,
   "id": "ee164966",
   "metadata": {},
   "outputs": [],
   "source": [
    "v= lambda a,b:a*b"
   ]
  },
  {
   "cell_type": "code",
   "execution_count": 10,
   "id": "1491734e",
   "metadata": {},
   "outputs": [
    {
     "ename": "TypeError",
     "evalue": "<lambda>() takes 2 positional arguments but 3 were given",
     "output_type": "error",
     "traceback": [
      "\u001b[1;31m---------------------------------------------------------------------------\u001b[0m",
      "\u001b[1;31mTypeError\u001b[0m                                 Traceback (most recent call last)",
      "Input \u001b[1;32mIn [10]\u001b[0m, in \u001b[0;36m<cell line: 1>\u001b[1;34m()\u001b[0m\n\u001b[1;32m----> 1\u001b[0m \u001b[43mv\u001b[49m\u001b[43m(\u001b[49m\u001b[38;5;241;43m3\u001b[39;49m\u001b[43m,\u001b[49m\u001b[38;5;241;43m4\u001b[39;49m\u001b[43m,\u001b[49m\u001b[38;5;241;43m5\u001b[39;49m\u001b[43m)\u001b[49m\n",
      "\u001b[1;31mTypeError\u001b[0m: <lambda>() takes 2 positional arguments but 3 were given"
     ]
    }
   ],
   "source": [
    "v(3,4,5)"
   ]
  },
  {
   "cell_type": "code",
   "execution_count": 11,
   "id": "35fa34a8",
   "metadata": {},
   "outputs": [],
   "source": [
    "b=lambda a,b,c:a*b*c"
   ]
  },
  {
   "cell_type": "code",
   "execution_count": 12,
   "id": "f4c0f7d4",
   "metadata": {},
   "outputs": [
    {
     "data": {
      "text/plain": [
       "60"
      ]
     },
     "execution_count": 12,
     "metadata": {},
     "output_type": "execute_result"
    }
   ],
   "source": [
    "b(3,4,5)"
   ]
  },
  {
   "cell_type": "code",
   "execution_count": 13,
   "id": "a7142dc8",
   "metadata": {},
   "outputs": [],
   "source": [
    "t=(3,4,4,5,5,6,67,7,7)"
   ]
  },
  {
   "cell_type": "code",
   "execution_count": 14,
   "id": "a2c66efd",
   "metadata": {},
   "outputs": [
    {
     "data": {
      "text/plain": [
       "[3, 4, 4, 5, 5, 6, 67, 7, 7]"
      ]
     },
     "execution_count": 14,
     "metadata": {},
     "output_type": "execute_result"
    }
   ],
   "source": [
    "[i for i in t]"
   ]
  },
  {
   "cell_type": "code",
   "execution_count": 15,
   "id": "fb67dbfc",
   "metadata": {},
   "outputs": [],
   "source": [
    "s= \"sudh\""
   ]
  },
  {
   "cell_type": "code",
   "execution_count": 16,
   "id": "e4164133",
   "metadata": {},
   "outputs": [
    {
     "data": {
      "text/plain": [
       "['s', 'u', 'd', 'h']"
      ]
     },
     "execution_count": 16,
     "metadata": {},
     "output_type": "execute_result"
    }
   ],
   "source": [
    "[i for i in s]"
   ]
  },
  {
   "cell_type": "code",
   "execution_count": 18,
   "id": "ae668ff6",
   "metadata": {},
   "outputs": [],
   "source": [
    "# generate list square of each number till 10?"
   ]
  },
  {
   "cell_type": "code",
   "execution_count": 19,
   "id": "a0a8030d",
   "metadata": {},
   "outputs": [
    {
     "data": {
      "text/plain": [
       "[0, 1, 4, 9, 16, 25, 36, 49, 64, 81]"
      ]
     },
     "execution_count": 19,
     "metadata": {},
     "output_type": "execute_result"
    }
   ],
   "source": [
    "[i*i for i in range(10)]"
   ]
  },
  {
   "cell_type": "code",
   "execution_count": 21,
   "id": "b07b8b10",
   "metadata": {},
   "outputs": [
    {
     "name": "stdout",
     "output_type": "stream",
     "text": [
      "0 1 4 9 16 25 36 49 64 81 "
     ]
    }
   ],
   "source": [
    "for i in range(10):\n",
    "    print(i*i,end=\" \")"
   ]
  },
  {
   "cell_type": "code",
   "execution_count": 23,
   "id": "48b7005e",
   "metadata": {},
   "outputs": [
    {
     "name": "stdout",
     "output_type": "stream",
     "text": [
      "0 1 4 9 16 25 36 49 64 81 "
     ]
    }
   ],
   "source": [
    "for i in range(10):\n",
    "    i=i*i\n",
    "    print(i,end=\" \")"
   ]
  },
  {
   "cell_type": "code",
   "execution_count": 24,
   "id": "9b689fa6",
   "metadata": {},
   "outputs": [],
   "source": [
    "# now  i want the square in the list"
   ]
  },
  {
   "cell_type": "code",
   "execution_count": 33,
   "id": "332b296f",
   "metadata": {},
   "outputs": [],
   "source": [
    "for i in range(10):\n",
    "    l=[]\n",
    "    i=i*i\n",
    "    l.append(i)"
   ]
  },
  {
   "cell_type": "code",
   "execution_count": 35,
   "id": "c8059a30",
   "metadata": {},
   "outputs": [
    {
     "data": {
      "text/plain": [
       "[6561]"
      ]
     },
     "execution_count": 35,
     "metadata": {},
     "output_type": "execute_result"
    }
   ],
   "source": [
    "l   # wrong way to do"
   ]
  },
  {
   "cell_type": "code",
   "execution_count": 36,
   "id": "cfba185f",
   "metadata": {},
   "outputs": [],
   "source": [
    "l=[]\n",
    "for i in range(10):\n",
    "    l.append(i*i)"
   ]
  },
  {
   "cell_type": "code",
   "execution_count": 37,
   "id": "f0bcff6b",
   "metadata": {},
   "outputs": [
    {
     "data": {
      "text/plain": [
       "[0, 1, 4, 9, 16, 25, 36, 49, 64, 81]"
      ]
     },
     "execution_count": 37,
     "metadata": {},
     "output_type": "execute_result"
    }
   ],
   "source": [
    "l"
   ]
  },
  {
   "cell_type": "code",
   "execution_count": 42,
   "id": "c717c353",
   "metadata": {},
   "outputs": [
    {
     "name": "stdout",
     "output_type": "stream",
     "text": [
      "[0]\n",
      "[1]\n",
      "[4]\n",
      "[9]\n",
      "[16]\n",
      "[25]\n",
      "[36]\n",
      "[49]\n",
      "[64]\n",
      "[81]\n"
     ]
    }
   ],
   "source": [
    "for i in range(10):\n",
    "    print(list([i*i]))"
   ]
  },
  {
   "cell_type": "code",
   "execution_count": 43,
   "id": "340c0c07",
   "metadata": {},
   "outputs": [],
   "source": [
    "# line 36 is the right way to obtained the list of square number"
   ]
  },
  {
   "cell_type": "code",
   "execution_count": 2,
   "id": "20e0acd7",
   "metadata": {},
   "outputs": [],
   "source": [
    "# so comoprehension operation will return the list "
   ]
  },
  {
   "cell_type": "code",
   "execution_count": 3,
   "id": "3c8d1555",
   "metadata": {},
   "outputs": [],
   "source": [
    "l= lambda *x : [  i for i in x]"
   ]
  },
  {
   "cell_type": "code",
   "execution_count": 4,
   "id": "0676b401",
   "metadata": {},
   "outputs": [
    {
     "data": {
      "text/plain": [
       "[4, 45, 5, 6, 6, 7, 8, 9]"
      ]
     },
     "execution_count": 4,
     "metadata": {},
     "output_type": "execute_result"
    }
   ],
   "source": [
    "l(4,45,5,6,6,7,8,9)"
   ]
  },
  {
   "cell_type": "code",
   "execution_count": 7,
   "id": "1b1a982b",
   "metadata": {},
   "outputs": [],
   "source": [
    "l= lambda *x : [  i*i for i in x]    # if i am looking for square of every number that i give"
   ]
  },
  {
   "cell_type": "code",
   "execution_count": 6,
   "id": "d22fca20",
   "metadata": {},
   "outputs": [
    {
     "data": {
      "text/plain": [
       "[16, 2025, 25, 36, 36, 49, 64, 81]"
      ]
     },
     "execution_count": 6,
     "metadata": {},
     "output_type": "execute_result"
    }
   ],
   "source": [
    "l(4,45,5,6,6,7,8,9)"
   ]
  },
  {
   "cell_type": "code",
   "execution_count": 9,
   "id": "65f341fc",
   "metadata": {},
   "outputs": [],
   "source": [
    "l= lambda *x : [  i**2 for i in x]    # if i am looking for square of every number that i give  , here double asteric means square"
   ]
  },
  {
   "cell_type": "code",
   "execution_count": 10,
   "id": "6a51bd71",
   "metadata": {},
   "outputs": [
    {
     "data": {
      "text/plain": [
       "[4, 9, 16, 25, 36, 49]"
      ]
     },
     "execution_count": 10,
     "metadata": {},
     "output_type": "execute_result"
    }
   ],
   "source": [
    "l(2,3,4,5,6,7)"
   ]
  },
  {
   "cell_type": "code",
   "execution_count": 13,
   "id": "a79172ea",
   "metadata": {},
   "outputs": [
    {
     "ename": "NameError",
     "evalue": "name 'test1' is not defined",
     "output_type": "error",
     "traceback": [
      "\u001b[1;31m---------------------------------------------------------------------------\u001b[0m",
      "\u001b[1;31mNameError\u001b[0m                                 Traceback (most recent call last)",
      "Input \u001b[1;32mIn [13]\u001b[0m, in \u001b[0;36m<cell line: 1>\u001b[1;34m()\u001b[0m\n\u001b[1;32m----> 1\u001b[0m \u001b[43mtest1\u001b[49m(a\u001b[38;5;241m=\u001b[39m\u001b[38;5;241m7\u001b[39m,b\u001b[38;5;241m=\u001b[39m\u001b[38;5;124m\"\u001b[39m\u001b[38;5;124msudh\u001b[39m\u001b[38;5;124m\"\u001b[39m,c\u001b[38;5;241m=\u001b[39m\u001b[38;5;241m345\u001b[39m,d\u001b[38;5;241m=\u001b[39m\u001b[38;5;124m\"\u001b[39m\u001b[38;5;124msudh\u001b[39m\u001b[38;5;124m\"\u001b[39m, l\u001b[38;5;241m=\u001b[39m[\u001b[38;5;241m2\u001b[39m,\u001b[38;5;241m3\u001b[39m,\u001b[38;5;241m4\u001b[39m,\u001b[38;5;241m45\u001b[39m,\u001b[38;5;124m\"\u001b[39m\u001b[38;5;124msudh\u001b[39m\u001b[38;5;124m\"\u001b[39m])\n",
      "\u001b[1;31mNameError\u001b[0m: name 'test1' is not defined"
     ]
    }
   ],
   "source": [
    "test1(a=7,b=\"sudh\",c=345,d=\"sudh\", l=[2,3,4,45,\"sudh\"])"
   ]
  },
  {
   "cell_type": "code",
   "execution_count": 1,
   "id": "f3ec0f78",
   "metadata": {},
   "outputs": [
    {
     "ename": "NameError",
     "evalue": "name 'test1' is not defined",
     "output_type": "error",
     "traceback": [
      "\u001b[1;31m---------------------------------------------------------------------------\u001b[0m",
      "\u001b[1;31mNameError\u001b[0m                                 Traceback (most recent call last)",
      "Input \u001b[1;32mIn [1]\u001b[0m, in \u001b[0;36m<cell line: 1>\u001b[1;34m()\u001b[0m\n\u001b[1;32m----> 1\u001b[0m \u001b[43mtest1\u001b[49m(a\u001b[38;5;241m=\u001b[39m\u001b[38;5;241m7\u001b[39m,b\u001b[38;5;241m=\u001b[39m\u001b[38;5;124m\"\u001b[39m\u001b[38;5;124msudh\u001b[39m\u001b[38;5;124m\"\u001b[39m,c\u001b[38;5;241m=\u001b[39m\u001b[38;5;241m345\u001b[39m,d\u001b[38;5;241m=\u001b[39m\u001b[38;5;124m\"\u001b[39m\u001b[38;5;124msudh\u001b[39m\u001b[38;5;124m\"\u001b[39m, l\u001b[38;5;241m=\u001b[39m[\u001b[38;5;241m2\u001b[39m,\u001b[38;5;241m3\u001b[39m,\u001b[38;5;241m4\u001b[39m,\u001b[38;5;241m45\u001b[39m,\u001b[38;5;124m\"\u001b[39m\u001b[38;5;124msudh\u001b[39m\u001b[38;5;124m\"\u001b[39m])\n",
      "\u001b[1;31mNameError\u001b[0m: name 'test1' is not defined"
     ]
    }
   ],
   "source": [
    "test1(a=7,b=\"sudh\",c=345,d=\"sudh\", l=[2,3,4,45,\"sudh\"])"
   ]
  },
  {
   "cell_type": "code",
   "execution_count": 4,
   "id": "6b1a73a1",
   "metadata": {},
   "outputs": [
    {
     "ename": "NameError",
     "evalue": "name 'test14' is not defined",
     "output_type": "error",
     "traceback": [
      "\u001b[1;31m---------------------------------------------------------------------------\u001b[0m",
      "\u001b[1;31mNameError\u001b[0m                                 Traceback (most recent call last)",
      "Input \u001b[1;32mIn [4]\u001b[0m, in \u001b[0;36m<cell line: 1>\u001b[1;34m()\u001b[0m\n\u001b[1;32m----> 1\u001b[0m \u001b[43mtest14\u001b[49m(a \u001b[38;5;241m=\u001b[39m \u001b[38;5;241m7\u001b[39m ,b \u001b[38;5;241m=\u001b[39m \u001b[38;5;124m\"\u001b[39m\u001b[38;5;124msudh\u001b[39m\u001b[38;5;124m\"\u001b[39m , c \u001b[38;5;241m=\u001b[39m \u001b[38;5;241m345\u001b[39m , d \u001b[38;5;241m=\u001b[39m \u001b[38;5;124m\"\u001b[39m\u001b[38;5;124msudh\u001b[39m\u001b[38;5;124m\"\u001b[39m , l \u001b[38;5;241m=\u001b[39m [\u001b[38;5;241m2\u001b[39m,\u001b[38;5;241m3\u001b[39m,\u001b[38;5;241m4\u001b[39m,\u001b[38;5;241m45\u001b[39m, \u001b[38;5;124m\"\u001b[39m\u001b[38;5;124msudh\u001b[39m\u001b[38;5;124m\"\u001b[39m])\n",
      "\u001b[1;31mNameError\u001b[0m: name 'test14' is not defined"
     ]
    }
   ],
   "source": [
    "test14(a = 7 ,b = \"sudh\" , c = 345 , d = \"sudh\" , l = [2,3,4,45, \"sudh\"])"
   ]
  },
  {
   "cell_type": "code",
   "execution_count": 1,
   "id": "f3a053a4",
   "metadata": {},
   "outputs": [
    {
     "ename": "NameError",
     "evalue": "name 'test14' is not defined",
     "output_type": "error",
     "traceback": [
      "\u001b[1;31m---------------------------------------------------------------------------\u001b[0m",
      "\u001b[1;31mNameError\u001b[0m                                 Traceback (most recent call last)",
      "Input \u001b[1;32mIn [1]\u001b[0m, in \u001b[0;36m<cell line: 1>\u001b[1;34m()\u001b[0m\n\u001b[1;32m----> 1\u001b[0m \u001b[43mtest14\u001b[49m(a \u001b[38;5;241m=\u001b[39m \u001b[38;5;241m7\u001b[39m ,b \u001b[38;5;241m=\u001b[39m \u001b[38;5;124m\"\u001b[39m\u001b[38;5;124msudh\u001b[39m\u001b[38;5;124m\"\u001b[39m , c \u001b[38;5;241m=\u001b[39m \u001b[38;5;241m345\u001b[39m , d \u001b[38;5;241m=\u001b[39m \u001b[38;5;124m\"\u001b[39m\u001b[38;5;124msudh\u001b[39m\u001b[38;5;124m\"\u001b[39m , l \u001b[38;5;241m=\u001b[39m [\u001b[38;5;241m2\u001b[39m,\u001b[38;5;241m3\u001b[39m,\u001b[38;5;241m4\u001b[39m,\u001b[38;5;241m45\u001b[39m, \u001b[38;5;124m\"\u001b[39m\u001b[38;5;124msudh\u001b[39m\u001b[38;5;124m\"\u001b[39m])\n",
      "\u001b[1;31mNameError\u001b[0m: name 'test14' is not defined"
     ]
    }
   ],
   "source": [
    "test14(a = 7 ,b = \"sudh\" , c = 345 , d = \"sudh\" , l = [2,3,4,45, \"sudh\"])"
   ]
  },
  {
   "cell_type": "code",
   "execution_count": 1,
   "id": "84d04cda",
   "metadata": {},
   "outputs": [
    {
     "ename": "NameError",
     "evalue": "name 'test14' is not defined",
     "output_type": "error",
     "traceback": [
      "\u001b[1;31m---------------------------------------------------------------------------\u001b[0m",
      "\u001b[1;31mNameError\u001b[0m                                 Traceback (most recent call last)",
      "Input \u001b[1;32mIn [1]\u001b[0m, in \u001b[0;36m<cell line: 1>\u001b[1;34m()\u001b[0m\n\u001b[1;32m----> 1\u001b[0m \u001b[43mtest14\u001b[49m(a \u001b[38;5;241m=\u001b[39m \u001b[38;5;241m7\u001b[39m , b \u001b[38;5;241m=\u001b[39m \u001b[38;5;124m\"\u001b[39m\u001b[38;5;124msudh\u001b[39m\u001b[38;5;124m\"\u001b[39m , c \u001b[38;5;241m=\u001b[39m \u001b[38;5;241m345\u001b[39m , d \u001b[38;5;241m=\u001b[39m \u001b[38;5;124m\"\u001b[39m\u001b[38;5;124msudh\u001b[39m\u001b[38;5;124m\"\u001b[39m , l \u001b[38;5;241m=\u001b[39m [\u001b[38;5;241m2\u001b[39m,\u001b[38;5;241m3\u001b[39m,\u001b[38;5;241m4\u001b[39m,\u001b[38;5;241m45\u001b[39m, \u001b[38;5;124m\"\u001b[39m\u001b[38;5;124msudh\u001b[39m\u001b[38;5;124m\"\u001b[39m])\n",
      "\u001b[1;31mNameError\u001b[0m: name 'test14' is not defined"
     ]
    }
   ],
   "source": [
    "test14(a = 7 , b = \"sudh\" , c = 345 , d = \"sudh\" , l = [2,3,4,45, \"sudh\"])"
   ]
  },
  {
   "cell_type": "code",
   "execution_count": 8,
   "id": "9f0f7cce",
   "metadata": {},
   "outputs": [
    {
     "data": {
      "text/plain": [
       "3"
      ]
     },
     "execution_count": 8,
     "metadata": {},
     "output_type": "execute_result"
    }
   ],
   "source": [
    "test14(a = 7 , b = \"sudh\" , c = 345 , d = \"sudh\" , l = [2,3,4,45, \"sudh\"])   # error because i was trying to call the function\n",
    "# without definig it"
   ]
  },
  {
   "cell_type": "code",
   "execution_count": 5,
   "id": "6da66a12",
   "metadata": {},
   "outputs": [
    {
     "ename": "NameError",
     "evalue": "name 'test14' is not defined",
     "output_type": "error",
     "traceback": [
      "\u001b[1;31m---------------------------------------------------------------------------\u001b[0m",
      "\u001b[1;31mNameError\u001b[0m                                 Traceback (most recent call last)",
      "Input \u001b[1;32mIn [5]\u001b[0m, in \u001b[0;36m<cell line: 1>\u001b[1;34m()\u001b[0m\n\u001b[1;32m----> 1\u001b[0m \u001b[43mtest14\u001b[49m(a \u001b[38;5;241m=\u001b[39m \u001b[38;5;241m7\u001b[39m , b \u001b[38;5;241m=\u001b[39m \u001b[38;5;124m\"\u001b[39m\u001b[38;5;124msudh\u001b[39m\u001b[38;5;124m\"\u001b[39m , c \u001b[38;5;241m=\u001b[39m \u001b[38;5;241m345\u001b[39m , d \u001b[38;5;241m=\u001b[39m \u001b[38;5;124m\"\u001b[39m\u001b[38;5;124msudh\u001b[39m\u001b[38;5;124m\"\u001b[39m , l \u001b[38;5;241m=\u001b[39m [\u001b[38;5;241m2\u001b[39m,\u001b[38;5;241m3\u001b[39m,\u001b[38;5;241m4\u001b[39m,\u001b[38;5;241m45\u001b[39m, \u001b[38;5;124m\"\u001b[39m\u001b[38;5;124msudh\u001b[39m\u001b[38;5;124m\"\u001b[39m])\n\u001b[0;32m      2\u001b[0m \u001b[38;5;66;03m# create a function to count the number of string in test14\u001b[39;00m\n\u001b[0;32m      3\u001b[0m \u001b[38;5;28;01mdef\u001b[39;00m \u001b[38;5;21mtest14\u001b[39m(\u001b[38;5;241m*\u001b[39m\u001b[38;5;241m*\u001b[39mkwargs):\n",
      "\u001b[1;31mNameError\u001b[0m: name 'test14' is not defined"
     ]
    }
   ],
   "source": [
    "test14(a = 7 , b = \"sudh\" , c = 345 , d = \"sudh\" , l = [2,3,4,45, \"sudh\"])\n",
    "# create a function to count the number of string in test14\n",
    "def test14(**kwargs):\n",
    "    count = 0\n",
    "    for i in kwargs.values():\n",
    "        if type(i)==str or type(i)==list:\n",
    "            count +=1\n",
    "    return count"
   ]
  },
  {
   "cell_type": "code",
   "execution_count": 6,
   "id": "4363c15c",
   "metadata": {},
   "outputs": [],
   "source": [
    "def test14(**kwargs):\n",
    "    count  = 0\n",
    "    for i in kwargs.values():\n",
    "        if type(i)==str or type(i)==list:\n",
    "            count+=1\n",
    "    return count"
   ]
  },
  {
   "cell_type": "code",
   "execution_count": 7,
   "id": "0bac8d83",
   "metadata": {},
   "outputs": [
    {
     "data": {
      "text/plain": [
       "3"
      ]
     },
     "execution_count": 7,
     "metadata": {},
     "output_type": "execute_result"
    }
   ],
   "source": [
    "test14(a = 7 , b = \"sudh\" , c = 345 , d = \"sudh\" , l = [2,3,4,45, \"sudh\"])"
   ]
  },
  {
   "cell_type": "code",
   "execution_count": 9,
   "id": "0533dfe7",
   "metadata": {},
   "outputs": [],
   "source": [
    "# so apart from line six every where i was ttrying to call the function test14 without defining it"
   ]
  },
  {
   "cell_type": "code",
   "execution_count": 10,
   "id": "2331b5b0",
   "metadata": {},
   "outputs": [],
   "source": [
    "def test14(**kwargs):\n",
    "    count  = 0\n",
    "    print(kwargs)\n",
    "    print(kwargs.values())\n",
    "    for i in kwargs.values():\n",
    "        if type(i)==str or type(i)==list:\n",
    "            count+=1\n",
    "    return count"
   ]
  },
  {
   "cell_type": "code",
   "execution_count": 11,
   "id": "646b117f",
   "metadata": {},
   "outputs": [
    {
     "name": "stdout",
     "output_type": "stream",
     "text": [
      "{'a': 7, 'b': 'sudh', 'c': 345, 'd': 'sudh', 'l': [2, 3, 4, 45, 'sudh']}\n",
      "dict_values([7, 'sudh', 345, 'sudh', [2, 3, 4, 45, 'sudh']])\n"
     ]
    },
    {
     "data": {
      "text/plain": [
       "3"
      ]
     },
     "execution_count": 11,
     "metadata": {},
     "output_type": "execute_result"
    }
   ],
   "source": [
    "test14(a = 7 , b = \"sudh\" , c = 345 , d = \"sudh\" , l = [2,3,4,45, \"sudh\"])"
   ]
  },
  {
   "cell_type": "code",
   "execution_count": 2,
   "id": "70633443",
   "metadata": {},
   "outputs": [],
   "source": [
    "# now i want a list of data which i will pass as key word on run time"
   ]
  },
  {
   "cell_type": "code",
   "execution_count": 6,
   "id": "ab8fd8dd",
   "metadata": {},
   "outputs": [],
   "source": [
    "def test15(**kwargs):\n",
    "    return list(kwargs.values())"
   ]
  },
  {
   "cell_type": "code",
   "execution_count": 7,
   "id": "f018ac07",
   "metadata": {},
   "outputs": [
    {
     "data": {
      "text/plain": [
       "[7, 'sudh', 345, 'sudh', [2, 3, 4, 45, 'sudh']]"
      ]
     },
     "execution_count": 7,
     "metadata": {},
     "output_type": "execute_result"
    }
   ],
   "source": [
    "test15(a = 7 , b = \"sudh\" , c = 345 , d = \"sudh\" , l = [2,3,4,45, \"sudh\"])"
   ]
  },
  {
   "cell_type": "code",
   "execution_count": null,
   "id": "ff40a183",
   "metadata": {},
   "outputs": [],
   "source": [
    "# todays task :\n",
    "#q1 try to print a prime number in between 1 to 1000\n",
    "#q2 try to write a function which is equivalent to print function in python\n",
    "#q3 try to write a function which is a replica of list append , extend and pop function \n",
    "#q4 try to write a lambda function which can return a concatination of all the string that we will pass\n",
    "#q5 try to write a lambda function which can return list of square of all the data between 1-100\n",
    "#q6 try to write a 10 different example of lambda function with a choice of your task\n",
    "#q7 try to write a function which can perform a read operation from .txt file\n",
    "# shivan@ineuron.ai        ,     sudhanshu@ineuron.ai"
   ]
  },
  {
   "cell_type": "code",
   "execution_count": 8,
   "id": "f908441c",
   "metadata": {},
   "outputs": [],
   "source": [
    "# doubt session"
   ]
  },
  {
   "cell_type": "code",
   "execution_count": 9,
   "id": "d74aee53",
   "metadata": {},
   "outputs": [],
   "source": [
    "def test16(**kwargs):\n",
    "    count = 0\n",
    "    for i in kwargs.values():\n",
    "        if type(i)==str:\n",
    "            count +=1\n",
    "        if type(i)==list:\n",
    "            for v in i:\n",
    "                if type(v)==str:\n",
    "                    count +=1\n",
    "    return count\n",
    "        "
   ]
  },
  {
   "cell_type": "code",
   "execution_count": 10,
   "id": "8c3ddc61",
   "metadata": {},
   "outputs": [
    {
     "data": {
      "text/plain": [
       "3"
      ]
     },
     "execution_count": 10,
     "metadata": {},
     "output_type": "execute_result"
    }
   ],
   "source": [
    "test16(a = 7 , b = \"sudh\" , c = 345 , d = \"sudh\" , l = [2,3,4,45, \"sudh\"])"
   ]
  },
  {
   "cell_type": "code",
   "execution_count": 13,
   "id": "038f41e3",
   "metadata": {},
   "outputs": [],
   "source": [
    "def test16(**kwargs):\n",
    "    count = 0\n",
    "    for i in kwargs.values():\n",
    "        if type(i)==str:\n",
    "            count +=1\n",
    "        if type(i)==list:\n",
    "            for v in i:\n",
    "                if type(v)==str:\n",
    "                    count +=1\n",
    "                    print(kwargs)\n",
    "                    print(kwargs.values())\n",
    "    return count"
   ]
  },
  {
   "cell_type": "code",
   "execution_count": 14,
   "id": "e60bb505",
   "metadata": {},
   "outputs": [
    {
     "name": "stdout",
     "output_type": "stream",
     "text": [
      "{'a': 7, 'b': 'sudh', 'c': 345, 'd': 'sudh', 'l': [2, 3, 4, 45, 'sudh']}\n",
      "dict_values([7, 'sudh', 345, 'sudh', [2, 3, 4, 45, 'sudh']])\n"
     ]
    },
    {
     "data": {
      "text/plain": [
       "3"
      ]
     },
     "execution_count": 14,
     "metadata": {},
     "output_type": "execute_result"
    }
   ],
   "source": [
    "test16(a = 7 , b = \"sudh\" , c = 345 , d = \"sudh\" , l = [2,3,4,45, \"sudh\"])"
   ]
  },
  {
   "cell_type": "code",
   "execution_count": 15,
   "id": "7d8ccdb2",
   "metadata": {},
   "outputs": [
    {
     "data": {
      "text/plain": [
       "[0, 1, 2, 3, 4, 5, 6, 7, 8, 9]"
      ]
     },
     "execution_count": 15,
     "metadata": {},
     "output_type": "execute_result"
    }
   ],
   "source": [
    "[i for i in range(10)]"
   ]
  },
  {
   "cell_type": "code",
   "execution_count": 31,
   "id": "9c8c154c",
   "metadata": {},
   "outputs": [],
   "source": [
    "l=[1,2,4,5,[1,3,4,6]]"
   ]
  },
  {
   "cell_type": "code",
   "execution_count": 29,
   "id": "95a66f19",
   "metadata": {},
   "outputs": [],
   "source": [
    "for i in l:\n",
    "    if type(i)==list:\n",
    "        l.pop(2)"
   ]
  },
  {
   "cell_type": "code",
   "execution_count": 30,
   "id": "5d374d37",
   "metadata": {},
   "outputs": [
    {
     "data": {
      "text/plain": [
       "[1, 2, 5, [1, 3, 4, 6]]"
      ]
     },
     "execution_count": 30,
     "metadata": {},
     "output_type": "execute_result"
    }
   ],
   "source": [
    "l"
   ]
  },
  {
   "cell_type": "code",
   "execution_count": 32,
   "id": "4e0c5ef6",
   "metadata": {},
   "outputs": [],
   "source": [
    "t=[1,2,4,5,[1,3,4,6]]     "
   ]
  },
  {
   "cell_type": "code",
   "execution_count": 33,
   "id": "39bdb238",
   "metadata": {},
   "outputs": [],
   "source": [
    "for i in t:\n",
    "    if type(i)==list:\n",
    "        for j in i:\n",
    "            if type(j)==list:\n",
    "                l.pop(2)"
   ]
  },
  {
   "cell_type": "code",
   "execution_count": 34,
   "id": "410c9ca1",
   "metadata": {},
   "outputs": [
    {
     "data": {
      "text/plain": [
       "[1, 2, 4, 5, [1, 3, 4, 6]]"
      ]
     },
     "execution_count": 34,
     "metadata": {},
     "output_type": "execute_result"
    }
   ],
   "source": [
    "t"
   ]
  },
  {
   "cell_type": "code",
   "execution_count": 35,
   "id": "c3ff2df0",
   "metadata": {},
   "outputs": [
    {
     "ename": "TypeError",
     "evalue": "'builtin_function_or_method' object is not subscriptable",
     "output_type": "error",
     "traceback": [
      "\u001b[1;31m---------------------------------------------------------------------------\u001b[0m",
      "\u001b[1;31mTypeError\u001b[0m                                 Traceback (most recent call last)",
      "Input \u001b[1;32mIn [35]\u001b[0m, in \u001b[0;36m<cell line: 1>\u001b[1;34m()\u001b[0m\n\u001b[1;32m----> 1\u001b[0m \u001b[43mt\u001b[49m\u001b[38;5;241;43m.\u001b[39;49m\u001b[43mpop\u001b[49m\u001b[43m[\u001b[49m\u001b[38;5;241;43m4\u001b[39;49m\u001b[43m]\u001b[49m[\u001b[38;5;241m2\u001b[39m]\n",
      "\u001b[1;31mTypeError\u001b[0m: 'builtin_function_or_method' object is not subscriptable"
     ]
    }
   ],
   "source": [
    "t.pop[4][2]"
   ]
  },
  {
   "cell_type": "code",
   "execution_count": 39,
   "id": "2af538fd",
   "metadata": {},
   "outputs": [],
   "source": [
    "d=[]\n",
    "for i in t:\n",
    "    if type(i)==list:\n",
    "        for j in i:\n",
    "            d.append(j)\n",
    "            \n",
    "    \n",
    "        "
   ]
  },
  {
   "cell_type": "code",
   "execution_count": 40,
   "id": "5ee3248c",
   "metadata": {},
   "outputs": [
    {
     "data": {
      "text/plain": [
       "[1, 3, 4, 6]"
      ]
     },
     "execution_count": 40,
     "metadata": {},
     "output_type": "execute_result"
    }
   ],
   "source": [
    "d"
   ]
  },
  {
   "cell_type": "code",
   "execution_count": 41,
   "id": "9dc2b3fa",
   "metadata": {},
   "outputs": [
    {
     "data": {
      "text/plain": [
       "4"
      ]
     },
     "execution_count": 41,
     "metadata": {},
     "output_type": "execute_result"
    }
   ],
   "source": [
    "d.pop(2)"
   ]
  },
  {
   "cell_type": "code",
   "execution_count": 42,
   "id": "297296d7",
   "metadata": {},
   "outputs": [
    {
     "data": {
      "text/plain": [
       "[1, 3, 6]"
      ]
     },
     "execution_count": 42,
     "metadata": {},
     "output_type": "execute_result"
    }
   ],
   "source": [
    "d"
   ]
  },
  {
   "cell_type": "code",
   "execution_count": 43,
   "id": "2cd8d1ed",
   "metadata": {},
   "outputs": [],
   "source": [
    "# in the above it was required to  remove 4 from list which is inside the list"
   ]
  },
  {
   "cell_type": "code",
   "execution_count": 1,
   "id": "64042eea",
   "metadata": {},
   "outputs": [],
   "source": [
    "b= lambda *a:a +2"
   ]
  },
  {
   "cell_type": "code",
   "execution_count": 2,
   "id": "d39e5110",
   "metadata": {},
   "outputs": [
    {
     "ename": "TypeError",
     "evalue": "can only concatenate tuple (not \"int\") to tuple",
     "output_type": "error",
     "traceback": [
      "\u001b[1;31m---------------------------------------------------------------------------\u001b[0m",
      "\u001b[1;31mTypeError\u001b[0m                                 Traceback (most recent call last)",
      "Input \u001b[1;32mIn [2]\u001b[0m, in \u001b[0;36m<cell line: 1>\u001b[1;34m()\u001b[0m\n\u001b[1;32m----> 1\u001b[0m \u001b[43mb\u001b[49m\u001b[43m(\u001b[49m\u001b[38;5;241;43m1\u001b[39;49m\u001b[43m,\u001b[49m\u001b[38;5;241;43m2\u001b[39;49m\u001b[43m,\u001b[49m\u001b[38;5;241;43m3\u001b[39;49m\u001b[43m)\u001b[49m\n",
      "Input \u001b[1;32mIn [1]\u001b[0m, in \u001b[0;36m<lambda>\u001b[1;34m(*a)\u001b[0m\n\u001b[1;32m----> 1\u001b[0m b\u001b[38;5;241m=\u001b[39m \u001b[38;5;28;01mlambda\u001b[39;00m \u001b[38;5;241m*\u001b[39ma:\u001b[43ma\u001b[49m\u001b[43m \u001b[49m\u001b[38;5;241;43m+\u001b[39;49m\u001b[38;5;241;43m2\u001b[39;49m\n",
      "\u001b[1;31mTypeError\u001b[0m: can only concatenate tuple (not \"int\") to tuple"
     ]
    }
   ],
   "source": [
    "b(1,2,3)"
   ]
  },
  {
   "cell_type": "code",
   "execution_count": 6,
   "id": "cac38314",
   "metadata": {},
   "outputs": [],
   "source": [
    "def test5(*a,x,y,z):\n",
    "    return *a,x,y,z"
   ]
  },
  {
   "cell_type": "code",
   "execution_count": 4,
   "id": "e64c8820",
   "metadata": {},
   "outputs": [
    {
     "ename": "SyntaxError",
     "evalue": "positional argument follows keyword argument (1816659707.py, line 1)",
     "output_type": "error",
     "traceback": [
      "\u001b[1;36m  Input \u001b[1;32mIn [4]\u001b[1;36m\u001b[0m\n\u001b[1;33m    test5(x=6,y=7,z=8,1,2,3,67,9)\u001b[0m\n\u001b[1;37m                                ^\u001b[0m\n\u001b[1;31mSyntaxError\u001b[0m\u001b[1;31m:\u001b[0m positional argument follows keyword argument\n"
     ]
    }
   ],
   "source": [
    "test5(x=6,y=7,z=8,1,2,3,67,9)"
   ]
  },
  {
   "cell_type": "code",
   "execution_count": 7,
   "id": "2cabed8f",
   "metadata": {},
   "outputs": [
    {
     "data": {
      "text/plain": [
       "(1, 2, 3, 67, 9, 6, 7, 8)"
      ]
     },
     "execution_count": 7,
     "metadata": {},
     "output_type": "execute_result"
    }
   ],
   "source": [
    "test5(1,2,3,67,9,x=6,y=7,z=8)"
   ]
  },
  {
   "cell_type": "code",
   "execution_count": 8,
   "id": "3d0cec12",
   "metadata": {},
   "outputs": [],
   "source": [
    "def test5(*a,x,y,z):\n",
    "    return a,x,y,z"
   ]
  },
  {
   "cell_type": "code",
   "execution_count": 9,
   "id": "ee79c4e2",
   "metadata": {},
   "outputs": [
    {
     "data": {
      "text/plain": [
       "((1, 2, 3, 67, 9), 6, 7, 8)"
      ]
     },
     "execution_count": 9,
     "metadata": {},
     "output_type": "execute_result"
    }
   ],
   "source": [
    "test5(1,2,3,67,9,x=6,y=7,z=8)"
   ]
  },
  {
   "cell_type": "code",
   "execution_count": 10,
   "id": "a46b5c18",
   "metadata": {},
   "outputs": [],
   "source": [
    "def aad(a,b):\n",
    "    '''this is my function '''\n",
    "    z=a+b\n",
    "    return z\n",
    "    h=a*b\n",
    "    return h\n",
    "\n",
    "      "
   ]
  },
  {
   "cell_type": "code",
   "execution_count": 11,
   "id": "256d3661",
   "metadata": {},
   "outputs": [
    {
     "data": {
      "text/plain": [
       "5"
      ]
     },
     "execution_count": 11,
     "metadata": {},
     "output_type": "execute_result"
    }
   ],
   "source": [
    "aad(2,3)"
   ]
  },
  {
   "cell_type": "code",
   "execution_count": 13,
   "id": "7a44220c",
   "metadata": {},
   "outputs": [],
   "source": [
    "def add(a,b):\n",
    "    z=a+b\n",
    "    h=a*b\n",
    "    return z,h"
   ]
  },
  {
   "cell_type": "code",
   "execution_count": 14,
   "id": "080d2110",
   "metadata": {},
   "outputs": [
    {
     "data": {
      "text/plain": [
       "(7, 12)"
      ]
     },
     "execution_count": 14,
     "metadata": {},
     "output_type": "execute_result"
    }
   ],
   "source": [
    "add(3,4)"
   ]
  },
  {
   "cell_type": "code",
   "execution_count": 16,
   "id": "701fd17a",
   "metadata": {},
   "outputs": [
    {
     "ename": "SyntaxError",
     "evalue": "invalid syntax (3236543253.py, line 1)",
     "output_type": "error",
     "traceback": [
      "\u001b[1;36m  Input \u001b[1;32mIn [16]\u001b[1;36m\u001b[0m\n\u001b[1;33m    def test10(**m,*b):       # so we need to put single asteric first then double\u001b[0m\n\u001b[1;37m                   ^\u001b[0m\n\u001b[1;31mSyntaxError\u001b[0m\u001b[1;31m:\u001b[0m invalid syntax\n"
     ]
    }
   ],
   "source": [
    "def test10(**m,*b):       # so we need to put single asteric first then double\n",
    "    return m,b"
   ]
  },
  {
   "cell_type": "code",
   "execution_count": 17,
   "id": "cfde9064",
   "metadata": {},
   "outputs": [],
   "source": [
    "def test10(*b,**m):\n",
    "    return b,m"
   ]
  },
  {
   "cell_type": "code",
   "execution_count": 18,
   "id": "e652f8b3",
   "metadata": {},
   "outputs": [
    {
     "data": {
      "text/plain": [
       "((2, 3, 4, 5), {'a': 9, 'b': 8, 'c': 5})"
      ]
     },
     "execution_count": 18,
     "metadata": {},
     "output_type": "execute_result"
    }
   ],
   "source": [
    "test10(2,3,4,5,a=9,b=8,c=5)"
   ]
  },
  {
   "cell_type": "code",
   "execution_count": 19,
   "id": "76f84faf",
   "metadata": {},
   "outputs": [
    {
     "name": "stdout",
     "output_type": "stream",
     "text": [
      "ab\n",
      "cd\n",
      "ef\n"
     ]
    }
   ],
   "source": [
    "d={\"ab\":1,'cd':2,\"ef\":3}\n",
    "for i in d:\n",
    "    print(i)\n",
    "# by defualt it is going to itetrate only key    \n"
   ]
  },
  {
   "cell_type": "code",
   "execution_count": 20,
   "id": "9c332bf1",
   "metadata": {},
   "outputs": [
    {
     "data": {
      "text/plain": [
       "{'ab': 1, 'cd': 2, 'ef': 3}"
      ]
     },
     "execution_count": 20,
     "metadata": {},
     "output_type": "execute_result"
    }
   ],
   "source": [
    "d"
   ]
  },
  {
   "cell_type": "code",
   "execution_count": 21,
   "id": "279a5d2c",
   "metadata": {},
   "outputs": [
    {
     "name": "stdout",
     "output_type": "stream",
     "text": [
      "1\n",
      "2\n",
      "3\n"
     ]
    }
   ],
   "source": [
    "for i in d.values():\n",
    "    print(i)"
   ]
  },
  {
   "cell_type": "code",
   "execution_count": 28,
   "id": "ddb07966",
   "metadata": {},
   "outputs": [
    {
     "name": "stdout",
     "output_type": "stream",
     "text": [
      "('ab', 1) : ('cd', 2) : ('ef', 3) : "
     ]
    }
   ],
   "source": [
    "for i in d.items():\n",
    "    print(i,\":\",end=\" \")"
   ]
  },
  {
   "cell_type": "code",
   "execution_count": 29,
   "id": "c71d8dcb",
   "metadata": {},
   "outputs": [],
   "source": [
    "# multiple return i s also possible in list comrehension"
   ]
  },
  {
   "cell_type": "code",
   "execution_count": 37,
   "id": "f857fba9",
   "metadata": {},
   "outputs": [],
   "source": [
    "def test15(**kwargs):\n",
    "    {i:j for i,j in kwargs.items()}"
   ]
  },
  {
   "cell_type": "code",
   "execution_count": 40,
   "id": "bd5f23de",
   "metadata": {},
   "outputs": [],
   "source": [
    "test15(a=1,b=3,c=4,d=5)   # samjh nahi aaya "
   ]
  },
  {
   "cell_type": "code",
   "execution_count": 5,
   "id": "c86cac33",
   "metadata": {},
   "outputs": [],
   "source": [
    "def func(**kwargs):\n",
    "    count = 0\n",
    "    for i in kwargs.values():\n",
    "        if type(i)==list:\n",
    "            for ele in i:\n",
    "                if type(ele)==str:\n",
    "                    count +=1\n",
    "    return count\n",
    "    "
   ]
  },
  {
   "cell_type": "code",
   "execution_count": 7,
   "id": "2b558125",
   "metadata": {},
   "outputs": [
    {
     "data": {
      "text/plain": [
       "1"
      ]
     },
     "execution_count": 7,
     "metadata": {},
     "output_type": "execute_result"
    }
   ],
   "source": [
    "func(a = 7 , b = \"sudh\" , c = 345 , d = \"sudh\" , l = [2,3,4,45, \"sudh\"])    # not the correct the output"
   ]
  },
  {
   "cell_type": "code",
   "execution_count": null,
   "id": "f449176f",
   "metadata": {},
   "outputs": [],
   "source": []
  }
 ],
 "metadata": {
  "kernelspec": {
   "display_name": "Python 3 (ipykernel)",
   "language": "python",
   "name": "python3"
  },
  "language_info": {
   "codemirror_mode": {
    "name": "ipython",
    "version": 3
   },
   "file_extension": ".py",
   "mimetype": "text/x-python",
   "name": "python",
   "nbconvert_exporter": "python",
   "pygments_lexer": "ipython3",
   "version": "3.9.12"
  }
 },
 "nbformat": 4,
 "nbformat_minor": 5
}
