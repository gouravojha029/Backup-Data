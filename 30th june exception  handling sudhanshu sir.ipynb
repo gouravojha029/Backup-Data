{
 "cells": [
  {
   "cell_type": "code",
   "execution_count": 1,
   "id": "b125b0b8",
   "metadata": {},
   "outputs": [
    {
     "ename": "ZeroDivisionError",
     "evalue": "division by zero",
     "output_type": "error",
     "traceback": [
      "\u001b[1;31m---------------------------------------------------------------------------\u001b[0m",
      "\u001b[1;31mZeroDivisionError\u001b[0m                         Traceback (most recent call last)",
      "Input \u001b[1;32mIn [1]\u001b[0m, in \u001b[0;36m<cell line: 2>\u001b[1;34m()\u001b[0m\n\u001b[0;32m      1\u001b[0m a\u001b[38;5;241m=\u001b[39m\u001b[38;5;241m10\u001b[39m\n\u001b[1;32m----> 2\u001b[0m \u001b[43ma\u001b[49m\u001b[38;5;241;43m/\u001b[39;49m\u001b[38;5;241;43m0\u001b[39;49m\n",
      "\u001b[1;31mZeroDivisionError\u001b[0m: division by zero"
     ]
    }
   ],
   "source": [
    "a=10\n",
    "a/0"
   ]
  },
  {
   "cell_type": "code",
   "execution_count": 2,
   "id": "e5cbff64",
   "metadata": {},
   "outputs": [
    {
     "ename": "FileNotFoundError",
     "evalue": "[Errno 2] No such file or directory: 'sudh345.txt'",
     "output_type": "error",
     "traceback": [
      "\u001b[1;31m---------------------------------------------------------------------------\u001b[0m",
      "\u001b[1;31mFileNotFoundError\u001b[0m                         Traceback (most recent call last)",
      "Input \u001b[1;32mIn [2]\u001b[0m, in \u001b[0;36m<cell line: 1>\u001b[1;34m()\u001b[0m\n\u001b[1;32m----> 1\u001b[0m f\u001b[38;5;241m=\u001b[39m\u001b[38;5;28;43mopen\u001b[39;49m\u001b[43m(\u001b[49m\u001b[38;5;124;43m\"\u001b[39;49m\u001b[38;5;124;43msudh345.txt\u001b[39;49m\u001b[38;5;124;43m\"\u001b[39;49m\u001b[43m,\u001b[49m\u001b[43m \u001b[49m\u001b[38;5;124;43m\"\u001b[39;49m\u001b[38;5;124;43mr\u001b[39;49m\u001b[38;5;124;43m\"\u001b[39;49m\u001b[43m)\u001b[49m\n\u001b[0;32m      2\u001b[0m \u001b[38;5;28mprint\u001b[39m(\u001b[38;5;124m\"\u001b[39m\u001b[38;5;124mthis is my code to handle an exception\u001b[39m\u001b[38;5;124m\"\u001b[39m)\n",
      "\u001b[1;31mFileNotFoundError\u001b[0m: [Errno 2] No such file or directory: 'sudh345.txt'"
     ]
    }
   ],
   "source": [
    "f=open(\"sudh345.txt\", \"r\")\n",
    "print(\"this is my code to handle an exception\") # this print statement is not\n",
    "# getting print since in the above  line there is error so next will not excute\n"
   ]
  },
  {
   "cell_type": "code",
   "execution_count": 3,
   "id": "bb14da10",
   "metadata": {},
   "outputs": [
    {
     "ename": "SyntaxError",
     "evalue": "unexpected EOF while parsing (268766099.py, line 4)",
     "output_type": "error",
     "traceback": [
      "\u001b[1;36m  Input \u001b[1;32mIn [3]\u001b[1;36m\u001b[0m\n\u001b[1;33m    \u001b[0m\n\u001b[1;37m    ^\u001b[0m\n\u001b[1;31mSyntaxError\u001b[0m\u001b[1;31m:\u001b[0m unexpected EOF while parsing\n"
     ]
    }
   ],
   "source": [
    "try:\n",
    "    a=10\n",
    "    a/10\n",
    "    \n"
   ]
  },
  {
   "cell_type": "code",
   "execution_count": 5,
   "id": "68c9a490",
   "metadata": {},
   "outputs": [
    {
     "name": "stdout",
     "output_type": "stream",
     "text": [
      "division by zero\n",
      "this will be my final code after handaling exception \n"
     ]
    }
   ],
   "source": [
    "try:\n",
    "    a=10\n",
    "    a/0\n",
    "except Exception as e :\n",
    "    print(e)\n",
    "    print(\"this will be my final code after handaling exception \")# so this \n",
    "    #time print statement is getting print because error has been handle."
   ]
  },
  {
   "cell_type": "code",
   "execution_count": null,
   "id": "427deaf1",
   "metadata": {},
   "outputs": [],
   "source": [
    "# in the above in try block we used to write a suspicous code and except block \n",
    "# is a handler for entire exception recevie in try block or codes  in try block"
   ]
  },
  {
   "cell_type": "code",
   "execution_count": 6,
   "id": "ca2fddd1",
   "metadata": {},
   "outputs": [
    {
     "name": "stdout",
     "output_type": "stream",
     "text": [
      "1.0\n"
     ]
    }
   ],
   "source": [
    "try:\n",
    "    a=10\n",
    "    print(a/10)\n",
    "except Exception as e :\n",
    "    print(e)\n",
    "    print(\"this will be my final code after handling an exception\")\n",
    "# so if set of code is fine not suspicous it will not raise or come into except\n",
    "# block.\n",
    "# so there for we getting that print statement excuted(a/10)"
   ]
  },
  {
   "cell_type": "code",
   "execution_count": 7,
   "id": "a894f2af",
   "metadata": {},
   "outputs": [
    {
     "name": "stdout",
     "output_type": "stream",
     "text": [
      "[Errno 2] No such file or directory: 'sudhanshu.txt'\n"
     ]
    }
   ],
   "source": [
    "try:\n",
    "    f=open(\"sudhanshu.txt\",\"r\")\n",
    "except Exception as e:\n",
    "    print(e)"
   ]
  },
  {
   "cell_type": "code",
   "execution_count": 8,
   "id": "9ef742c5",
   "metadata": {},
   "outputs": [
    {
     "ename": "FileNotFoundError",
     "evalue": "[Errno 2] No such file or directory: 'sudh.txt'",
     "output_type": "error",
     "traceback": [
      "\u001b[1;31m---------------------------------------------------------------------------\u001b[0m",
      "\u001b[1;31mFileNotFoundError\u001b[0m                         Traceback (most recent call last)",
      "Input \u001b[1;32mIn [8]\u001b[0m, in \u001b[0;36m<cell line: 1>\u001b[1;34m()\u001b[0m\n\u001b[1;32m----> 1\u001b[0m f\u001b[38;5;241m=\u001b[39m\u001b[38;5;28;43mopen\u001b[39;49m\u001b[43m(\u001b[49m\u001b[38;5;124;43m\"\u001b[39;49m\u001b[38;5;124;43msudh.txt\u001b[39;49m\u001b[38;5;124;43m\"\u001b[39;49m\u001b[43m,\u001b[49m\u001b[38;5;124;43m\"\u001b[39;49m\u001b[38;5;124;43mr\u001b[39;49m\u001b[38;5;124;43m\"\u001b[39;49m\u001b[43m)\u001b[49m\n\u001b[0;32m      2\u001b[0m f\u001b[38;5;241m.\u001b[39mwrite(\u001b[38;5;124m\"\u001b[39m\u001b[38;5;124mthis is my suspicous code\u001b[39m\u001b[38;5;124m\"\u001b[39m)\n",
      "\u001b[1;31mFileNotFoundError\u001b[0m: [Errno 2] No such file or directory: 'sudh.txt'"
     ]
    }
   ],
   "source": [
    "f=open(\"sudh.txt\",\"r\")\n",
    "f.write(\"this is my suspicous code\")"
   ]
  },
  {
   "cell_type": "code",
   "execution_count": 9,
   "id": "1dcd7107",
   "metadata": {},
   "outputs": [
    {
     "name": "stdout",
     "output_type": "stream",
     "text": [
      "[Errno 2] No such file or directory: 'sudh.txt'\n"
     ]
    }
   ],
   "source": [
    "try:\n",
    "    f=open(\"sudh.txt\",\"r\")\n",
    "    f.write(\"this is my suspicous code\")\n",
    "except Exception as e:\n",
    "    print(e)\n",
    "    \n",
    "    "
   ]
  },
  {
   "cell_type": "code",
   "execution_count": null,
   "id": "ce4de60a",
   "metadata": {},
   "outputs": [],
   "source": [
    "try:\n",
    "    f=open(\"sudh.txt\",\"r\")\n",
    "    f.write(\"this is my suspicious code\")\n",
    "except Exception as e:\n",
    "    print(e)\n",
    "    print(\"this is not my suspicious piece of code \")\n",
    "    "
   ]
  },
  {
   "cell_type": "code",
   "execution_count": 11,
   "id": "6ee55d20",
   "metadata": {},
   "outputs": [],
   "source": [
    "# so with the help of exception handling we can excute the next line of code\n",
    "# even error appered."
   ]
  },
  {
   "cell_type": "code",
   "execution_count": 12,
   "id": "4c74ac89",
   "metadata": {},
   "outputs": [
    {
     "name": "stdout",
     "output_type": "stream",
     "text": [
      "[Errno 2] No such file or directory: 'sudh.txt'\n",
      "this is not my suspicious piece of code \n",
      "this block will be excuted anytime\n"
     ]
    }
   ],
   "source": [
    "try:\n",
    "    f=open(\"sudh.txt\",\"r\")\n",
    "    f.write(\"this is my suspicious code\")\n",
    "except Exception as e:\n",
    "    print(e)\n",
    "    print(\"this is not my suspicious piece of code \")\n",
    "finally:\n",
    "    print(\"this block will be excuted anytime\")"
   ]
  },
  {
   "cell_type": "code",
   "execution_count": null,
   "id": "a955a08f",
   "metadata": {},
   "outputs": [],
   "source": [
    "# finally block will excuted any time you want, does not matter if try block has\n",
    "#failed or except block has failed it will excute anytime."
   ]
  },
  {
   "cell_type": "code",
   "execution_count": 13,
   "id": "aa5705ce",
   "metadata": {},
   "outputs": [],
   "source": [
    "# so what ever code you are writing and you want it to be excuted at the end of the \n",
    "# day then  that must be written inside finally block."
   ]
  },
  {
   "cell_type": "code",
   "execution_count": null,
   "id": "4f1af4b2",
   "metadata": {},
   "outputs": [],
   "source": [
    "def askint():\n",
    "    try:\n",
    "        val=int(input(\"please enter an integer\"))"
   ]
  },
  {
   "cell_type": "code",
   "execution_count": 14,
   "id": "4d5a7c0c",
   "metadata": {},
   "outputs": [
    {
     "name": "stdout",
     "output_type": "stream",
     "text": [
      "please enter an integerjahaisuoldddgfry\n"
     ]
    },
    {
     "ename": "ValueError",
     "evalue": "invalid literal for int() with base 10: 'jahaisuoldddgfry'",
     "output_type": "error",
     "traceback": [
      "\u001b[1;31m---------------------------------------------------------------------------\u001b[0m",
      "\u001b[1;31mValueError\u001b[0m                                Traceback (most recent call last)",
      "Input \u001b[1;32mIn [14]\u001b[0m, in \u001b[0;36m<cell line: 1>\u001b[1;34m()\u001b[0m\n\u001b[1;32m----> 1\u001b[0m val\u001b[38;5;241m=\u001b[39m\u001b[38;5;28;43mint\u001b[39;49m\u001b[43m(\u001b[49m\u001b[38;5;28;43minput\u001b[39;49m\u001b[43m(\u001b[49m\u001b[38;5;124;43m\"\u001b[39;49m\u001b[38;5;124;43mplease enter an integer\u001b[39;49m\u001b[38;5;124;43m\"\u001b[39;49m\u001b[43m)\u001b[49m\u001b[43m)\u001b[49m\n",
      "\u001b[1;31mValueError\u001b[0m: invalid literal for int() with base 10: 'jahaisuoldddgfry'"
     ]
    }
   ],
   "source": [
    "val=int(input(\"please enter an integer\"))"
   ]
  },
  {
   "cell_type": "code",
   "execution_count": 15,
   "id": "e287dc63",
   "metadata": {},
   "outputs": [],
   "source": [
    "def askint():\n",
    "    try:\n",
    "        val=int(input(\"please enter an integer\"))\n",
    "    except:\n",
    "        print(\"no you have not entered an integer\")\n",
    "        try:\n",
    "            val=int(input(\"please enter an integer\"))\n",
    "        except:\n",
    "            print(\"we are able to handle your mistake second time\")\n",
    "        finally:\n",
    "            print(\"finally will be excuted anyhow\")"
   ]
  },
  {
   "cell_type": "code",
   "execution_count": 16,
   "id": "bc28d710",
   "metadata": {},
   "outputs": [
    {
     "name": "stdout",
     "output_type": "stream",
     "text": [
      "please enter an integergjhggkgkg\n",
      "no you have not entered an integer\n",
      "please enter an integerojha\n",
      "we are able to handle your mistake second time\n",
      "finally will be excuted anyhow\n"
     ]
    }
   ],
   "source": [
    "askint()"
   ]
  },
  {
   "cell_type": "code",
   "execution_count": 1,
   "id": "0277616a",
   "metadata": {},
   "outputs": [],
   "source": [
    "# in the above problem statement is that it will ask user to enter a integer\n",
    "# and if user make a mistake it will get second chance and if user failed in \n",
    "# the second chance it will show some responce."
   ]
  },
  {
   "cell_type": "code",
   "execution_count": 2,
   "id": "7e8806c5",
   "metadata": {},
   "outputs": [],
   "source": [
    "# but now i want to create a funct which will ask for int value from user and\n",
    "# will not terminate until and unless int value it puted and will keep asking \n",
    "# for int value if it is not putted."
   ]
  },
  {
   "cell_type": "code",
   "execution_count": 6,
   "id": "337c4c7a",
   "metadata": {},
   "outputs": [],
   "source": [
    "def askint():\n",
    "    while True:\n",
    "        try:\n",
    "            val=int(input(\"please try to input a integer: \"))\n",
    "            break  # so if value is int it will stop here by break funct\n",
    "        except:\n",
    "            print(\"looks like you have not enterd an integer \")\n",
    "            continue   # if value is not int then it again go back to while."
   ]
  },
  {
   "cell_type": "code",
   "execution_count": 4,
   "id": "034d933e",
   "metadata": {},
   "outputs": [
    {
     "name": "stdout",
     "output_type": "stream",
     "text": [
      "please try to input a integerhjhgghh\n",
      "looks like you have not enterd an integer \n",
      "please try to input a integerghljkjopp'pp\n",
      "looks like you have not enterd an integer \n",
      "please try to input a integerguljjj;j;jlklk\n",
      "looks like you have not enterd an integer \n",
      "please try to input a integer65443\n"
     ]
    }
   ],
   "source": [
    "askint()"
   ]
  },
  {
   "cell_type": "code",
   "execution_count": 7,
   "id": "369be79e",
   "metadata": {},
   "outputs": [
    {
     "name": "stdout",
     "output_type": "stream",
     "text": [
      "please try to input a integer: gourav ojha\n",
      "looks like you have not enterd an integer \n",
      "please try to input a integer: kumar\n",
      "looks like you have not enterd an integer \n",
      "please try to input a integer: hujkljh\n",
      "looks like you have not enterd an integer \n",
      "please try to input a integer: 54343\n"
     ]
    }
   ],
   "source": [
    "askint()"
   ]
  },
  {
   "cell_type": "code",
   "execution_count": 8,
   "id": "8a07a9c0",
   "metadata": {},
   "outputs": [
    {
     "name": "stdout",
     "output_type": "stream",
     "text": [
      "please try to input a integer: kumar\n",
      "looks like you have not enterd an integer \n",
      "please try to input a integer: 654\n"
     ]
    }
   ],
   "source": [
    "while True:  # so without defining funct it can also be done.\n",
    "    try:\n",
    "        val=int(input(\"please try to input a integer: \"))\n",
    "        break  # so if value is int it will stop here by break funct\n",
    "    except:\n",
    "        print(\"looks like you have not enterd an integer \")\n",
    "        continue   # if value is not int then it again go back to while."
   ]
  },
  {
   "cell_type": "code",
   "execution_count": 9,
   "id": "d9ce8aa5",
   "metadata": {},
   "outputs": [
    {
     "name": "stdout",
     "output_type": "stream",
     "text": [
      "please try to input a integer: gourav ojha\n",
      "looks like you have not enterd an integer \n",
      "please try to input a integer: jhgghj\n",
      "looks like you have not enterd an integer \n",
      "please try to input a integer: ;lkl;lklk\n",
      "looks like you have not enterd an integer \n",
      "please try to input a integer: 8765\n"
     ]
    }
   ],
   "source": [
    "while True:  # so without defining funct it can also be done.\n",
    "    try:\n",
    "        val=int(input(\"please try to input a integer: \"))\n",
    "        break  # so if value is int it will stop here by break funct\n",
    "    except:\n",
    "        print(\"looks like you have not enterd an integer \")\n",
    "# so here continue is not required as condition of while is true so every time\n",
    "# if value is not int it will automatically go back to while."
   ]
  },
  {
   "cell_type": "code",
   "execution_count": null,
   "id": "a71cdfa5",
   "metadata": {},
   "outputs": [],
   "source": []
  }
 ],
 "metadata": {
  "kernelspec": {
   "display_name": "Python 3 (ipykernel)",
   "language": "python",
   "name": "python3"
  },
  "language_info": {
   "codemirror_mode": {
    "name": "ipython",
    "version": 3
   },
   "file_extension": ".py",
   "mimetype": "text/x-python",
   "name": "python",
   "nbconvert_exporter": "python",
   "pygments_lexer": "ipython3",
   "version": "3.9.12"
  }
 },
 "nbformat": 4,
 "nbformat_minor": 5
}
