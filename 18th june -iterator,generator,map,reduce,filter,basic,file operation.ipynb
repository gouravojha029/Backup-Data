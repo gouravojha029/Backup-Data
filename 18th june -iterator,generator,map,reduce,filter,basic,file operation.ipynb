{
 "cells": [
  {
   "cell_type": "code",
   "execution_count": 1,
   "id": "88b77d50",
   "metadata": {},
   "outputs": [],
   "source": [
    "l=[1,3,4,5,5]"
   ]
  },
  {
   "cell_type": "code",
   "execution_count": 2,
   "id": "a332b03b",
   "metadata": {},
   "outputs": [
    {
     "name": "stdout",
     "output_type": "stream",
     "text": [
      "1 3 4 5 5 "
     ]
    }
   ],
   "source": [
    "for i in l:\n",
    "    print(i,end=\" \")"
   ]
  },
  {
   "cell_type": "code",
   "execution_count": 3,
   "id": "6981cf47",
   "metadata": {},
   "outputs": [
    {
     "ename": "TypeError",
     "evalue": "'list' object is not an iterator",
     "output_type": "error",
     "traceback": [
      "\u001b[1;31m---------------------------------------------------------------------------\u001b[0m",
      "\u001b[1;31mTypeError\u001b[0m                                 Traceback (most recent call last)",
      "Input \u001b[1;32mIn [3]\u001b[0m, in \u001b[0;36m<cell line: 1>\u001b[1;34m()\u001b[0m\n\u001b[1;32m----> 1\u001b[0m \u001b[38;5;28;43mnext\u001b[39;49m\u001b[43m(\u001b[49m\u001b[43ml\u001b[49m\u001b[43m)\u001b[49m\n",
      "\u001b[1;31mTypeError\u001b[0m: 'list' object is not an iterator"
     ]
    }
   ],
   "source": [
    "next(l)# next is a built-in function which extract information one by one and \n",
    "       # gives."
   ]
  },
  {
   "cell_type": "code",
   "execution_count": 4,
   "id": "d7103c5d",
   "metadata": {},
   "outputs": [],
   "source": [
    "b=iter(l)"
   ]
  },
  {
   "cell_type": "code",
   "execution_count": 5,
   "id": "6ce5e15f",
   "metadata": {},
   "outputs": [
    {
     "data": {
      "text/plain": [
       "1"
      ]
     },
     "execution_count": 5,
     "metadata": {},
     "output_type": "execute_result"
    }
   ],
   "source": [
    "next(b)"
   ]
  },
  {
   "cell_type": "code",
   "execution_count": 6,
   "id": "da7fb440",
   "metadata": {},
   "outputs": [
    {
     "data": {
      "text/plain": [
       "3"
      ]
     },
     "execution_count": 6,
     "metadata": {},
     "output_type": "execute_result"
    }
   ],
   "source": [
    "next(b)"
   ]
  },
  {
   "cell_type": "code",
   "execution_count": 7,
   "id": "6c56c61e",
   "metadata": {},
   "outputs": [
    {
     "data": {
      "text/plain": [
       "4"
      ]
     },
     "execution_count": 7,
     "metadata": {},
     "output_type": "execute_result"
    }
   ],
   "source": [
    "next(b)"
   ]
  },
  {
   "cell_type": "code",
   "execution_count": 8,
   "id": "f94c333b",
   "metadata": {},
   "outputs": [
    {
     "data": {
      "text/plain": [
       "5"
      ]
     },
     "execution_count": 8,
     "metadata": {},
     "output_type": "execute_result"
    }
   ],
   "source": [
    "next(b)"
   ]
  },
  {
   "cell_type": "code",
   "execution_count": 9,
   "id": "352f25de",
   "metadata": {},
   "outputs": [
    {
     "data": {
      "text/plain": [
       "5"
      ]
     },
     "execution_count": 9,
     "metadata": {},
     "output_type": "execute_result"
    }
   ],
   "source": [
    "next(b)"
   ]
  },
  {
   "cell_type": "code",
   "execution_count": 10,
   "id": "81a774fa",
   "metadata": {},
   "outputs": [
    {
     "ename": "StopIteration",
     "evalue": "",
     "output_type": "error",
     "traceback": [
      "\u001b[1;31m---------------------------------------------------------------------------\u001b[0m",
      "\u001b[1;31mStopIteration\u001b[0m                             Traceback (most recent call last)",
      "Input \u001b[1;32mIn [10]\u001b[0m, in \u001b[0;36m<cell line: 1>\u001b[1;34m()\u001b[0m\n\u001b[1;32m----> 1\u001b[0m \u001b[38;5;28;43mnext\u001b[39;49m\u001b[43m(\u001b[49m\u001b[43mb\u001b[49m\u001b[43m)\u001b[49m\n",
      "\u001b[1;31mStopIteration\u001b[0m: "
     ]
    }
   ],
   "source": [
    "next(b)"
   ]
  },
  {
   "cell_type": "code",
   "execution_count": 11,
   "id": "7a79f45a",
   "metadata": {},
   "outputs": [
    {
     "ename": "TypeError",
     "evalue": "'int' object is not an iterator",
     "output_type": "error",
     "traceback": [
      "\u001b[1;31m---------------------------------------------------------------------------\u001b[0m",
      "\u001b[1;31mTypeError\u001b[0m                                 Traceback (most recent call last)",
      "Input \u001b[1;32mIn [11]\u001b[0m, in \u001b[0;36m<cell line: 1>\u001b[1;34m()\u001b[0m\n\u001b[1;32m----> 1\u001b[0m \u001b[38;5;28;43mnext\u001b[39;49m\u001b[43m(\u001b[49m\u001b[38;5;241;43m45\u001b[39;49m\u001b[43m)\u001b[49m\n",
      "\u001b[1;31mTypeError\u001b[0m: 'int' object is not an iterator"
     ]
    }
   ],
   "source": [
    "next(45)"
   ]
  },
  {
   "cell_type": "code",
   "execution_count": 13,
   "id": "19a8e19d",
   "metadata": {},
   "outputs": [
    {
     "ename": "TypeError",
     "evalue": "'int' object is not iterable",
     "output_type": "error",
     "traceback": [
      "\u001b[1;31m---------------------------------------------------------------------------\u001b[0m",
      "\u001b[1;31mTypeError\u001b[0m                                 Traceback (most recent call last)",
      "Input \u001b[1;32mIn [13]\u001b[0m, in \u001b[0;36m<cell line: 1>\u001b[1;34m()\u001b[0m\n\u001b[1;32m----> 1\u001b[0m \u001b[38;5;28;43miter\u001b[39;49m\u001b[43m(\u001b[49m\u001b[38;5;241;43m45\u001b[39;49m\u001b[43m)\u001b[49m\n",
      "\u001b[1;31mTypeError\u001b[0m: 'int' object is not iterable"
     ]
    }
   ],
   "source": [
    "iter(45)"
   ]
  },
  {
   "cell_type": "code",
   "execution_count": 14,
   "id": "df4e4433",
   "metadata": {},
   "outputs": [],
   "source": [
    "# iterator and iterable"
   ]
  },
  {
   "cell_type": "code",
   "execution_count": 15,
   "id": "bf8ed0dd",
   "metadata": {},
   "outputs": [],
   "source": [
    "# only the object or data which is iterable are converted into iterator\n",
    "# by deffault str,list,tuple ,etc are iterable.\n",
    "# but int is not iterable,float,complex,bool so therefore they cannot be\n",
    "# converted into iterator."
   ]
  },
  {
   "cell_type": "code",
   "execution_count": 16,
   "id": "65af9afb",
   "metadata": {},
   "outputs": [
    {
     "name": "stdout",
     "output_type": "stream",
     "text": [
      "1 3 4 5 5 "
     ]
    }
   ],
   "source": [
    "for i in l:\n",
    "    print(i,end=\" \")"
   ]
  },
  {
   "cell_type": "code",
   "execution_count": 17,
   "id": "078d4e85",
   "metadata": {},
   "outputs": [],
   "source": [
    "# so in the above how does for loop is working first of all it will convert\n",
    "# list which is iterable into iterator by calling _ _iter_ _function and then\n",
    "# it will fire(or call) next function to extract each element."
   ]
  },
  {
   "cell_type": "code",
   "execution_count": 19,
   "id": "9666c4cc",
   "metadata": {},
   "outputs": [
    {
     "ename": "TypeError",
     "evalue": "'int' object is not iterable",
     "output_type": "error",
     "traceback": [
      "\u001b[1;31m---------------------------------------------------------------------------\u001b[0m",
      "\u001b[1;31mTypeError\u001b[0m                                 Traceback (most recent call last)",
      "Input \u001b[1;32mIn [19]\u001b[0m, in \u001b[0;36m<cell line: 1>\u001b[1;34m()\u001b[0m\n\u001b[1;32m----> 1\u001b[0m \u001b[38;5;28;01mfor\u001b[39;00m i \u001b[38;5;129;01min\u001b[39;00m (\u001b[38;5;241m45678\u001b[39m):\u001b[38;5;66;03m# since int object is not iterable that is why for loop is  \u001b[39;00m\n\u001b[0;32m      2\u001b[0m     \u001b[38;5;28mprint\u001b[39m(i)\n",
      "\u001b[1;31mTypeError\u001b[0m: 'int' object is not iterable"
     ]
    }
   ],
   "source": [
    "for i in (45678):# since int object is not iterable that is why for loop is  \n",
    "    print(i)     # is not able to call iter funct to convert it into iterator\n",
    "                 # and not able to extract or accesses the each element"
   ]
  },
  {
   "cell_type": "code",
   "execution_count": 22,
   "id": "10513743",
   "metadata": {},
   "outputs": [],
   "source": [
    "s=\"sudh\"# by default str is not an iterator but it is iterable"
   ]
  },
  {
   "cell_type": "code",
   "execution_count": 21,
   "id": "32ebf160",
   "metadata": {},
   "outputs": [
    {
     "ename": "TypeError",
     "evalue": "'str' object is not an iterator",
     "output_type": "error",
     "traceback": [
      "\u001b[1;31m---------------------------------------------------------------------------\u001b[0m",
      "\u001b[1;31mTypeError\u001b[0m                                 Traceback (most recent call last)",
      "Input \u001b[1;32mIn [21]\u001b[0m, in \u001b[0;36m<cell line: 1>\u001b[1;34m()\u001b[0m\n\u001b[1;32m----> 1\u001b[0m \u001b[38;5;28;43mnext\u001b[39;49m\u001b[43m(\u001b[49m\u001b[43ms\u001b[49m\u001b[43m)\u001b[49m\n",
      "\u001b[1;31mTypeError\u001b[0m: 'str' object is not an iterator"
     ]
    }
   ],
   "source": [
    "next(s)"
   ]
  },
  {
   "cell_type": "code",
   "execution_count": 26,
   "id": "d8d3dfb3",
   "metadata": {},
   "outputs": [],
   "source": [
    "s=\"sudh\""
   ]
  },
  {
   "cell_type": "code",
   "execution_count": 27,
   "id": "dfd450b8",
   "metadata": {},
   "outputs": [],
   "source": [
    "s=iter(s)"
   ]
  },
  {
   "cell_type": "code",
   "execution_count": 28,
   "id": "76de7483",
   "metadata": {},
   "outputs": [
    {
     "data": {
      "text/plain": [
       "'s'"
      ]
     },
     "execution_count": 28,
     "metadata": {},
     "output_type": "execute_result"
    }
   ],
   "source": [
    "next(s)"
   ]
  },
  {
   "cell_type": "code",
   "execution_count": 29,
   "id": "9f30060e",
   "metadata": {},
   "outputs": [
    {
     "data": {
      "text/plain": [
       "'u'"
      ]
     },
     "execution_count": 29,
     "metadata": {},
     "output_type": "execute_result"
    }
   ],
   "source": [
    "next(s)"
   ]
  },
  {
   "cell_type": "code",
   "execution_count": 30,
   "id": "622dc7d9",
   "metadata": {},
   "outputs": [
    {
     "data": {
      "text/plain": [
       "'d'"
      ]
     },
     "execution_count": 30,
     "metadata": {},
     "output_type": "execute_result"
    }
   ],
   "source": [
    "next(s)"
   ]
  },
  {
   "cell_type": "code",
   "execution_count": 31,
   "id": "49aa37a7",
   "metadata": {},
   "outputs": [
    {
     "data": {
      "text/plain": [
       "'h'"
      ]
     },
     "execution_count": 31,
     "metadata": {},
     "output_type": "execute_result"
    }
   ],
   "source": [
    "next(s)"
   ]
  },
  {
   "cell_type": "code",
   "execution_count": 33,
   "id": "f95383c1",
   "metadata": {},
   "outputs": [
    {
     "ename": "StopIteration",
     "evalue": "",
     "output_type": "error",
     "traceback": [
      "\u001b[1;31m---------------------------------------------------------------------------\u001b[0m",
      "\u001b[1;31mStopIteration\u001b[0m                             Traceback (most recent call last)",
      "Input \u001b[1;32mIn [33]\u001b[0m, in \u001b[0;36m<cell line: 1>\u001b[1;34m()\u001b[0m\n\u001b[1;32m----> 1\u001b[0m \u001b[38;5;28;43mnext\u001b[39;49m\u001b[43m(\u001b[49m\u001b[43ms\u001b[49m\u001b[43m)\u001b[49m\n",
      "\u001b[1;31mStopIteration\u001b[0m: "
     ]
    }
   ],
   "source": [
    "next(s)"
   ]
  },
  {
   "cell_type": "code",
   "execution_count": 34,
   "id": "4a2cec24",
   "metadata": {},
   "outputs": [],
   "source": [
    "s=\"sudh\""
   ]
  },
  {
   "cell_type": "code",
   "execution_count": 35,
   "id": "2fc8f9bc",
   "metadata": {},
   "outputs": [
    {
     "name": "stdout",
     "output_type": "stream",
     "text": [
      "s u d h "
     ]
    }
   ],
   "source": [
    "for i in s:\n",
    "    print(i,end=\" \")"
   ]
  },
  {
   "cell_type": "code",
   "execution_count": 36,
   "id": "9977b685",
   "metadata": {},
   "outputs": [],
   "source": [
    "# so for loop is internally using len(),iter(),next() to extract each element"
   ]
  },
  {
   "cell_type": "code",
   "execution_count": 1,
   "id": "91d970dd",
   "metadata": {},
   "outputs": [],
   "source": [
    "t=5,6,7,8,9"
   ]
  },
  {
   "cell_type": "code",
   "execution_count": 2,
   "id": "f964c259",
   "metadata": {},
   "outputs": [
    {
     "data": {
      "text/plain": [
       "tuple"
      ]
     },
     "execution_count": 2,
     "metadata": {},
     "output_type": "execute_result"
    }
   ],
   "source": [
    "type(t)"
   ]
  },
  {
   "cell_type": "code",
   "execution_count": 3,
   "id": "4da1eef2",
   "metadata": {},
   "outputs": [
    {
     "ename": "TypeError",
     "evalue": "'tuple' object is not an iterator",
     "output_type": "error",
     "traceback": [
      "\u001b[1;31m---------------------------------------------------------------------------\u001b[0m",
      "\u001b[1;31mTypeError\u001b[0m                                 Traceback (most recent call last)",
      "Input \u001b[1;32mIn [3]\u001b[0m, in \u001b[0;36m<cell line: 1>\u001b[1;34m()\u001b[0m\n\u001b[1;32m----> 1\u001b[0m \u001b[38;5;28;43mnext\u001b[39;49m\u001b[43m(\u001b[49m\u001b[43mt\u001b[49m\u001b[43m)\u001b[49m\n",
      "\u001b[1;31mTypeError\u001b[0m: 'tuple' object is not an iterator"
     ]
    }
   ],
   "source": [
    "next(t)"
   ]
  },
  {
   "cell_type": "code",
   "execution_count": 4,
   "id": "252ba2be",
   "metadata": {},
   "outputs": [],
   "source": [
    "t=iter(t)"
   ]
  },
  {
   "cell_type": "code",
   "execution_count": 5,
   "id": "af5c6061",
   "metadata": {},
   "outputs": [
    {
     "data": {
      "text/plain": [
       "5"
      ]
     },
     "execution_count": 5,
     "metadata": {},
     "output_type": "execute_result"
    }
   ],
   "source": [
    "next(t)"
   ]
  },
  {
   "cell_type": "code",
   "execution_count": 6,
   "id": "0fab965c",
   "metadata": {},
   "outputs": [
    {
     "data": {
      "text/plain": [
       "6"
      ]
     },
     "execution_count": 6,
     "metadata": {},
     "output_type": "execute_result"
    }
   ],
   "source": [
    "next(t)"
   ]
  },
  {
   "cell_type": "code",
   "execution_count": 7,
   "id": "84735f65",
   "metadata": {},
   "outputs": [
    {
     "data": {
      "text/plain": [
       "7"
      ]
     },
     "execution_count": 7,
     "metadata": {},
     "output_type": "execute_result"
    }
   ],
   "source": [
    "next(t)"
   ]
  },
  {
   "cell_type": "code",
   "execution_count": 8,
   "id": "7d1c4a7a",
   "metadata": {},
   "outputs": [
    {
     "data": {
      "text/plain": [
       "8"
      ]
     },
     "execution_count": 8,
     "metadata": {},
     "output_type": "execute_result"
    }
   ],
   "source": [
    "next(t)"
   ]
  },
  {
   "cell_type": "code",
   "execution_count": 9,
   "id": "39213674",
   "metadata": {},
   "outputs": [
    {
     "data": {
      "text/plain": [
       "9"
      ]
     },
     "execution_count": 9,
     "metadata": {},
     "output_type": "execute_result"
    }
   ],
   "source": [
    "next(t)"
   ]
  },
  {
   "cell_type": "code",
   "execution_count": 10,
   "id": "651df687",
   "metadata": {},
   "outputs": [
    {
     "ename": "StopIteration",
     "evalue": "",
     "output_type": "error",
     "traceback": [
      "\u001b[1;31m---------------------------------------------------------------------------\u001b[0m",
      "\u001b[1;31mStopIteration\u001b[0m                             Traceback (most recent call last)",
      "Input \u001b[1;32mIn [10]\u001b[0m, in \u001b[0;36m<cell line: 1>\u001b[1;34m()\u001b[0m\n\u001b[1;32m----> 1\u001b[0m \u001b[38;5;28;43mnext\u001b[39;49m\u001b[43m(\u001b[49m\u001b[43mt\u001b[49m\u001b[43m)\u001b[49m\n",
      "\u001b[1;31mStopIteration\u001b[0m: "
     ]
    }
   ],
   "source": [
    "next(t)"
   ]
  },
  {
   "cell_type": "code",
   "execution_count": 11,
   "id": "f9895ed6",
   "metadata": {},
   "outputs": [],
   "source": [
    "# but in  real time we dont use iter()or next() funct"
   ]
  },
  {
   "cell_type": "code",
   "execution_count": 12,
   "id": "ff973869",
   "metadata": {},
   "outputs": [],
   "source": [
    "# generator"
   ]
  },
  {
   "cell_type": "code",
   "execution_count": 15,
   "id": "263afc90",
   "metadata": {},
   "outputs": [
    {
     "data": {
      "text/plain": [
       "range(1, 4)"
      ]
     },
     "execution_count": 15,
     "metadata": {},
     "output_type": "execute_result"
    }
   ],
   "source": [
    "range(1,4) # range is like generator which is generting data set"
   ]
  },
  {
   "cell_type": "code",
   "execution_count": 14,
   "id": "0c0797e4",
   "metadata": {},
   "outputs": [
    {
     "data": {
      "text/plain": [
       "[1, 2, 3]"
      ]
     },
     "execution_count": 14,
     "metadata": {},
     "output_type": "execute_result"
    }
   ],
   "source": [
    "list(range(1,4))"
   ]
  },
  {
   "cell_type": "code",
   "execution_count": 23,
   "id": "02e58032",
   "metadata": {},
   "outputs": [],
   "source": [
    "def square_fun(n):\n",
    "    x=[ i*i  for i in range(n)]\n",
    "    return x  # so returns basically return the whole data set not just object"
   ]
  },
  {
   "cell_type": "code",
   "execution_count": 2,
   "id": "fb57884d",
   "metadata": {},
   "outputs": [
    {
     "data": {
      "text/plain": [
       "[0, 1, 4, 9]"
      ]
     },
     "execution_count": 2,
     "metadata": {},
     "output_type": "execute_result"
    }
   ],
   "source": [
    "square_fun(4)"
   ]
  },
  {
   "cell_type": "code",
   "execution_count": 24,
   "id": "8476125d",
   "metadata": {},
   "outputs": [],
   "source": [
    "def square_fun1(n):\n",
    "    x=[ i*i for i in range(n)]\n",
    "    yield x # this will not return the whole data set but only object"
   ]
  },
  {
   "cell_type": "code",
   "execution_count": 5,
   "id": "69bf189d",
   "metadata": {},
   "outputs": [
    {
     "data": {
      "text/plain": [
       "<generator object square_fun1 at 0x000001E91691F350>"
      ]
     },
     "execution_count": 5,
     "metadata": {},
     "output_type": "execute_result"
    }
   ],
   "source": [
    "square_fun1(4)# so it is not returning data like range which behaves like genrat"
   ]
  },
  {
   "cell_type": "code",
   "execution_count": 7,
   "id": "2b4b9ac1",
   "metadata": {},
   "outputs": [
    {
     "data": {
      "text/plain": [
       "range(0, 5)"
      ]
     },
     "execution_count": 7,
     "metadata": {},
     "output_type": "execute_result"
    }
   ],
   "source": [
    "range(5)# so it is not returning actual data that i am expecting only giving \n",
    "        # object"
   ]
  },
  {
   "cell_type": "code",
   "execution_count": 8,
   "id": "8f0e90b6",
   "metadata": {},
   "outputs": [
    {
     "name": "stdout",
     "output_type": "stream",
     "text": [
      "0 1 2 3 "
     ]
    }
   ],
   "source": [
    "for i in range(4):\n",
    "    print(i,end=\" \")"
   ]
  },
  {
   "cell_type": "code",
   "execution_count": 11,
   "id": "7c61d6ed",
   "metadata": {},
   "outputs": [
    {
     "name": "stdout",
     "output_type": "stream",
     "text": [
      "[0, 1, 4, 9] "
     ]
    }
   ],
   "source": [
    "for i in square_fun1(4):# so iam able to create generator funct like range with the\n",
    "    print(i,end=\" \")     # help of yield"
   ]
  },
  {
   "cell_type": "code",
   "execution_count": 12,
   "id": "2dc47c89",
   "metadata": {},
   "outputs": [],
   "source": [
    "# so above funct is generator which is not going give data set directly but\n",
    "# on call of it."
   ]
  },
  {
   "cell_type": "code",
   "execution_count": 13,
   "id": "a754bf59",
   "metadata": {},
   "outputs": [
    {
     "ename": "TypeError",
     "evalue": "'function' object is not an iterator",
     "output_type": "error",
     "traceback": [
      "\u001b[1;31m---------------------------------------------------------------------------\u001b[0m",
      "\u001b[1;31mTypeError\u001b[0m                                 Traceback (most recent call last)",
      "Input \u001b[1;32mIn [13]\u001b[0m, in \u001b[0;36m<cell line: 1>\u001b[1;34m()\u001b[0m\n\u001b[1;32m----> 1\u001b[0m \u001b[38;5;28;43mnext\u001b[39;49m\u001b[43m(\u001b[49m\u001b[43msquare_fun1\u001b[49m\u001b[43m)\u001b[49m\n",
      "\u001b[1;31mTypeError\u001b[0m: 'function' object is not an iterator"
     ]
    }
   ],
   "source": [
    "next(square_fun1)"
   ]
  },
  {
   "cell_type": "code",
   "execution_count": 14,
   "id": "bded7922",
   "metadata": {},
   "outputs": [
    {
     "data": {
      "text/plain": [
       "[0, 1, 4, 9]"
      ]
     },
     "execution_count": 14,
     "metadata": {},
     "output_type": "execute_result"
    }
   ],
   "source": [
    "next(square_fun1(4))"
   ]
  },
  {
   "cell_type": "code",
   "execution_count": 15,
   "id": "06bf21b3",
   "metadata": {},
   "outputs": [
    {
     "ename": "TypeError",
     "evalue": "'range' object is not an iterator",
     "output_type": "error",
     "traceback": [
      "\u001b[1;31m---------------------------------------------------------------------------\u001b[0m",
      "\u001b[1;31mTypeError\u001b[0m                                 Traceback (most recent call last)",
      "Input \u001b[1;32mIn [15]\u001b[0m, in \u001b[0;36m<cell line: 1>\u001b[1;34m()\u001b[0m\n\u001b[1;32m----> 1\u001b[0m \u001b[38;5;28;43mnext\u001b[39;49m\u001b[43m(\u001b[49m\u001b[38;5;28;43mrange\u001b[39;49m\u001b[43m(\u001b[49m\u001b[38;5;241;43m4\u001b[39;49m\u001b[43m)\u001b[49m\u001b[43m)\u001b[49m\n",
      "\u001b[1;31mTypeError\u001b[0m: 'range' object is not an iterator"
     ]
    }
   ],
   "source": [
    "next(range(4))"
   ]
  },
  {
   "cell_type": "code",
   "execution_count": 17,
   "id": "1de1f493",
   "metadata": {},
   "outputs": [],
   "source": [
    "r=iter(range(4))"
   ]
  },
  {
   "cell_type": "code",
   "execution_count": 18,
   "id": "f8c5f31e",
   "metadata": {},
   "outputs": [
    {
     "data": {
      "text/plain": [
       "0"
      ]
     },
     "execution_count": 18,
     "metadata": {},
     "output_type": "execute_result"
    }
   ],
   "source": [
    "next(r)"
   ]
  },
  {
   "cell_type": "code",
   "execution_count": 19,
   "id": "727a305a",
   "metadata": {},
   "outputs": [
    {
     "data": {
      "text/plain": [
       "1"
      ]
     },
     "execution_count": 19,
     "metadata": {},
     "output_type": "execute_result"
    }
   ],
   "source": [
    "next(r)"
   ]
  },
  {
   "cell_type": "code",
   "execution_count": 20,
   "id": "8fb5ba5d",
   "metadata": {},
   "outputs": [
    {
     "data": {
      "text/plain": [
       "2"
      ]
     },
     "execution_count": 20,
     "metadata": {},
     "output_type": "execute_result"
    }
   ],
   "source": [
    "next(r)"
   ]
  },
  {
   "cell_type": "code",
   "execution_count": 21,
   "id": "40a28063",
   "metadata": {},
   "outputs": [
    {
     "data": {
      "text/plain": [
       "3"
      ]
     },
     "execution_count": 21,
     "metadata": {},
     "output_type": "execute_result"
    }
   ],
   "source": [
    "next(r)"
   ]
  },
  {
   "cell_type": "code",
   "execution_count": 22,
   "id": "cc8a5e9b",
   "metadata": {},
   "outputs": [
    {
     "ename": "StopIteration",
     "evalue": "",
     "output_type": "error",
     "traceback": [
      "\u001b[1;31m---------------------------------------------------------------------------\u001b[0m",
      "\u001b[1;31mStopIteration\u001b[0m                             Traceback (most recent call last)",
      "Input \u001b[1;32mIn [22]\u001b[0m, in \u001b[0;36m<cell line: 1>\u001b[1;34m()\u001b[0m\n\u001b[1;32m----> 1\u001b[0m \u001b[38;5;28;43mnext\u001b[39;49m\u001b[43m(\u001b[49m\u001b[43mr\u001b[49m\u001b[43m)\u001b[49m\n",
      "\u001b[1;31mStopIteration\u001b[0m: "
     ]
    }
   ],
   "source": [
    "next(r)"
   ]
  },
  {
   "cell_type": "code",
   "execution_count": 25,
   "id": "e2930ef2",
   "metadata": {},
   "outputs": [],
   "source": [
    "# so to convert to any funct into generator funct keyword is yield"
   ]
  },
  {
   "cell_type": "code",
   "execution_count": 26,
   "id": "c30e640a",
   "metadata": {},
   "outputs": [],
   "source": [
    "# fibonacci series (next number is sumation of previous two number) eg-1,1,2,3,5,\n",
    "# 8,13,21....."
   ]
  },
  {
   "cell_type": "code",
   "execution_count": 27,
   "id": "1f919b6d",
   "metadata": {},
   "outputs": [],
   "source": [
    "# let try to generat a funct for fibonacci seris"
   ]
  },
  {
   "cell_type": "code",
   "execution_count": 28,
   "id": "9a8e73c1",
   "metadata": {},
   "outputs": [],
   "source": [
    "def genfib(n):\n",
    "    a=1\n",
    "    b=1\n",
    "    l=[]\n",
    "    for i in range(n):\n",
    "        l.append(a)\n",
    "        a,b=b,a+b\n",
    "    return l"
   ]
  },
  {
   "cell_type": "code",
   "execution_count": 31,
   "id": "0948d09a",
   "metadata": {},
   "outputs": [
    {
     "data": {
      "text/plain": [
       "[1, 1, 2, 3, 5, 8, 13, 21, 34, 55]"
      ]
     },
     "execution_count": 31,
     "metadata": {},
     "output_type": "execute_result"
    }
   ],
   "source": [
    "genfib(10)# it is returning data imideatily."
   ]
  },
  {
   "cell_type": "code",
   "execution_count": null,
   "id": "ceeabca0",
   "metadata": {},
   "outputs": [],
   "source": [
    "# but iam not looking for return of data set imdieatly. i want to generate it\n",
    "# like range funct."
   ]
  },
  {
   "cell_type": "code",
   "execution_count": 32,
   "id": "6a91dc23",
   "metadata": {},
   "outputs": [],
   "source": [
    "def genfib(n):\n",
    "    a=1\n",
    "    b=1\n",
    "    for i in range(n):\n",
    "        yield a\n",
    "        a,b=b,a+b\n",
    "    "
   ]
  },
  {
   "cell_type": "code",
   "execution_count": 34,
   "id": "e053ac91",
   "metadata": {},
   "outputs": [
    {
     "data": {
      "text/plain": [
       "<generator object genfib at 0x000001E9189E4430>"
      ]
     },
     "execution_count": 34,
     "metadata": {},
     "output_type": "execute_result"
    }
   ],
   "source": [
    "genfib(10) # so it is behaving like a range funct which is like generator\n",
    "           # not returning the data imediatly."
   ]
  },
  {
   "cell_type": "code",
   "execution_count": 36,
   "id": "d4fb8c7d",
   "metadata": {},
   "outputs": [
    {
     "name": "stdout",
     "output_type": "stream",
     "text": [
      "1 1 2 3 5 8 13 21 34 55 "
     ]
    }
   ],
   "source": [
    "for i in genfib(10):# so i can use this funct like range funct.\n",
    "    print(i,end=\" \")"
   ]
  },
  {
   "cell_type": "code",
   "execution_count": 1,
   "id": "90325e08",
   "metadata": {},
   "outputs": [],
   "source": [
    "# in the above disadvantage of return funct is that it will return the data set\n",
    "# only when the list is prepared and to get the return of bigger list like fibnaki\n",
    "# sequence of genfeb(100000000000) it will take lot of space time and will use \n",
    "# lot of resources."
   ]
  },
  {
   "cell_type": "code",
   "execution_count": 2,
   "id": "75afab54",
   "metadata": {},
   "outputs": [],
   "source": [
    "# but with the help of generator funct we can overcome this issue."
   ]
  },
  {
   "cell_type": "code",
   "execution_count": 3,
   "id": "91fae8b1",
   "metadata": {},
   "outputs": [],
   "source": [
    "# file operation"
   ]
  },
  {
   "cell_type": "code",
   "execution_count": 7,
   "id": "4883360c",
   "metadata": {},
   "outputs": [],
   "source": [
    "f=open(\"sudh1.text\",'w')# here 'w'is mode and its means i want perform writing \n",
    "# operation on the file. if it is w+ means writing and reading both,if it is \n",
    "# 'r'means reading and 'r+'means reading and writing both."
   ]
  },
  {
   "cell_type": "code",
   "execution_count": 5,
   "id": "ece48d57",
   "metadata": {},
   "outputs": [
    {
     "name": "stdout",
     "output_type": "stream",
     "text": [
      " Volume in drive C has no label.\n",
      " Volume Serial Number is 7CEB-F270\n",
      "\n",
      " Directory of C:\\Users\\Intel\n",
      "\n",
      "06/19/2022  06:37 PM            21,200    14th may classvariable in python intro .ipynb\n",
      "07/12/2022  08:59 PM         5,124,661  29th may while loop and function.ipynb\n",
      "09/05/2022  01:35 PM    <DIR>          .\n",
      "09/05/2022  01:35 PM    <DIR>          ..\n",
      "08/25/2021  05:19 PM    <DIR>          .cisco\n",
      "06/22/2022  12:46 PM    <DIR>          .conda\n",
      "04/21/2022  11:13 PM                25 .condarc\n",
      "04/21/2022  11:12 PM    <DIR>          .continuum\n",
      "09/03/2022  08:23 PM    <DIR>          .ipynb_checkpoints\n",
      "04/22/2022  01:05 PM    <DIR>          .ipython\n",
      "04/22/2022  06:54 PM    <DIR>          .jupyter\n",
      "04/22/2022  12:44 PM                42 .python_history\n",
      "08/26/2022  04:23 PM    <DIR>          __pycache__\n",
      "08/25/2022  10:45 PM             3,067 11th june doubt session .ipynb\n",
      "08/27/2022  12:22 PM             8,744 12th june exceptional handling sunny savita.ipynb\n",
      "08/14/2022  09:23 PM             5,716 14th aug shukla sir.ipynb\n",
      "06/22/2022  12:53 PM           100,362 15th may class.ipynb\n",
      "08/17/2022  10:21 PM            19,536 16th aug shukla sir.ipynb\n",
      "08/20/2022  06:26 PM            36,262 18th aug shukla sir.ipynb\n",
      "09/05/2022  01:35 PM            27,968 18th june -iterator,generator,map,reduce,filter,basic,file operation.ipynb\n",
      "08/22/2022  10:17 AM            19,287 20th aug shuka sir decision control.ipynb\n",
      "06/25/2022  08:38 PM           165,042 21st may class list ,tuple, dict, sets.ipynb\n",
      "08/23/2022  11:13 AM           348,248 21th aug shulka sir doubt and while loop.ipynb\n",
      "06/27/2022  02:46 PM            80,180 22 may class if ,elif, else.ipynb\n",
      "08/25/2022  08:32 PM            15,814 23rd aug shukla sir for loop range.ipynb\n",
      "08/29/2022  08:04 PM            37,878 25th aug shukla sir list.ipynb\n",
      "08/30/2022  05:00 PM            34,605 27th aug sukla sir str in python.ipynb\n",
      "09/02/2022  06:57 AM           799,871 28th aug doubt-(assign-4,5,6),   tuple.ipynb\n",
      "06/29/2022  09:19 PM           142,039 28th may for loop.ipynb\n",
      "08/07/2021  11:57 AM    <DIR>          3D Objects\n",
      "07/11/2022  04:12 PM            91,542 4th june revision and task solving.ipynb\n",
      "07/24/2022  12:07 AM            66,465 5th june function.ipynb\n",
      "08/26/2022  04:22 PM               604 A1.py\n",
      "05/14/2022  10:21 PM    <DIR>          anaconda3\n",
      "08/26/2022  12:48 PM             6,639 assignment 1 shukla sir.ipynb\n",
      "08/27/2022  06:36 PM            14,535 assignment 2 shukla sir.ipynb\n",
      "08/31/2022  05:27 PM             9,484 assignment -4 (user input problems) web development.ipynb\n",
      "08/27/2022  08:10 PM             6,290 assignment-3 shukla sir.ipynb\n",
      "09/02/2022  05:55 AM            13,422 assignment-6(Decision control) web development.ipynb\n",
      "09/02/2022  12:59 PM               589 assignment-7(match case), webdevelopment.ipynb\n",
      "09/03/2022  03:49 PM             7,654 assignment-8(while loop,part-1) webdevelopment.ipynb\n",
      "09/03/2022  06:23 PM             8,944 assignment-9(while loop,part-2) web development.ipynb\n",
      "08/31/2022  11:00 PM            10,961 asssignment-5 (operators) web development.ipynb\n",
      "08/07/2021  11:57 AM    <DIR>          Contacts\n",
      "05/21/2022  06:48 AM    <DIR>          Desktop\n",
      "05/14/2022  03:12 PM    <DIR>          Documents\n",
      "08/26/2022  04:24 PM    <DIR>          Downloads\n",
      "08/07/2021  11:57 AM    <DIR>          Favorites\n",
      "04/24/2022  01:34 PM             3,024 gourav_first_class.ipynb\n",
      "05/21/2022  12:11 PM             6,848 homework 15th may.ipynb\n",
      "08/07/2021  11:57 AM    <DIR>          Links\n",
      "08/07/2021  11:57 AM    <DIR>          Music\n",
      "08/16/2021  04:42 PM    <DIR>          OneDrive\n",
      "05/14/2022  10:29 PM    <DIR>          Pictures\n",
      "08/07/2021  11:57 AM    <DIR>          Saved Games\n",
      "08/16/2021  09:07 AM    <DIR>          Searches\n",
      "08/25/2022  09:22 PM            43,260 self practice function 5th june.ipynb\n",
      "08/23/2022  11:04 PM         9,145,502 self practice while loop and function.ipynb\n",
      "09/05/2022  01:35 PM                 0 sudh1.text\n",
      "06/14/2022  03:32 PM    <DIR>          Tracing\n",
      "05/16/2022  09:30 AM             9,255 Untitled.ipynb\n",
      "05/21/2022  04:29 PM            21,535 Untitled1.ipynb\n",
      "05/28/2022  06:44 PM               589 Untitled2.ipynb\n",
      "08/26/2022  04:18 PM               736 Untitled3.ipynb\n",
      "08/26/2022  04:21 PM                72 Untitled4.ipynb\n",
      "08/26/2022  04:23 PM                72 Untitled5.ipynb\n",
      "08/26/2022  04:24 PM               604 Untitled6.ipynb\n",
      "08/25/2021  05:39 PM    <DIR>          Videos\n",
      "              44 File(s)     16,459,173 bytes\n",
      "              24 Dir(s)  48,687,067,136 bytes free\n"
     ]
    }
   ],
   "source": [
    "ls"
   ]
  },
  {
   "cell_type": "code",
   "execution_count": 8,
   "id": "65ca0da0",
   "metadata": {},
   "outputs": [
    {
     "data": {
      "text/plain": [
       "36"
      ]
     },
     "execution_count": 8,
     "metadata": {},
     "output_type": "execute_result"
    }
   ],
   "source": [
    "f.write(\"this is my very first file operation\")"
   ]
  },
  {
   "cell_type": "code",
   "execution_count": 9,
   "id": "d24b65ed",
   "metadata": {},
   "outputs": [],
   "source": [
    "f.close()"
   ]
  },
  {
   "cell_type": "code",
   "execution_count": 11,
   "id": "1fc9d2c9",
   "metadata": {},
   "outputs": [
    {
     "name": "stdout",
     "output_type": "stream",
     "text": [
      " Volume in drive C has no label.\n",
      " Volume Serial Number is 7CEB-F270\n",
      "\n",
      " Directory of C:\\Users\\Intel\n",
      "\n",
      "06/19/2022  06:37 PM            21,200    14th may classvariable in python intro .ipynb\n",
      "07/12/2022  08:59 PM         5,124,661  29th may while loop and function.ipynb\n",
      "09/05/2022  01:51 PM    <DIR>          .\n",
      "09/05/2022  01:51 PM    <DIR>          ..\n",
      "08/25/2021  05:19 PM    <DIR>          .cisco\n",
      "06/22/2022  12:46 PM    <DIR>          .conda\n",
      "04/21/2022  11:13 PM                25 .condarc\n",
      "04/21/2022  11:12 PM    <DIR>          .continuum\n",
      "09/03/2022  08:23 PM    <DIR>          .ipynb_checkpoints\n",
      "04/22/2022  01:05 PM    <DIR>          .ipython\n",
      "04/22/2022  06:54 PM    <DIR>          .jupyter\n",
      "04/22/2022  12:44 PM                42 .python_history\n",
      "08/26/2022  04:23 PM    <DIR>          __pycache__\n",
      "08/25/2022  10:45 PM             3,067 11th june doubt session .ipynb\n",
      "08/27/2022  12:22 PM             8,744 12th june exceptional handling sunny savita.ipynb\n",
      "08/14/2022  09:23 PM             5,716 14th aug shukla sir.ipynb\n",
      "06/22/2022  12:53 PM           100,362 15th may class.ipynb\n",
      "08/17/2022  10:21 PM            19,536 16th aug shukla sir.ipynb\n",
      "08/20/2022  06:26 PM            36,262 18th aug shukla sir.ipynb\n",
      "09/05/2022  01:51 PM            39,959 18th june -iterator,generator,map,reduce,filter,basic,file operation.ipynb\n",
      "08/22/2022  10:17 AM            19,287 20th aug shuka sir decision control.ipynb\n",
      "06/25/2022  08:38 PM           165,042 21st may class list ,tuple, dict, sets.ipynb\n",
      "08/23/2022  11:13 AM           348,248 21th aug shulka sir doubt and while loop.ipynb\n",
      "06/27/2022  02:46 PM            80,180 22 may class if ,elif, else.ipynb\n",
      "08/25/2022  08:32 PM            15,814 23rd aug shukla sir for loop range.ipynb\n",
      "08/29/2022  08:04 PM            37,878 25th aug shukla sir list.ipynb\n",
      "08/30/2022  05:00 PM            34,605 27th aug sukla sir str in python.ipynb\n",
      "09/02/2022  06:57 AM           799,871 28th aug doubt-(assign-4,5,6),   tuple.ipynb\n",
      "06/29/2022  09:19 PM           142,039 28th may for loop.ipynb\n",
      "08/07/2021  11:57 AM    <DIR>          3D Objects\n",
      "07/11/2022  04:12 PM            91,542 4th june revision and task solving.ipynb\n",
      "07/24/2022  12:07 AM            66,465 5th june function.ipynb\n",
      "08/26/2022  04:22 PM               604 A1.py\n",
      "05/14/2022  10:21 PM    <DIR>          anaconda3\n",
      "08/26/2022  12:48 PM             6,639 assignment 1 shukla sir.ipynb\n",
      "08/27/2022  06:36 PM            14,535 assignment 2 shukla sir.ipynb\n",
      "08/31/2022  05:27 PM             9,484 assignment -4 (user input problems) web development.ipynb\n",
      "08/27/2022  08:10 PM             6,290 assignment-3 shukla sir.ipynb\n",
      "09/02/2022  05:55 AM            13,422 assignment-6(Decision control) web development.ipynb\n",
      "09/02/2022  12:59 PM               589 assignment-7(match case), webdevelopment.ipynb\n",
      "09/03/2022  03:49 PM             7,654 assignment-8(while loop,part-1) webdevelopment.ipynb\n",
      "09/03/2022  06:23 PM             8,944 assignment-9(while loop,part-2) web development.ipynb\n",
      "08/31/2022  11:00 PM            10,961 asssignment-5 (operators) web development.ipynb\n",
      "08/07/2021  11:57 AM    <DIR>          Contacts\n",
      "05/21/2022  06:48 AM    <DIR>          Desktop\n",
      "05/14/2022  03:12 PM    <DIR>          Documents\n",
      "08/26/2022  04:24 PM    <DIR>          Downloads\n",
      "08/07/2021  11:57 AM    <DIR>          Favorites\n",
      "04/24/2022  01:34 PM             3,024 gourav_first_class.ipynb\n",
      "05/21/2022  12:11 PM             6,848 homework 15th may.ipynb\n",
      "08/07/2021  11:57 AM    <DIR>          Links\n",
      "08/07/2021  11:57 AM    <DIR>          Music\n",
      "08/16/2021  04:42 PM    <DIR>          OneDrive\n",
      "05/14/2022  10:29 PM    <DIR>          Pictures\n",
      "08/07/2021  11:57 AM    <DIR>          Saved Games\n",
      "08/16/2021  09:07 AM    <DIR>          Searches\n",
      "08/25/2022  09:22 PM            43,260 self practice function 5th june.ipynb\n",
      "08/23/2022  11:04 PM         9,145,502 self practice while loop and function.ipynb\n",
      "09/05/2022  01:49 PM                36 sudh1.text\n",
      "06/14/2022  03:32 PM    <DIR>          Tracing\n",
      "05/16/2022  09:30 AM             9,255 Untitled.ipynb\n",
      "05/21/2022  04:29 PM            21,535 Untitled1.ipynb\n",
      "05/28/2022  06:44 PM               589 Untitled2.ipynb\n",
      "08/26/2022  04:18 PM               736 Untitled3.ipynb\n",
      "08/26/2022  04:21 PM                72 Untitled4.ipynb\n",
      "08/26/2022  04:23 PM                72 Untitled5.ipynb\n",
      "08/26/2022  04:24 PM               604 Untitled6.ipynb\n",
      "08/25/2021  05:39 PM    <DIR>          Videos\n",
      "              44 File(s)     16,471,200 bytes\n",
      "              24 Dir(s)  48,685,572,096 bytes free\n"
     ]
    }
   ],
   "source": [
    "ls"
   ]
  },
  {
   "cell_type": "code",
   "execution_count": 2,
   "id": "68f23de0",
   "metadata": {},
   "outputs": [],
   "source": [
    "f1=open(\"test1.txt\",'w')"
   ]
  },
  {
   "cell_type": "code",
   "execution_count": 3,
   "id": "c6219b1e",
   "metadata": {},
   "outputs": [
    {
     "data": {
      "text/plain": [
       "60"
      ]
     },
     "execution_count": 3,
     "metadata": {},
     "output_type": "execute_result"
    }
   ],
   "source": [
    "f1.write(\"this is a file operation i am trying to do in my fsds class \")"
   ]
  },
  {
   "cell_type": "code",
   "execution_count": 4,
   "id": "f9e6e03b",
   "metadata": {},
   "outputs": [],
   "source": [
    "f1.close()"
   ]
  },
  {
   "cell_type": "code",
   "execution_count": 5,
   "id": "c4819a67",
   "metadata": {},
   "outputs": [],
   "source": [
    "# now suppose i want to store a list into a file parmanently."
   ]
  },
  {
   "cell_type": "code",
   "execution_count": 6,
   "id": "ab37f3ec",
   "metadata": {},
   "outputs": [],
   "source": [
    "l=[1,2,3,3,4,5,6,7,8,77,56]"
   ]
  },
  {
   "cell_type": "code",
   "execution_count": 7,
   "id": "706bf7fc",
   "metadata": {},
   "outputs": [],
   "source": [
    "f2=open(\"test2.txt\",'w')"
   ]
  },
  {
   "cell_type": "code",
   "execution_count": 8,
   "id": "e2a0662e",
   "metadata": {},
   "outputs": [
    {
     "ename": "TypeError",
     "evalue": "write() argument must be str, not list",
     "output_type": "error",
     "traceback": [
      "\u001b[1;31m---------------------------------------------------------------------------\u001b[0m",
      "\u001b[1;31mTypeError\u001b[0m                                 Traceback (most recent call last)",
      "Input \u001b[1;32mIn [8]\u001b[0m, in \u001b[0;36m<cell line: 1>\u001b[1;34m()\u001b[0m\n\u001b[1;32m----> 1\u001b[0m \u001b[43mf2\u001b[49m\u001b[38;5;241;43m.\u001b[39;49m\u001b[43mwrite\u001b[49m\u001b[43m(\u001b[49m\u001b[43ml\u001b[49m\u001b[43m)\u001b[49m\n",
      "\u001b[1;31mTypeError\u001b[0m: write() argument must be str, not list"
     ]
    }
   ],
   "source": [
    "f2.write(l) # argument should be str "
   ]
  },
  {
   "cell_type": "code",
   "execution_count": 9,
   "id": "5ed7a034",
   "metadata": {},
   "outputs": [
    {
     "data": {
      "text/plain": [
       "35"
      ]
     },
     "execution_count": 9,
     "metadata": {},
     "output_type": "execute_result"
    }
   ],
   "source": [
    "f2.write(str(l))"
   ]
  },
  {
   "cell_type": "code",
   "execution_count": 10,
   "id": "9a6f6304",
   "metadata": {},
   "outputs": [],
   "source": [
    "f2.close()"
   ]
  },
  {
   "cell_type": "code",
   "execution_count": 11,
   "id": "de79e13e",
   "metadata": {},
   "outputs": [],
   "source": [
    "# so file operation is important as  data is stored parmanently and can be\n",
    "# used later on like we can used the code whenever we want we dont need excute\n",
    "# it again and again."
   ]
  },
  {
   "cell_type": "code",
   "execution_count": 12,
   "id": "19eac119",
   "metadata": {},
   "outputs": [],
   "source": [
    "f3=open(\"test.sudh\",'w')\n",
    "f3.write(\"my name is gourav ojha\")\n",
    "f3.close()"
   ]
  },
  {
   "cell_type": "code",
   "execution_count": 13,
   "id": "c85d4793",
   "metadata": {},
   "outputs": [],
   "source": [
    "# in the above i have used .sudh extension which does not exist like .pdf,.txt,\n",
    "#.mp4,.py,etc but we can write our own extension no issue."
   ]
  },
  {
   "cell_type": "code",
   "execution_count": 22,
   "id": "eaafd6f0",
   "metadata": {},
   "outputs": [],
   "source": [
    "# now another way of doing the same file operation. writefile is a keyword"
   ]
  },
  {
   "cell_type": "code",
   "execution_count": 21,
   "id": "cf7aa43c",
   "metadata": {},
   "outputs": [
    {
     "name": "stdout",
     "output_type": "stream",
     "text": [
      "Overwriting test5.txt\n"
     ]
    }
   ],
   "source": [
    "%%writefile test5.txt  \n",
    "this is my python program to write into a file in  different way\n",
    "this is my python program to write into a file in  different way\n",
    "this is my python program to write into a file in  different way\n",
    "this is my python program to write into a file in  different way\n",
    "this is my python program to write into a file in  different way"
   ]
  },
  {
   "cell_type": "code",
   "execution_count": 17,
   "id": "41c7f234",
   "metadata": {},
   "outputs": [],
   "source": [
    "# now suppose i want to read any file "
   ]
  },
  {
   "cell_type": "code",
   "execution_count": 18,
   "id": "c6a25123",
   "metadata": {},
   "outputs": [],
   "source": [
    "f=open(\"test5.txt\")"
   ]
  },
  {
   "cell_type": "code",
   "execution_count": 19,
   "id": "3429fc47",
   "metadata": {},
   "outputs": [
    {
     "data": {
      "text/plain": [
       "'this is my python program to write into a file in  different way\\nthis is my python program to write into a file in  different way\\nthis is my python program to write into a file in  different way\\nthis is my python program to write into a file in  different way\\nthis is my python program to write into a file in  different way\\n'"
      ]
     },
     "execution_count": 19,
     "metadata": {},
     "output_type": "execute_result"
    }
   ],
   "source": [
    "f.read()"
   ]
  },
  {
   "cell_type": "code",
   "execution_count": 23,
   "id": "3fdeceb2",
   "metadata": {},
   "outputs": [
    {
     "data": {
      "text/plain": [
       "''"
      ]
     },
     "execution_count": 23,
     "metadata": {},
     "output_type": "execute_result"
    }
   ],
   "source": [
    "f.read()  "
   ]
  },
  {
   "cell_type": "code",
   "execution_count": 24,
   "id": "8c54a248",
   "metadata": {},
   "outputs": [],
   "source": [
    "# in the above i am getting balnk when i am trying to read file Again because\n",
    "# the data stored is str(type) and indexing is there.therefore once you have read \n",
    "# the data the pointer or cruser is present at last index and there is no data\n",
    "#  after that."
   ]
  },
  {
   "cell_type": "code",
   "execution_count": 2,
   "id": "c3ddc495",
   "metadata": {},
   "outputs": [],
   "source": [
    "f=open(\"test5.txt\")"
   ]
  },
  {
   "cell_type": "code",
   "execution_count": 3,
   "id": "78c92f30",
   "metadata": {},
   "outputs": [
    {
     "data": {
      "text/plain": [
       "'this is my python program to write into a file in  different way\\nthis is my python program to write into a file in  different way\\nthis is my python program to write into a file in  different way\\nthis is my python program to write into a file in  different way\\nthis is my python program to write into a file in  different way\\n'"
      ]
     },
     "execution_count": 3,
     "metadata": {},
     "output_type": "execute_result"
    }
   ],
   "source": [
    "f.read()"
   ]
  },
  {
   "cell_type": "code",
   "execution_count": 4,
   "id": "21d1b90a",
   "metadata": {},
   "outputs": [
    {
     "data": {
      "text/plain": [
       "''"
      ]
     },
     "execution_count": 4,
     "metadata": {},
     "output_type": "execute_result"
    }
   ],
   "source": [
    "f.read()"
   ]
  },
  {
   "cell_type": "code",
   "execution_count": 7,
   "id": "a3e9d499",
   "metadata": {},
   "outputs": [
    {
     "data": {
      "text/plain": [
       "0"
      ]
     },
     "execution_count": 7,
     "metadata": {},
     "output_type": "execute_result"
    }
   ],
   "source": [
    "f.seek(0)# here seek brings the curser back to 0 index and we can read again."
   ]
  },
  {
   "cell_type": "code",
   "execution_count": 6,
   "id": "d2dfb30b",
   "metadata": {},
   "outputs": [
    {
     "data": {
      "text/plain": [
       "'this is my python program to write into a file in  different way\\nthis is my python program to write into a file in  different way\\nthis is my python program to write into a file in  different way\\nthis is my python program to write into a file in  different way\\nthis is my python program to write into a file in  different way\\n'"
      ]
     },
     "execution_count": 6,
     "metadata": {},
     "output_type": "execute_result"
    }
   ],
   "source": [
    "f.read()"
   ]
  },
  {
   "cell_type": "code",
   "execution_count": 8,
   "id": "2483e086",
   "metadata": {},
   "outputs": [
    {
     "data": {
      "text/plain": [
       "'this is my python program to write into a file in  different way\\nthis is my python program to write into a file in  different way\\nthis is my python program to write into a file in  different way\\nthis is my python program to write into a file in  different way\\nthis is my python program to write into a file in  different way\\n'"
      ]
     },
     "execution_count": 8,
     "metadata": {},
     "output_type": "execute_result"
    }
   ],
   "source": [
    "f.read()"
   ]
  },
  {
   "cell_type": "code",
   "execution_count": 9,
   "id": "d4eb5f3f",
   "metadata": {},
   "outputs": [
    {
     "data": {
      "text/plain": [
       "''"
      ]
     },
     "execution_count": 9,
     "metadata": {},
     "output_type": "execute_result"
    }
   ],
   "source": [
    "f.read()"
   ]
  },
  {
   "cell_type": "code",
   "execution_count": 10,
   "id": "b85f8edd",
   "metadata": {},
   "outputs": [],
   "source": [
    "# seek is resposible for setting curser on particular index"
   ]
  },
  {
   "cell_type": "code",
   "execution_count": 12,
   "id": "3bbaf8a0",
   "metadata": {},
   "outputs": [
    {
     "data": {
      "text/plain": [
       "4"
      ]
     },
     "execution_count": 12,
     "metadata": {},
     "output_type": "execute_result"
    }
   ],
   "source": [
    "f.seek(4) # now the curser is at 4th index"
   ]
  },
  {
   "cell_type": "code",
   "execution_count": 13,
   "id": "0885fa36",
   "metadata": {},
   "outputs": [
    {
     "data": {
      "text/plain": [
       "' is my python program to write into a file in  different way\\nthis is my python program to write into a file in  different way\\nthis is my python program to write into a file in  different way\\nthis is my python program to write into a file in  different way\\nthis is my python program to write into a file in  different way\\n'"
      ]
     },
     "execution_count": 13,
     "metadata": {},
     "output_type": "execute_result"
    }
   ],
   "source": [
    "f.read()"
   ]
  },
  {
   "cell_type": "code",
   "execution_count": 14,
   "id": "e0b8fc3d",
   "metadata": {},
   "outputs": [
    {
     "data": {
      "text/plain": [
       "50"
      ]
     },
     "execution_count": 14,
     "metadata": {},
     "output_type": "execute_result"
    }
   ],
   "source": [
    "f.seek(50)"
   ]
  },
  {
   "cell_type": "code",
   "execution_count": 15,
   "id": "b1718cdf",
   "metadata": {},
   "outputs": [
    {
     "data": {
      "text/plain": [
       "' different way\\nthis is my python program to write into a file in  different way\\nthis is my python program to write into a file in  different way\\nthis is my python program to write into a file in  different way\\nthis is my python program to write into a file in  different way\\n'"
      ]
     },
     "execution_count": 15,
     "metadata": {},
     "output_type": "execute_result"
    }
   ],
   "source": [
    "f.read()"
   ]
  },
  {
   "cell_type": "code",
   "execution_count": 18,
   "id": "926be217",
   "metadata": {},
   "outputs": [],
   "source": [
    "f1=open(\"test5.txt\")"
   ]
  },
  {
   "cell_type": "code",
   "execution_count": 19,
   "id": "dde88f51",
   "metadata": {},
   "outputs": [
    {
     "data": {
      "text/plain": [
       "0"
      ]
     },
     "execution_count": 19,
     "metadata": {},
     "output_type": "execute_result"
    }
   ],
   "source": [
    "f1.tell() # here curser is at 0 index we find it with the help of tell()"
   ]
  },
  {
   "cell_type": "code",
   "execution_count": 20,
   "id": "2bb2d9d5",
   "metadata": {},
   "outputs": [
    {
     "data": {
      "text/plain": [
       "'this is my python program to write into a file in  different way\\nthis is my python program to write into a file in  different way\\nthis is my python program to write into a file in  different way\\nthis is my python program to write into a file in  different way\\nthis is my python program to write into a file in  different way\\n'"
      ]
     },
     "execution_count": 20,
     "metadata": {},
     "output_type": "execute_result"
    }
   ],
   "source": [
    "f1.read()"
   ]
  },
  {
   "cell_type": "code",
   "execution_count": 22,
   "id": "348f3d67",
   "metadata": {},
   "outputs": [
    {
     "data": {
      "text/plain": [
       "330"
      ]
     },
     "execution_count": 22,
     "metadata": {},
     "output_type": "execute_result"
    }
   ],
   "source": [
    "f1.tell()  # here curser is at 330 index"
   ]
  },
  {
   "cell_type": "code",
   "execution_count": 32,
   "id": "949a4fc5",
   "metadata": {},
   "outputs": [
    {
     "data": {
      "text/plain": [
       "5"
      ]
     },
     "execution_count": 32,
     "metadata": {},
     "output_type": "execute_result"
    }
   ],
   "source": [
    "f1.seek(5)"
   ]
  },
  {
   "cell_type": "code",
   "execution_count": 33,
   "id": "fc447981",
   "metadata": {},
   "outputs": [
    {
     "data": {
      "text/plain": [
       "5"
      ]
     },
     "execution_count": 33,
     "metadata": {},
     "output_type": "execute_result"
    }
   ],
   "source": [
    "f1.tell()"
   ]
  },
  {
   "cell_type": "code",
   "execution_count": 29,
   "id": "141ddd65",
   "metadata": {},
   "outputs": [],
   "source": [
    " # it is reading from current curser which is present at 5th index\n",
    "            # from there to 15 index."
   ]
  },
  {
   "cell_type": "code",
   "execution_count": 34,
   "id": "19e056bb",
   "metadata": {},
   "outputs": [
    {
     "data": {
      "text/plain": [
       "'is my python pr'"
      ]
     },
     "execution_count": 34,
     "metadata": {},
     "output_type": "execute_result"
    }
   ],
   "source": [
    "f1.read(15)"
   ]
  },
  {
   "cell_type": "code",
   "execution_count": 35,
   "id": "f642cc7e",
   "metadata": {},
   "outputs": [],
   "source": [
    "f2=open(\"test5.txt\")"
   ]
  },
  {
   "cell_type": "code",
   "execution_count": 36,
   "id": "ea25f31b",
   "metadata": {},
   "outputs": [
    {
     "data": {
      "text/plain": [
       "0"
      ]
     },
     "execution_count": 36,
     "metadata": {},
     "output_type": "execute_result"
    }
   ],
   "source": [
    "f2.seek(0)"
   ]
  },
  {
   "cell_type": "code",
   "execution_count": 37,
   "id": "6809aabe",
   "metadata": {},
   "outputs": [
    {
     "data": {
      "text/plain": [
       "'this is my python program to write into a file in  different way\\nthis is my python program to write into a file in  different way\\nthis is my python program to write into a file in  different way\\nthis is my python program to write into a file in  different way\\nthis is my python program to write into a file in  different way\\n'"
      ]
     },
     "execution_count": 37,
     "metadata": {},
     "output_type": "execute_result"
    }
   ],
   "source": [
    "f2.read()"
   ]
  },
  {
   "cell_type": "code",
   "execution_count": 38,
   "id": "c611296e",
   "metadata": {},
   "outputs": [
    {
     "data": {
      "text/plain": [
       "''"
      ]
     },
     "execution_count": 38,
     "metadata": {},
     "output_type": "execute_result"
    }
   ],
   "source": [
    "f2.readline()"
   ]
  },
  {
   "cell_type": "code",
   "execution_count": 39,
   "id": "6e37dec2",
   "metadata": {},
   "outputs": [
    {
     "data": {
      "text/plain": [
       "0"
      ]
     },
     "execution_count": 39,
     "metadata": {},
     "output_type": "execute_result"
    }
   ],
   "source": [
    "f2.seek(0)"
   ]
  },
  {
   "cell_type": "code",
   "execution_count": 40,
   "id": "0b9f854a",
   "metadata": {},
   "outputs": [
    {
     "data": {
      "text/plain": [
       "'this is my python program to write into a file in  different way\\n'"
      ]
     },
     "execution_count": 40,
     "metadata": {},
     "output_type": "execute_result"
    }
   ],
   "source": [
    "f2.readline()"
   ]
  },
  {
   "cell_type": "code",
   "execution_count": 41,
   "id": "574153a2",
   "metadata": {},
   "outputs": [
    {
     "data": {
      "text/plain": [
       "['this is my python program to write into a file in  different way\\n',\n",
       " 'this is my python program to write into a file in  different way\\n',\n",
       " 'this is my python program to write into a file in  different way\\n',\n",
       " 'this is my python program to write into a file in  different way\\n']"
      ]
     },
     "execution_count": 41,
     "metadata": {},
     "output_type": "execute_result"
    }
   ],
   "source": [
    "f2.readlines()"
   ]
  },
  {
   "cell_type": "code",
   "execution_count": 42,
   "id": "e0145b15",
   "metadata": {},
   "outputs": [
    {
     "data": {
      "text/plain": [
       "5"
      ]
     },
     "execution_count": 42,
     "metadata": {},
     "output_type": "execute_result"
    }
   ],
   "source": [
    "f2.fileno()"
   ]
  },
  {
   "cell_type": "code",
   "execution_count": 43,
   "id": "1d0677e7",
   "metadata": {},
   "outputs": [],
   "source": [
    "f=open(\"test.txt\",'w')"
   ]
  },
  {
   "cell_type": "code",
   "execution_count": 44,
   "id": "0b5246cf",
   "metadata": {},
   "outputs": [
    {
     "data": {
      "text/plain": [
       "62"
      ]
     },
     "execution_count": 44,
     "metadata": {},
     "output_type": "execute_result"
    }
   ],
   "source": [
    "f.write(\"\"\"this is my pytho program to write into a file in different way\"\"\")"
   ]
  },
  {
   "cell_type": "code",
   "execution_count": 45,
   "id": "17d0e293",
   "metadata": {},
   "outputs": [],
   "source": [
    "f.close()"
   ]
  },
  {
   "cell_type": "code",
   "execution_count": 47,
   "id": "d38141c2",
   "metadata": {},
   "outputs": [
    {
     "ename": "ValueError",
     "evalue": "I/O operation on closed file.",
     "output_type": "error",
     "traceback": [
      "\u001b[1;31m---------------------------------------------------------------------------\u001b[0m",
      "\u001b[1;31mValueError\u001b[0m                                Traceback (most recent call last)",
      "Input \u001b[1;32mIn [47]\u001b[0m, in \u001b[0;36m<cell line: 1>\u001b[1;34m()\u001b[0m\n\u001b[1;32m----> 1\u001b[0m \u001b[43mf\u001b[49m\u001b[38;5;241;43m.\u001b[39;49m\u001b[43mwrite\u001b[49m\u001b[43m(\u001b[49m\u001b[38;5;124;43m\"\u001b[39;49m\u001b[38;5;124;43mwow momo what a tate\u001b[39;49m\u001b[38;5;124;43m\"\u001b[39;49m\u001b[43m)\u001b[49m\n",
      "\u001b[1;31mValueError\u001b[0m: I/O operation on closed file."
     ]
    }
   ],
   "source": [
    "f.write(\"wow momo what a tate\")"
   ]
  },
  {
   "cell_type": "code",
   "execution_count": 48,
   "id": "7aebcf96",
   "metadata": {},
   "outputs": [],
   "source": [
    "f=open(\"test.txt\",'w')"
   ]
  },
  {
   "cell_type": "code",
   "execution_count": 49,
   "id": "3af4ac55",
   "metadata": {},
   "outputs": [
    {
     "data": {
      "text/plain": [
       "21"
      ]
     },
     "execution_count": 49,
     "metadata": {},
     "output_type": "execute_result"
    }
   ],
   "source": [
    "f.write(\"wow momo what a taste\")"
   ]
  },
  {
   "cell_type": "code",
   "execution_count": 50,
   "id": "d8eacf77",
   "metadata": {},
   "outputs": [],
   "source": [
    "f.close()"
   ]
  },
  {
   "cell_type": "code",
   "execution_count": 51,
   "id": "638d9eee",
   "metadata": {},
   "outputs": [],
   "source": [
    "# now in (\"test.txt\") file the statement will be changed and new statement \n",
    "# will be wow momo what a taste."
   ]
  },
  {
   "cell_type": "code",
   "execution_count": 52,
   "id": "fe6c24e8",
   "metadata": {},
   "outputs": [],
   "source": [
    "#in line 43 and line 48 both are same file but with different statement"
   ]
  },
  {
   "cell_type": "code",
   "execution_count": 53,
   "id": "10147ec0",
   "metadata": {},
   "outputs": [],
   "source": [
    "f=open(\"test.txt\",'a')"
   ]
  },
  {
   "cell_type": "code",
   "execution_count": 54,
   "id": "85d51c99",
   "metadata": {},
   "outputs": [
    {
     "data": {
      "text/plain": [
       "23"
      ]
     },
     "execution_count": 54,
     "metadata": {},
     "output_type": "execute_result"
    }
   ],
   "source": [
    "f.write(\"this is my new data set\")"
   ]
  },
  {
   "cell_type": "code",
   "execution_count": 55,
   "id": "2f248b6c",
   "metadata": {},
   "outputs": [],
   "source": [
    "f.close()"
   ]
  },
  {
   "cell_type": "code",
   "execution_count": 56,
   "id": "e8288fcd",
   "metadata": {},
   "outputs": [],
   "source": [
    "# so in the above i am able to append new data set in existing data with the \n",
    "# help of 'a'which means append"
   ]
  },
  {
   "cell_type": "code",
   "execution_count": 63,
   "id": "8f1c167c",
   "metadata": {},
   "outputs": [],
   "source": [
    "# so 'r'means read,'w'means write,'a'means append,but there is something called\n",
    "# 'w+'means file will open in read and write mode,'r+'means read and write mode\n",
    "# but the difference between 'w+'and 'r+' is that if file does not exist then\n",
    "# 'r+'will give error while 'w+'will try to create  new file.\n",
    "#'a+' means simply it will try to create new file."
   ]
  },
  {
   "cell_type": "code",
   "execution_count": 59,
   "id": "d1697adb",
   "metadata": {},
   "outputs": [
    {
     "ename": "TypeError",
     "evalue": "'str' object is not callable",
     "output_type": "error",
     "traceback": [
      "\u001b[1;31m---------------------------------------------------------------------------\u001b[0m",
      "\u001b[1;31mTypeError\u001b[0m                                 Traceback (most recent call last)",
      "Input \u001b[1;32mIn [59]\u001b[0m, in \u001b[0;36m<cell line: 1>\u001b[1;34m()\u001b[0m\n\u001b[1;32m----> 1\u001b[0m \u001b[43mf\u001b[49m\u001b[38;5;241;43m.\u001b[39;49m\u001b[43mname\u001b[49m\u001b[43m(\u001b[49m\u001b[43m)\u001b[49m\n",
      "\u001b[1;31mTypeError\u001b[0m: 'str' object is not callable"
     ]
    }
   ],
   "source": [
    "f.name()"
   ]
  },
  {
   "cell_type": "code",
   "execution_count": 60,
   "id": "e739dc4f",
   "metadata": {},
   "outputs": [
    {
     "data": {
      "text/plain": [
       "'test.txt'"
      ]
     },
     "execution_count": 60,
     "metadata": {},
     "output_type": "execute_result"
    }
   ],
   "source": [
    "f.name"
   ]
  },
  {
   "cell_type": "code",
   "execution_count": 61,
   "id": "448c5861",
   "metadata": {},
   "outputs": [
    {
     "data": {
      "text/plain": [
       "True"
      ]
     },
     "execution_count": 61,
     "metadata": {},
     "output_type": "execute_result"
    }
   ],
   "source": [
    "f.closed"
   ]
  },
  {
   "cell_type": "code",
   "execution_count": 62,
   "id": "c0df6b39",
   "metadata": {},
   "outputs": [
    {
     "data": {
      "text/plain": [
       "'a'"
      ]
     },
     "execution_count": 62,
     "metadata": {},
     "output_type": "execute_result"
    }
   ],
   "source": [
    "f.mode"
   ]
  },
  {
   "cell_type": "code",
   "execution_count": 64,
   "id": "ecada4f3",
   "metadata": {},
   "outputs": [],
   "source": [
    "f=open(\"d:/test.txt\",\"w\")"
   ]
  },
  {
   "cell_type": "code",
   "execution_count": 1,
   "id": "e7529f1c",
   "metadata": {},
   "outputs": [],
   "source": [
    "# in the above the file is saved in d drive so i can also choose the location\n",
    "# where i want to save the file."
   ]
  },
  {
   "cell_type": "code",
   "execution_count": 1,
   "id": "d53b89cf",
   "metadata": {},
   "outputs": [],
   "source": [
    "# map"
   ]
  },
  {
   "cell_type": "code",
   "execution_count": 2,
   "id": "53798e24",
   "metadata": {},
   "outputs": [],
   "source": [
    "l=[2,3,4,5,5,6] # i want list of square of each elemnet present in list.\n",
    "l1=[]\n",
    "for i in l:\n",
    "    l1.append(i**2)\n",
    "    "
   ]
  },
  {
   "cell_type": "code",
   "execution_count": 3,
   "id": "8c69d68b",
   "metadata": {},
   "outputs": [
    {
     "data": {
      "text/plain": [
       "[4, 9, 16, 25, 25, 36]"
      ]
     },
     "execution_count": 3,
     "metadata": {},
     "output_type": "execute_result"
    }
   ],
   "source": [
    "l1"
   ]
  },
  {
   "cell_type": "code",
   "execution_count": 9,
   "id": "516aab0f",
   "metadata": {},
   "outputs": [],
   "source": [
    "def sq(n):\n",
    "    return n**2"
   ]
  },
  {
   "cell_type": "code",
   "execution_count": 5,
   "id": "8a9d7e3b",
   "metadata": {},
   "outputs": [
    {
     "ename": "TypeError",
     "evalue": "sq() takes 1 positional argument but 6 were given",
     "output_type": "error",
     "traceback": [
      "\u001b[1;31m---------------------------------------------------------------------------\u001b[0m",
      "\u001b[1;31mTypeError\u001b[0m                                 Traceback (most recent call last)",
      "Input \u001b[1;32mIn [5]\u001b[0m, in \u001b[0;36m<cell line: 1>\u001b[1;34m()\u001b[0m\n\u001b[1;32m----> 1\u001b[0m \u001b[43msq\u001b[49m\u001b[43m(\u001b[49m\u001b[38;5;241;43m2\u001b[39;49m\u001b[43m,\u001b[49m\u001b[38;5;241;43m3\u001b[39;49m\u001b[43m,\u001b[49m\u001b[38;5;241;43m4\u001b[39;49m\u001b[43m,\u001b[49m\u001b[38;5;241;43m5\u001b[39;49m\u001b[43m,\u001b[49m\u001b[38;5;241;43m5\u001b[39;49m\u001b[43m,\u001b[49m\u001b[38;5;241;43m6\u001b[39;49m\u001b[43m)\u001b[49m\n",
      "\u001b[1;31mTypeError\u001b[0m: sq() takes 1 positional argument but 6 were given"
     ]
    }
   ],
   "source": [
    "sq(2,3,4,5,5,6)"
   ]
  },
  {
   "cell_type": "code",
   "execution_count": 6,
   "id": "237e10a9",
   "metadata": {},
   "outputs": [
    {
     "ename": "TypeError",
     "evalue": "unsupported operand type(s) for ** or pow(): 'list' and 'int'",
     "output_type": "error",
     "traceback": [
      "\u001b[1;31m---------------------------------------------------------------------------\u001b[0m",
      "\u001b[1;31mTypeError\u001b[0m                                 Traceback (most recent call last)",
      "Input \u001b[1;32mIn [6]\u001b[0m, in \u001b[0;36m<cell line: 1>\u001b[1;34m()\u001b[0m\n\u001b[1;32m----> 1\u001b[0m \u001b[43msq\u001b[49m\u001b[43m(\u001b[49m\u001b[43m[\u001b[49m\u001b[38;5;241;43m2\u001b[39;49m\u001b[43m,\u001b[49m\u001b[38;5;241;43m3\u001b[39;49m\u001b[43m,\u001b[49m\u001b[38;5;241;43m4\u001b[39;49m\u001b[43m,\u001b[49m\u001b[38;5;241;43m5\u001b[39;49m\u001b[43m,\u001b[49m\u001b[38;5;241;43m5\u001b[39;49m\u001b[43m,\u001b[49m\u001b[38;5;241;43m6\u001b[39;49m\u001b[43m]\u001b[49m\u001b[43m)\u001b[49m\n",
      "Input \u001b[1;32mIn [4]\u001b[0m, in \u001b[0;36msq\u001b[1;34m(n)\u001b[0m\n\u001b[0;32m      1\u001b[0m \u001b[38;5;28;01mdef\u001b[39;00m \u001b[38;5;21msq\u001b[39m(n):\n\u001b[1;32m----> 2\u001b[0m     \u001b[38;5;28;01mreturn\u001b[39;00m \u001b[43mn\u001b[49m\u001b[38;5;241;43m*\u001b[39;49m\u001b[38;5;241;43m*\u001b[39;49m\u001b[38;5;241;43m2\u001b[39;49m\n",
      "\u001b[1;31mTypeError\u001b[0m: unsupported operand type(s) for ** or pow(): 'list' and 'int'"
     ]
    }
   ],
   "source": [
    "sq([2,3,4,5,5,6])"
   ]
  },
  {
   "cell_type": "code",
   "execution_count": 10,
   "id": "e8e551ba",
   "metadata": {},
   "outputs": [
    {
     "data": {
      "text/plain": [
       "<map at 0x29d71b417c0>"
      ]
     },
     "execution_count": 10,
     "metadata": {},
     "output_type": "execute_result"
    }
   ],
   "source": [
    "map(sq,l)"
   ]
  },
  {
   "cell_type": "code",
   "execution_count": 12,
   "id": "d9907fd7",
   "metadata": {},
   "outputs": [
    {
     "data": {
      "text/plain": [
       "[4, 9, 16, 25, 25, 36]"
      ]
     },
     "execution_count": 12,
     "metadata": {},
     "output_type": "execute_result"
    }
   ],
   "source": [
    "list(map(sq,l))  # map basically take 2 agrguments 1st funct and itrable"
   ]
  },
  {
   "cell_type": "code",
   "execution_count": 14,
   "id": "12bdd781",
   "metadata": {},
   "outputs": [],
   "source": [
    "# so map does simple things it map the each element from iterable to funct and \n",
    "# gives result.\n",
    "# in the above list is iterable\n",
    "# it doesn't matter whether its a complex or simple operation it is just doing\n",
    "# simple or maping of each element to funct."
   ]
  },
  {
   "cell_type": "code",
   "execution_count": 15,
   "id": "36ba67ba",
   "metadata": {},
   "outputs": [
    {
     "data": {
      "text/plain": [
       "<map at 0x29d71af0040>"
      ]
     },
     "execution_count": 15,
     "metadata": {},
     "output_type": "execute_result"
    }
   ],
   "source": [
    "map(lambda x : x**2,l)"
   ]
  },
  {
   "cell_type": "code",
   "execution_count": 16,
   "id": "018c8d88",
   "metadata": {},
   "outputs": [
    {
     "data": {
      "text/plain": [
       "[4, 9, 16, 25, 25, 36]"
      ]
     },
     "execution_count": 16,
     "metadata": {},
     "output_type": "execute_result"
    }
   ],
   "source": [
    "list(map(lambda x : x**2,l))"
   ]
  },
  {
   "cell_type": "code",
   "execution_count": 17,
   "id": "2c8c8432",
   "metadata": {},
   "outputs": [],
   "source": [
    "# so map always try to take 1st argument as funct that can outside funct like\n",
    "# sq(n)or it could be lambda funct."
   ]
  },
  {
   "cell_type": "code",
   "execution_count": 19,
   "id": "105999e4",
   "metadata": {},
   "outputs": [
    {
     "data": {
      "text/plain": [
       "[2, 3, 4, 5, 5, 6]"
      ]
     },
     "execution_count": 19,
     "metadata": {},
     "output_type": "execute_result"
    }
   ],
   "source": [
    "l # now  i want to convert each and every element of  list into str type "
   ]
  },
  {
   "cell_type": "code",
   "execution_count": 20,
   "id": "4c17d177",
   "metadata": {},
   "outputs": [
    {
     "data": {
      "text/plain": [
       "['2', '3', '4', '5', '5', '6']"
      ]
     },
     "execution_count": 20,
     "metadata": {},
     "output_type": "execute_result"
    }
   ],
   "source": [
    "list(map(lambda x : str(x),l))"
   ]
  },
  {
   "cell_type": "code",
   "execution_count": 21,
   "id": "af7320b6",
   "metadata": {},
   "outputs": [],
   "source": [
    "#or i can do the same with extarnal funct."
   ]
  },
  {
   "cell_type": "code",
   "execution_count": 22,
   "id": "e220bcda",
   "metadata": {},
   "outputs": [],
   "source": [
    "def str_c(n):\n",
    "    return str(n)"
   ]
  },
  {
   "cell_type": "code",
   "execution_count": 23,
   "id": "5f4aadb8",
   "metadata": {},
   "outputs": [
    {
     "data": {
      "text/plain": [
       "['2', '3', '4', '5', '5', '6']"
      ]
     },
     "execution_count": 23,
     "metadata": {},
     "output_type": "execute_result"
    }
   ],
   "source": [
    "list(map(str_c,l))"
   ]
  },
  {
   "cell_type": "code",
   "execution_count": 24,
   "id": "753a167d",
   "metadata": {},
   "outputs": [],
   "source": [
    "# even inbuilt funct can always be used"
   ]
  },
  {
   "cell_type": "code",
   "execution_count": 25,
   "id": "24e32ae7",
   "metadata": {},
   "outputs": [
    {
     "data": {
      "text/plain": [
       "['2', '3', '4', '5', '5', '6']"
      ]
     },
     "execution_count": 25,
     "metadata": {},
     "output_type": "execute_result"
    }
   ],
   "source": [
    "list(map(str,l))"
   ]
  },
  {
   "cell_type": "code",
   "execution_count": 26,
   "id": "1e40c354",
   "metadata": {},
   "outputs": [],
   "source": [
    "# so based on the nature of the funct map  is going to return."
   ]
  },
  {
   "cell_type": "code",
   "execution_count": 27,
   "id": "d96f0ea4",
   "metadata": {},
   "outputs": [],
   "source": [
    "# reduce funct"
   ]
  },
  {
   "cell_type": "code",
   "execution_count": 28,
   "id": "9deaab0e",
   "metadata": {},
   "outputs": [],
   "source": [
    "# by default it is not avaiable and it is available in pacakage funct tool so \n",
    "# we have to import."
   ]
  },
  {
   "cell_type": "code",
   "execution_count": 29,
   "id": "feab9956",
   "metadata": {},
   "outputs": [],
   "source": [
    "from functools import reduce"
   ]
  },
  {
   "cell_type": "code",
   "execution_count": 30,
   "id": "b0b02c5d",
   "metadata": {},
   "outputs": [],
   "source": [
    "l=[3,4,5,6,7,8,9] # now i want sumation of all element present in the list"
   ]
  },
  {
   "cell_type": "code",
   "execution_count": 31,
   "id": "f7ada63b",
   "metadata": {},
   "outputs": [
    {
     "data": {
      "text/plain": [
       "42"
      ]
     },
     "execution_count": 31,
     "metadata": {},
     "output_type": "execute_result"
    }
   ],
   "source": [
    "sum(l)"
   ]
  },
  {
   "cell_type": "code",
   "execution_count": 33,
   "id": "eb387594",
   "metadata": {},
   "outputs": [
    {
     "data": {
      "text/plain": [
       "42"
      ]
     },
     "execution_count": 33,
     "metadata": {},
     "output_type": "execute_result"
    }
   ],
   "source": [
    "reduce(lambda a,b: a+b,l)"
   ]
  },
  {
   "cell_type": "code",
   "execution_count": 34,
   "id": "716a6484",
   "metadata": {},
   "outputs": [],
   "source": [
    "# so nature of reduce funct is going to be same as it will take 1st argument\n",
    "# as funct and next as iterable.\n",
    "# reduce funct always try to accumulate or aggrigate on top of any sequence \n",
    "# you have passed."
   ]
  },
  {
   "cell_type": "code",
   "execution_count": 35,
   "id": "4142125f",
   "metadata": {},
   "outputs": [
    {
     "data": {
      "text/plain": [
       "181440"
      ]
     },
     "execution_count": 35,
     "metadata": {},
     "output_type": "execute_result"
    }
   ],
   "source": [
    "reduce(lambda a,b: a*b,l)"
   ]
  },
  {
   "cell_type": "code",
   "execution_count": 36,
   "id": "8c059866",
   "metadata": {},
   "outputs": [
    {
     "ename": "TypeError",
     "evalue": "<lambda>() missing 1 required positional argument: 'c'",
     "output_type": "error",
     "traceback": [
      "\u001b[1;31m---------------------------------------------------------------------------\u001b[0m",
      "\u001b[1;31mTypeError\u001b[0m                                 Traceback (most recent call last)",
      "Input \u001b[1;32mIn [36]\u001b[0m, in \u001b[0;36m<cell line: 1>\u001b[1;34m()\u001b[0m\n\u001b[1;32m----> 1\u001b[0m \u001b[43mreduce\u001b[49m\u001b[43m(\u001b[49m\u001b[38;5;28;43;01mlambda\u001b[39;49;00m\u001b[43m \u001b[49m\u001b[43ma\u001b[49m\u001b[43m,\u001b[49m\u001b[43mb\u001b[49m\u001b[43m,\u001b[49m\u001b[43mc\u001b[49m\u001b[43m:\u001b[49m\u001b[43ma\u001b[49m\u001b[38;5;241;43m+\u001b[39;49m\u001b[43mb\u001b[49m\u001b[38;5;241;43m+\u001b[39;49m\u001b[43mc\u001b[49m\u001b[43m,\u001b[49m\u001b[43ml\u001b[49m\u001b[43m)\u001b[49m\n",
      "\u001b[1;31mTypeError\u001b[0m: <lambda>() missing 1 required positional argument: 'c'"
     ]
    }
   ],
   "source": [
    "reduce(lambda a,b,c:a+b+c,l)"
   ]
  },
  {
   "cell_type": "code",
   "execution_count": 37,
   "id": "0fb2e259",
   "metadata": {},
   "outputs": [],
   "source": [
    "# so in reduce try to take that funct which has two pararmeters.because there is\n",
    "# a chance that it third one become null."
   ]
  },
  {
   "cell_type": "code",
   "execution_count": 38,
   "id": "a0e92167",
   "metadata": {},
   "outputs": [],
   "source": [
    "l=[3]"
   ]
  },
  {
   "cell_type": "code",
   "execution_count": 39,
   "id": "2b49cec6",
   "metadata": {},
   "outputs": [
    {
     "data": {
      "text/plain": [
       "3"
      ]
     },
     "execution_count": 39,
     "metadata": {},
     "output_type": "execute_result"
    }
   ],
   "source": [
    "reduce(lambda a,b:a+b,l)"
   ]
  },
  {
   "cell_type": "code",
   "execution_count": 40,
   "id": "f89a331e",
   "metadata": {},
   "outputs": [],
   "source": [
    "# in the above no error as it a exception "
   ]
  },
  {
   "cell_type": "code",
   "execution_count": 41,
   "id": "7360b839",
   "metadata": {},
   "outputs": [],
   "source": [
    "# we can also use external funct in reduce"
   ]
  },
  {
   "cell_type": "code",
   "execution_count": 42,
   "id": "bc98bbf4",
   "metadata": {},
   "outputs": [],
   "source": [
    "# filter funct"
   ]
  },
  {
   "cell_type": "code",
   "execution_count": 43,
   "id": "ded5f875",
   "metadata": {},
   "outputs": [],
   "source": [
    "# filter will return element if the condition is true."
   ]
  },
  {
   "cell_type": "code",
   "execution_count": 44,
   "id": "7791d311",
   "metadata": {},
   "outputs": [],
   "source": [
    "l=[1,2,3,4,45,5]# i want even no.from the list."
   ]
  },
  {
   "cell_type": "code",
   "execution_count": 45,
   "id": "984f72f3",
   "metadata": {},
   "outputs": [
    {
     "data": {
      "text/plain": [
       "<filter at 0x29d71b41850>"
      ]
     },
     "execution_count": 45,
     "metadata": {},
     "output_type": "execute_result"
    }
   ],
   "source": [
    "filter(lambda x: x%2==0,l)"
   ]
  },
  {
   "cell_type": "code",
   "execution_count": 46,
   "id": "c7d39da2",
   "metadata": {},
   "outputs": [
    {
     "data": {
      "text/plain": [
       "[2, 4]"
      ]
     },
     "execution_count": 46,
     "metadata": {},
     "output_type": "execute_result"
    }
   ],
   "source": [
    "list(filter(lambda x: x%2==0,l))"
   ]
  },
  {
   "cell_type": "code",
   "execution_count": 47,
   "id": "136a68d9",
   "metadata": {},
   "outputs": [],
   "source": [
    "# even i can use external funct as well."
   ]
  },
  {
   "cell_type": "code",
   "execution_count": 48,
   "id": "7931a055",
   "metadata": {},
   "outputs": [],
   "source": [
    "def check_even(n):\n",
    "    if n%2==0:\n",
    "        return True"
   ]
  },
  {
   "cell_type": "code",
   "execution_count": 49,
   "id": "e316178c",
   "metadata": {},
   "outputs": [
    {
     "data": {
      "text/plain": [
       "[2, 4]"
      ]
     },
     "execution_count": 49,
     "metadata": {},
     "output_type": "execute_result"
    }
   ],
   "source": [
    "list(filter(check_even,l))"
   ]
  },
  {
   "cell_type": "code",
   "execution_count": 50,
   "id": "18466831",
   "metadata": {},
   "outputs": [],
   "source": [
    "# filter operation always work on True or False condition.so if your return \n",
    "# statement is different from true or flase it is not going to work"
   ]
  },
  {
   "cell_type": "code",
   "execution_count": null,
   "id": "d5504c44",
   "metadata": {},
   "outputs": [],
   "source": []
  }
 ],
 "metadata": {
  "kernelspec": {
   "display_name": "Python 3 (ipykernel)",
   "language": "python",
   "name": "python3"
  },
  "language_info": {
   "codemirror_mode": {
    "name": "ipython",
    "version": 3
   },
   "file_extension": ".py",
   "mimetype": "text/x-python",
   "name": "python",
   "nbconvert_exporter": "python",
   "pygments_lexer": "ipython3",
   "version": "3.9.12"
  }
 },
 "nbformat": 4,
 "nbformat_minor": 5
}
