{
 "cells": [
  {
   "cell_type": "code",
   "execution_count": 1,
   "id": "b9f5266a",
   "metadata": {},
   "outputs": [],
   "source": [
    "# list"
   ]
  },
  {
   "cell_type": "code",
   "execution_count": 2,
   "id": "a1213a0c",
   "metadata": {},
   "outputs": [],
   "source": [
    "l1=[10,20,30]"
   ]
  },
  {
   "cell_type": "code",
   "execution_count": 3,
   "id": "1f36e8f9",
   "metadata": {},
   "outputs": [
    {
     "data": {
      "text/plain": [
       "list"
      ]
     },
     "execution_count": 3,
     "metadata": {},
     "output_type": "execute_result"
    }
   ],
   "source": [
    "type(l1)"
   ]
  },
  {
   "cell_type": "code",
   "execution_count": 9,
   "id": "69639add",
   "metadata": {},
   "outputs": [],
   "source": [
    "l2=[] # empty list"
   ]
  },
  {
   "cell_type": "code",
   "execution_count": 5,
   "id": "4a4988a6",
   "metadata": {},
   "outputs": [
    {
     "data": {
      "text/plain": [
       "list"
      ]
     },
     "execution_count": 5,
     "metadata": {},
     "output_type": "execute_result"
    }
   ],
   "source": [
    "type(l2)"
   ]
  },
  {
   "cell_type": "code",
   "execution_count": 7,
   "id": "7ba4f6b2",
   "metadata": {},
   "outputs": [],
   "source": [
    "l3=[\"A\",12,True,3+4j,4.5,10] # list can contains heterogenious data"
   ]
  },
  {
   "cell_type": "code",
   "execution_count": 8,
   "id": "a900485c",
   "metadata": {},
   "outputs": [
    {
     "data": {
      "text/plain": [
       "list"
      ]
     },
     "execution_count": 8,
     "metadata": {},
     "output_type": "execute_result"
    }
   ],
   "source": [
    "type(l3)"
   ]
  },
  {
   "cell_type": "code",
   "execution_count": 10,
   "id": "1b778b66",
   "metadata": {},
   "outputs": [
    {
     "name": "stdout",
     "output_type": "stream",
     "text": [
      "[10, 20, 30]\n"
     ]
    }
   ],
   "source": [
    "print(l1)"
   ]
  },
  {
   "cell_type": "code",
   "execution_count": 11,
   "id": "0ded31a0",
   "metadata": {},
   "outputs": [
    {
     "name": "stdout",
     "output_type": "stream",
     "text": [
      "[]\n"
     ]
    }
   ],
   "source": [
    "print(l2)"
   ]
  },
  {
   "cell_type": "code",
   "execution_count": 12,
   "id": "bf760719",
   "metadata": {},
   "outputs": [
    {
     "name": "stdout",
     "output_type": "stream",
     "text": [
      "['A', 12, True, (3+4j), 4.5, 10]\n"
     ]
    }
   ],
   "source": [
    "print(l3)"
   ]
  },
  {
   "cell_type": "code",
   "execution_count": 13,
   "id": "e7ee15e6",
   "metadata": {},
   "outputs": [
    {
     "data": {
      "text/plain": [
       "10"
      ]
     },
     "execution_count": 13,
     "metadata": {},
     "output_type": "execute_result"
    }
   ],
   "source": [
    "l1[0]"
   ]
  },
  {
   "cell_type": "code",
   "execution_count": 14,
   "id": "45f596a5",
   "metadata": {},
   "outputs": [
    {
     "name": "stdout",
     "output_type": "stream",
     "text": [
      "10\n"
     ]
    }
   ],
   "source": [
    "print(l1[0])"
   ]
  },
  {
   "cell_type": "code",
   "execution_count": 15,
   "id": "7af7d235",
   "metadata": {},
   "outputs": [
    {
     "name": "stdout",
     "output_type": "stream",
     "text": [
      "20\n"
     ]
    }
   ],
   "source": [
    "print(l1[1])"
   ]
  },
  {
   "cell_type": "code",
   "execution_count": 17,
   "id": "16bc1eb4",
   "metadata": {},
   "outputs": [
    {
     "ename": "IndexError",
     "evalue": "list index out of range",
     "output_type": "error",
     "traceback": [
      "\u001b[1;31m---------------------------------------------------------------------------\u001b[0m",
      "\u001b[1;31mIndexError\u001b[0m                                Traceback (most recent call last)",
      "Input \u001b[1;32mIn [17]\u001b[0m, in \u001b[0;36m<cell line: 1>\u001b[1;34m()\u001b[0m\n\u001b[1;32m----> 1\u001b[0m \u001b[38;5;28mprint\u001b[39m(\u001b[43ml1\u001b[49m\u001b[43m[\u001b[49m\u001b[38;5;241;43m3\u001b[39;49m\u001b[43m]\u001b[49m)\n",
      "\u001b[1;31mIndexError\u001b[0m: list index out of range"
     ]
    }
   ],
   "source": [
    "print(l1[3])  # since 3 index is not there"
   ]
  },
  {
   "cell_type": "code",
   "execution_count": 18,
   "id": "4d384203",
   "metadata": {},
   "outputs": [
    {
     "ename": "IndexError",
     "evalue": "list index out of range",
     "output_type": "error",
     "traceback": [
      "\u001b[1;31m---------------------------------------------------------------------------\u001b[0m",
      "\u001b[1;31mIndexError\u001b[0m                                Traceback (most recent call last)",
      "Input \u001b[1;32mIn [18]\u001b[0m, in \u001b[0;36m<cell line: 1>\u001b[1;34m()\u001b[0m\n\u001b[1;32m----> 1\u001b[0m \u001b[38;5;28mprint\u001b[39m(\u001b[43ml2\u001b[49m\u001b[43m[\u001b[49m\u001b[38;5;241;43m0\u001b[39;49m\u001b[43m]\u001b[49m)\n",
      "\u001b[1;31mIndexError\u001b[0m: list index out of range"
     ]
    }
   ],
   "source": [
    "print(l2[0])"
   ]
  },
  {
   "cell_type": "code",
   "execution_count": 19,
   "id": "3ea2c245",
   "metadata": {},
   "outputs": [
    {
     "data": {
      "text/plain": [
       "['A', 12, True, (3+4j), 4.5, 10]"
      ]
     },
     "execution_count": 19,
     "metadata": {},
     "output_type": "execute_result"
    }
   ],
   "source": [
    "l3"
   ]
  },
  {
   "cell_type": "code",
   "execution_count": 20,
   "id": "f3fdcc6b",
   "metadata": {},
   "outputs": [
    {
     "data": {
      "text/plain": [
       "str"
      ]
     },
     "execution_count": 20,
     "metadata": {},
     "output_type": "execute_result"
    }
   ],
   "source": [
    "type(l3[0])"
   ]
  },
  {
   "cell_type": "code",
   "execution_count": 21,
   "id": "5a543a46",
   "metadata": {},
   "outputs": [
    {
     "data": {
      "text/plain": [
       "complex"
      ]
     },
     "execution_count": 21,
     "metadata": {},
     "output_type": "execute_result"
    }
   ],
   "source": [
    "type(l3[3])"
   ]
  },
  {
   "cell_type": "code",
   "execution_count": 24,
   "id": "726e1960",
   "metadata": {},
   "outputs": [
    {
     "name": "stdout",
     "output_type": "stream",
     "text": [
      "10\n"
     ]
    }
   ],
   "source": [
    "print(l3[-1])  # in c,c++ there is no negative indexing concept is there"
   ]
  },
  {
   "cell_type": "code",
   "execution_count": 26,
   "id": "279dcbac",
   "metadata": {},
   "outputs": [
    {
     "data": {
      "text/plain": [
       "[10, 20, 30]"
      ]
     },
     "execution_count": 26,
     "metadata": {},
     "output_type": "execute_result"
    }
   ],
   "source": [
    "l1"
   ]
  },
  {
   "cell_type": "code",
   "execution_count": 28,
   "id": "35dcec11",
   "metadata": {},
   "outputs": [
    {
     "name": "stdout",
     "output_type": "stream",
     "text": [
      "10 20 30 "
     ]
    }
   ],
   "source": [
    "for x in l1: # accessing list elements via for loop\n",
    "    print(x,end=\" \")"
   ]
  },
  {
   "cell_type": "code",
   "execution_count": 29,
   "id": "b1a564c6",
   "metadata": {},
   "outputs": [],
   "source": [
    "# now accessing list element by while loop"
   ]
  },
  {
   "cell_type": "code",
   "execution_count": 31,
   "id": "08554938",
   "metadata": {},
   "outputs": [
    {
     "name": "stdout",
     "output_type": "stream",
     "text": [
      "10 20 30 "
     ]
    }
   ],
   "source": [
    "i=0\n",
    "while i<3:\n",
    "    print(l1[i],end=\" \")\n",
    "    i+=1"
   ]
  },
  {
   "cell_type": "code",
   "execution_count": 32,
   "id": "b33a283f",
   "metadata": {},
   "outputs": [],
   "source": [
    "# now i want to accesses by negative indexing"
   ]
  },
  {
   "cell_type": "code",
   "execution_count": 34,
   "id": "ce318384",
   "metadata": {},
   "outputs": [
    {
     "name": "stdout",
     "output_type": "stream",
     "text": [
      "30 20 10 "
     ]
    }
   ],
   "source": [
    "i=2\n",
    "while i>=0:\n",
    "    print(l1[i],end=\" \")\n",
    "    i-=1\n",
    "    # we cannot get this output using for loop"
   ]
  },
  {
   "cell_type": "code",
   "execution_count": 35,
   "id": "ec464c76",
   "metadata": {},
   "outputs": [],
   "source": [
    "l=[10,20,30,40]"
   ]
  },
  {
   "cell_type": "code",
   "execution_count": 36,
   "id": "5ead4fb5",
   "metadata": {},
   "outputs": [],
   "source": [
    "del l[2]"
   ]
  },
  {
   "cell_type": "code",
   "execution_count": 37,
   "id": "2fb168ae",
   "metadata": {},
   "outputs": [
    {
     "data": {
      "text/plain": [
       "[10, 20, 40]"
      ]
     },
     "execution_count": 37,
     "metadata": {},
     "output_type": "execute_result"
    }
   ],
   "source": [
    "l"
   ]
  },
  {
   "cell_type": "code",
   "execution_count": 38,
   "id": "51e1c6c5",
   "metadata": {},
   "outputs": [
    {
     "data": {
      "text/plain": [
       "[10, 20, 30]"
      ]
     },
     "execution_count": 38,
     "metadata": {},
     "output_type": "execute_result"
    }
   ],
   "source": [
    "l1"
   ]
  },
  {
   "cell_type": "code",
   "execution_count": 39,
   "id": "566abb57",
   "metadata": {},
   "outputs": [],
   "source": [
    "l1[0]=40"
   ]
  },
  {
   "cell_type": "code",
   "execution_count": 40,
   "id": "0ee6a948",
   "metadata": {},
   "outputs": [
    {
     "data": {
      "text/plain": [
       "[40, 20, 30]"
      ]
     },
     "execution_count": 40,
     "metadata": {},
     "output_type": "execute_result"
    }
   ],
   "source": [
    "l1"
   ]
  },
  {
   "cell_type": "code",
   "execution_count": 42,
   "id": "a598b519",
   "metadata": {},
   "outputs": [
    {
     "ename": "IndexError",
     "evalue": "list assignment index out of range",
     "output_type": "error",
     "traceback": [
      "\u001b[1;31m---------------------------------------------------------------------------\u001b[0m",
      "\u001b[1;31mIndexError\u001b[0m                                Traceback (most recent call last)",
      "Input \u001b[1;32mIn [42]\u001b[0m, in \u001b[0;36m<cell line: 1>\u001b[1;34m()\u001b[0m\n\u001b[1;32m----> 1\u001b[0m l1[\u001b[38;5;241m3\u001b[39m]\u001b[38;5;241m=\u001b[39m\u001b[38;5;241m50\u001b[39m\n",
      "\u001b[1;31mIndexError\u001b[0m: list assignment index out of range"
     ]
    }
   ],
   "source": [
    "l1[3]=50 # error as 3 is not valid index"
   ]
  },
  {
   "cell_type": "code",
   "execution_count": 44,
   "id": "3b2e7793",
   "metadata": {},
   "outputs": [
    {
     "name": "stdout",
     "output_type": "stream",
     "text": [
      "[40, 20, 30, 10, 50, 60]\n"
     ]
    }
   ],
   "source": [
    "l1=[40,20,30,10,50,60]\n",
    "for x in l1:\n",
    "    if x==20:\n",
    "        del x\n",
    "print(l1)      # 20 has not been deleted"
   ]
  },
  {
   "cell_type": "code",
   "execution_count": 47,
   "id": "f9b7490a",
   "metadata": {},
   "outputs": [
    {
     "name": "stdout",
     "output_type": "stream",
     "text": [
      "[40, 30, 10, 50, 60]\n"
     ]
    }
   ],
   "source": [
    "l1=[40,20,30,10,50,60]\n",
    "for x in l1:\n",
    "    if x==20:\n",
    "        del l1[1]\n",
    "print(l1)      # this time 20 is deleted\n",
    "               # but logically this code is not that appropriate"
   ]
  },
  {
   "cell_type": "code",
   "execution_count": 49,
   "id": "4e4f9215",
   "metadata": {},
   "outputs": [
    {
     "name": "stdout",
     "output_type": "stream",
     "text": [
      "[40, 20, 30, 10, 60]\n"
     ]
    }
   ],
   "source": [
    "l1=[40,20,30,10,50,60]\n",
    "for x in l1:\n",
    "    if x==20:\n",
    "        del l1[4]\n",
    "print(l1) # this time 50 is deleted as it is at index 4"
   ]
  },
  {
   "cell_type": "code",
   "execution_count": 50,
   "id": "0b0fe923",
   "metadata": {},
   "outputs": [
    {
     "data": {
      "text/plain": [
       "[40, 20, 30, 10, 60]"
      ]
     },
     "execution_count": 50,
     "metadata": {},
     "output_type": "execute_result"
    }
   ],
   "source": [
    "l1"
   ]
  },
  {
   "cell_type": "code",
   "execution_count": 51,
   "id": "6e2c51a4",
   "metadata": {},
   "outputs": [
    {
     "data": {
      "text/plain": [
       "6"
      ]
     },
     "execution_count": 51,
     "metadata": {},
     "output_type": "execute_result"
    }
   ],
   "source": [
    "l1=[40,20,30,10,50,60]\n",
    "len(l1)"
   ]
  },
  {
   "cell_type": "code",
   "execution_count": 52,
   "id": "4f9a4fea",
   "metadata": {},
   "outputs": [
    {
     "name": "stdout",
     "output_type": "stream",
     "text": [
      "6\n"
     ]
    }
   ],
   "source": [
    "l1=[40,20,30,10,50,60]\n",
    "length=len(l1)\n",
    "print(length)"
   ]
  },
  {
   "cell_type": "code",
   "execution_count": 53,
   "id": "614ec9e4",
   "metadata": {},
   "outputs": [],
   "source": [
    "# len(),min(),max(),sum(),sorted() this method(function) will work on any \n",
    "# iterable like print(),type(),etc  which are present in builtin module \n",
    "# and we can use this function without importing them"
   ]
  },
  {
   "cell_type": "code",
   "execution_count": 54,
   "id": "acf28f9f",
   "metadata": {},
   "outputs": [
    {
     "data": {
      "text/plain": [
       "[40, 20, 30, 10, 50, 60]"
      ]
     },
     "execution_count": 54,
     "metadata": {},
     "output_type": "execute_result"
    }
   ],
   "source": [
    "l1"
   ]
  },
  {
   "cell_type": "code",
   "execution_count": 55,
   "id": "c32578d2",
   "metadata": {},
   "outputs": [
    {
     "data": {
      "text/plain": [
       "10"
      ]
     },
     "execution_count": 55,
     "metadata": {},
     "output_type": "execute_result"
    }
   ],
   "source": [
    "min(l1)"
   ]
  },
  {
   "cell_type": "code",
   "execution_count": 56,
   "id": "f79eafa6",
   "metadata": {},
   "outputs": [
    {
     "data": {
      "text/plain": [
       "60"
      ]
     },
     "execution_count": 56,
     "metadata": {},
     "output_type": "execute_result"
    }
   ],
   "source": [
    "max(l1)"
   ]
  },
  {
   "cell_type": "code",
   "execution_count": 57,
   "id": "5722bdbb",
   "metadata": {},
   "outputs": [
    {
     "data": {
      "text/plain": [
       "210"
      ]
     },
     "execution_count": 57,
     "metadata": {},
     "output_type": "execute_result"
    }
   ],
   "source": [
    "sum(l1)"
   ]
  },
  {
   "cell_type": "code",
   "execution_count": 58,
   "id": "98d53e6d",
   "metadata": {},
   "outputs": [
    {
     "data": {
      "text/plain": [
       "['A', 12, True, (3+4j), 4.5, 10]"
      ]
     },
     "execution_count": 58,
     "metadata": {},
     "output_type": "execute_result"
    }
   ],
   "source": [
    "l3"
   ]
  },
  {
   "cell_type": "code",
   "execution_count": 59,
   "id": "303e358f",
   "metadata": {},
   "outputs": [
    {
     "ename": "TypeError",
     "evalue": "'<' not supported between instances of 'int' and 'str'",
     "output_type": "error",
     "traceback": [
      "\u001b[1;31m---------------------------------------------------------------------------\u001b[0m",
      "\u001b[1;31mTypeError\u001b[0m                                 Traceback (most recent call last)",
      "Input \u001b[1;32mIn [59]\u001b[0m, in \u001b[0;36m<cell line: 1>\u001b[1;34m()\u001b[0m\n\u001b[1;32m----> 1\u001b[0m \u001b[38;5;28;43mmin\u001b[39;49m\u001b[43m(\u001b[49m\u001b[43ml3\u001b[49m\u001b[43m)\u001b[49m\n",
      "\u001b[1;31mTypeError\u001b[0m: '<' not supported between instances of 'int' and 'str'"
     ]
    }
   ],
   "source": [
    "min(l3)"
   ]
  },
  {
   "cell_type": "code",
   "execution_count": 60,
   "id": "576e7ad8",
   "metadata": {},
   "outputs": [
    {
     "data": {
      "text/plain": [
       "[40, 20, 30, 10, 50, 60]"
      ]
     },
     "execution_count": 60,
     "metadata": {},
     "output_type": "execute_result"
    }
   ],
   "source": [
    "l1"
   ]
  },
  {
   "cell_type": "code",
   "execution_count": 61,
   "id": "f253dfcd",
   "metadata": {},
   "outputs": [
    {
     "data": {
      "text/plain": [
       "[10, 20, 30, 40, 50, 60]"
      ]
     },
     "execution_count": 61,
     "metadata": {},
     "output_type": "execute_result"
    }
   ],
   "source": [
    "sorted(l1)"
   ]
  },
  {
   "cell_type": "code",
   "execution_count": 62,
   "id": "924b01a0",
   "metadata": {},
   "outputs": [
    {
     "data": {
      "text/plain": [
       "[40, 20, 30, 10, 50, 60]"
      ]
     },
     "execution_count": 62,
     "metadata": {},
     "output_type": "execute_result"
    }
   ],
   "source": [
    "l1"
   ]
  },
  {
   "cell_type": "code",
   "execution_count": 63,
   "id": "2abd2f81",
   "metadata": {},
   "outputs": [],
   "source": [
    "# now i want permanent list of sorted"
   ]
  },
  {
   "cell_type": "code",
   "execution_count": 64,
   "id": "af605e91",
   "metadata": {},
   "outputs": [],
   "source": [
    "l1=sorted(l1)"
   ]
  },
  {
   "cell_type": "code",
   "execution_count": 65,
   "id": "a365387a",
   "metadata": {},
   "outputs": [
    {
     "data": {
      "text/plain": [
       "[10, 20, 30, 40, 50, 60]"
      ]
     },
     "execution_count": 65,
     "metadata": {},
     "output_type": "execute_result"
    }
   ],
   "source": [
    "l1"
   ]
  },
  {
   "cell_type": "code",
   "execution_count": 66,
   "id": "b2ce2194",
   "metadata": {},
   "outputs": [
    {
     "data": {
      "text/plain": [
       "[60, 50, 40, 30, 20, 10]"
      ]
     },
     "execution_count": 66,
     "metadata": {},
     "output_type": "execute_result"
    }
   ],
   "source": [
    "sorted(l1,reverse=True)"
   ]
  },
  {
   "cell_type": "code",
   "execution_count": 70,
   "id": "333e7970",
   "metadata": {},
   "outputs": [],
   "source": [
    "# list method"
   ]
  },
  {
   "cell_type": "code",
   "execution_count": 71,
   "id": "e49809ff",
   "metadata": {},
   "outputs": [],
   "source": [
    "l2=list()"
   ]
  },
  {
   "cell_type": "code",
   "execution_count": 68,
   "id": "f834dc84",
   "metadata": {},
   "outputs": [
    {
     "data": {
      "text/plain": [
       "[]"
      ]
     },
     "execution_count": 68,
     "metadata": {},
     "output_type": "execute_result"
    }
   ],
   "source": [
    "l2"
   ]
  },
  {
   "cell_type": "code",
   "execution_count": 69,
   "id": "4ba9a893",
   "metadata": {},
   "outputs": [
    {
     "data": {
      "text/plain": [
       "list"
      ]
     },
     "execution_count": 69,
     "metadata": {},
     "output_type": "execute_result"
    }
   ],
   "source": [
    "type(l2)"
   ]
  },
  {
   "cell_type": "code",
   "execution_count": 73,
   "id": "28a706ab",
   "metadata": {},
   "outputs": [
    {
     "ename": "TypeError",
     "evalue": "'int' object is not iterable",
     "output_type": "error",
     "traceback": [
      "\u001b[1;31m---------------------------------------------------------------------------\u001b[0m",
      "\u001b[1;31mTypeError\u001b[0m                                 Traceback (most recent call last)",
      "Input \u001b[1;32mIn [73]\u001b[0m, in \u001b[0;36m<cell line: 1>\u001b[1;34m()\u001b[0m\n\u001b[1;32m----> 1\u001b[0m l2\u001b[38;5;241m=\u001b[39m\u001b[38;5;28;43mlist\u001b[39;49m\u001b[43m(\u001b[49m\u001b[38;5;241;43m10\u001b[39;49m\u001b[43m)\u001b[49m\n",
      "\u001b[1;31mTypeError\u001b[0m: 'int' object is not iterable"
     ]
    }
   ],
   "source": [
    "l2=list(10)  # argument should be iterable and int is not iterable"
   ]
  },
  {
   "cell_type": "code",
   "execution_count": 75,
   "id": "654f5c3c",
   "metadata": {},
   "outputs": [
    {
     "ename": "TypeError",
     "evalue": "list expected at most 1 argument, got 3",
     "output_type": "error",
     "traceback": [
      "\u001b[1;31m---------------------------------------------------------------------------\u001b[0m",
      "\u001b[1;31mTypeError\u001b[0m                                 Traceback (most recent call last)",
      "Input \u001b[1;32mIn [75]\u001b[0m, in \u001b[0;36m<cell line: 1>\u001b[1;34m()\u001b[0m\n\u001b[1;32m----> 1\u001b[0m l2\u001b[38;5;241m=\u001b[39m\u001b[38;5;28;43mlist\u001b[39;49m\u001b[43m(\u001b[49m\u001b[38;5;241;43m10\u001b[39;49m\u001b[43m,\u001b[49m\u001b[38;5;241;43m20\u001b[39;49m\u001b[43m,\u001b[49m\u001b[38;5;241;43m30\u001b[39;49m\u001b[43m)\u001b[49m\n",
      "\u001b[1;31mTypeError\u001b[0m: list expected at most 1 argument, got 3"
     ]
    }
   ],
   "source": [
    "l2=list(10,20,30)  # at most it can take one arguments"
   ]
  },
  {
   "cell_type": "code",
   "execution_count": 76,
   "id": "a73ac6e6",
   "metadata": {},
   "outputs": [],
   "source": [
    "l2=list(\"mysirg\")"
   ]
  },
  {
   "cell_type": "code",
   "execution_count": 77,
   "id": "05112f7a",
   "metadata": {},
   "outputs": [
    {
     "data": {
      "text/plain": [
       "['m', 'y', 's', 'i', 'r', 'g']"
      ]
     },
     "execution_count": 77,
     "metadata": {},
     "output_type": "execute_result"
    }
   ],
   "source": [
    "l2"
   ]
  },
  {
   "cell_type": "code",
   "execution_count": 78,
   "id": "ed42f6fd",
   "metadata": {},
   "outputs": [],
   "source": [
    "l2=list(range(2,10,2))"
   ]
  },
  {
   "cell_type": "code",
   "execution_count": 79,
   "id": "34a5a7e3",
   "metadata": {},
   "outputs": [
    {
     "data": {
      "text/plain": [
       "[2, 4, 6, 8]"
      ]
     },
     "execution_count": 79,
     "metadata": {},
     "output_type": "execute_result"
    }
   ],
   "source": [
    "l2"
   ]
  },
  {
   "cell_type": "code",
   "execution_count": 80,
   "id": "7e42b1e0",
   "metadata": {},
   "outputs": [],
   "source": [
    "l1=list(range(5))"
   ]
  },
  {
   "cell_type": "code",
   "execution_count": 81,
   "id": "4cdf24a6",
   "metadata": {},
   "outputs": [
    {
     "data": {
      "text/plain": [
       "[0, 1, 2, 3, 4]"
      ]
     },
     "execution_count": 81,
     "metadata": {},
     "output_type": "execute_result"
    }
   ],
   "source": [
    "l1"
   ]
  },
  {
   "cell_type": "code",
   "execution_count": 82,
   "id": "1b31a9ac",
   "metadata": {},
   "outputs": [],
   "source": [
    "l1=[1,2,3]\n",
    "l2=[2,3,1]\n",
    "l3=[1,2,3,4,5]\n",
    "l4=[1,2,3]"
   ]
  },
  {
   "cell_type": "code",
   "execution_count": 84,
   "id": "2f071195",
   "metadata": {},
   "outputs": [
    {
     "data": {
      "text/plain": [
       "False"
      ]
     },
     "execution_count": 84,
     "metadata": {},
     "output_type": "execute_result"
    }
   ],
   "source": [
    "l1==l2  # sequence is different"
   ]
  },
  {
   "cell_type": "code",
   "execution_count": 85,
   "id": "663d78c5",
   "metadata": {},
   "outputs": [
    {
     "data": {
      "text/plain": [
       "True"
      ]
     },
     "execution_count": 85,
     "metadata": {},
     "output_type": "execute_result"
    }
   ],
   "source": [
    "l1==l4"
   ]
  },
  {
   "cell_type": "code",
   "execution_count": 86,
   "id": "6a82021d",
   "metadata": {},
   "outputs": [
    {
     "data": {
      "text/plain": [
       "False"
      ]
     },
     "execution_count": 86,
     "metadata": {},
     "output_type": "execute_result"
    }
   ],
   "source": [
    "l1==l3"
   ]
  },
  {
   "cell_type": "code",
   "execution_count": 89,
   "id": "66789bb2",
   "metadata": {},
   "outputs": [
    {
     "data": {
      "text/plain": [
       "False"
      ]
     },
     "execution_count": 89,
     "metadata": {},
     "output_type": "execute_result"
    }
   ],
   "source": [
    "l1>l2  # it will compare  the element index wise "
   ]
  },
  {
   "cell_type": "code",
   "execution_count": 90,
   "id": "ba5a1c56",
   "metadata": {},
   "outputs": [
    {
     "name": "stdout",
     "output_type": "stream",
     "text": [
      "[1, 3, 5] [2, 1, 8] [5, 4, 4] "
     ]
    }
   ],
   "source": [
    "l1=[[1,3,5],[2,1,8],[5,4,4]]\n",
    "for row in l1:\n",
    "    print(row,end=\" \")"
   ]
  },
  {
   "cell_type": "code",
   "execution_count": 91,
   "id": "c051e376",
   "metadata": {},
   "outputs": [
    {
     "name": "stdout",
     "output_type": "stream",
     "text": [
      "1 \n",
      "3 \n",
      "5 \n",
      "2 \n",
      "1 \n",
      "8 \n",
      "5 \n",
      "4 \n",
      "4 \n"
     ]
    }
   ],
   "source": [
    "for row in l1:\n",
    "    for e in row:\n",
    "        print(e,end=\" \")\n",
    "        print()"
   ]
  },
  {
   "cell_type": "code",
   "execution_count": 92,
   "id": "9d2c82a4",
   "metadata": {},
   "outputs": [
    {
     "name": "stdout",
     "output_type": "stream",
     "text": [
      "1 3 5 \n",
      "2 1 8 \n",
      "5 4 4 \n"
     ]
    }
   ],
   "source": [
    "for row in l1:\n",
    "    for e in row:\n",
    "        print(e,end=\" \")\n",
    "    print()"
   ]
  },
  {
   "cell_type": "code",
   "execution_count": 1,
   "id": "d93e4f42",
   "metadata": {},
   "outputs": [],
   "source": [
    "l2=[2,4,6,8]"
   ]
  },
  {
   "cell_type": "code",
   "execution_count": 2,
   "id": "1ee9b3e2",
   "metadata": {},
   "outputs": [],
   "source": [
    "l2.remove(6)"
   ]
  },
  {
   "cell_type": "code",
   "execution_count": 3,
   "id": "190c0387",
   "metadata": {},
   "outputs": [
    {
     "data": {
      "text/plain": [
       "[2, 4, 8]"
      ]
     },
     "execution_count": 3,
     "metadata": {},
     "output_type": "execute_result"
    }
   ],
   "source": [
    "l2\n"
   ]
  },
  {
   "cell_type": "code",
   "execution_count": 4,
   "id": "a41c4db9",
   "metadata": {},
   "outputs": [],
   "source": [
    "l2=[10,20,4,5,20,3,20,5]"
   ]
  },
  {
   "cell_type": "code",
   "execution_count": 7,
   "id": "9d3b8cd1",
   "metadata": {},
   "outputs": [],
   "source": [
    "l2.remove(20)  # so if same value is there mutipile time then the one appearing\n",
    "               # first will remove"
   ]
  },
  {
   "cell_type": "code",
   "execution_count": 6,
   "id": "c4184317",
   "metadata": {},
   "outputs": [
    {
     "data": {
      "text/plain": [
       "[10, 4, 5, 20, 3, 20, 5]"
      ]
     },
     "execution_count": 6,
     "metadata": {},
     "output_type": "execute_result"
    }
   ],
   "source": [
    "l2"
   ]
  },
  {
   "cell_type": "code",
   "execution_count": 8,
   "id": "82e574a7",
   "metadata": {},
   "outputs": [
    {
     "ename": "ValueError",
     "evalue": "list.remove(x): x not in list",
     "output_type": "error",
     "traceback": [
      "\u001b[1;31m---------------------------------------------------------------------------\u001b[0m",
      "\u001b[1;31mValueError\u001b[0m                                Traceback (most recent call last)",
      "Input \u001b[1;32mIn [8]\u001b[0m, in \u001b[0;36m<cell line: 1>\u001b[1;34m()\u001b[0m\n\u001b[1;32m----> 1\u001b[0m \u001b[43ml2\u001b[49m\u001b[38;5;241;43m.\u001b[39;49m\u001b[43mremove\u001b[49m\u001b[43m(\u001b[49m\u001b[38;5;241;43m100\u001b[39;49m\u001b[43m)\u001b[49m\n",
      "\u001b[1;31mValueError\u001b[0m: list.remove(x): x not in list"
     ]
    }
   ],
   "source": [
    "l2.remove(100)"
   ]
  },
  {
   "cell_type": "code",
   "execution_count": 9,
   "id": "7b55b4fb",
   "metadata": {},
   "outputs": [],
   "source": [
    "# del function deletes reference not the object"
   ]
  },
  {
   "cell_type": "code",
   "execution_count": 10,
   "id": "9ba2b0d5",
   "metadata": {},
   "outputs": [
    {
     "data": {
      "text/plain": [
       "[10, 4, 5, 3, 20, 5]"
      ]
     },
     "execution_count": 10,
     "metadata": {},
     "output_type": "execute_result"
    }
   ],
   "source": [
    "l2"
   ]
  },
  {
   "cell_type": "code",
   "execution_count": 12,
   "id": "6e7aafdc",
   "metadata": {},
   "outputs": [
    {
     "data": {
      "text/plain": [
       "20"
      ]
     },
     "execution_count": 12,
     "metadata": {},
     "output_type": "execute_result"
    }
   ],
   "source": [
    "l2.pop()  # so pop funct deletes as well as returns the value but remove does\n",
    "          # not do that"
   ]
  },
  {
   "cell_type": "code",
   "execution_count": 13,
   "id": "4912c42d",
   "metadata": {},
   "outputs": [
    {
     "data": {
      "text/plain": [
       "[10, 4, 5, 3]"
      ]
     },
     "execution_count": 13,
     "metadata": {},
     "output_type": "execute_result"
    }
   ],
   "source": [
    "l2"
   ]
  },
  {
   "cell_type": "code",
   "execution_count": 14,
   "id": "976bdbda",
   "metadata": {},
   "outputs": [],
   "source": [
    "l2.reverse()"
   ]
  },
  {
   "cell_type": "code",
   "execution_count": 15,
   "id": "d9f77985",
   "metadata": {},
   "outputs": [
    {
     "data": {
      "text/plain": [
       "[3, 5, 4, 10]"
      ]
     },
     "execution_count": 15,
     "metadata": {},
     "output_type": "execute_result"
    }
   ],
   "source": [
    "l2"
   ]
  },
  {
   "cell_type": "code",
   "execution_count": 16,
   "id": "9c4111d2",
   "metadata": {},
   "outputs": [],
   "source": [
    "l2.sort()"
   ]
  },
  {
   "cell_type": "code",
   "execution_count": 17,
   "id": "0d7bfa9e",
   "metadata": {},
   "outputs": [
    {
     "data": {
      "text/plain": [
       "[3, 4, 5, 10]"
      ]
     },
     "execution_count": 17,
     "metadata": {},
     "output_type": "execute_result"
    }
   ],
   "source": [
    "l2"
   ]
  },
  {
   "cell_type": "code",
   "execution_count": 18,
   "id": "9d65cbf7",
   "metadata": {},
   "outputs": [],
   "source": [
    "l2.sort(reverse=True)"
   ]
  },
  {
   "cell_type": "code",
   "execution_count": 19,
   "id": "c655b831",
   "metadata": {},
   "outputs": [
    {
     "data": {
      "text/plain": [
       "[10, 5, 4, 3]"
      ]
     },
     "execution_count": 19,
     "metadata": {},
     "output_type": "execute_result"
    }
   ],
   "source": [
    "l2"
   ]
  },
  {
   "cell_type": "code",
   "execution_count": 20,
   "id": "e1e2b9ce",
   "metadata": {},
   "outputs": [
    {
     "data": {
      "text/plain": [
       "0"
      ]
     },
     "execution_count": 20,
     "metadata": {},
     "output_type": "execute_result"
    }
   ],
   "source": [
    "l2.index(10)"
   ]
  },
  {
   "cell_type": "code",
   "execution_count": 21,
   "id": "a35e9bcd",
   "metadata": {},
   "outputs": [
    {
     "data": {
      "text/plain": [
       "2"
      ]
     },
     "execution_count": 21,
     "metadata": {},
     "output_type": "execute_result"
    }
   ],
   "source": [
    "l2.index(4)"
   ]
  },
  {
   "cell_type": "code",
   "execution_count": 22,
   "id": "f78e5f6b",
   "metadata": {},
   "outputs": [
    {
     "ename": "ValueError",
     "evalue": "8 is not in list",
     "output_type": "error",
     "traceback": [
      "\u001b[1;31m---------------------------------------------------------------------------\u001b[0m",
      "\u001b[1;31mValueError\u001b[0m                                Traceback (most recent call last)",
      "Input \u001b[1;32mIn [22]\u001b[0m, in \u001b[0;36m<cell line: 1>\u001b[1;34m()\u001b[0m\n\u001b[1;32m----> 1\u001b[0m \u001b[43ml2\u001b[49m\u001b[38;5;241;43m.\u001b[39;49m\u001b[43mindex\u001b[49m\u001b[43m(\u001b[49m\u001b[38;5;241;43m8\u001b[39;49m\u001b[43m)\u001b[49m\n",
      "\u001b[1;31mValueError\u001b[0m: 8 is not in list"
     ]
    }
   ],
   "source": [
    "l2.index(8)"
   ]
  },
  {
   "cell_type": "code",
   "execution_count": 23,
   "id": "48aa587e",
   "metadata": {},
   "outputs": [],
   "source": [
    "l2=[10,20,4,5,20,3,20,5]"
   ]
  },
  {
   "cell_type": "code",
   "execution_count": 24,
   "id": "4a20b81a",
   "metadata": {},
   "outputs": [
    {
     "data": {
      "text/plain": [
       "3"
      ]
     },
     "execution_count": 24,
     "metadata": {},
     "output_type": "execute_result"
    }
   ],
   "source": [
    "l2.count(20)"
   ]
  },
  {
   "cell_type": "code",
   "execution_count": 25,
   "id": "7f6374cd",
   "metadata": {},
   "outputs": [
    {
     "data": {
      "text/plain": [
       "2"
      ]
     },
     "execution_count": 25,
     "metadata": {},
     "output_type": "execute_result"
    }
   ],
   "source": [
    "l2.count(5)"
   ]
  },
  {
   "cell_type": "code",
   "execution_count": 26,
   "id": "1cc675f6",
   "metadata": {},
   "outputs": [
    {
     "data": {
      "text/plain": [
       "0"
      ]
     },
     "execution_count": 26,
     "metadata": {},
     "output_type": "execute_result"
    }
   ],
   "source": [
    "l2.count(8)"
   ]
  },
  {
   "cell_type": "code",
   "execution_count": 27,
   "id": "de28b71c",
   "metadata": {},
   "outputs": [],
   "source": [
    "# list comprehension"
   ]
  },
  {
   "cell_type": "code",
   "execution_count": 28,
   "id": "9e988e1f",
   "metadata": {},
   "outputs": [],
   "source": [
    "#[expression for variable in iterable]"
   ]
  },
  {
   "cell_type": "code",
   "execution_count": 29,
   "id": "c2cbf906",
   "metadata": {},
   "outputs": [
    {
     "data": {
      "text/plain": [
       "[0, 3, 6, 9, 12]"
      ]
     },
     "execution_count": 29,
     "metadata": {},
     "output_type": "execute_result"
    }
   ],
   "source": [
    "[ x*3  for x in range(5)]"
   ]
  },
  {
   "cell_type": "code",
   "execution_count": 30,
   "id": "b9576777",
   "metadata": {},
   "outputs": [
    {
     "data": {
      "text/plain": [
       "[0, 2, 4, 6, 8]"
      ]
     },
     "execution_count": 30,
     "metadata": {},
     "output_type": "execute_result"
    }
   ],
   "source": [
    "[ x*2  for x in range(5)]"
   ]
  },
  {
   "cell_type": "code",
   "execution_count": 31,
   "id": "20e62251",
   "metadata": {},
   "outputs": [
    {
     "data": {
      "text/plain": [
       "[0, 1, 4, 9, 16]"
      ]
     },
     "execution_count": 31,
     "metadata": {},
     "output_type": "execute_result"
    }
   ],
   "source": [
    "[ x**2 for x in range(5)]"
   ]
  },
  {
   "cell_type": "code",
   "execution_count": 33,
   "id": "a06c3b23",
   "metadata": {},
   "outputs": [
    {
     "name": "stdout",
     "output_type": "stream",
     "text": [
      "enter your name gourav\n"
     ]
    }
   ],
   "source": [
    "l4=[ x for x in input(\"enter your name \")]"
   ]
  },
  {
   "cell_type": "code",
   "execution_count": 34,
   "id": "7c7c7eb6",
   "metadata": {},
   "outputs": [
    {
     "data": {
      "text/plain": [
       "['g', 'o', 'u', 'r', 'a', 'v']"
      ]
     },
     "execution_count": 34,
     "metadata": {},
     "output_type": "execute_result"
    }
   ],
   "source": [
    "l4"
   ]
  },
  {
   "cell_type": "code",
   "execution_count": 35,
   "id": "ded8589b",
   "metadata": {},
   "outputs": [],
   "source": [
    "# if you want list from user"
   ]
  },
  {
   "cell_type": "code",
   "execution_count": 36,
   "id": "f2e1491c",
   "metadata": {},
   "outputs": [
    {
     "name": "stdout",
     "output_type": "stream",
     "text": [
      "enter a list\n",
      "[10,20,50,30]\n",
      "['[', '1', '0', ',', '2', '0', ',', '5', '0', ',', '3', '0', ']']\n"
     ]
    }
   ],
   "source": [
    "print(\"enter a list\")\n",
    "l4=list (input())\n",
    "print(l4)"
   ]
  },
  {
   "cell_type": "code",
   "execution_count": 37,
   "id": "133baf25",
   "metadata": {},
   "outputs": [],
   "source": [
    "# so the problem over above result is that input funct has considered each\n",
    "# element as string and has return such value."
   ]
  },
  {
   "cell_type": "code",
   "execution_count": 38,
   "id": "028bf1f4",
   "metadata": {},
   "outputs": [],
   "source": [
    "# so how to do  it"
   ]
  },
  {
   "cell_type": "code",
   "execution_count": 41,
   "id": "39ba085b",
   "metadata": {},
   "outputs": [
    {
     "name": "stdout",
     "output_type": "stream",
     "text": [
      "how many number u want to enter\n",
      "5\n",
      "enter some number\n",
      "20\n",
      "30\n",
      "40\n",
      "50\n",
      "60\n",
      "[20, 30, 40, 50, 60]\n"
     ]
    }
   ],
   "source": [
    "print(\"how many number u want to enter\")\n",
    "n= int(input())\n",
    "print(\"enter some number\")\n",
    "l4=[]\n",
    "i=0\n",
    "while i<n:\n",
    "    l4.append(int(input()))\n",
    "    i+=1\n",
    "print(l4)  # but this method is not that cool since lines of code is more\n",
    "           # for this simple task"
   ]
  },
  {
   "cell_type": "code",
   "execution_count": 42,
   "id": "ffecebff",
   "metadata": {},
   "outputs": [
    {
     "name": "stdout",
     "output_type": "stream",
     "text": [
      "enter some number\n",
      "[20,30,40,50,60]\n",
      "[20, 30, 40, 50, 60]\n"
     ]
    }
   ],
   "source": [
    "print(\"enter some number\")\n",
    "l4=eval(input())  # eval funct is capbale of recognising the kind of data and \n",
    "                  # the same kind of value but the problem is that u cannot \n",
    "                  \n",
    "print(l4)"
   ]
  },
  {
   "cell_type": "code",
   "execution_count": 43,
   "id": "6696ebb8",
   "metadata": {},
   "outputs": [],
   "source": [
    " # eval funct is capbale of recognising the kind of data and returns the same \n",
    "#  the same value but the problem is that u cannot expect the user to put data\n",
    "# in the list means square bracket.\n",
    "# so this is  also not the best way to take list input from user"
   ]
  },
  {
   "cell_type": "code",
   "execution_count": 44,
   "id": "43ef8d6a",
   "metadata": {},
   "outputs": [],
   "source": [
    "# for that we need to learn strings"
   ]
  },
  {
   "cell_type": "code",
   "execution_count": null,
   "id": "f9d93238",
   "metadata": {},
   "outputs": [],
   "source": []
  }
 ],
 "metadata": {
  "kernelspec": {
   "display_name": "Python 3 (ipykernel)",
   "language": "python",
   "name": "python3"
  },
  "language_info": {
   "codemirror_mode": {
    "name": "ipython",
    "version": 3
   },
   "file_extension": ".py",
   "mimetype": "text/x-python",
   "name": "python",
   "nbconvert_exporter": "python",
   "pygments_lexer": "ipython3",
   "version": "3.9.12"
  }
 },
 "nbformat": 4,
 "nbformat_minor": 5
}
