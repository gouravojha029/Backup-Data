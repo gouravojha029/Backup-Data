{
 "cells": [
  {
   "cell_type": "code",
   "execution_count": 1,
   "id": "40559fc7",
   "metadata": {},
   "outputs": [],
   "source": [
    "#Q1)write a python script to print mysirg N times on the screen"
   ]
  },
  {
   "cell_type": "code",
   "execution_count": 3,
   "id": "063d030c",
   "metadata": {},
   "outputs": [
    {
     "name": "stdout",
     "output_type": "stream",
     "text": [
      " enter the number: 5\n",
      "mysirg mysirg mysirg mysirg mysirg "
     ]
    }
   ],
   "source": [
    "n=int(input(\" enter the number: \"))\n",
    "for i in range(n):\n",
    "    print(\"mysirg\",end=\" \")"
   ]
  },
  {
   "cell_type": "code",
   "execution_count": 4,
   "id": "5facc25d",
   "metadata": {},
   "outputs": [],
   "source": [
    "#2)write a python script to print first N natural numbers."
   ]
  },
  {
   "cell_type": "code",
   "execution_count": 6,
   "id": "4b6c3a9c",
   "metadata": {},
   "outputs": [
    {
     "name": "stdout",
     "output_type": "stream",
     "text": [
      "enter the natural number: 10\n",
      "1 2 3 4 5 6 7 8 9 10 "
     ]
    }
   ],
   "source": [
    "for i in range(int(input(\"enter the natural number: \"))):\n",
    "    print(i+1,end=\" \")"
   ]
  },
  {
   "cell_type": "code",
   "execution_count": 7,
   "id": "22544a44",
   "metadata": {},
   "outputs": [],
   "source": [
    "#3)write a python script to print first N natural numbers in reverse order."
   ]
  },
  {
   "cell_type": "code",
   "execution_count": 10,
   "id": "51f7312c",
   "metadata": {},
   "outputs": [
    {
     "name": "stdout",
     "output_type": "stream",
     "text": [
      "enter a number: 10\n",
      "10 9 8 7 6 5 4 3 2 1 "
     ]
    }
   ],
   "source": [
    "n= int(input(\"enter a number: \"))\n",
    "for i in range(n):\n",
    "    print(n-i,end=\" \")"
   ]
  },
  {
   "cell_type": "code",
   "execution_count": 11,
   "id": "4d09c826",
   "metadata": {},
   "outputs": [],
   "source": [
    "#4)write a python script to print first N odd natural numbers."
   ]
  },
  {
   "cell_type": "code",
   "execution_count": 14,
   "id": "53e670df",
   "metadata": {},
   "outputs": [
    {
     "name": "stdout",
     "output_type": "stream",
     "text": [
      "enter the number of first odd natural no.: 10\n",
      "1 3 5 7 9 "
     ]
    }
   ],
   "source": [
    "n=int(input(\"enter the number of first odd natural no.: \"))\n",
    "for i in range(n):\n",
    "    if i%2 !=0:\n",
    "        print(i,end=\" \")"
   ]
  },
  {
   "cell_type": "code",
   "execution_count": 15,
   "id": "2befb94d",
   "metadata": {},
   "outputs": [],
   "source": [
    "#5)write a python script to print first N odd natural number in reverse order"
   ]
  },
  {
   "cell_type": "code",
   "execution_count": 16,
   "id": "ed2f6e1b",
   "metadata": {},
   "outputs": [
    {
     "name": "stdout",
     "output_type": "stream",
     "text": [
      "enter the number: 10\n",
      "9 7 5 3 1 "
     ]
    }
   ],
   "source": [
    "n=int(input(\"enter the number: \"))\n",
    "for i in range(n):\n",
    "    if i%2!=0:\n",
    "        print(n-i,end=\" \")\n",
    "        "
   ]
  },
  {
   "cell_type": "code",
   "execution_count": 17,
   "id": "513b26fb",
   "metadata": {},
   "outputs": [],
   "source": [
    "#6)write a python script to print first N even natural numbers."
   ]
  },
  {
   "cell_type": "code",
   "execution_count": 18,
   "id": "f4e80234",
   "metadata": {},
   "outputs": [
    {
     "name": "stdout",
     "output_type": "stream",
     "text": [
      "enter the number: 10\n",
      "0 2 4 6 8 "
     ]
    }
   ],
   "source": [
    "n=int(input(\"enter the number: \"))\n",
    "for i in range(n):\n",
    "    if i%2==0:\n",
    "        print(i,end=\" \")"
   ]
  },
  {
   "cell_type": "code",
   "execution_count": 19,
   "id": "36f36fa4",
   "metadata": {},
   "outputs": [],
   "source": [
    "#7)write a python script to print first N even natural numbers in reverse order"
   ]
  },
  {
   "cell_type": "code",
   "execution_count": 20,
   "id": "9dd8f97c",
   "metadata": {},
   "outputs": [
    {
     "name": "stdout",
     "output_type": "stream",
     "text": [
      "enter the number: 10\n",
      "10 8 6 4 2 "
     ]
    }
   ],
   "source": [
    "n= int(input(\"enter the number: \"))\n",
    "for i in range(n):\n",
    "    if i%2==0:\n",
    "        print(n-i,end=\" \")\n",
    "    "
   ]
  },
  {
   "cell_type": "code",
   "execution_count": 21,
   "id": "70fe2571",
   "metadata": {},
   "outputs": [],
   "source": [
    "#8)write a python script to print squares of first N natural numbers."
   ]
  },
  {
   "cell_type": "code",
   "execution_count": 22,
   "id": "7ff8e575",
   "metadata": {},
   "outputs": [
    {
     "name": "stdout",
     "output_type": "stream",
     "text": [
      "enter the number: 10\n",
      "0 1 4 9 16 25 36 49 64 81 "
     ]
    }
   ],
   "source": [
    "n=int(input(\"enter the number: \"))\n",
    "for i in range(n):\n",
    "    print(i**2,end=\" \")"
   ]
  },
  {
   "cell_type": "code",
   "execution_count": 23,
   "id": "9a8ec403",
   "metadata": {},
   "outputs": [],
   "source": [
    "#9)write a python script to print cubes of first N natural numbers."
   ]
  },
  {
   "cell_type": "code",
   "execution_count": 24,
   "id": "f6791515",
   "metadata": {},
   "outputs": [
    {
     "name": "stdout",
     "output_type": "stream",
     "text": [
      "enter the number: 10\n",
      "0 1 8 27 64 125 216 343 512 729 "
     ]
    }
   ],
   "source": [
    "for i in range(int(input(\"enter the number: \"))):\n",
    "    print(i**3,end=\" \")"
   ]
  },
  {
   "cell_type": "code",
   "execution_count": 25,
   "id": "0127d649",
   "metadata": {},
   "outputs": [],
   "source": [
    "#10)write a python script to print first 10 multiples of N natural number"
   ]
  },
  {
   "cell_type": "code",
   "execution_count": 29,
   "id": "f12a666f",
   "metadata": {},
   "outputs": [
    {
     "name": "stdout",
     "output_type": "stream",
     "text": [
      "enter the number: 5\n",
      "5\n",
      "10\n",
      "15\n",
      "20\n",
      "25\n",
      "30\n",
      "35\n",
      "40\n",
      "45\n",
      "50\n"
     ]
    }
   ],
   "source": [
    "n=int(input(\"enter the number: \"))\n",
    "for i in range(1,11):\n",
    "    print(n*i)"
   ]
  },
  {
   "cell_type": "code",
   "execution_count": 1,
   "id": "598503fd",
   "metadata": {},
   "outputs": [
    {
     "name": "stdout",
     "output_type": "stream",
     "text": [
      "enter the number: 10\n",
      "10\n",
      "20\n",
      "30\n",
      "40\n",
      "50\n",
      "60\n",
      "70\n",
      "80\n",
      "90\n",
      "100\n"
     ]
    }
   ],
   "source": [
    "n=int(input(\"enter the number: \"))\n",
    "for i in range(1,11):\n",
    "    print(n*i)\n",
    "      "
   ]
  },
  {
   "cell_type": "code",
   "execution_count": null,
   "id": "6da159bd",
   "metadata": {},
   "outputs": [],
   "source": []
  }
 ],
 "metadata": {
  "kernelspec": {
   "display_name": "Python 3 (ipykernel)",
   "language": "python",
   "name": "python3"
  },
  "language_info": {
   "codemirror_mode": {
    "name": "ipython",
    "version": 3
   },
   "file_extension": ".py",
   "mimetype": "text/x-python",
   "name": "python",
   "nbconvert_exporter": "python",
   "pygments_lexer": "ipython3",
   "version": "3.9.12"
  }
 },
 "nbformat": 4,
 "nbformat_minor": 5
}
