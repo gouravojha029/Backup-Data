{
 "cells": [
  {
   "cell_type": "code",
   "execution_count": 4,
   "id": "76fdb106",
   "metadata": {},
   "outputs": [
    {
     "ename": "SyntaxError",
     "evalue": "invalid syntax (177994562.py, line 2)",
     "output_type": "error",
     "traceback": [
      "\u001b[1;36m  Input \u001b[1;32mIn [4]\u001b[1;36m\u001b[0m\n\u001b[1;33m    if a == 10 # syntaxical error arises beacuse in python we have to end the condition statment with colon\u001b[0m\n\u001b[1;37m               ^\u001b[0m\n\u001b[1;31mSyntaxError\u001b[0m\u001b[1;31m:\u001b[0m invalid syntax\n"
     ]
    }
   ],
   "source": [
    "a = 10\n",
    "if a == 10 # syntaxical error arises beacuse in python we have to end the condition statment with colon"
   ]
  },
  {
   "cell_type": "code",
   "execution_count": 6,
   "id": "338dd601",
   "metadata": {},
   "outputs": [
    {
     "name": "stdout",
     "output_type": "stream",
     "text": [
      "this is my first condition\n"
     ]
    }
   ],
   "source": [
    "a = 10\n",
    "if a ==10 :\n",
    "    print(\"this is my first condition\")\n",
    "    "
   ]
  },
  {
   "cell_type": "code",
   "execution_count": 8,
   "id": "ddcd4368",
   "metadata": {},
   "outputs": [],
   "source": [
    "a = 10\n",
    "if a ==11:\n",
    "    print(\"this is my first condition\") # the result is blank because the condition is  faslse therefor it is not able to come inside the print block"
   ]
  },
  {
   "cell_type": "code",
   "execution_count": 10,
   "id": "c26ba4a4",
   "metadata": {},
   "outputs": [
    {
     "ename": "IndentationError",
     "evalue": "expected an indented block (3147078700.py, line 2)",
     "output_type": "error",
     "traceback": [
      "\u001b[1;36m  Input \u001b[1;32mIn [10]\u001b[1;36m\u001b[0m\n\u001b[1;33m    if a >5 : # error is comming brecause this time i have not mention the \"body\" means if the condition is true than than what it has to do\u001b[0m\n\u001b[1;37m                                                                                                                                            ^\u001b[0m\n\u001b[1;31mIndentationError\u001b[0m\u001b[1;31m:\u001b[0m expected an indented block\n"
     ]
    }
   ],
   "source": [
    "a = 10\n",
    "if a >5 : # error is comming brecause this time i have not mention the \"body\" means if the condition is true than than what it has to do"
   ]
  },
  {
   "cell_type": "code",
   "execution_count": 13,
   "id": "c568303f",
   "metadata": {},
   "outputs": [],
   "source": [
    "a = 10\n",
    "if a >5 :\n",
    "    pass     # so if i dont want to asign any body to the condition than i can simply use pass keyword"
   ]
  },
  {
   "cell_type": "code",
   "execution_count": 14,
   "id": "89be8222",
   "metadata": {},
   "outputs": [
    {
     "name": "stdout",
     "output_type": "stream",
     "text": [
      "print this if condition is true\n"
     ]
    }
   ],
   "source": [
    "a = 10\n",
    "if a>8 :\n",
    "    print(\"print this if condition is true\")"
   ]
  },
  {
   "cell_type": "code",
   "execution_count": 15,
   "id": "cc7d11a6",
   "metadata": {},
   "outputs": [
    {
     "ename": "SyntaxError",
     "evalue": "invalid syntax (1614477992.py, line 4)",
     "output_type": "error",
     "traceback": [
      "\u001b[1;36m  Input \u001b[1;32mIn [15]\u001b[1;36m\u001b[0m\n\u001b[1;33m    else :\u001b[0m\n\u001b[1;37m    ^\u001b[0m\n\u001b[1;31mSyntaxError\u001b[0m\u001b[1;31m:\u001b[0m invalid syntax\n"
     ]
    }
   ],
   "source": [
    "a = 10\n",
    "if a != 11:\n",
    "    print(\"my condition is false\")\n",
    "    else :\n",
    "        print(\"print this\")\n",
    "    "
   ]
  },
  {
   "cell_type": "code",
   "execution_count": 16,
   "id": "dfabf135",
   "metadata": {},
   "outputs": [
    {
     "name": "stdout",
     "output_type": "stream",
     "text": [
      "my condition is false\n"
     ]
    }
   ],
   "source": [
    "a = 10 \n",
    "if a != 11 :\n",
    "    print(\"my condition is false\")\n",
    "else :\n",
    "    print(\"print this\")"
   ]
  },
  {
   "cell_type": "code",
   "execution_count": 19,
   "id": "20c22b41",
   "metadata": {},
   "outputs": [
    {
     "name": "stdout",
     "output_type": "stream",
     "text": [
      "print this\n"
     ]
    }
   ],
   "source": [
    "a = 10 \n",
    "if a == 11 :\n",
    "    print(\"my condition is false\")\n",
    "else :\n",
    "    print(\"print this\")      # here  \"if\" condition is false therefore it will excute else"
   ]
  },
  {
   "cell_type": "code",
   "execution_count": 20,
   "id": "24957f65",
   "metadata": {},
   "outputs": [
    {
     "name": "stdout",
     "output_type": "stream",
     "text": [
      "if all the bocks are fail then do this\n"
     ]
    }
   ],
   "source": [
    "a = 10\n",
    "if a ==12 :\n",
    "    print(\"here we are trying to compare  10 with 12\")\n",
    "elif a ==11:\n",
    "    print(\"we are trying to compare 10 with 11\")\n",
    "else :\n",
    "    print(\"if all the bocks are fail then do this\")"
   ]
  },
  {
   "cell_type": "code",
   "execution_count": 22,
   "id": "75556995",
   "metadata": {},
   "outputs": [
    {
     "name": "stdout",
     "output_type": "stream",
     "text": [
      "we are trying to compare 10 with 11\n"
     ]
    }
   ],
   "source": [
    "a = 10\n",
    "if a ==12 :\n",
    "    print(\"here we are trying to compare  10 with 12\")\n",
    "elif a ==10:\n",
    "    print(\"we are trying to compare 10 with 11\")\n",
    "else :\n",
    "    print(\"if all the bocks are fail then do this\")"
   ]
  },
  {
   "cell_type": "code",
   "execution_count": 24,
   "id": "72ff7801",
   "metadata": {},
   "outputs": [],
   "source": [
    "price = 500\n",
    "if price > 500 :\n",
    "    print(\" may b i wont be able to buy a jacket\")\n",
    "elif price < 500 :\n",
    "    print(\"i will be able to buy a jacket\")      # blank output because price> 500, price < 500 is false "
   ]
  },
  {
   "cell_type": "code",
   "execution_count": 25,
   "id": "c0e58961",
   "metadata": {},
   "outputs": [
    {
     "name": "stdout",
     "output_type": "stream",
     "text": [
      "i will be able to buy a jacket\n"
     ]
    }
   ],
   "source": [
    "price = 500\n",
    "if price > 500 :\n",
    "    print(\" may b i wont be able to buy a jacket\")\n",
    "elif price <= 500 :\n",
    "    print(\"i will be able to buy a jacket\")   "
   ]
  },
  {
   "cell_type": "code",
   "execution_count": 27,
   "id": "ea81f716",
   "metadata": {},
   "outputs": [
    {
     "ename": "SyntaxError",
     "evalue": "invalid syntax (3748390733.py, line 6)",
     "output_type": "error",
     "traceback": [
      "\u001b[1;36m  Input \u001b[1;32mIn [27]\u001b[1;36m\u001b[0m\n\u001b[1;33m    else price == 500 :\u001b[0m\n\u001b[1;37m         ^\u001b[0m\n\u001b[1;31mSyntaxError\u001b[0m\u001b[1;31m:\u001b[0m invalid syntax\n"
     ]
    }
   ],
   "source": [
    "price = 500\n",
    "if price > 500 :\n",
    "    print(\" may b i wont be able to buy a jacket\")\n",
    "elif price <= 500 :\n",
    "    print(\"i will be able to buy a jacket\")  \n",
    "else price == 500 :\n",
    "    print(\"i dont know\")          # error will come because we cannot asign condition to \"else\" key word as it is having default condition"
   ]
  },
  {
   "cell_type": "code",
   "execution_count": 28,
   "id": "791fc079",
   "metadata": {},
   "outputs": [
    {
     "name": "stdout",
     "output_type": "stream",
     "text": [
      "for sure i will be able to buy\n"
     ]
    }
   ],
   "source": [
    "price = 500\n",
    "if price > 500 :\n",
    "    print(\" may b i wont be able to buy a jacket\")\n",
    "elif price < 500 :\n",
    "    print(\"i will be able to buy a jacket\")\n",
    "elif price == 500 :\n",
    "    print(\"for sure i will be able to buy\")\n",
    "else :\n",
    "    print(\"i dont know\")  "
   ]
  },
  {
   "cell_type": "code",
   "execution_count": 33,
   "id": "f51fafbe",
   "metadata": {},
   "outputs": [
    {
     "data": {
      "text/plain": [
       "False"
      ]
     },
     "execution_count": 33,
     "metadata": {},
     "output_type": "execute_result"
    }
   ],
   "source": [
    "price > 500 # so we can even check the condition separately"
   ]
  },
  {
   "cell_type": "code",
   "execution_count": 30,
   "id": "691802d2",
   "metadata": {},
   "outputs": [
    {
     "data": {
      "text/plain": [
       "False"
      ]
     },
     "execution_count": 30,
     "metadata": {},
     "output_type": "execute_result"
    }
   ],
   "source": [
    "price > 500"
   ]
  },
  {
   "cell_type": "code",
   "execution_count": 32,
   "id": "ca60f4e6",
   "metadata": {},
   "outputs": [
    {
     "data": {
      "text/plain": [
       "True"
      ]
     },
     "execution_count": 32,
     "metadata": {},
     "output_type": "execute_result"
    }
   ],
   "source": [
    "price == 500"
   ]
  },
  {
   "cell_type": "code",
   "execution_count": 35,
   "id": "6b607eff",
   "metadata": {},
   "outputs": [
    {
     "data": {
      "text/plain": [
       "True"
      ]
     },
     "execution_count": 35,
     "metadata": {},
     "output_type": "execute_result"
    }
   ],
   "source": [
    "l = [1,2,3,4,5,6]\n",
    "2 in l"
   ]
  },
  {
   "cell_type": "code",
   "execution_count": 37,
   "id": "f1060e00",
   "metadata": {},
   "outputs": [
    {
     "name": "stdout",
     "output_type": "stream",
     "text": [
      "try to perform a task \n"
     ]
    }
   ],
   "source": [
    "if 2 in l :\n",
    "    print(\"try to perform a task \")\n",
    "else :\n",
    "    print(\"do not perform this task\")\n",
    "    # \"if\" should be always in true or fasle value"
   ]
  },
  {
   "cell_type": "code",
   "execution_count": 38,
   "id": "c6903010",
   "metadata": {},
   "outputs": [
    {
     "name": "stdout",
     "output_type": "stream",
     "text": [
      "do not perform this task\n"
     ]
    }
   ],
   "source": [
    "if 60 in l :\n",
    "    print(\"try to perform a task \")\n",
    "else :\n",
    "    print(\"do not perform this task\")"
   ]
  },
  {
   "cell_type": "code",
   "execution_count": 39,
   "id": "97b831ef",
   "metadata": {},
   "outputs": [
    {
     "data": {
      "text/plain": [
       "False"
      ]
     },
     "execution_count": 39,
     "metadata": {},
     "output_type": "execute_result"
    }
   ],
   "source": [
    "60 in l"
   ]
  },
  {
   "cell_type": "code",
   "execution_count": 40,
   "id": "0ce6cf0f",
   "metadata": {},
   "outputs": [
    {
     "data": {
      "text/plain": [
       "[1, 2, 3, 4, 5, 6]"
      ]
     },
     "execution_count": 40,
     "metadata": {},
     "output_type": "execute_result"
    }
   ],
   "source": [
    "l"
   ]
  },
  {
   "cell_type": "code",
   "execution_count": 42,
   "id": "2ca7ca86",
   "metadata": {},
   "outputs": [
    {
     "name": "stdout",
     "output_type": "stream",
     "text": [
      "try to do a addition\n"
     ]
    }
   ],
   "source": [
    "if 1 in l :\n",
    "    print(\"try to do a addition\")\n",
    "elif 2 in l :\n",
    "    print(\"try to do sub\")\n",
    "elif 3 in l :\n",
    "    print(\"try to do mul \")      # it will always validate one condition. if one condition is true then it will come out of the block and will not check the other condition "
   ]
  },
  {
   "cell_type": "code",
   "execution_count": 43,
   "id": "3b8f8bb0",
   "metadata": {},
   "outputs": [
    {
     "name": "stdout",
     "output_type": "stream",
     "text": [
      "try to do sub\n"
     ]
    }
   ],
   "source": [
    "if 10 in l :\n",
    "    print(\"try to do a addition\")\n",
    "elif 2 in l :\n",
    "    print(\"try to do sub\")\n",
    "elif 3 in l :\n",
    "    print(\"try to do mul \")      # it will always validate one condition. if one condition is true then it will come out of the block and will not check the other condition "
   ]
  },
  {
   "cell_type": "code",
   "execution_count": 1,
   "id": "d6e16bd1",
   "metadata": {},
   "outputs": [
    {
     "ename": "NameError",
     "evalue": "name 'l' is not defined",
     "output_type": "error",
     "traceback": [
      "\u001b[1;31m---------------------------------------------------------------------------\u001b[0m",
      "\u001b[1;31mNameError\u001b[0m                                 Traceback (most recent call last)",
      "Input \u001b[1;32mIn [1]\u001b[0m, in \u001b[0;36m<cell line: 1>\u001b[1;34m()\u001b[0m\n\u001b[1;32m----> 1\u001b[0m \u001b[38;5;28;01mif\u001b[39;00m \u001b[38;5;241m10\u001b[39m \u001b[38;5;129;01min\u001b[39;00m \u001b[43ml\u001b[49m :\n\u001b[0;32m      2\u001b[0m     \u001b[38;5;28mprint\u001b[39m(\u001b[38;5;124m\"\u001b[39m\u001b[38;5;124mtry to do a addition\u001b[39m\u001b[38;5;124m\"\u001b[39m)\n\u001b[0;32m      3\u001b[0m \u001b[38;5;28;01melif\u001b[39;00m \u001b[38;5;241m2\u001b[39m \u001b[38;5;129;01min\u001b[39;00m l :\n",
      "\u001b[1;31mNameError\u001b[0m: name 'l' is not defined"
     ]
    }
   ],
   "source": [
    "if 10 in l :\n",
    "    print(\"try to do a addition\")\n",
    "elif 2 in l :\n",
    "    print(\"try to do sub\")\n",
    "elif 3 in l :\n",
    "    print(\"try to do mul \")\n",
    "if 4 in l :\n",
    "    print(\"this is new statement\")    # so when ever \"if\" condition is mention it means new block is created or fresh block or starting point"
   ]
  },
  {
   "cell_type": "code",
   "execution_count": 2,
   "id": "c72b2200",
   "metadata": {},
   "outputs": [],
   "source": [
    "a = 400"
   ]
  },
  {
   "cell_type": "code",
   "execution_count": 5,
   "id": "1d0300b4",
   "metadata": {},
   "outputs": [
    {
     "name": "stdout",
     "output_type": "stream",
     "text": [
      "53453\n"
     ]
    }
   ],
   "source": [
    "b = input() # what ever we will put inside the input function it will consider it as a string"
   ]
  },
  {
   "cell_type": "code",
   "execution_count": 4,
   "id": "e43349d2",
   "metadata": {},
   "outputs": [
    {
     "data": {
      "text/plain": [
       "str"
      ]
     },
     "execution_count": 4,
     "metadata": {},
     "output_type": "execute_result"
    }
   ],
   "source": [
    "type(b)"
   ]
  },
  {
   "cell_type": "code",
   "execution_count": 6,
   "id": "dc6530f9",
   "metadata": {},
   "outputs": [],
   "source": [
    "a = 400"
   ]
  },
  {
   "cell_type": "code",
   "execution_count": 7,
   "id": "563fa114",
   "metadata": {},
   "outputs": [
    {
     "name": "stdout",
     "output_type": "stream",
     "text": [
      "345\n"
     ]
    }
   ],
   "source": [
    "b = int(input())"
   ]
  },
  {
   "cell_type": "code",
   "execution_count": 9,
   "id": "c03e3735",
   "metadata": {},
   "outputs": [
    {
     "data": {
      "text/plain": [
       "int"
      ]
     },
     "execution_count": 9,
     "metadata": {},
     "output_type": "execute_result"
    }
   ],
   "source": [
    "type(b)  # here i have done type casting now the resul is integer"
   ]
  },
  {
   "cell_type": "code",
   "execution_count": 10,
   "id": "583092d0",
   "metadata": {},
   "outputs": [
    {
     "name": "stdout",
     "output_type": "stream",
     "text": [
      "asjhgj345\n"
     ]
    },
    {
     "ename": "ValueError",
     "evalue": "invalid literal for int() with base 10: 'asjhgj345'",
     "output_type": "error",
     "traceback": [
      "\u001b[1;31m---------------------------------------------------------------------------\u001b[0m",
      "\u001b[1;31mValueError\u001b[0m                                Traceback (most recent call last)",
      "Input \u001b[1;32mIn [10]\u001b[0m, in \u001b[0;36m<cell line: 1>\u001b[1;34m()\u001b[0m\n\u001b[1;32m----> 1\u001b[0m b \u001b[38;5;241m=\u001b[39m \u001b[38;5;28;43mint\u001b[39;49m\u001b[43m(\u001b[49m\u001b[38;5;28;43minput\u001b[39;49m\u001b[43m(\u001b[49m\u001b[43m)\u001b[49m\u001b[43m)\u001b[49m\n",
      "\u001b[1;31mValueError\u001b[0m: invalid literal for int() with base 10: 'asjhgj345'"
     ]
    }
   ],
   "source": [
    "b = int(input())"
   ]
  },
  {
   "cell_type": "code",
   "execution_count": 11,
   "id": "4356d4e3",
   "metadata": {},
   "outputs": [],
   "source": [
    "# in the above error is comming beacuse only numeric value can be type cast to integer not string can be onverted to interger"
   ]
  },
  {
   "cell_type": "code",
   "execution_count": 12,
   "id": "6dd9ad5c",
   "metadata": {},
   "outputs": [
    {
     "name": "stdout",
     "output_type": "stream",
     "text": [
      "600\n",
      "i wont be able to buy anything with this price tag\n"
     ]
    }
   ],
   "source": [
    "price = int(input())\n",
    "if price <500 :\n",
    "    print(\"i will be able to buy something\")\n",
    "    if price < 400 :\n",
    "        print(\"i will be able to buy a jacket\")\n",
    "    elif price < 300 :\n",
    "        print(\"i will be able to buy a shirt\")\n",
    "    else :\n",
    "        print(\"i wont be able to buy anything\")\n",
    "else :\n",
    "    print(\"i wont be able to buy anything with this price tag\")\n",
    "    "
   ]
  },
  {
   "cell_type": "code",
   "execution_count": 13,
   "id": "81d8d802",
   "metadata": {},
   "outputs": [
    {
     "name": "stdout",
     "output_type": "stream",
     "text": [
      "490\n",
      "i will be able to buy something\n",
      "i wont be able to buy anything\n"
     ]
    }
   ],
   "source": [
    "price = int(input())\n",
    "if price <500 :\n",
    "    print(\"i will be able to buy something\")\n",
    "    if price < 400 :\n",
    "        print(\"i will be able to buy a jacket\")\n",
    "    elif price < 300 :\n",
    "        print(\"i will be able to buy a shirt\")\n",
    "    else :\n",
    "        print(\"i wont be able to buy anything\")\n",
    "else :\n",
    "    print(\"i wont be able to buy anything with this price tag\")"
   ]
  },
  {
   "cell_type": "code",
   "execution_count": 14,
   "id": "093824ac",
   "metadata": {},
   "outputs": [
    {
     "name": "stdout",
     "output_type": "stream",
     "text": [
      "300\n",
      "i will be able to buy something\n",
      "i will be able to buy a jacket\n"
     ]
    }
   ],
   "source": [
    "price = int(input())\n",
    "if price <500 :\n",
    "    print(\"i will be able to buy something\")\n",
    "    if price < 400 :\n",
    "        print(\"i will be able to buy a jacket\")\n",
    "    elif price < 300 :\n",
    "        print(\"i will be able to buy a shirt\")\n",
    "    else :\n",
    "        print(\"i wont be able to buy anything\")\n",
    "else :\n",
    "    print(\"i wont be able to buy anything with this price tag\")"
   ]
  },
  {
   "cell_type": "code",
   "execution_count": 15,
   "id": "998aa489",
   "metadata": {},
   "outputs": [
    {
     "name": "stdout",
     "output_type": "stream",
     "text": [
      "089\n",
      "i will be able to buy something\n",
      "i will be able to buy a jacket\n"
     ]
    }
   ],
   "source": [
    "price = int(input())\n",
    "if price <500 :\n",
    "    print(\"i will be able to buy something\")\n",
    "    if price < 400 :\n",
    "        print(\"i will be able to buy a jacket\")\n",
    "    elif price < 300 :\n",
    "        print(\"i will be able to buy a shirt\")\n",
    "    else :\n",
    "        print(\"i wont be able to buy anything\")\n",
    "else :\n",
    "    print(\"i wont be able to buy anything with this price tag\")"
   ]
  },
  {
   "cell_type": "code",
   "execution_count": 1,
   "id": "82a0061e",
   "metadata": {},
   "outputs": [
    {
     "name": "stdout",
     "output_type": "stream",
     "text": [
      "99\n",
      "i will be able to buy something\n",
      "i will be able to buy a jacket\n"
     ]
    }
   ],
   "source": [
    "price = int(input())\n",
    "if price <500 :\n",
    "    print(\"i will be able to buy something\")\n",
    "    if price < 400 :\n",
    "        print(\"i will be able to buy a jacket\")\n",
    "    elif price < 300 :\n",
    "        print(\"i will be able to buy a shirt\")\n",
    "    else :\n",
    "        print(\"i wont be able to buy anything\")\n",
    "else :\n",
    "    print(\"i wont be able to buy anything with this price tag\")"
   ]
  },
  {
   "cell_type": "code",
   "execution_count": 2,
   "id": "779f6a79",
   "metadata": {},
   "outputs": [
    {
     "name": "stdout",
     "output_type": "stream",
     "text": [
      "99\n",
      "i will be able to buy something\n",
      "i will be able to buy a shirt\n"
     ]
    }
   ],
   "source": [
    "price = int(input())\n",
    "if price <500 :\n",
    "    print(\"i will be able to buy something\")\n",
    "    if price > 400 :\n",
    "        print(\"i will be able to buy a jacket\")\n",
    "    elif price < 300 :\n",
    "        print(\"i will be able to buy a shirt\")\n",
    "    else :\n",
    "        print(\"i wont be able to buy anything\")\n",
    "else :\n",
    "    print(\"i wont be able to buy anything with this price tag\")"
   ]
  },
  {
   "cell_type": "code",
   "execution_count": 5,
   "id": "8a884da8",
   "metadata": {},
   "outputs": [
    {
     "name": "stdout",
     "output_type": "stream",
     "text": [
      "599\n",
      "i will not get admission in gre\n",
      "do what ever you want\n"
     ]
    }
   ],
   "source": [
    "marks = int(input())\n",
    "if marks < 600 :\n",
    "    print(\"i will not get admission in gre\")\n",
    "    if marks < 500 :\n",
    "        print(\"i will get admission in tofel\")\n",
    "    elif marks < 400 :\n",
    "        print(\"i will try something else\")\n",
    "    else:\n",
    "        print(\"do what ever you want\")\n",
    "else :\n",
    "    print(\"you will get gre\")"
   ]
  },
  {
   "cell_type": "code",
   "execution_count": 6,
   "id": "3966ebcb",
   "metadata": {},
   "outputs": [
    {
     "name": "stdout",
     "output_type": "stream",
     "text": [
      "599\n",
      "i will not get admission in gre\n",
      "do what ever you want\n"
     ]
    }
   ],
   "source": [
    "marks = int(input())\n",
    "if marks < 600 :\n",
    "    print(\"i will not get admission in gre\")\n",
    "    if marks < 500 :\n",
    "        print(\"i will get admission in tofel\")\n",
    "    if marks < 400 :\n",
    "        print(\"i will try something else\")\n",
    "    else:\n",
    "        print(\"do what ever you want\")\n",
    "else :\n",
    "    print(\"you will get gre\")"
   ]
  },
  {
   "cell_type": "code",
   "execution_count": 8,
   "id": "dca47415",
   "metadata": {},
   "outputs": [
    {
     "name": "stdout",
     "output_type": "stream",
     "text": [
      "enter a floating point number-345\n",
      "entered number is a negative number\n"
     ]
    }
   ],
   "source": [
    "val = float(input(\"enter a floating point number\"))\n",
    "if val >= 0 :\n",
    "    if val == 0 :\n",
    "        print(\"entered value is zero\")\n",
    "    else :\n",
    "        print(\"entered value is positive number\")\n",
    "else :\n",
    "    print(\"entered number is a negative number\")"
   ]
  },
  {
   "cell_type": "code",
   "execution_count": 1,
   "id": "539aed34",
   "metadata": {},
   "outputs": [
    {
     "name": "stdout",
     "output_type": "stream",
     "text": [
      "enter a floating point number5\n",
      "entered value is positive number\n"
     ]
    }
   ],
   "source": [
    "val = float(input(\"enter a floating point number\"))\n",
    "if val >= 0 :\n",
    "    if val == 0 :\n",
    "        print(\"entered value is zero\")\n",
    "    else :\n",
    "        print(\"entered value is positive number\")\n",
    "else :\n",
    "    print(\"entered number is a negative number\")"
   ]
  },
  {
   "cell_type": "code",
   "execution_count": 1,
   "id": "844a2f3e",
   "metadata": {},
   "outputs": [
    {
     "name": "stdout",
     "output_type": "stream",
     "text": [
      "try to do something\n"
     ]
    }
   ],
   "source": [
    "a = 10\n",
    "if a < 10 or a ==10 :\n",
    "    print(\"try to do something\")"
   ]
  },
  {
   "cell_type": "code",
   "execution_count": 2,
   "id": "f9de4775",
   "metadata": {},
   "outputs": [],
   "source": [
    "# in above situation one condition is false and another condition is true there fore true so we have print statement"
   ]
  },
  {
   "cell_type": "code",
   "execution_count": 3,
   "id": "ae04e635",
   "metadata": {},
   "outputs": [],
   "source": [
    "a = 10\n",
    "if a < 10 or a >10 :\n",
    "    print(\"try to do something\")"
   ]
  },
  {
   "cell_type": "code",
   "execution_count": 4,
   "id": "ecfd031e",
   "metadata": {},
   "outputs": [],
   "source": [
    "# in the above case both the condition are false threrfore false so no output"
   ]
  },
  {
   "cell_type": "code",
   "execution_count": 5,
   "id": "e94af638",
   "metadata": {},
   "outputs": [],
   "source": [
    " # AND condition"
   ]
  },
  {
   "cell_type": "code",
   "execution_count": 6,
   "id": "1e3b2057",
   "metadata": {},
   "outputs": [],
   "source": [
    "a =10\n",
    "if a <10 and a <10 :\n",
    "    print(\"try to do something\")"
   ]
  },
  {
   "cell_type": "code",
   "execution_count": 7,
   "id": "6cdb2728",
   "metadata": {},
   "outputs": [],
   "source": [
    "# no output as both the condition are false"
   ]
  },
  {
   "cell_type": "code",
   "execution_count": 8,
   "id": "438e10e1",
   "metadata": {},
   "outputs": [],
   "source": [
    "a =10\n",
    "if a <10 and a ==10 :\n",
    "    print(\"try to do something\")"
   ]
  },
  {
   "cell_type": "code",
   "execution_count": 9,
   "id": "346ae83a",
   "metadata": {},
   "outputs": [],
   "source": [
    " # no output as first condition is false and second condition is true but in AND   false ,true is entire false"
   ]
  },
  {
   "cell_type": "code",
   "execution_count": 10,
   "id": "14aa23b4",
   "metadata": {},
   "outputs": [],
   "source": [
    "a = \"sudh\"\n",
    "if a == \"sudh\" and a == \"Sudh\":\n",
    "    print(\"this is sudh\")"
   ]
  },
  {
   "cell_type": "code",
   "execution_count": 11,
   "id": "d2485adf",
   "metadata": {},
   "outputs": [],
   "source": [
    "# no outcome as first condition is true but second condition is false because because in \"sudh\" s is capital andv python is case sensitive language therefor fasle true is entire false "
   ]
  },
  {
   "cell_type": "code",
   "execution_count": 12,
   "id": "53229926",
   "metadata": {},
   "outputs": [
    {
     "name": "stdout",
     "output_type": "stream",
     "text": [
      "this is sudh\n"
     ]
    }
   ],
   "source": [
    "a = \"sudh\"\n",
    "if a == \"sudh\" or a == \"Sudh\":\n",
    "    print(\"this is sudh\")"
   ]
  },
  {
   "cell_type": "code",
   "execution_count": 13,
   "id": "2fa07ccf",
   "metadata": {},
   "outputs": [],
   "source": [
    "# inthe above we are getting the outcome because the condition is OR and in or true false is true but in AND condition true false is false "
   ]
  },
  {
   "cell_type": "code",
   "execution_count": 14,
   "id": "3dd2c392",
   "metadata": {},
   "outputs": [],
   "source": [
    "a = 10\n",
    "b = 11\n",
    "c = 12\n",
    "d = 13\n",
    "if a == 9 and b == 11 and c == 12 and d == 13 :\n",
    "    print(\"lets do something\")"
   ]
  },
  {
   "cell_type": "code",
   "execution_count": 15,
   "id": "7e5f22b3",
   "metadata": {},
   "outputs": [],
   "source": [
    " # in the above case value of a is false and b is true therefore false , now false with c(true) gives false, and in the last false with d(true) will give false therefor entire condition become false and no output"
   ]
  },
  {
   "cell_type": "code",
   "execution_count": 16,
   "id": "51325d13",
   "metadata": {},
   "outputs": [
    {
     "name": "stdout",
     "output_type": "stream",
     "text": [
      "lets do something\n"
     ]
    }
   ],
   "source": [
    "a = 10\n",
    "b = 11\n",
    "c = 12\n",
    "d = 13\n",
    "if a == 9 or b == 11 and c == 12 and d == 13 :\n",
    "    print(\"lets do something\")"
   ]
  },
  {
   "cell_type": "code",
   "execution_count": 17,
   "id": "9d1796cd",
   "metadata": {},
   "outputs": [],
   "source": [
    "# here a is false and b is true therefor true because in OR condition fasle true is true , now true with c(true) gives true and this with d(true) gives true so the entire condition is true "
   ]
  },
  {
   "cell_type": "code",
   "execution_count": 18,
   "id": "72ca59c2",
   "metadata": {},
   "outputs": [],
   "source": [
    "d = {'key1': \"value\" , 'key2': \"sudh\" , 'key3': \"ineuron\"}"
   ]
  },
  {
   "cell_type": "code",
   "execution_count": 19,
   "id": "4212caf0",
   "metadata": {},
   "outputs": [
    {
     "name": "stdout",
     "output_type": "stream",
     "text": [
      "all the values are verified\n",
      "dict_values(['value', 'sudh', 'ineuron'])\n"
     ]
    }
   ],
   "source": [
    "if d['key1'] == \"value\" and  d['key2'] == \"sudh\" and d['key3'] == \"ineuron\" :\n",
    "    print(\"all the values are verified\")\n",
    "    print(d.values())"
   ]
  },
  {
   "cell_type": "code",
   "execution_count": 20,
   "id": "7df47fdc",
   "metadata": {},
   "outputs": [],
   "source": [
    "if d['key1'] == \"value\" and  d['key2'] == \"Sudh\" and d['key3'] == \"ineuron\" :\n",
    "    print(\"all the values are verified\")\n",
    "    print(d.values())"
   ]
  },
  {
   "cell_type": "code",
   "execution_count": 21,
   "id": "f71b71c5",
   "metadata": {},
   "outputs": [],
   "source": [
    "# no output as s in sudh is capital "
   ]
  },
  {
   "cell_type": "code",
   "execution_count": 22,
   "id": "f2dc98d3",
   "metadata": {},
   "outputs": [
    {
     "name": "stdout",
     "output_type": "stream",
     "text": [
      "all the value are not verified\n"
     ]
    }
   ],
   "source": [
    "if d['key1'] == \"value\" and  d['key2'] == \"Sudh\" and d['key3'] == \"ineuron\" :\n",
    "    print(\"all the values are verified\")\n",
    "    print(d.values())\n",
    "else :\n",
    "    print(\"all the value are not verified\")"
   ]
  },
  {
   "cell_type": "code",
   "execution_count": 28,
   "id": "74f0ac5c",
   "metadata": {},
   "outputs": [],
   "source": [
    "# LOOP   there are varity of loop present in python and there are n no.of way we can use loop.what ever is the problem someway we will use loop.and we should also learn when will be loop used  and when not"
   ]
  },
  {
   "cell_type": "code",
   "execution_count": 24,
   "id": "6ba7f95f",
   "metadata": {},
   "outputs": [],
   "source": [
    "l = [1,2,3,4,5,\"sudh\",234.45]"
   ]
  },
  {
   "cell_type": "code",
   "execution_count": 25,
   "id": "adafe40e",
   "metadata": {},
   "outputs": [
    {
     "data": {
      "text/plain": [
       "1"
      ]
     },
     "execution_count": 25,
     "metadata": {},
     "output_type": "execute_result"
    }
   ],
   "source": [
    "l[0]"
   ]
  },
  {
   "cell_type": "code",
   "execution_count": 26,
   "id": "9e0acab4",
   "metadata": {},
   "outputs": [
    {
     "data": {
      "text/plain": [
       "3"
      ]
     },
     "execution_count": 26,
     "metadata": {},
     "output_type": "execute_result"
    }
   ],
   "source": [
    "l[2]"
   ]
  },
  {
   "cell_type": "code",
   "execution_count": 27,
   "id": "c461eb15",
   "metadata": {},
   "outputs": [
    {
     "data": {
      "text/plain": [
       "[3, 4, 5]"
      ]
     },
     "execution_count": 27,
     "metadata": {},
     "output_type": "execute_result"
    }
   ],
   "source": [
    "l[2:5]"
   ]
  },
  {
   "cell_type": "code",
   "execution_count": 29,
   "id": "d2dc7b26",
   "metadata": {},
   "outputs": [],
   "source": [
    " # suppose there is a problem that i want extract each element from list automatically and do the addition and final result in console"
   ]
  },
  {
   "cell_type": "code",
   "execution_count": 30,
   "id": "69e7e94e",
   "metadata": {},
   "outputs": [],
   "source": [
    "# for loop"
   ]
  },
  {
   "cell_type": "code",
   "execution_count": 31,
   "id": "babb6838",
   "metadata": {},
   "outputs": [
    {
     "data": {
      "text/plain": [
       "[1, 2, 3, 4, 5, 'sudh', 234.45]"
      ]
     },
     "execution_count": 31,
     "metadata": {},
     "output_type": "execute_result"
    }
   ],
   "source": [
    "l"
   ]
  },
  {
   "cell_type": "code",
   "execution_count": 32,
   "id": "f2c45942",
   "metadata": {},
   "outputs": [
    {
     "name": "stdout",
     "output_type": "stream",
     "text": [
      "1\n",
      "2\n",
      "3\n",
      "4\n",
      "5\n",
      "sudh\n",
      "234.45\n"
     ]
    }
   ],
   "source": [
    "for i in l :\n",
    "    print(i)"
   ]
  },
  {
   "cell_type": "code",
   "execution_count": 33,
   "id": "f8985886",
   "metadata": {},
   "outputs": [
    {
     "name": "stdout",
     "output_type": "stream",
     "text": [
      "2\n",
      "3\n",
      "4\n",
      "5\n",
      "6\n"
     ]
    },
    {
     "ename": "TypeError",
     "evalue": "can only concatenate str (not \"int\") to str",
     "output_type": "error",
     "traceback": [
      "\u001b[1;31m---------------------------------------------------------------------------\u001b[0m",
      "\u001b[1;31mTypeError\u001b[0m                                 Traceback (most recent call last)",
      "Input \u001b[1;32mIn [33]\u001b[0m, in \u001b[0;36m<cell line: 1>\u001b[1;34m()\u001b[0m\n\u001b[0;32m      1\u001b[0m \u001b[38;5;28;01mfor\u001b[39;00m i \u001b[38;5;129;01min\u001b[39;00m l :\n\u001b[1;32m----> 2\u001b[0m     \u001b[38;5;28mprint\u001b[39m(\u001b[43mi\u001b[49m\u001b[38;5;241;43m+\u001b[39;49m\u001b[38;5;241;43m1\u001b[39;49m)\n",
      "\u001b[1;31mTypeError\u001b[0m: can only concatenate str (not \"int\") to str"
     ]
    }
   ],
   "source": [
    "for i in l :\n",
    "    print(i+1)"
   ]
  },
  {
   "cell_type": "code",
   "execution_count": 35,
   "id": "b790006e",
   "metadata": {},
   "outputs": [
    {
     "name": "stdout",
     "output_type": "stream",
     "text": [
      "2\n",
      "3\n",
      "4\n",
      "5\n",
      "6\n",
      "sudh1\n"
     ]
    }
   ],
   "source": [
    "for i in l :\n",
    "    if type(i) == int:\n",
    "        print(i+1)\n",
    "    elif type(i) == str:\n",
    "        print(i+str(1))"
   ]
  },
  {
   "cell_type": "code",
   "execution_count": 36,
   "id": "5ae74bf6",
   "metadata": {},
   "outputs": [
    {
     "name": "stdout",
     "output_type": "stream",
     "text": [
      "2\n",
      "3\n",
      "4\n",
      "5\n",
      "6\n",
      "sudh1\n",
      "235.45\n"
     ]
    }
   ],
   "source": [
    "for i in l :\n",
    "    if type(i) == int  or type(i) == float:\n",
    "        print(i+1)\n",
    "    elif type(i) == str:\n",
    "        print(i+str(1))"
   ]
  },
  {
   "cell_type": "code",
   "execution_count": 37,
   "id": "e4be2ddf",
   "metadata": {},
   "outputs": [],
   "source": [
    "# if i want to creat list of only interger ?"
   ]
  },
  {
   "cell_type": "code",
   "execution_count": 38,
   "id": "aed12c18",
   "metadata": {},
   "outputs": [
    {
     "data": {
      "text/plain": [
       "[1, 2, 3, 4, 5, 'sudh', 234.45]"
      ]
     },
     "execution_count": 38,
     "metadata": {},
     "output_type": "execute_result"
    }
   ],
   "source": [
    "l"
   ]
  },
  {
   "cell_type": "code",
   "execution_count": 39,
   "id": "b11d8689",
   "metadata": {},
   "outputs": [],
   "source": [
    "l1 = []\n",
    "for i in l :\n",
    "    if type(i) == int:\n",
    "        l1.append(i)"
   ]
  },
  {
   "cell_type": "code",
   "execution_count": 40,
   "id": "1ac01a5c",
   "metadata": {},
   "outputs": [
    {
     "data": {
      "text/plain": [
       "[1, 2, 3, 4, 5]"
      ]
     },
     "execution_count": 40,
     "metadata": {},
     "output_type": "execute_result"
    }
   ],
   "source": [
    "l1"
   ]
  },
  {
   "cell_type": "code",
   "execution_count": 41,
   "id": "9a41c06f",
   "metadata": {},
   "outputs": [],
   "source": [
    "# for loop to be continued in next class"
   ]
  },
  {
   "cell_type": "markdown",
   "id": "ce76dba2",
   "metadata": {},
   "source": [
    "# self practice "
   ]
  },
  {
   "cell_type": "code",
   "execution_count": 1,
   "id": "04e4f695",
   "metadata": {},
   "outputs": [
    {
     "name": "stdout",
     "output_type": "stream",
     "text": [
      "this is my first programing \n"
     ]
    }
   ],
   "source": [
    "a = 10 \n",
    "if a == 10:\n",
    "    print(\"this is my first programing \")"
   ]
  },
  {
   "cell_type": "code",
   "execution_count": 2,
   "id": "75523aa3",
   "metadata": {},
   "outputs": [],
   "source": [
    "a = 10\n",
    "if a == 11 :\n",
    "    print(\"this is my first programing\")"
   ]
  },
  {
   "cell_type": "code",
   "execution_count": 3,
   "id": "576c1877",
   "metadata": {},
   "outputs": [
    {
     "name": "stdout",
     "output_type": "stream",
     "text": [
      "print this block \n"
     ]
    }
   ],
   "source": [
    "a = 10\n",
    "if a > 5:\n",
    "    print(\"print this block \")"
   ]
  },
  {
   "cell_type": "code",
   "execution_count": 4,
   "id": "d4142430",
   "metadata": {},
   "outputs": [
    {
     "name": "stdout",
     "output_type": "stream",
     "text": [
      "print this block\n"
     ]
    }
   ],
   "source": [
    "a = 10\n",
    "if a > 9:\n",
    "    print ( \"print this block\")"
   ]
  },
  {
   "cell_type": "code",
   "execution_count": 5,
   "id": "67b059eb",
   "metadata": {},
   "outputs": [],
   "source": [
    "a = 5 \n",
    "if a == 5:\n",
    "    pass"
   ]
  },
  {
   "cell_type": "code",
   "execution_count": 6,
   "id": "ebcbfb4a",
   "metadata": {},
   "outputs": [],
   "source": [
    "a = 5\n",
    "if a ==6:\n",
    "    pass"
   ]
  },
  {
   "cell_type": "code",
   "execution_count": 7,
   "id": "a3dc9926",
   "metadata": {},
   "outputs": [
    {
     "name": "stdout",
     "output_type": "stream",
     "text": [
      "print this\n"
     ]
    }
   ],
   "source": [
    "a = 10\n",
    "if a == 11:\n",
    "    print(\"my condition is false\")\n",
    "else :\n",
    "    print (\"print this\")"
   ]
  },
  {
   "cell_type": "code",
   "execution_count": 9,
   "id": "38e664d9",
   "metadata": {},
   "outputs": [
    {
     "name": "stdout",
     "output_type": "stream",
     "text": [
      "if all the blocks are fail then do this\n"
     ]
    }
   ],
   "source": [
    "a = 10\n",
    "if a == 12:\n",
    "    print(\"here we are trying to compare 10 with 12\")\n",
    "elif a == 11:\n",
    "    print(\"we are trying to compare 10 with 11\")\n",
    "else:\n",
    "    print(\"if all the blocks are fail then do this\")"
   ]
  },
  {
   "cell_type": "code",
   "execution_count": 10,
   "id": "3400b459",
   "metadata": {},
   "outputs": [
    {
     "ename": "SyntaxError",
     "evalue": "invalid syntax (4132254235.py, line 6)",
     "output_type": "error",
     "traceback": [
      "\u001b[1;36m  Input \u001b[1;32mIn [10]\u001b[1;36m\u001b[0m\n\u001b[1;33m    else price ==  500:\u001b[0m\n\u001b[1;37m         ^\u001b[0m\n\u001b[1;31mSyntaxError\u001b[0m\u001b[1;31m:\u001b[0m invalid syntax\n"
     ]
    }
   ],
   "source": [
    "price = 500\n",
    "if price > 500:\n",
    "    print(\"may be i won't be able to buy a jacket\")\n",
    "elif price <= 500 :\n",
    "    print ( \"i will be able to buy a jacket\")\n",
    "else price ==  500:\n",
    "    print(\"i dont know\")"
   ]
  },
  {
   "cell_type": "code",
   "execution_count": 11,
   "id": "5133268d",
   "metadata": {},
   "outputs": [
    {
     "name": "stdout",
     "output_type": "stream",
     "text": [
      "i will be able to buy a jacket\n"
     ]
    }
   ],
   "source": [
    "price = 500\n",
    "if price > 500:\n",
    "    print(\"may be i won't be able to buy a jacket\")\n",
    "elif price <= 500 :\n",
    "    print ( \"i will be able to buy a jacket\")\n",
    "else :\n",
    "    print(\"i dont know\")"
   ]
  },
  {
   "cell_type": "code",
   "execution_count": 13,
   "id": "0a6a38ed",
   "metadata": {},
   "outputs": [
    {
     "name": "stdout",
     "output_type": "stream",
     "text": [
      "for sure i will be able to buy\n"
     ]
    }
   ],
   "source": [
    "price = 500\n",
    "if price > 500:\n",
    "    print(\"may be i won't be able to buy a jacket\")\n",
    "elif price < 500 :\n",
    "    print ( \"i will be able to buy a jacket\")\n",
    "elif price == 500:\n",
    "    print(\"for sure i will be able to buy\")\n",
    "else :\n",
    "    print(\"i dont know\")"
   ]
  },
  {
   "cell_type": "code",
   "execution_count": 14,
   "id": "fe53e451",
   "metadata": {},
   "outputs": [
    {
     "data": {
      "text/plain": [
       "False"
      ]
     },
     "execution_count": 14,
     "metadata": {},
     "output_type": "execute_result"
    }
   ],
   "source": [
    "price > 500"
   ]
  },
  {
   "cell_type": "code",
   "execution_count": 15,
   "id": "03c9db12",
   "metadata": {},
   "outputs": [
    {
     "data": {
      "text/plain": [
       "True"
      ]
     },
     "execution_count": 15,
     "metadata": {},
     "output_type": "execute_result"
    }
   ],
   "source": [
    "price == 500"
   ]
  },
  {
   "cell_type": "code",
   "execution_count": 16,
   "id": "1b267749",
   "metadata": {},
   "outputs": [
    {
     "data": {
      "text/plain": [
       "True"
      ]
     },
     "execution_count": 16,
     "metadata": {},
     "output_type": "execute_result"
    }
   ],
   "source": [
    "l = [1,2,3,4,5,6]\n",
    "2 in l"
   ]
  },
  {
   "cell_type": "code",
   "execution_count": 17,
   "id": "ddbf1908",
   "metadata": {},
   "outputs": [
    {
     "name": "stdout",
     "output_type": "stream",
     "text": [
      "try to perform the a task\n"
     ]
    }
   ],
   "source": [
    "if 2 in l:\n",
    "    print(\"try to perform the a task\")\n",
    "else:\n",
    "    print(\"do not perform this task\")"
   ]
  },
  {
   "cell_type": "code",
   "execution_count": 18,
   "id": "5ed61814",
   "metadata": {},
   "outputs": [
    {
     "name": "stdout",
     "output_type": "stream",
     "text": [
      "do not perform this task\n"
     ]
    }
   ],
   "source": [
    "if 7 in l:\n",
    "    print(\"try to peform a task\")\n",
    "else:\n",
    "    print(\"do not perform this task\")"
   ]
  },
  {
   "cell_type": "code",
   "execution_count": 19,
   "id": "3adf4719",
   "metadata": {},
   "outputs": [
    {
     "data": {
      "text/plain": [
       "True"
      ]
     },
     "execution_count": 19,
     "metadata": {},
     "output_type": "execute_result"
    }
   ],
   "source": [
    "l = [1,2,3,4,5,6]\n",
    "2 in l"
   ]
  },
  {
   "cell_type": "code",
   "execution_count": 20,
   "id": "5355a7dc",
   "metadata": {},
   "outputs": [
    {
     "name": "stdout",
     "output_type": "stream",
     "text": [
      "try to the addition\n"
     ]
    }
   ],
   "source": [
    "if 1 in l:\n",
    "    print(\"try to the addition\")\n",
    "elif 2 in l:\n",
    "    print(\"try to do sub\")\n",
    "elif 3 in l:\n",
    "    print(\"try to do mul\")"
   ]
  },
  {
   "cell_type": "code",
   "execution_count": 22,
   "id": "45dbf535",
   "metadata": {},
   "outputs": [
    {
     "name": "stdout",
     "output_type": "stream",
     "text": [
      "try to do sub\n"
     ]
    }
   ],
   "source": [
    "if 10 in l:\n",
    "    print(\"try to the addition\")\n",
    "elif 2 in l:\n",
    "    print(\"try to do sub\")\n",
    "elif 3 in l:\n",
    "    print(\"try to do mul\")"
   ]
  },
  {
   "cell_type": "code",
   "execution_count": 24,
   "id": "6cfa4496",
   "metadata": {},
   "outputs": [
    {
     "name": "stdout",
     "output_type": "stream",
     "text": [
      "try to do sub\n",
      "this is new statement\n"
     ]
    }
   ],
   "source": [
    "if 10 in l:\n",
    "    print(\"try to the addition\")\n",
    "elif 2 in l:\n",
    "    print(\"try to do sub\")\n",
    "elif 3 in l:\n",
    "    print(\"try to do mul\")\n",
    "if 4 in l:\n",
    "    print(\"this is new statement\")     # here if is a new block or fresh block"
   ]
  },
  {
   "cell_type": "code",
   "execution_count": 25,
   "id": "60036c00",
   "metadata": {},
   "outputs": [],
   "source": [
    "a = 400 "
   ]
  },
  {
   "cell_type": "code",
   "execution_count": 26,
   "id": "c9bb1059",
   "metadata": {},
   "outputs": [
    {
     "name": "stdout",
     "output_type": "stream",
     "text": [
      "345\n"
     ]
    }
   ],
   "source": [
    "b = input()    # data inside input function will be considered as string"
   ]
  },
  {
   "cell_type": "code",
   "execution_count": 27,
   "id": "017f2cb6",
   "metadata": {},
   "outputs": [
    {
     "data": {
      "text/plain": [
       "str"
      ]
     },
     "execution_count": 27,
     "metadata": {},
     "output_type": "execute_result"
    }
   ],
   "source": [
    "type(b)"
   ]
  },
  {
   "cell_type": "code",
   "execution_count": 28,
   "id": "fa19f578",
   "metadata": {},
   "outputs": [
    {
     "name": "stdout",
     "output_type": "stream",
     "text": [
      "399\n"
     ]
    }
   ],
   "source": [
    "b = int(input())"
   ]
  },
  {
   "cell_type": "code",
   "execution_count": 29,
   "id": "0b62bab4",
   "metadata": {},
   "outputs": [
    {
     "data": {
      "text/plain": [
       "int"
      ]
     },
     "execution_count": 29,
     "metadata": {},
     "output_type": "execute_result"
    }
   ],
   "source": [
    "type(b)"
   ]
  },
  {
   "cell_type": "code",
   "execution_count": 30,
   "id": "aac8e79f",
   "metadata": {},
   "outputs": [
    {
     "name": "stdout",
     "output_type": "stream",
     "text": [
      "jinnk456\n"
     ]
    },
    {
     "ename": "ValueError",
     "evalue": "invalid literal for int() with base 10: 'jinnk456'",
     "output_type": "error",
     "traceback": [
      "\u001b[1;31m---------------------------------------------------------------------------\u001b[0m",
      "\u001b[1;31mValueError\u001b[0m                                Traceback (most recent call last)",
      "Input \u001b[1;32mIn [30]\u001b[0m, in \u001b[0;36m<cell line: 1>\u001b[1;34m()\u001b[0m\n\u001b[1;32m----> 1\u001b[0m b \u001b[38;5;241m=\u001b[39m \u001b[38;5;28;43mint\u001b[39;49m\u001b[43m(\u001b[49m\u001b[38;5;28;43minput\u001b[39;49m\u001b[43m(\u001b[49m\u001b[43m)\u001b[49m\u001b[43m)\u001b[49m\n",
      "\u001b[1;31mValueError\u001b[0m: invalid literal for int() with base 10: 'jinnk456'"
     ]
    }
   ],
   "source": [
    "b = int(input())"
   ]
  },
  {
   "cell_type": "code",
   "execution_count": 31,
   "id": "77997e9f",
   "metadata": {},
   "outputs": [],
   "source": [
    "# in the above error is coming because only numeric value can be type caste into integer not string can be cast into integer"
   ]
  },
  {
   "cell_type": "code",
   "execution_count": 32,
   "id": "26a81c46",
   "metadata": {},
   "outputs": [
    {
     "name": "stdout",
     "output_type": "stream",
     "text": [
      "600\n",
      "i won't be able to buy anything with this price tag\n"
     ]
    }
   ],
   "source": [
    "price  = int(input())\n",
    "if price < 500 :\n",
    "    print(\"i will be able to buy something\")\n",
    "    if price < 400 :\n",
    "        print(\"i will be able to buy a jacket\")\n",
    "    elif price < 300:\n",
    "        print(\"i will be able to buy a shirt\")\n",
    "    else:\n",
    "        print(\"i won't be able to buy any thing\")\n",
    "else :\n",
    "    print(\"i won't be able to buy anything with this price tag\")"
   ]
  },
  {
   "cell_type": "code",
   "execution_count": null,
   "id": "4e3ef3b4",
   "metadata": {},
   "outputs": [],
   "source": []
  },
  {
   "cell_type": "code",
   "execution_count": 33,
   "id": "7ab50ac5",
   "metadata": {},
   "outputs": [
    {
     "name": "stdout",
     "output_type": "stream",
     "text": [
      "490\n",
      "i will be able to buy something\n",
      "i won't be able to buy any thing\n"
     ]
    }
   ],
   "source": [
    "price  = int(input())\n",
    "if price < 500 :\n",
    "    print(\"i will be able to buy something\")\n",
    "    if price < 400 :\n",
    "        print(\"i will be able to buy a jacket\")\n",
    "    elif price < 300:\n",
    "        print(\"i will be able to buy a shirt\")\n",
    "    else:\n",
    "        print(\"i won't be able to buy any thing\")\n",
    "else :\n",
    "    print(\"i won't be able to buy anything with this price tag\")"
   ]
  },
  {
   "cell_type": "code",
   "execution_count": null,
   "id": "4d7b3918",
   "metadata": {},
   "outputs": [],
   "source": []
  },
  {
   "cell_type": "code",
   "execution_count": 34,
   "id": "2664cc3c",
   "metadata": {},
   "outputs": [
    {
     "name": "stdout",
     "output_type": "stream",
     "text": [
      "300\n",
      "i will be able to buy something\n",
      "i will be able to buy a jacket\n"
     ]
    }
   ],
   "source": [
    "price  = int(input())\n",
    "if price < 500 :\n",
    "    print(\"i will be able to buy something\")\n",
    "    if price < 400 :\n",
    "        print(\"i will be able to buy a jacket\")\n",
    "    elif price < 300:\n",
    "        print(\"i will be able to buy a shirt\")\n",
    "    else:\n",
    "        print(\"i won't be able to buy any thing\")\n",
    "else :\n",
    "    print(\"i won't be able to buy anything with this price tag\")"
   ]
  },
  {
   "cell_type": "code",
   "execution_count": null,
   "id": "111b6002",
   "metadata": {},
   "outputs": [],
   "source": []
  },
  {
   "cell_type": "code",
   "execution_count": 35,
   "id": "5d6466c1",
   "metadata": {},
   "outputs": [
    {
     "name": "stdout",
     "output_type": "stream",
     "text": [
      "89\n",
      "i will be able to buy something\n",
      "i will be able to buy a jacket\n"
     ]
    }
   ],
   "source": [
    "price  = int(input())\n",
    "if price < 500 :\n",
    "    print(\"i will be able to buy something\")\n",
    "    if price < 400 :\n",
    "        print(\"i will be able to buy a jacket\")\n",
    "    elif price < 300:\n",
    "        print(\"i will be able to buy a shirt\")\n",
    "    else:\n",
    "        print(\"i won't be able to buy any thing\")\n",
    "else :\n",
    "    print(\"i won't be able to buy anything with this price tag\")"
   ]
  },
  {
   "cell_type": "code",
   "execution_count": null,
   "id": "6647c50b",
   "metadata": {},
   "outputs": [],
   "source": []
  },
  {
   "cell_type": "code",
   "execution_count": 36,
   "id": "7e962672",
   "metadata": {},
   "outputs": [
    {
     "name": "stdout",
     "output_type": "stream",
     "text": [
      "200\n",
      "i will be able to buy something\n",
      "i will be able to buy a jacket\n"
     ]
    }
   ],
   "source": [
    "price  = int(input())\n",
    "if price < 500 :\n",
    "    print(\"i will be able to buy something\")\n",
    "    if price < 400 :\n",
    "        print(\"i will be able to buy a jacket\")\n",
    "    elif price < 300:\n",
    "        print(\"i will be able to buy a shirt\")\n",
    "    else:\n",
    "        print(\"i won't be able to buy any thing\")\n",
    "else :\n",
    "    print(\"i won't be able to buy anything with this price tag\")"
   ]
  },
  {
   "cell_type": "code",
   "execution_count": null,
   "id": "7196cb07",
   "metadata": {},
   "outputs": [],
   "source": []
  },
  {
   "cell_type": "code",
   "execution_count": 37,
   "id": "b47d7639",
   "metadata": {},
   "outputs": [
    {
     "name": "stdout",
     "output_type": "stream",
     "text": [
      "300\n",
      "i will be able to buy something\n",
      "i will be able to buy a jacket\n"
     ]
    }
   ],
   "source": [
    "price  = int(input())\n",
    "if price < 500 :\n",
    "    print(\"i will be able to buy something\")\n",
    "    if price < 400 :\n",
    "        print(\"i will be able to buy a jacket\")\n",
    "    elif price <=300:\n",
    "        print(\"i will be able to buy a shirt\")\n",
    "    else:\n",
    "        print(\"i won't be able to buy any thing\")\n",
    "else :\n",
    "    print(\"i won't be able to buy anything with this price tag\")"
   ]
  },
  {
   "cell_type": "code",
   "execution_count": null,
   "id": "9a4345b8",
   "metadata": {},
   "outputs": [],
   "source": []
  },
  {
   "cell_type": "code",
   "execution_count": 38,
   "id": "8a9b8283",
   "metadata": {},
   "outputs": [
    {
     "name": "stdout",
     "output_type": "stream",
     "text": [
      "500\n",
      "i will be able to buy something\n",
      "i won't be able to buy any thing\n"
     ]
    }
   ],
   "source": [
    "price  = int(input())\n",
    "if price <= 500 :\n",
    "    print(\"i will be able to buy something\")\n",
    "    if price < 400 :\n",
    "        print(\"i will be able to buy a jacket\")\n",
    "    elif price < 300:\n",
    "        print(\"i will be able to buy a shirt\")\n",
    "    else:\n",
    "        print(\"i won't be able to buy any thing\")\n",
    "else :\n",
    "    print(\"i won't be able to buy anything with this price tag\")"
   ]
  },
  {
   "cell_type": "code",
   "execution_count": null,
   "id": "6656d41a",
   "metadata": {},
   "outputs": [],
   "source": []
  },
  {
   "cell_type": "code",
   "execution_count": 39,
   "id": "56c20983",
   "metadata": {},
   "outputs": [
    {
     "name": "stdout",
     "output_type": "stream",
     "text": [
      "99\n",
      "i will be able to buy something\n",
      "i will be able to buy a shirt\n"
     ]
    }
   ],
   "source": [
    "price  = int(input())\n",
    "if price <= 500 :\n",
    "    print(\"i will be able to buy something\")\n",
    "    if price > 400 :\n",
    "        print(\"i will be able to buy a jacket\")\n",
    "    elif price < 300:\n",
    "        print(\"i will be able to buy a shirt\")\n",
    "    else:\n",
    "        print(\"i won't be able to buy any thing\")\n",
    "else :\n",
    "    print(\"i won't be able to buy anything with this price tag\")"
   ]
  },
  {
   "cell_type": "code",
   "execution_count": null,
   "id": "a54def56",
   "metadata": {},
   "outputs": [],
   "source": []
  },
  {
   "cell_type": "code",
   "execution_count": 40,
   "id": "a9c35e44",
   "metadata": {},
   "outputs": [
    {
     "name": "stdout",
     "output_type": "stream",
     "text": [
      "100\n",
      "i will be able to buy something\n",
      "i won't be able to buy any thing\n"
     ]
    }
   ],
   "source": [
    "price  = int(input())\n",
    "if price <= 500 :\n",
    "    print(\"i will be able to buy something\")\n",
    "    if price > 400 :\n",
    "        print(\"i will be able to buy a jacket\")\n",
    "    elif price > 300:\n",
    "        print(\"i will be able to buy a shirt\")\n",
    "    else:\n",
    "        print(\"i won't be able to buy any thing\")\n",
    "else :\n",
    "    print(\"i won't be able to buy anything with this price tag\")"
   ]
  },
  {
   "cell_type": "code",
   "execution_count": 1,
   "id": "c8f72524",
   "metadata": {},
   "outputs": [
    {
     "name": "stdout",
     "output_type": "stream",
     "text": [
      "550\n",
      "i won't be able to buy anything with this price tag\n"
     ]
    }
   ],
   "source": [
    "price  = int(input())\n",
    "if price <= 500 :\n",
    "    print(\"i will be able to buy something\")\n",
    "    if price > 400 :\n",
    "        print(\"i will be able to buy a jacket\")\n",
    "    elif price > 300:\n",
    "        print(\"i will be able to buy a shirt\")\n",
    "    else:\n",
    "        print(\"i won't be able to buy any thing\")\n",
    "else :\n",
    "    print(\"i won't be able to buy anything with this price tag\")"
   ]
  },
  {
   "cell_type": "code",
   "execution_count": null,
   "id": "b6af70c4",
   "metadata": {},
   "outputs": [],
   "source": [
    "marks = int(input())\n",
    "if marks < 600:\n",
    "    print(\"i will not get admission in gre\")\n",
    "    if marks < 500:\n",
    "        print(\"i will get admission in tofel\")\n",
    "    elif marks < 400:\n",
    "        print(\"i will try something else\")\n",
    "    else:\n",
    "        print(\"do what ever you want\")\n",
    "else:\n",
    "    print(\"you will get gre\")"
   ]
  },
  {
   "cell_type": "code",
   "execution_count": 1,
   "id": "92c17753",
   "metadata": {},
   "outputs": [
    {
     "ename": "SyntaxError",
     "evalue": "invalid syntax (972909267.py, line 1)",
     "output_type": "error",
     "traceback": [
      "\u001b[1;36m  Input \u001b[1;32mIn [1]\u001b[1;36m\u001b[0m\n\u001b[1;33m    kernel restarted\u001b[0m\n\u001b[1;37m           ^\u001b[0m\n\u001b[1;31mSyntaxError\u001b[0m\u001b[1;31m:\u001b[0m invalid syntax\n"
     ]
    }
   ],
   "source": [
    "kernel restarted"
   ]
  },
  {
   "cell_type": "code",
   "execution_count": 2,
   "id": "aa15159d",
   "metadata": {},
   "outputs": [
    {
     "name": "stdout",
     "output_type": "stream",
     "text": [
      "599\n",
      "i will not get admission in gre\n",
      "do what ever you want\n"
     ]
    }
   ],
   "source": [
    "marks = int(input())\n",
    "if marks < 600:\n",
    "    print(\"i will not get admission in gre\")\n",
    "    if marks < 500:\n",
    "        print(\"i will get admission in tofel\")\n",
    "    elif marks < 400:\n",
    "        print(\"i will try something else\")\n",
    "    else:\n",
    "        print(\"do what ever you want\")\n",
    "else:\n",
    "    print(\"you will get gre\")"
   ]
  },
  {
   "cell_type": "code",
   "execution_count": null,
   "id": "4eeea9a3",
   "metadata": {},
   "outputs": [],
   "source": []
  },
  {
   "cell_type": "code",
   "execution_count": 3,
   "id": "24fc18d4",
   "metadata": {},
   "outputs": [
    {
     "name": "stdout",
     "output_type": "stream",
     "text": [
      "604\n",
      "you will get gre\n"
     ]
    }
   ],
   "source": [
    "marks = int(input())\n",
    "if marks < 600:\n",
    "    print(\"i will not get admission in gre\")\n",
    "    if marks < 500:\n",
    "        print(\"i will get admission in tofel\")\n",
    "    elif marks < 400:\n",
    "        print(\"i will try something else\")\n",
    "    else:\n",
    "        print(\"do what ever you want\")\n",
    "else:\n",
    "    print(\"you will get gre\")\n",
    "    "
   ]
  },
  {
   "cell_type": "code",
   "execution_count": null,
   "id": "d0adf377",
   "metadata": {},
   "outputs": [],
   "source": []
  },
  {
   "cell_type": "code",
   "execution_count": 4,
   "id": "2348dafe",
   "metadata": {},
   "outputs": [
    {
     "name": "stdout",
     "output_type": "stream",
     "text": [
      "200\n",
      "i will not get admission in gre\n",
      "i will try something else\n"
     ]
    }
   ],
   "source": [
    "marks = int(input())\n",
    "if marks < 600:\n",
    "    print(\"i will not get admission in gre\")\n",
    "    if marks > 500:\n",
    "        print(\"i will get admission in tofel\")\n",
    "    elif marks < 400:\n",
    "        print(\"i will try something else\")\n",
    "    else:\n",
    "        print(\"do what ever you want\")\n",
    "else:\n",
    "    print(\"you will get gre\")\n",
    "    "
   ]
  },
  {
   "cell_type": "code",
   "execution_count": null,
   "id": "69e89809",
   "metadata": {},
   "outputs": [],
   "source": []
  },
  {
   "cell_type": "code",
   "execution_count": 36,
   "id": "48b87ca6",
   "metadata": {},
   "outputs": [
    {
     "name": "stdout",
     "output_type": "stream",
     "text": [
      "200\n",
      "i will be able to buy something\n",
      "i will be able to buy a jacket\n"
     ]
    }
   ],
   "source": [
    "price  = int(input())\n",
    "if price < 500 :\n",
    "    print(\"i will be able to buy something\")\n",
    "    if price < 400 :\n",
    "        print(\"i will be able to buy a jacket\")\n",
    "    elif price < 300:\n",
    "        print(\"i will be able to buy a shirt\")\n",
    "    else:\n",
    "        print(\"i won't be able to buy any thing\")\n",
    "else :\n",
    "    print(\"i won't be able to buy anything with this price tag\")"
   ]
  },
  {
   "cell_type": "code",
   "execution_count": 5,
   "id": "b4f2d187",
   "metadata": {},
   "outputs": [
    {
     "name": "stdout",
     "output_type": "stream",
     "text": [
      "100\n",
      "i will be able to buy something\n",
      "i will be able to buy a jacket\n",
      "i will be able to buy a shirt\n"
     ]
    }
   ],
   "source": [
    "price  = int(input())\n",
    "if price < 500 :\n",
    "    print(\"i will be able to buy something\")\n",
    "    if price < 400 :\n",
    "        print(\"i will be able to buy a jacket\")\n",
    "    if price < 300:\n",
    "        print(\"i will be able to buy a shirt\")\n",
    "    else:\n",
    "        print(\"i won't be able to buy any thing\")\n",
    "else :\n",
    "    print(\"i won't be able to buy anything with this price tag\")"
   ]
  },
  {
   "cell_type": "code",
   "execution_count": null,
   "id": "7b307aaa",
   "metadata": {},
   "outputs": [],
   "source": []
  },
  {
   "cell_type": "code",
   "execution_count": 6,
   "id": "2a9e23a9",
   "metadata": {},
   "outputs": [
    {
     "name": "stdout",
     "output_type": "stream",
     "text": [
      "504\n",
      "i won't be able to buy anything with this price tag\n"
     ]
    }
   ],
   "source": [
    "price  = int(input())\n",
    "if price < 500 :\n",
    "    print(\"i will be able to buy something\")\n",
    "    if price < 400 :\n",
    "        print(\"i will be able to buy a jacket\")\n",
    "    if price < 300:\n",
    "        print(\"i will be able to buy a shirt\")\n",
    "    else:\n",
    "        print(\"i won't be able to buy any thing\")\n",
    "else :\n",
    "    print(\"i won't be able to buy anything with this price tag\")"
   ]
  },
  {
   "cell_type": "code",
   "execution_count": null,
   "id": "479adabc",
   "metadata": {},
   "outputs": [],
   "source": []
  },
  {
   "cell_type": "code",
   "execution_count": 7,
   "id": "2ddd4433",
   "metadata": {},
   "outputs": [
    {
     "name": "stdout",
     "output_type": "stream",
     "text": [
      "300\n",
      "i will not get admission in gre\n",
      "i will try something else\n"
     ]
    }
   ],
   "source": [
    "marks = int(input())\n",
    "if marks < 600:\n",
    "    print(\"i will not get admission in gre\")\n",
    "    if marks > 500:\n",
    "        print(\"i will get admission in tofel\")\n",
    "    if marks < 400:\n",
    "        print(\"i will try something else\")\n",
    "    else:\n",
    "        print(\"do what ever you want\")\n",
    "else:\n",
    "    print(\"you will get gre\")\n",
    "    "
   ]
  },
  {
   "cell_type": "code",
   "execution_count": 8,
   "id": "4d5857ff",
   "metadata": {},
   "outputs": [
    {
     "name": "stdout",
     "output_type": "stream",
     "text": [
      "345\n",
      "entered value is positive number\n"
     ]
    }
   ],
   "source": [
    "val = float(input())\n",
    "if val >=0:\n",
    "    if val == 0:\n",
    "        print(\"entered value is zero\")\n",
    "    else:\n",
    "        print(\"entered value is positive number\")\n",
    "else:\n",
    "    print(\"entered number is a negative number\")"
   ]
  },
  {
   "cell_type": "code",
   "execution_count": null,
   "id": "5bd0c40d",
   "metadata": {},
   "outputs": [],
   "source": []
  },
  {
   "cell_type": "code",
   "execution_count": 9,
   "id": "bd08d1b4",
   "metadata": {},
   "outputs": [
    {
     "name": "stdout",
     "output_type": "stream",
     "text": [
      "5\n",
      "entered value is positive number\n"
     ]
    }
   ],
   "source": [
    "val = float(input())\n",
    "if val >=0:\n",
    "    if val == 0:\n",
    "        print(\"entered value is zero\")\n",
    "    else:\n",
    "        print(\"entered value is positive number\")\n",
    "else:\n",
    "    print(\"entered number is a negative number\")"
   ]
  },
  {
   "cell_type": "code",
   "execution_count": 10,
   "id": "bb08f0b9",
   "metadata": {},
   "outputs": [
    {
     "name": "stdout",
     "output_type": "stream",
     "text": [
      "5.0\n",
      "entered value is positive number\n"
     ]
    }
   ],
   "source": [
    "val = float(input())\n",
    "if val >=0:\n",
    "    if val == 0:\n",
    "        print(\"entered value is zero\")\n",
    "    else:\n",
    "        print(\"entered value is positive number\")\n",
    "else:\n",
    "    print(\"entered number is a negative number\")"
   ]
  },
  {
   "cell_type": "code",
   "execution_count": null,
   "id": "2ba96c6e",
   "metadata": {},
   "outputs": [],
   "source": []
  },
  {
   "cell_type": "code",
   "execution_count": 11,
   "id": "13510bf4",
   "metadata": {},
   "outputs": [
    {
     "name": "stdout",
     "output_type": "stream",
     "text": [
      "145\n",
      "entered value is positive number\n"
     ]
    }
   ],
   "source": [
    "val = float(input())\n",
    "if val >=0:\n",
    "    if val == 0:\n",
    "        print(\"entered value is zero\")\n",
    "    else:\n",
    "        print(\"entered value is positive number\")\n",
    "else:\n",
    "    print(\"entered number is a negative number\")"
   ]
  },
  {
   "cell_type": "code",
   "execution_count": null,
   "id": "815be931",
   "metadata": {},
   "outputs": [],
   "source": []
  },
  {
   "cell_type": "code",
   "execution_count": 12,
   "id": "47df3b74",
   "metadata": {},
   "outputs": [
    {
     "name": "stdout",
     "output_type": "stream",
     "text": [
      "0\n",
      "entered value is zero\n"
     ]
    }
   ],
   "source": [
    "val = float(input())\n",
    "if val >=0:\n",
    "    if val == 0:\n",
    "        print(\"entered value is zero\")\n",
    "    else:\n",
    "        print(\"entered value is positive number\")\n",
    "else:\n",
    "    print(\"entered number is a negative number\")"
   ]
  },
  {
   "cell_type": "code",
   "execution_count": null,
   "id": "f7f5613c",
   "metadata": {},
   "outputs": [],
   "source": []
  },
  {
   "cell_type": "code",
   "execution_count": 13,
   "id": "fc0a30e6",
   "metadata": {},
   "outputs": [
    {
     "name": "stdout",
     "output_type": "stream",
     "text": [
      "-9\n",
      "entered number is a negative number\n"
     ]
    }
   ],
   "source": [
    "val = float(input())\n",
    "if val >=0:\n",
    "    if val == 0:\n",
    "        print(\"entered value is zero\")\n",
    "    else:\n",
    "        print(\"entered value is positive number\")\n",
    "else:\n",
    "    print(\"entered number is a negative number\")"
   ]
  },
  {
   "cell_type": "code",
   "execution_count": 14,
   "id": "4271608b",
   "metadata": {},
   "outputs": [
    {
     "name": "stdout",
     "output_type": "stream",
     "text": [
      "try to do something\n"
     ]
    }
   ],
   "source": [
    "a = 10\n",
    "if a < 10 or a == 10:\n",
    "    print(\"try to do something\")"
   ]
  },
  {
   "cell_type": "code",
   "execution_count": 15,
   "id": "dfa90059",
   "metadata": {},
   "outputs": [],
   "source": [
    "a = 10\n",
    "if a < 10 or a > 10:\n",
    "    print(\"try to do something\")"
   ]
  },
  {
   "cell_type": "code",
   "execution_count": 16,
   "id": "7cdfadbd",
   "metadata": {},
   "outputs": [],
   "source": [
    "a = 10\n",
    "if a < 10 and a ==10:\n",
    "    print(\"try to do something\")"
   ]
  },
  {
   "cell_type": "code",
   "execution_count": null,
   "id": "d8b5aab9",
   "metadata": {},
   "outputs": [],
   "source": []
  },
  {
   "cell_type": "code",
   "execution_count": 17,
   "id": "36498084",
   "metadata": {},
   "outputs": [
    {
     "name": "stdout",
     "output_type": "stream",
     "text": [
      "try to do something\n"
     ]
    }
   ],
   "source": [
    "a = 10\n",
    "if a <= 10 and a ==10:\n",
    "    print(\"try to do something\")"
   ]
  },
  {
   "cell_type": "code",
   "execution_count": 18,
   "id": "c053c904",
   "metadata": {},
   "outputs": [],
   "source": [
    "a = 10 \n",
    "b = 11\n",
    "c = 12\n",
    "d = 13\n",
    "if a == 9 and b == 11 and c == 12 and d == 13:\n",
    "    print(\"try to do something\")"
   ]
  },
  {
   "cell_type": "code",
   "execution_count": null,
   "id": "7459edd4",
   "metadata": {},
   "outputs": [],
   "source": []
  },
  {
   "cell_type": "code",
   "execution_count": 19,
   "id": "e2ae7eab",
   "metadata": {},
   "outputs": [
    {
     "name": "stdout",
     "output_type": "stream",
     "text": [
      "try to do something\n"
     ]
    }
   ],
   "source": [
    "a = 10 \n",
    "b = 11\n",
    "c = 12\n",
    "d = 13\n",
    "if a == 9 or b == 11 and c == 12 and d == 13:\n",
    "    print(\"try to do something\")"
   ]
  },
  {
   "cell_type": "code",
   "execution_count": null,
   "id": "7b7f8b86",
   "metadata": {},
   "outputs": [],
   "source": []
  },
  {
   "cell_type": "code",
   "execution_count": 20,
   "id": "6e8c17d9",
   "metadata": {},
   "outputs": [
    {
     "name": "stdout",
     "output_type": "stream",
     "text": [
      "try to do something\n"
     ]
    }
   ],
   "source": [
    "a = 10 \n",
    "b = 11\n",
    "c = 12\n",
    "d = 13\n",
    "if a == 9 and b == 11 or c == 12 and d == 13:\n",
    "    print(\"try to do something\")"
   ]
  },
  {
   "cell_type": "code",
   "execution_count": 21,
   "id": "d7db1cb7",
   "metadata": {},
   "outputs": [],
   "source": [
    "d  = {\"key1\":\"value\",\"key2\":\"ojha\",\"key3\":\"ineuron\"}"
   ]
  },
  {
   "cell_type": "code",
   "execution_count": 22,
   "id": "dcfd543f",
   "metadata": {},
   "outputs": [
    {
     "name": "stdout",
     "output_type": "stream",
     "text": [
      "all the value are verified\n"
     ]
    }
   ],
   "source": [
    "if d[\"key1\"]==\"value\" and d[\"key2\"]==\"ojha\" and d[\"key3\"]==\"ineuron\":\n",
    "    print(\"all the value are verified\")"
   ]
  },
  {
   "cell_type": "code",
   "execution_count": 23,
   "id": "7697370a",
   "metadata": {},
   "outputs": [
    {
     "name": "stdout",
     "output_type": "stream",
     "text": [
      "all the value are verified\n",
      "dict_values(['value', 'ojha', 'ineuron'])\n"
     ]
    }
   ],
   "source": [
    "if d[\"key1\"]==\"value\" and d[\"key2\"]==\"ojha\" and d[\"key3\"]==\"ineuron\":\n",
    "    print(\"all the value are verified\")\n",
    "    print(d.values())"
   ]
  },
  {
   "cell_type": "code",
   "execution_count": null,
   "id": "379ab146",
   "metadata": {},
   "outputs": [],
   "source": []
  },
  {
   "cell_type": "code",
   "execution_count": 24,
   "id": "d49f3843",
   "metadata": {},
   "outputs": [],
   "source": [
    "if d[\"key1\"]==\"value\" and d[\"key2\"]==\"Ojha\" and d[\"key3\"]==\"ineuron\":\n",
    "    print(\"all the value are verified\")\n",
    "    print(d.values())"
   ]
  },
  {
   "cell_type": "code",
   "execution_count": 26,
   "id": "e1b97c50",
   "metadata": {},
   "outputs": [],
   "source": [
    "# in the above  O is capital in ojha therefore false"
   ]
  },
  {
   "cell_type": "code",
   "execution_count": null,
   "id": "94430dd8",
   "metadata": {},
   "outputs": [],
   "source": []
  },
  {
   "cell_type": "code",
   "execution_count": 27,
   "id": "a526542d",
   "metadata": {},
   "outputs": [
    {
     "name": "stdout",
     "output_type": "stream",
     "text": [
      "all the value are not verified\n"
     ]
    }
   ],
   "source": [
    "if d[\"key1\"]==\"value\" and d[\"key2\"]==\"Ojha\" and d[\"key3\"]==\"ineuron\":\n",
    "    print(\"all the value are verified\")\n",
    "    print(d.values())\n",
    "else:\n",
    "    print(\"all the value are not verified\")"
   ]
  },
  {
   "cell_type": "code",
   "execution_count": 1,
   "id": "b3dae3b9",
   "metadata": {},
   "outputs": [],
   "source": [
    "l = [1,2,3,4,5,\"sudh\",234.45]"
   ]
  },
  {
   "cell_type": "code",
   "execution_count": 2,
   "id": "73b2105f",
   "metadata": {},
   "outputs": [
    {
     "name": "stdout",
     "output_type": "stream",
     "text": [
      "1\n",
      "2\n",
      "3\n",
      "4\n",
      "5\n",
      "sudh\n",
      "234.45\n"
     ]
    }
   ],
   "source": [
    "for i in l:\n",
    "    print(i)"
   ]
  },
  {
   "cell_type": "code",
   "execution_count": 3,
   "id": "26d32400",
   "metadata": {},
   "outputs": [
    {
     "name": "stdout",
     "output_type": "stream",
     "text": [
      "2\n",
      "3\n",
      "4\n",
      "5\n",
      "6\n"
     ]
    },
    {
     "ename": "TypeError",
     "evalue": "can only concatenate str (not \"int\") to str",
     "output_type": "error",
     "traceback": [
      "\u001b[1;31m---------------------------------------------------------------------------\u001b[0m",
      "\u001b[1;31mTypeError\u001b[0m                                 Traceback (most recent call last)",
      "Input \u001b[1;32mIn [3]\u001b[0m, in \u001b[0;36m<cell line: 1>\u001b[1;34m()\u001b[0m\n\u001b[0;32m      1\u001b[0m \u001b[38;5;28;01mfor\u001b[39;00m i \u001b[38;5;129;01min\u001b[39;00m l:\n\u001b[1;32m----> 2\u001b[0m     \u001b[38;5;28mprint\u001b[39m(\u001b[43mi\u001b[49m\u001b[43m \u001b[49m\u001b[38;5;241;43m+\u001b[39;49m\u001b[43m \u001b[49m\u001b[38;5;241;43m1\u001b[39;49m)\n",
      "\u001b[1;31mTypeError\u001b[0m: can only concatenate str (not \"int\") to str"
     ]
    }
   ],
   "source": [
    "for i in l:\n",
    "    print(i + 1)"
   ]
  },
  {
   "cell_type": "code",
   "execution_count": 4,
   "id": "bd45cdcb",
   "metadata": {},
   "outputs": [
    {
     "name": "stdout",
     "output_type": "stream",
     "text": [
      "2\n",
      "3\n",
      "4\n",
      "5\n",
      "6\n",
      "sudh1\n"
     ]
    },
    {
     "ename": "TypeError",
     "evalue": "unsupported operand type(s) for +: 'float' and 'str'",
     "output_type": "error",
     "traceback": [
      "\u001b[1;31m---------------------------------------------------------------------------\u001b[0m",
      "\u001b[1;31mTypeError\u001b[0m                                 Traceback (most recent call last)",
      "Input \u001b[1;32mIn [4]\u001b[0m, in \u001b[0;36m<cell line: 1>\u001b[1;34m()\u001b[0m\n\u001b[0;32m      3\u001b[0m     \u001b[38;5;28mprint\u001b[39m(i\u001b[38;5;241m+\u001b[39m\u001b[38;5;241m1\u001b[39m)\n\u001b[0;32m      4\u001b[0m \u001b[38;5;28;01melse\u001b[39;00m:\n\u001b[1;32m----> 5\u001b[0m     \u001b[38;5;28mprint\u001b[39m(\u001b[43mi\u001b[49m\u001b[43m \u001b[49m\u001b[38;5;241;43m+\u001b[39;49m\u001b[43m \u001b[49m\u001b[38;5;28;43mstr\u001b[39;49m\u001b[43m(\u001b[49m\u001b[38;5;241;43m1\u001b[39;49m\u001b[43m)\u001b[49m)\n",
      "\u001b[1;31mTypeError\u001b[0m: unsupported operand type(s) for +: 'float' and 'str'"
     ]
    }
   ],
   "source": [
    "for i in l:\n",
    "    if type(i)==  int:\n",
    "        print(i+1)\n",
    "    else:\n",
    "        print(i + str(1))"
   ]
  },
  {
   "cell_type": "code",
   "execution_count": 6,
   "id": "4b85caac",
   "metadata": {},
   "outputs": [
    {
     "name": "stdout",
     "output_type": "stream",
     "text": [
      "2\n",
      "3\n",
      "4\n",
      "5\n",
      "6\n",
      "sudh1\n"
     ]
    }
   ],
   "source": [
    "for i in l:\n",
    "    if type(i)== int:\n",
    "        print(i + 1)\n",
    "    elif type(i) == str:\n",
    "        print(i +str(1))"
   ]
  },
  {
   "cell_type": "code",
   "execution_count": 7,
   "id": "30b44a45",
   "metadata": {},
   "outputs": [
    {
     "name": "stdout",
     "output_type": "stream",
     "text": [
      "2\n",
      "3\n",
      "4\n",
      "5\n",
      "6\n",
      "sudh1\n",
      "235.45\n"
     ]
    }
   ],
   "source": [
    "for i in l:\n",
    "    if type(i)== int or type(i)== float:\n",
    "        print(i + 1)\n",
    "    elif type(i)== str:\n",
    "        print(i + str(1))"
   ]
  },
  {
   "cell_type": "code",
   "execution_count": 8,
   "id": "3b4795fa",
   "metadata": {},
   "outputs": [
    {
     "name": "stdout",
     "output_type": "stream",
     "text": [
      "2\n"
     ]
    },
    {
     "ename": "TypeError",
     "evalue": "unsupported operand type(s) for +: 'int' and 'str'",
     "output_type": "error",
     "traceback": [
      "\u001b[1;31m---------------------------------------------------------------------------\u001b[0m",
      "\u001b[1;31mTypeError\u001b[0m                                 Traceback (most recent call last)",
      "Input \u001b[1;32mIn [8]\u001b[0m, in \u001b[0;36m<cell line: 1>\u001b[1;34m()\u001b[0m\n\u001b[0;32m      2\u001b[0m \u001b[38;5;28;01mif\u001b[39;00m \u001b[38;5;28mtype\u001b[39m(i) \u001b[38;5;241m==\u001b[39m \u001b[38;5;28mint\u001b[39m \u001b[38;5;129;01mor\u001b[39;00m \u001b[38;5;28mtype\u001b[39m(i)\u001b[38;5;241m==\u001b[39m \u001b[38;5;28mfloat\u001b[39m \u001b[38;5;129;01mor\u001b[39;00m \u001b[38;5;28mtype\u001b[39m(i)\u001b[38;5;241m==\u001b[39m \u001b[38;5;28mstr\u001b[39m:\n\u001b[0;32m      3\u001b[0m     \u001b[38;5;28mprint\u001b[39m(i \u001b[38;5;241m+\u001b[39m\u001b[38;5;241m1\u001b[39m)\n\u001b[1;32m----> 4\u001b[0m     \u001b[38;5;28mprint\u001b[39m(\u001b[43mi\u001b[49m\u001b[43m \u001b[49m\u001b[38;5;241;43m+\u001b[39;49m\u001b[38;5;28;43mstr\u001b[39;49m\u001b[43m(\u001b[49m\u001b[38;5;241;43m1\u001b[39;49m\u001b[43m)\u001b[49m)\n",
      "\u001b[1;31mTypeError\u001b[0m: unsupported operand type(s) for +: 'int' and 'str'"
     ]
    }
   ],
   "source": [
    "for i in l:\n",
    "    if type(i) == int or type(i)== float or type(i)== str:\n",
    "        print(i +1)\n",
    "        print(i +str(1))"
   ]
  },
  {
   "cell_type": "code",
   "execution_count": 9,
   "id": "d0617516",
   "metadata": {},
   "outputs": [],
   "source": [
    "# if want to creat a list of only integer"
   ]
  },
  {
   "cell_type": "code",
   "execution_count": 10,
   "id": "3e450527",
   "metadata": {},
   "outputs": [
    {
     "data": {
      "text/plain": [
       "[1, 2, 3, 4, 5, 'sudh', 234.45]"
      ]
     },
     "execution_count": 10,
     "metadata": {},
     "output_type": "execute_result"
    }
   ],
   "source": [
    "l"
   ]
  },
  {
   "cell_type": "code",
   "execution_count": 13,
   "id": "57ae5d21",
   "metadata": {},
   "outputs": [],
   "source": [
    "l1 = []\n",
    "for i in l:\n",
    "    if type(i)== int:\n",
    "        l1.append(i)"
   ]
  },
  {
   "cell_type": "code",
   "execution_count": 14,
   "id": "94b3fe94",
   "metadata": {},
   "outputs": [
    {
     "data": {
      "text/plain": [
       "[1, 2, 3, 4, 5]"
      ]
     },
     "execution_count": 14,
     "metadata": {},
     "output_type": "execute_result"
    }
   ],
   "source": [
    "l1"
   ]
  },
  {
   "cell_type": "code",
   "execution_count": 15,
   "id": "1c0280ed",
   "metadata": {},
   "outputs": [],
   "source": [
    "l = [1,2,34,56,7,\"sudh\",\"ojha\",\"kumar\"]"
   ]
  },
  {
   "cell_type": "code",
   "execution_count": 16,
   "id": "4f528357",
   "metadata": {},
   "outputs": [],
   "source": [
    "l2 = []\n",
    "for i in l:\n",
    "    if type(i)==str:\n",
    "        l2.append(i)"
   ]
  },
  {
   "cell_type": "code",
   "execution_count": 17,
   "id": "1d8caab7",
   "metadata": {},
   "outputs": [
    {
     "data": {
      "text/plain": [
       "['sudh', 'ojha', 'kumar']"
      ]
     },
     "execution_count": 17,
     "metadata": {},
     "output_type": "execute_result"
    }
   ],
   "source": [
    "l2"
   ]
  },
  {
   "cell_type": "code",
   "execution_count": null,
   "id": "53ebf393",
   "metadata": {},
   "outputs": [],
   "source": []
  }
 ],
 "metadata": {
  "kernelspec": {
   "display_name": "Python 3 (ipykernel)",
   "language": "python",
   "name": "python3"
  },
  "language_info": {
   "codemirror_mode": {
    "name": "ipython",
    "version": 3
   },
   "file_extension": ".py",
   "mimetype": "text/x-python",
   "name": "python",
   "nbconvert_exporter": "python",
   "pygments_lexer": "ipython3",
   "version": "3.9.12"
  }
 },
 "nbformat": 4,
 "nbformat_minor": 5
}
