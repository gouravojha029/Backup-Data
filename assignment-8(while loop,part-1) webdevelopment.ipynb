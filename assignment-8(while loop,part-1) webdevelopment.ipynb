{
 "cells": [
  {
   "cell_type": "code",
   "execution_count": 1,
   "id": "6f12598b",
   "metadata": {},
   "outputs": [],
   "source": [
    "#1)write a python script to print mysirg 5 times on the screen."
   ]
  },
  {
   "cell_type": "code",
   "execution_count": 2,
   "id": "2df6dbde",
   "metadata": {},
   "outputs": [
    {
     "name": "stdout",
     "output_type": "stream",
     "text": [
      "mysirg\n",
      "mysirg\n",
      "mysirg\n",
      "mysirg\n",
      "mysirg\n"
     ]
    }
   ],
   "source": [
    "i=0\n",
    "while i<5:\n",
    "    print(\"mysirg\")\n",
    "    i+=1"
   ]
  },
  {
   "cell_type": "code",
   "execution_count": 3,
   "id": "4b605f1c",
   "metadata": {},
   "outputs": [],
   "source": [
    "#2)write a python script to print first 10 natural numbers."
   ]
  },
  {
   "cell_type": "code",
   "execution_count": 5,
   "id": "33da6404",
   "metadata": {},
   "outputs": [
    {
     "name": "stdout",
     "output_type": "stream",
     "text": [
      "1 2 3 4 5 6 7 8 9 10 "
     ]
    }
   ],
   "source": [
    "i=1\n",
    "while i<=10:\n",
    "    print(i,end=\" \")\n",
    "    i+=1"
   ]
  },
  {
   "cell_type": "code",
   "execution_count": 6,
   "id": "5a934992",
   "metadata": {},
   "outputs": [],
   "source": [
    "#3)write a python script to print first 10 natural numbers in reverse order."
   ]
  },
  {
   "cell_type": "code",
   "execution_count": 7,
   "id": "c2d47f4b",
   "metadata": {},
   "outputs": [
    {
     "name": "stdout",
     "output_type": "stream",
     "text": [
      "10 9 8 7 6 5 4 3 2 1 "
     ]
    }
   ],
   "source": [
    "i=10\n",
    "while i>=1:\n",
    "    print(i,end=\" \")\n",
    "    i-=1"
   ]
  },
  {
   "cell_type": "code",
   "execution_count": 8,
   "id": "29843cbb",
   "metadata": {},
   "outputs": [],
   "source": [
    "#4)write a python script to print first 10 odd natural numbers."
   ]
  },
  {
   "cell_type": "code",
   "execution_count": 19,
   "id": "208c4397",
   "metadata": {},
   "outputs": [
    {
     "name": "stdout",
     "output_type": "stream",
     "text": [
      "1 3 5 7 9 11 13 15 17 19 "
     ]
    }
   ],
   "source": [
    "i=1\n",
    "while i<20:\n",
    "    print(i,end=\" \")\n",
    "    i+=2"
   ]
  },
  {
   "cell_type": "code",
   "execution_count": 20,
   "id": "d12a813b",
   "metadata": {},
   "outputs": [
    {
     "name": "stdout",
     "output_type": "stream",
     "text": [
      "enter the number: 20\n",
      "1 3 5 7 9 11 13 15 17 19 "
     ]
    }
   ],
   "source": [
    "n=int(input(\"enter the number: \")) # if i want user to put number of odd number \n",
    "i=1                              # he want\n",
    "while i<n:\n",
    "    print(i,end=\" \")\n",
    "    i+=2"
   ]
  },
  {
   "cell_type": "code",
   "execution_count": 18,
   "id": "f181efcb",
   "metadata": {},
   "outputs": [],
   "source": [
    "#5)write a python script to print first 10 odd natural numbers in reverse order."
   ]
  },
  {
   "cell_type": "code",
   "execution_count": 22,
   "id": "a445aa9a",
   "metadata": {},
   "outputs": [
    {
     "name": "stdout",
     "output_type": "stream",
     "text": [
      "19 17 15 13 11 9 7 5 3 1 "
     ]
    }
   ],
   "source": [
    "i=19\n",
    "while i>=1:\n",
    "    print(i,end=\" \")\n",
    "    i-=2"
   ]
  },
  {
   "cell_type": "code",
   "execution_count": 23,
   "id": "e4f984f9",
   "metadata": {},
   "outputs": [],
   "source": [
    "#6)write a python script to print first 10 even natural numbers."
   ]
  },
  {
   "cell_type": "code",
   "execution_count": 25,
   "id": "7a792902",
   "metadata": {},
   "outputs": [
    {
     "name": "stdout",
     "output_type": "stream",
     "text": [
      "2 4 6 8 10 12 14 16 18 "
     ]
    }
   ],
   "source": [
    "i=2\n",
    "while i<20:\n",
    "    print(i,end=\" \")\n",
    "    i+=2"
   ]
  },
  {
   "cell_type": "code",
   "execution_count": 27,
   "id": "be3a3698",
   "metadata": {},
   "outputs": [
    {
     "name": "stdout",
     "output_type": "stream",
     "text": [
      "enter the number: 10\n",
      "2 4 6 8 10 12 14 16 18 "
     ]
    }
   ],
   "source": [
    "n=int(input(\"enter the number: \")) # if i want user to put number of even number \n",
    "i=2                              # he want\n",
    "while i<n*2:\n",
    "    print(i,end=\" \")\n",
    "    i+=2"
   ]
  },
  {
   "cell_type": "code",
   "execution_count": 1,
   "id": "546a3fd7",
   "metadata": {},
   "outputs": [],
   "source": [
    "#7)write a python script to print first 10 even natural number in reverse order"
   ]
  },
  {
   "cell_type": "code",
   "execution_count": 3,
   "id": "3adbf5c6",
   "metadata": {},
   "outputs": [
    {
     "name": "stdout",
     "output_type": "stream",
     "text": [
      "18 16 14 12 10 8 6 4 2 "
     ]
    }
   ],
   "source": [
    "i=18\n",
    "while i>=2:\n",
    "    print(i,end=\" \")\n",
    "    i-=2"
   ]
  },
  {
   "cell_type": "code",
   "execution_count": 4,
   "id": "8fbe5ee7",
   "metadata": {},
   "outputs": [],
   "source": [
    "#8)write a python script to print squares of first 10 natural numbers."
   ]
  },
  {
   "cell_type": "code",
   "execution_count": 5,
   "id": "27be8ca8",
   "metadata": {},
   "outputs": [
    {
     "name": "stdout",
     "output_type": "stream",
     "text": [
      "1 4 9 16 25 36 49 64 81 100 "
     ]
    }
   ],
   "source": [
    "i=1\n",
    "while i<=10:\n",
    "    print(i**2,end=\" \")\n",
    "    i+=1"
   ]
  },
  {
   "cell_type": "code",
   "execution_count": 6,
   "id": "2d01306f",
   "metadata": {},
   "outputs": [],
   "source": [
    "#9)write a python script to print cubes of first 10 natural numbers"
   ]
  },
  {
   "cell_type": "code",
   "execution_count": 8,
   "id": "7d5813a9",
   "metadata": {},
   "outputs": [
    {
     "name": "stdout",
     "output_type": "stream",
     "text": [
      "1 8 27 64 125 216 343 512 729 1000 "
     ]
    }
   ],
   "source": [
    "i=1\n",
    "while i<=10:\n",
    "    print(i**3,end=\" \")\n",
    "    i+=1"
   ]
  },
  {
   "cell_type": "code",
   "execution_count": 9,
   "id": "a109aa8b",
   "metadata": {},
   "outputs": [],
   "source": [
    "#10)write a python script to print first 10 multiples of 5."
   ]
  },
  {
   "cell_type": "code",
   "execution_count": 10,
   "id": "62df3b8a",
   "metadata": {},
   "outputs": [
    {
     "name": "stdout",
     "output_type": "stream",
     "text": [
      "5 10 15 20 25 30 35 40 45 50 "
     ]
    }
   ],
   "source": [
    "i=1\n",
    "while i<=10:\n",
    "    print(5*i,end=\" \")\n",
    "    i+=1"
   ]
  },
  {
   "cell_type": "code",
   "execution_count": 11,
   "id": "cb971699",
   "metadata": {},
   "outputs": [
    {
     "name": "stdout",
     "output_type": "stream",
     "text": [
      "enter the no.of multiples: 10\n",
      "5 10 15 20 25 30 35 40 45 50 "
     ]
    }
   ],
   "source": [
    "n=int(input(\"enter the no.of multiples: \"))\n",
    "i=1\n",
    "while i<=n:\n",
    "    print(5*i,end=\" \")\n",
    "    i+=1"
   ]
  },
  {
   "cell_type": "code",
   "execution_count": null,
   "id": "21a9751a",
   "metadata": {},
   "outputs": [],
   "source": []
  }
 ],
 "metadata": {
  "kernelspec": {
   "display_name": "Python 3 (ipykernel)",
   "language": "python",
   "name": "python3"
  },
  "language_info": {
   "codemirror_mode": {
    "name": "ipython",
    "version": 3
   },
   "file_extension": ".py",
   "mimetype": "text/x-python",
   "name": "python",
   "nbconvert_exporter": "python",
   "pygments_lexer": "ipython3",
   "version": "3.9.12"
  }
 },
 "nbformat": 4,
 "nbformat_minor": 5
}
