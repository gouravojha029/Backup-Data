{
 "cells": [
  {
   "cell_type": "code",
   "execution_count": 1,
   "id": "97ff9594",
   "metadata": {},
   "outputs": [],
   "source": [
    "#1)write a python script to reverse a number."
   ]
  },
  {
   "cell_type": "code",
   "execution_count": 2,
   "id": "c6859791",
   "metadata": {},
   "outputs": [
    {
     "name": "stdout",
     "output_type": "stream",
     "text": [
      "enter the number: 1234\n",
      "reverse= 4321\n"
     ]
    }
   ],
   "source": [
    "n=int(input(\"enter the number: \"))\n",
    "rev=0\n",
    "while n>0:\n",
    "    rev=(rev*10) +n%10\n",
    "    n=n//10\n",
    "print(\"reverse=\",rev)\n",
    "\n"
   ]
  },
  {
   "cell_type": "code",
   "execution_count": 8,
   "id": "1f53968c",
   "metadata": {},
   "outputs": [
    {
     "name": "stdout",
     "output_type": "stream",
     "text": [
      "654321\n"
     ]
    }
   ],
   "source": [
    "# without loop\n",
    "num=123456\n",
    "print(str(num)[::-1])"
   ]
  },
  {
   "cell_type": "code",
   "execution_count": 3,
   "id": "542aea0f",
   "metadata": {},
   "outputs": [],
   "source": [
    "#2)write a python script to check whether a given number is prime or not.\n",
    "# note: only natural number are prime number."
   ]
  },
  {
   "cell_type": "code",
   "execution_count": 14,
   "id": "4041d6d8",
   "metadata": {},
   "outputs": [
    {
     "name": "stdout",
     "output_type": "stream",
     "text": [
      "enter a number: 14\n",
      "not a prime number\n"
     ]
    }
   ],
   "source": [
    "n=int(input(\"enter a number: \"))\n",
    "if n<2:\n",
    "    print(\"not a prime number\")\n",
    "else:\n",
    "    for i in range(2,n):\n",
    "        if n%i==0:\n",
    "            print(\"not a prime number\")\n",
    "            break\n",
    "    else:\n",
    "        print(\"it is a prime number\")"
   ]
  },
  {
   "cell_type": "code",
   "execution_count": 28,
   "id": "bf7574f5",
   "metadata": {},
   "outputs": [
    {
     "name": "stdout",
     "output_type": "stream",
     "text": [
      "enter a number: 17\n",
      "it is a prime number\n"
     ]
    }
   ],
   "source": [
    "n=int(input(\"enter a number: \"))\n",
    "f=0\n",
    "i=2\n",
    "while i<n:\n",
    "    if n%i==0:\n",
    "        f+=1\n",
    "        print(\"not a prime number\")\n",
    "        break\n",
    "    i+=1\n",
    "if f==0:\n",
    "    print(\"it is a prime number\")\n"
   ]
  },
  {
   "cell_type": "code",
   "execution_count": 9,
   "id": "9ec8aab8",
   "metadata": {},
   "outputs": [],
   "source": [
    "#3)write a python script to print all prime number under 100."
   ]
  },
  {
   "cell_type": "code",
   "execution_count": 12,
   "id": "b8e16fdd",
   "metadata": {},
   "outputs": [
    {
     "name": "stdout",
     "output_type": "stream",
     "text": [
      "2 3 5 7 11 13 17 19 23 29 31 37 41 43 47 53 59 61 67 71 73 79 83 89 97 "
     ]
    }
   ],
   "source": [
    "#short and precise but logically might be tougher\n",
    "for i in range(1,101):\n",
    "    count=0\n",
    "    for j in range(1,i+1):\n",
    "        if i%j==0:\n",
    "            count=count+1\n",
    "    if count==2:\n",
    "        print(i,end=\" \")\n",
    "        "
   ]
  },
  {
   "cell_type": "code",
   "execution_count": 20,
   "id": "6196ca94",
   "metadata": {},
   "outputs": [
    {
     "name": "stdout",
     "output_type": "stream",
     "text": [
      "enter the number: 100\n",
      "2 3 5 7 11 13 17 19 23 29 31 37 41 43 47 53 59 61 67 71 73 79 83 89 97 "
     ]
    }
   ],
   "source": [
    "n=int(input(\"enter the number: \"))\n",
    "for i in range(2,n+1):\n",
    "    if n>1:\n",
    "        for j in range(2,i):\n",
    "            if i%j==0:\n",
    "                break\n",
    "            \n",
    "        else:\n",
    "            print(i,end=\" \")"
   ]
  },
  {
   "cell_type": "code",
   "execution_count": 34,
   "id": "85308c3d",
   "metadata": {},
   "outputs": [
    {
     "name": "stdout",
     "output_type": "stream",
     "text": [
      "enter a number: 100\n",
      "2 3 5 7 11 13 17 19 23 29 31 37 41 43 47 53 59 61 67 71 73 79 83 89 97 "
     ]
    }
   ],
   "source": [
    "n=int(input(\"enter a number: \"))\n",
    "for i in range(2,n+1):\n",
    "    for j in range(2,i):\n",
    "        if i%j==0:\n",
    "            break\n",
    "    else:\n",
    "        print(i,end=\" \")"
   ]
  },
  {
   "cell_type": "code",
   "execution_count": 21,
   "id": "ae9917b0",
   "metadata": {},
   "outputs": [],
   "source": [
    "#4)write a python script to print all prime number between two given number\n",
    "# (both values are inclusive)"
   ]
  },
  {
   "cell_type": "code",
   "execution_count": 22,
   "id": "516ee33d",
   "metadata": {},
   "outputs": [
    {
     "name": "stdout",
     "output_type": "stream",
     "text": [
      "enter the number: 5\n",
      "enter the number: 17\n",
      "5 7 11 13 17 "
     ]
    }
   ],
   "source": [
    "lower=int(input(\"enter the number: \"))\n",
    "upper=int(input(\"enter the number: \"))\n",
    "for i in range(lower,upper+1):\n",
    "    if i>1:\n",
    "        for j in range(2,i):\n",
    "            if i%j==0:\n",
    "                break\n",
    "        else:\n",
    "            print(i,end=\" \")"
   ]
  },
  {
   "cell_type": "code",
   "execution_count": 35,
   "id": "a58fd0e6",
   "metadata": {},
   "outputs": [
    {
     "name": "stdout",
     "output_type": "stream",
     "text": [
      "enter a number: 80\n",
      "enter a number: 100\n",
      "83 89 97 "
     ]
    }
   ],
   "source": [
    "lower=int(input(\"enter a number: \"))\n",
    "upper=int(input(\"enter a number: \"))\n",
    "for i in range(lower,upper+1):\n",
    "    for j in range(2,i):\n",
    "        if i%j==0:\n",
    "            break\n",
    "    else:\n",
    "        print(i,end=\" \")"
   ]
  },
  {
   "cell_type": "code",
   "execution_count": 23,
   "id": "a95d3528",
   "metadata": {},
   "outputs": [],
   "source": [
    "#5)write a python script to find next prime number of a given number."
   ]
  },
  {
   "cell_type": "code",
   "execution_count": 3,
   "id": "3a43a7fe",
   "metadata": {},
   "outputs": [
    {
     "name": "stdout",
     "output_type": "stream",
     "text": [
      "enter the number to get next prime number: 83\n",
      "next prime number is 89\n"
     ]
    }
   ],
   "source": [
    "n=int(input(\"enter the number to get next prime number: \"))\n",
    "while True:\n",
    "    n+=1\n",
    "    for i in range(2,n):\n",
    "        if n%i==0:\n",
    "            break\n",
    "    else:\n",
    "        print(\"next prime number is\",n)\n",
    "        break"
   ]
  },
  {
   "cell_type": "code",
   "execution_count": 38,
   "id": "07440aab",
   "metadata": {},
   "outputs": [
    {
     "name": "stdout",
     "output_type": "stream",
     "text": [
      "enter the number: 15\n",
      "17\n"
     ]
    }
   ],
   "source": [
    "n=int(input(\"enter the number: \"))\n",
    "while True:\n",
    "    n+=1\n",
    "    for i in range(2,n):\n",
    "        if n%i==0:\n",
    "            break\n",
    "    else:\n",
    "        print(n)\n",
    "        break"
   ]
  },
  {
   "cell_type": "code",
   "execution_count": 4,
   "id": "d8a5a66a",
   "metadata": {},
   "outputs": [],
   "source": [
    "#6)write a python script to print first N prime number."
   ]
  },
  {
   "cell_type": "code",
   "execution_count": 9,
   "id": "ff0b51ed",
   "metadata": {},
   "outputs": [
    {
     "name": "stdout",
     "output_type": "stream",
     "text": [
      "enter the number: 20\n",
      "2 3 5 7 11 13 17 19 "
     ]
    }
   ],
   "source": [
    "n=int(input(\"enter the number: \"))\n",
    "for i in range(2,n+1):\n",
    "    if n>1:\n",
    "        for j in range(2,i):\n",
    "            if i%j==0:\n",
    "                break\n",
    "        else:\n",
    "            print(i,end=\" \")"
   ]
  },
  {
   "cell_type": "code",
   "execution_count": 10,
   "id": "9a94c2ef",
   "metadata": {},
   "outputs": [],
   "source": [
    "#7)write a python script to check whether a given pair of numbers are co-prime\n",
    "# numbers or not."
   ]
  },
  {
   "cell_type": "code",
   "execution_count": 11,
   "id": "be130f1c",
   "metadata": {},
   "outputs": [
    {
     "ename": "ImportError",
     "evalue": "cannot import name 'gcd' from 'fractions' (C:\\Users\\Intel\\anaconda3\\lib\\fractions.py)",
     "output_type": "error",
     "traceback": [
      "\u001b[1;31m---------------------------------------------------------------------------\u001b[0m",
      "\u001b[1;31mImportError\u001b[0m                               Traceback (most recent call last)",
      "Input \u001b[1;32mIn [11]\u001b[0m, in \u001b[0;36m<cell line: 3>\u001b[1;34m()\u001b[0m\n\u001b[0;32m      1\u001b[0m \u001b[38;5;66;03m# note: co-prime no.are having HCF 1 and need not to be prime number only it \u001b[39;00m\n\u001b[0;32m      2\u001b[0m \u001b[38;5;66;03m# can be any number.\u001b[39;00m\n\u001b[1;32m----> 3\u001b[0m \u001b[38;5;28;01mfrom\u001b[39;00m \u001b[38;5;21;01mfractions\u001b[39;00m \u001b[38;5;28;01mimport\u001b[39;00m gcd\n\u001b[0;32m      4\u001b[0m num1\u001b[38;5;241m=\u001b[39m\u001b[38;5;28mint\u001b[39m(\u001b[38;5;28minput\u001b[39m(\u001b[38;5;124m\"\u001b[39m\u001b[38;5;124mnumber1: \u001b[39m\u001b[38;5;124m\"\u001b[39m))\n\u001b[0;32m      5\u001b[0m num2\u001b[38;5;241m=\u001b[39m\u001b[38;5;28mint\u001b[39m(\u001b[38;5;28minput\u001b[39m(\u001b[38;5;124m\"\u001b[39m\u001b[38;5;124mnumber2: \u001b[39m\u001b[38;5;124m\"\u001b[39m))\n",
      "\u001b[1;31mImportError\u001b[0m: cannot import name 'gcd' from 'fractions' (C:\\Users\\Intel\\anaconda3\\lib\\fractions.py)"
     ]
    }
   ],
   "source": [
    "# note: co-prime no.are having HCF 1 and need not to be prime number only it \n",
    "# can be any number.\n",
    "from fractions import gcd\n",
    "num1=int(input(\"number1: \"))\n",
    "num2=int(input(\"number2: \"))\n",
    "if gcd(num1,num2)==1:\n",
    "    print(num1,\"and\",num2,\"are co-prime\")\n",
    "else:\n",
    "    print(num1,\"and\",num2,\"are not coprime\")"
   ]
  },
  {
   "cell_type": "code",
   "execution_count": 12,
   "id": "1c3eea2a",
   "metadata": {},
   "outputs": [],
   "source": [
    "#8)write a python script to print first N terms of a fibonacci series."
   ]
  },
  {
   "cell_type": "code",
   "execution_count": 16,
   "id": "b86592a4",
   "metadata": {},
   "outputs": [
    {
     "name": "stdout",
     "output_type": "stream",
     "text": [
      "enter number: 20\n",
      "0 1 1 2 3 5 8 13 "
     ]
    }
   ],
   "source": [
    "n=int(input(\"enter number: \"))\n",
    "x=0\n",
    "y=1\n",
    "z=0\n",
    "while z<=n:\n",
    "    print(z,end=\" \")\n",
    "    x=y\n",
    "    y=z\n",
    "    z=x+y"
   ]
  },
  {
   "cell_type": "code",
   "execution_count": 39,
   "id": "20aa5e82",
   "metadata": {},
   "outputs": [
    {
     "name": "stdout",
     "output_type": "stream",
     "text": [
      "enter how many numbers you want in this series: 10\n",
      "0 1 1 2 3 5 8 13 21 34 "
     ]
    }
   ],
   "source": [
    "n=int(input(\"enter how many numbers you want in this series: \"))\n",
    "first=0\n",
    "second=1\n",
    "for i in range(n):\n",
    "    print(first,end=\" \")\n",
    "    temp=first\n",
    "    first=second\n",
    "    second=temp+second"
   ]
  },
  {
   "cell_type": "code",
   "execution_count": 21,
   "id": "4bd5721a",
   "metadata": {},
   "outputs": [],
   "source": [
    "#9)write a python script to calculate LCM of two number."
   ]
  },
  {
   "cell_type": "code",
   "execution_count": 23,
   "id": "7894dcb7",
   "metadata": {},
   "outputs": [
    {
     "name": "stdout",
     "output_type": "stream",
     "text": [
      "enter two number to calculate LCM: \n",
      "enter first number: 6\n",
      "enter second number: 8\n",
      "lcm of number is 24\n"
     ]
    }
   ],
   "source": [
    "print(\"enter two number to calculate LCM: \")\n",
    "a=int(input(\"enter first number: \"))\n",
    "b=int(input(\"enter second number: \"))\n",
    "for i in range(1,a*b+1):\n",
    "    if i%a==0 and i%b==0:\n",
    "        print(\"lcm of number is\",i)\n",
    "        break"
   ]
  },
  {
   "cell_type": "code",
   "execution_count": 25,
   "id": "d3d9d218",
   "metadata": {},
   "outputs": [
    {
     "name": "stdout",
     "output_type": "stream",
     "text": [
      "enter two number to calculate LCM: \n",
      "enter first number: 6\n",
      "enter second number: 8\n",
      "lcm of number is 24\n",
      "lcm of number is 48\n"
     ]
    }
   ],
   "source": [
    "print(\"enter two number to calculate LCM: \")\n",
    "a=int(input(\"enter first number: \"))\n",
    "b=int(input(\"enter second number: \"))\n",
    "for i in range(1,a*b+1):\n",
    "    if i%a==0 and i%b==0:\n",
    "        print(\"lcm of number is\",i)\n",
    " # if break will not be applied then loop will continue till last result of \n",
    "# a*b"
   ]
  },
  {
   "cell_type": "code",
   "execution_count": 26,
   "id": "c06ae09f",
   "metadata": {},
   "outputs": [],
   "source": [
    "#10)write a python script to calculate hcf of two numbers."
   ]
  },
  {
   "cell_type": "code",
   "execution_count": 30,
   "id": "c8e3878b",
   "metadata": {},
   "outputs": [
    {
     "name": "stdout",
     "output_type": "stream",
     "text": [
      "enter two numbers to calculate HCF \n",
      "enter first number: 36\n",
      "enter second number 48\n",
      "HCF is 12\n"
     ]
    }
   ],
   "source": [
    "print(\"enter two numbers to calculate HCF \")\n",
    "a=int(input(\"enter first number: \"))\n",
    "b=int(input(\"enter second number \"))\n",
    "if a>b:\n",
    "    while a%b !=0:\n",
    "        rem=a%b\n",
    "        a=b\n",
    "        b=rem\n",
    "    print(\"HCF is\",b)\n",
    "else:\n",
    "    while b%a !=0:\n",
    "        rem=b%a\n",
    "        b=a\n",
    "        a=rem\n",
    "    print(\"HCF is\",a)"
   ]
  },
  {
   "cell_type": "code",
   "execution_count": null,
   "id": "656d3521",
   "metadata": {},
   "outputs": [],
   "source": []
  }
 ],
 "metadata": {
  "kernelspec": {
   "display_name": "Python 3 (ipykernel)",
   "language": "python",
   "name": "python3"
  },
  "language_info": {
   "codemirror_mode": {
    "name": "ipython",
    "version": 3
   },
   "file_extension": ".py",
   "mimetype": "text/x-python",
   "name": "python",
   "nbconvert_exporter": "python",
   "pygments_lexer": "ipython3",
   "version": "3.9.12"
  }
 },
 "nbformat": 4,
 "nbformat_minor": 5
}
