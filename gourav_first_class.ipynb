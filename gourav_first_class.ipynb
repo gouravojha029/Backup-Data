{
 "cells": [
  {
   "cell_type": "code",
   "execution_count": 1,
   "id": "a2febc8f",
   "metadata": {},
   "outputs": [
    {
     "name": "stdout",
     "output_type": "stream",
     "text": [
      "enter a integer12\n"
     ]
    }
   ],
   "source": [
    "a = input(\"enter a integer\")"
   ]
  },
  {
   "cell_type": "code",
   "execution_count": 2,
   "id": "5a41cf6c",
   "metadata": {},
   "outputs": [
    {
     "data": {
      "text/plain": [
       "str"
      ]
     },
     "execution_count": 2,
     "metadata": {},
     "output_type": "execute_result"
    }
   ],
   "source": [
    "type(a)"
   ]
  },
  {
   "cell_type": "code",
   "execution_count": 3,
   "id": "32f6b027",
   "metadata": {},
   "outputs": [
    {
     "name": "stdout",
     "output_type": "stream",
     "text": [
      "ener no 112\n",
      "ener no 223\n",
      "enter no 3345\n"
     ]
    }
   ],
   "source": [
    "a =input(\"ener no 1\")\n",
    "b= input(\"ener no 2\")\n",
    "c = input(\"enter no 3\")"
   ]
  },
  {
   "cell_type": "code",
   "execution_count": 5,
   "id": "4b05aca1",
   "metadata": {},
   "outputs": [
    {
     "name": "stdout",
     "output_type": "stream",
     "text": [
      " this is my var a45\n",
      " this is my var b56\n",
      " this is my var c34\n"
     ]
    }
   ],
   "source": [
    "a = int(input(\" this is my var a\"))\n",
    "b = int(input(\" this is my var b\"))\n",
    "c = int(input(\" this is my var c\"))       "
   ]
  },
  {
   "cell_type": "code",
   "execution_count": 13,
   "id": "1276d3c8",
   "metadata": {},
   "outputs": [
    {
     "name": "stdout",
     "output_type": "stream",
     "text": [
      "2.9705882352941178\n"
     ]
    }
   ],
   "source": [
    "o =(a+b)/c\n",
    "print(o)"
   ]
  },
  {
   "cell_type": "code",
   "execution_count": 7,
   "id": "281fa1e3",
   "metadata": {},
   "outputs": [
    {
     "data": {
      "text/plain": [
       "complex"
      ]
     },
     "execution_count": 7,
     "metadata": {},
     "output_type": "execute_result"
    }
   ],
   "source": [
    "type(o1)"
   ]
  },
  {
   "cell_type": "code",
   "execution_count": 9,
   "id": "013845e5",
   "metadata": {},
   "outputs": [
    {
     "data": {
      "text/plain": [
       "'(124.64705882352942+6j)sudh'"
      ]
     },
     "execution_count": 9,
     "metadata": {},
     "output_type": "execute_result"
    }
   ],
   "source": [
    "str(o1) + \"sudh\""
   ]
  },
  {
   "cell_type": "code",
   "execution_count": null,
   "id": "6460af5a",
   "metadata": {},
   "outputs": [],
   "source": []
  }
 ],
 "metadata": {
  "kernelspec": {
   "display_name": "Python 3 (ipykernel)",
   "language": "python",
   "name": "python3"
  },
  "language_info": {
   "codemirror_mode": {
    "name": "ipython",
    "version": 3
   },
   "file_extension": ".py",
   "mimetype": "text/x-python",
   "name": "python",
   "nbconvert_exporter": "python",
   "pygments_lexer": "ipython3",
   "version": "3.9.7"
  }
 },
 "nbformat": 4,
 "nbformat_minor": 5
}
