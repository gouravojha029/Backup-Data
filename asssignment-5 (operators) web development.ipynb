{
 "cells": [
  {
   "cell_type": "code",
   "execution_count": 1,
   "id": "861d587e",
   "metadata": {},
   "outputs": [],
   "source": [
    "#1)write a python script to remove the last digit from a given number.(for eg\n",
    "# if user enters 2534 then your output should be 253)"
   ]
  },
  {
   "cell_type": "code",
   "execution_count": 2,
   "id": "15694be0",
   "metadata": {},
   "outputs": [
    {
     "name": "stdout",
     "output_type": "stream",
     "text": [
      "enter the number: 2534\n",
      "new value of a number\n",
      "253\n"
     ]
    }
   ],
   "source": [
    "number=int(input(\"enter the number: \"))\n",
    "#use case,number=2534, output=253\n",
    "#operation,number/10\n",
    "number=int(number/10) # this will give true value but i converted it into int\n",
    "print(\"new value of a number\",number,sep='\\n')\n"
   ]
  },
  {
   "cell_type": "code",
   "execution_count": 4,
   "id": "a28eb792",
   "metadata": {},
   "outputs": [
    {
     "name": "stdout",
     "output_type": "stream",
     "text": [
      "enter the number: 2534\n",
      "new value of a number\n",
      "253\n"
     ]
    }
   ],
   "source": [
    "number=int(input(\"enter the number: \"))\n",
    "#use case,number=2534, output=253\n",
    "#operation,number//10\n",
    "number=(number//10) # floar division which always gives lower of two\n",
    "print(\"new value of a number\",number,sep='\\n')\n"
   ]
  },
  {
   "cell_type": "code",
   "execution_count": 6,
   "id": "af15badf",
   "metadata": {},
   "outputs": [],
   "source": [
    "#2) write a python script to get the last digit from a given number.(for eg.if\n",
    "#user enters 2089 then your output should be 9)"
   ]
  },
  {
   "cell_type": "code",
   "execution_count": 8,
   "id": "7ccbded9",
   "metadata": {},
   "outputs": [
    {
     "name": "stdout",
     "output_type": "stream",
     "text": [
      "enter the number: 2089\n",
      "new value of number\n",
      "9\n"
     ]
    }
   ],
   "source": [
    "number=int(input(\"enter the number: \"))\n",
    "#use case,number=2089, output=9\n",
    "#opertion,number%10\n",
    "number=number%10    # modulus operator|\n",
    "print(\"new value of number\",number,sep='\\n')"
   ]
  },
  {
   "cell_type": "code",
   "execution_count": 9,
   "id": "976191c3",
   "metadata": {},
   "outputs": [],
   "source": [
    "#3)write a python script to swap data of two variables"
   ]
  },
  {
   "cell_type": "code",
   "execution_count": 10,
   "id": "64524a4d",
   "metadata": {},
   "outputs": [],
   "source": [
    "x=5\n",
    "y=10"
   ]
  },
  {
   "cell_type": "code",
   "execution_count": 11,
   "id": "647861f1",
   "metadata": {},
   "outputs": [
    {
     "name": "stdout",
     "output_type": "stream",
     "text": [
      "x = 10\n",
      "y = 5\n"
     ]
    }
   ],
   "source": [
    "x,y=y,x\n",
    "print(\"x =\",x)\n",
    "print(\"y =\",y)"
   ]
  },
  {
   "cell_type": "code",
   "execution_count": 12,
   "id": "74503869",
   "metadata": {},
   "outputs": [],
   "source": [
    "# another way"
   ]
  },
  {
   "cell_type": "code",
   "execution_count": 13,
   "id": "7e97e0ea",
   "metadata": {},
   "outputs": [
    {
     "name": "stdout",
     "output_type": "stream",
     "text": [
      "enter a number: 10\n",
      "enter a number: 20\n",
      "new value of a number_1: \n",
      "20\n",
      "new value of a number_2: \n",
      "10\n"
     ]
    }
   ],
   "source": [
    "number_1=int(input(\"enter a number: \"))\n",
    "number_2=int(input(\"enter a number: \"))\n",
    "temp=number_1\n",
    "number_1=number_2\n",
    "number_2=temp\n",
    "print(\"new value of a number_1: \",number_1,sep='\\n')\n",
    "print(\"new value of a number_2: \",number_2,sep='\\n')"
   ]
  },
  {
   "cell_type": "code",
   "execution_count": 14,
   "id": "ff7d5c64",
   "metadata": {},
   "outputs": [],
   "source": [
    "#4)write a python script to find x power y,where values of x and y are given by\n",
    "# user"
   ]
  },
  {
   "cell_type": "code",
   "execution_count": 17,
   "id": "bed241e6",
   "metadata": {},
   "outputs": [
    {
     "name": "stdout",
     "output_type": "stream",
     "text": [
      "enter a number x: 2\n",
      "enter a number y: 3\n",
      "value of x to the power y\n",
      "8\n"
     ]
    }
   ],
   "source": [
    "x=int(input(\"enter a number x: \"))\n",
    "y=int(input(\"enter a number y: \"))\n",
    "#operation = x**y\n",
    "value_of_x_to_power_y=x**y\n",
    "print(\"value of x to the power y\")\n",
    "print(value_of_x_to_power_y)"
   ]
  },
  {
   "cell_type": "code",
   "execution_count": 18,
   "id": "a57d4ea6",
   "metadata": {},
   "outputs": [],
   "source": [
    "#5)write a python script which takes a three digit number from the user and \n",
    "# displays only its first digit."
   ]
  },
  {
   "cell_type": "code",
   "execution_count": 19,
   "id": "23c33945",
   "metadata": {},
   "outputs": [
    {
     "name": "stdout",
     "output_type": "stream",
     "text": [
      "enter a three digit number: 253\n",
      "new value of number\n",
      "2\n"
     ]
    }
   ],
   "source": [
    "number=int(input(\"enter a three digit number: \"))\n",
    "#use case,number=253,output=2\n",
    "#operation - number//100 floar division operator\n",
    "number=number//100\n",
    "print(\"new value of number\",number,sep='\\n')"
   ]
  },
  {
   "cell_type": "code",
   "execution_count": 21,
   "id": "3ec218e1",
   "metadata": {},
   "outputs": [],
   "source": [
    "#6)write a python script which takes a three digit number from the user and\n",
    "# displays only its middle digit."
   ]
  },
  {
   "cell_type": "code",
   "execution_count": 25,
   "id": "db225d2d",
   "metadata": {},
   "outputs": [
    {
     "name": "stdout",
     "output_type": "stream",
     "text": [
      "enter a number: 253\n",
      "middle number\n",
      "5\n"
     ]
    }
   ],
   "source": [
    "number=int(input(\"enter a number: \"))\n",
    "#use case, number=253,output=5\n",
    "#operation-number//10,answer%10\n",
    "number=number//10\n",
    "answer=number%10\n",
    "print(\"middle number\",answer,sep='\\n')"
   ]
  },
  {
   "cell_type": "code",
   "execution_count": 26,
   "id": "6c6e25c8",
   "metadata": {},
   "outputs": [],
   "source": [
    "#7)write a python script which takes a three digit number from the user and\n",
    "# displays only its last digit."
   ]
  },
  {
   "cell_type": "code",
   "execution_count": 28,
   "id": "26c991b2",
   "metadata": {},
   "outputs": [
    {
     "name": "stdout",
     "output_type": "stream",
     "text": [
      "enter a three digit number: 256\n",
      "new number is \n",
      "6\n"
     ]
    }
   ],
   "source": [
    "number=int(input(\"enter a three digit number: \"))\n",
    "#use case:number=256,output=6\n",
    "#operation: number%10\n",
    "number=number%10\n",
    "print(\"new number is \",number,sep='\\n')"
   ]
  },
  {
   "cell_type": "code",
   "execution_count": 1,
   "id": "c58c15f1",
   "metadata": {},
   "outputs": [],
   "source": [
    "#8)write a python script to use IN operator to display the data present in the \n",
    "# list"
   ]
  },
  {
   "cell_type": "code",
   "execution_count": 2,
   "id": "c8140eec",
   "metadata": {},
   "outputs": [],
   "source": [
    "l=[\"ojha\",29,0.05,3+4j,\"beauty\"]"
   ]
  },
  {
   "cell_type": "code",
   "execution_count": 4,
   "id": "cf599dfa",
   "metadata": {},
   "outputs": [
    {
     "data": {
      "text/plain": [
       "True"
      ]
     },
     "execution_count": 4,
     "metadata": {},
     "output_type": "execute_result"
    }
   ],
   "source": [
    "\"ojha\" in l"
   ]
  },
  {
   "cell_type": "code",
   "execution_count": 5,
   "id": "9e9a1d5d",
   "metadata": {},
   "outputs": [
    {
     "data": {
      "text/plain": [
       "True"
      ]
     },
     "execution_count": 5,
     "metadata": {},
     "output_type": "execute_result"
    }
   ],
   "source": [
    "3+4j in l"
   ]
  },
  {
   "cell_type": "code",
   "execution_count": 6,
   "id": "3faf9ef7",
   "metadata": {},
   "outputs": [
    {
     "data": {
      "text/plain": [
       "True"
      ]
     },
     "execution_count": 6,
     "metadata": {},
     "output_type": "execute_result"
    }
   ],
   "source": [
    "\"kumar\" not in l"
   ]
  },
  {
   "cell_type": "code",
   "execution_count": 7,
   "id": "27c52d57",
   "metadata": {},
   "outputs": [
    {
     "data": {
      "text/plain": [
       "False"
      ]
     },
     "execution_count": 7,
     "metadata": {},
     "output_type": "execute_result"
    }
   ],
   "source": [
    "\"ojha\" not in l"
   ]
  },
  {
   "cell_type": "code",
   "execution_count": 8,
   "id": "49aeadc5",
   "metadata": {},
   "outputs": [],
   "source": [
    "#10)write a python script to use IS operator to display if both variables\n",
    "#   are the same object or not?"
   ]
  },
  {
   "cell_type": "code",
   "execution_count": 14,
   "id": "5c8d8e81",
   "metadata": {},
   "outputs": [
    {
     "name": "stdout",
     "output_type": "stream",
     "text": [
      "False\n",
      "True\n"
     ]
    }
   ],
   "source": [
    "list_1=[0,3,4,5,2]\n",
    "list_2=[0,3,4,5,2]\n",
    "print(list_1 is list_2)# both the list are having different memory location\n",
    "print(list_1 == list_2)# it is comparing element of both the list"
   ]
  },
  {
   "cell_type": "code",
   "execution_count": 9,
   "id": "339145c6",
   "metadata": {},
   "outputs": [],
   "source": [
    "a=10\n",
    "b=10"
   ]
  },
  {
   "cell_type": "code",
   "execution_count": 10,
   "id": "76ca0153",
   "metadata": {},
   "outputs": [
    {
     "data": {
      "text/plain": [
       "True"
      ]
     },
     "execution_count": 10,
     "metadata": {},
     "output_type": "execute_result"
    }
   ],
   "source": [
    "a is b"
   ]
  },
  {
   "cell_type": "code",
   "execution_count": 11,
   "id": "78393732",
   "metadata": {},
   "outputs": [],
   "source": [
    "a=5\n",
    "b=8"
   ]
  },
  {
   "cell_type": "code",
   "execution_count": 12,
   "id": "ce184dd9",
   "metadata": {},
   "outputs": [
    {
     "data": {
      "text/plain": [
       "False"
      ]
     },
     "execution_count": 12,
     "metadata": {},
     "output_type": "execute_result"
    }
   ],
   "source": [
    "a is b"
   ]
  },
  {
   "cell_type": "code",
   "execution_count": null,
   "id": "1c1e0195",
   "metadata": {},
   "outputs": [],
   "source": []
  }
 ],
 "metadata": {
  "kernelspec": {
   "display_name": "Python 3 (ipykernel)",
   "language": "python",
   "name": "python3"
  },
  "language_info": {
   "codemirror_mode": {
    "name": "ipython",
    "version": 3
   },
   "file_extension": ".py",
   "mimetype": "text/x-python",
   "name": "python",
   "nbconvert_exporter": "python",
   "pygments_lexer": "ipython3",
   "version": "3.9.12"
  }
 },
 "nbformat": 4,
 "nbformat_minor": 5
}
