{
 "cells": [
  {
   "cell_type": "code",
   "execution_count": 1,
   "id": "5d544a53",
   "metadata": {},
   "outputs": [],
   "source": [
    "#1)write a python script to print mysirg n times on the screen"
   ]
  },
  {
   "cell_type": "code",
   "execution_count": 2,
   "id": "0a05cccf",
   "metadata": {},
   "outputs": [
    {
     "name": "stdout",
     "output_type": "stream",
     "text": [
      "enter the number: 7\n",
      "MySirG MySirG MySirG MySirG MySirG MySirG MySirG "
     ]
    }
   ],
   "source": [
    "n=int(input(\"enter the number: \"))\n",
    "i=1\n",
    "while i<=n:\n",
    "    print(\"MySirG\",end=\" \")\n",
    "    i+=1"
   ]
  },
  {
   "cell_type": "code",
   "execution_count": 3,
   "id": "61528240",
   "metadata": {},
   "outputs": [],
   "source": [
    "#2)write a python script to print first N natural numbers."
   ]
  },
  {
   "cell_type": "code",
   "execution_count": 4,
   "id": "65e35341",
   "metadata": {},
   "outputs": [
    {
     "name": "stdout",
     "output_type": "stream",
     "text": [
      "enter the no.of natural number you want: 10\n",
      "1 2 3 4 5 6 7 8 9 10 "
     ]
    }
   ],
   "source": [
    "n=int(input(\"enter the no.of natural number you want: \"))\n",
    "i=1\n",
    "while i<=n:\n",
    "    print(i,end=\" \")\n",
    "    i+=1\n"
   ]
  },
  {
   "cell_type": "code",
   "execution_count": 5,
   "id": "8411acd6",
   "metadata": {},
   "outputs": [],
   "source": [
    "#3)write a python script to print first N natural number in reverse order."
   ]
  },
  {
   "cell_type": "code",
   "execution_count": 6,
   "id": "452a56bc",
   "metadata": {},
   "outputs": [
    {
     "name": "stdout",
     "output_type": "stream",
     "text": [
      "enter the no.of natural number you want: 10\n",
      "10 9 8 7 6 5 4 3 2 1 "
     ]
    }
   ],
   "source": [
    "n=int(input(\"enter the no.of natural number you want: \"))\n",
    "while n>=1:\n",
    "    print(n,end=\" \")\n",
    "    n-=1"
   ]
  },
  {
   "cell_type": "code",
   "execution_count": 7,
   "id": "ab70761e",
   "metadata": {},
   "outputs": [],
   "source": [
    "#4)write a python script to print first N odd natural numbers"
   ]
  },
  {
   "cell_type": "code",
   "execution_count": 9,
   "id": "eef26481",
   "metadata": {},
   "outputs": [
    {
     "name": "stdout",
     "output_type": "stream",
     "text": [
      "enter a no.of odd numbers you want: 10\n",
      "1 3 5 7 9 11 13 15 17 19 "
     ]
    }
   ],
   "source": [
    "n=int(input(\"enter the no.of odd natural number you want: \"))\n",
    "i=1\n",
    "while i<=n*2:\n",
    "    print(i,end=\" \")\n",
    "    i+=2"
   ]
  },
  {
   "cell_type": "code",
   "execution_count": 10,
   "id": "e99c9ed9",
   "metadata": {},
   "outputs": [],
   "source": [
    "#5)write a python script to print first N odd natural numbers in reverse order"
   ]
  },
  {
   "cell_type": "code",
   "execution_count": 1,
   "id": "b13dd47e",
   "metadata": {},
   "outputs": [
    {
     "name": "stdout",
     "output_type": "stream",
     "text": [
      "enter no.of odd number you want: 19\n",
      "19 17 15 13 11 9 7 5 3 1 "
     ]
    }
   ],
   "source": [
    "n=int(input(\"enter no.of odd number you want: \"))\n",
    "while n>=1:\n",
    "    print(n,end=\" \")\n",
    "    n=n-2"
   ]
  },
  {
   "cell_type": "code",
   "execution_count": 2,
   "id": "961e5280",
   "metadata": {},
   "outputs": [
    {
     "name": "stdout",
     "output_type": "stream",
     "text": [
      "enter no.of odd number you want: 20\n",
      "19 17 15 13 11 9 7 5 3 1 "
     ]
    }
   ],
   "source": [
    "n=int(input(\"enter no.of odd number you want: \"))\n",
    "while n>=1:\n",
    "    if n%2 !=0: # this one is best logic\n",
    "        print(n,end=\" \")\n",
    "    n-=1"
   ]
  },
  {
   "cell_type": "code",
   "execution_count": 3,
   "id": "7355db87",
   "metadata": {},
   "outputs": [],
   "source": [
    "#6)write a python script to print first N even natural number."
   ]
  },
  {
   "cell_type": "code",
   "execution_count": 3,
   "id": "28dd7470",
   "metadata": {},
   "outputs": [
    {
     "name": "stdout",
     "output_type": "stream",
     "text": [
      "enter no.of natural you want: 10\n",
      "2 4 6 8 10 12 14 16 18 20 "
     ]
    }
   ],
   "source": [
    "n=int(input(\"enter no.of even natural you want: \"))\n",
    "i=2\n",
    "while i<=n*2:\n",
    "    print(i,end=\" \")\n",
    "    i+=2"
   ]
  },
  {
   "cell_type": "code",
   "execution_count": 4,
   "id": "bd0d4990",
   "metadata": {},
   "outputs": [],
   "source": [
    "#7)write a python script to print first N even natural numbers in reverse order"
   ]
  },
  {
   "cell_type": "code",
   "execution_count": 5,
   "id": "c2c2de35",
   "metadata": {},
   "outputs": [
    {
     "name": "stdout",
     "output_type": "stream",
     "text": [
      "enter no.of even natural you want: 20\n",
      "20 18 16 14 12 10 8 6 4 2 "
     ]
    }
   ],
   "source": [
    "n=int(input(\"enter no.of even natural you want: \"))\n",
    "while n>=2:\n",
    "    if n%2==0:\n",
    "        print(n,end=\" \")\n",
    "    n=n-2"
   ]
  },
  {
   "cell_type": "code",
   "execution_count": 3,
   "id": "e9cc7ced",
   "metadata": {},
   "outputs": [
    {
     "name": "stdout",
     "output_type": "stream",
     "text": [
      "enter no.of even natural you want: 20\n",
      "20 18 16 14 12 10 8 6 4 2 "
     ]
    }
   ],
   "source": [
    "n=int(input(\"enter no.of even natural you want: \"))\n",
    "while n>=2:\n",
    "    if n%2==0:\n",
    "        print(n,end=\" \")\n",
    "    n=n-1"
   ]
  },
  {
   "cell_type": "code",
   "execution_count": 6,
   "id": "f5dbad95",
   "metadata": {},
   "outputs": [],
   "source": [
    "#8)write a python script to print squares of first N natural numbers."
   ]
  },
  {
   "cell_type": "code",
   "execution_count": 7,
   "id": "f0104273",
   "metadata": {},
   "outputs": [
    {
     "name": "stdout",
     "output_type": "stream",
     "text": [
      "enter no.of naturals number: 10\n",
      "1 4 9 16 25 36 49 64 81 100 "
     ]
    }
   ],
   "source": [
    "n=int(input(\"enter no.of naturals number: \"))\n",
    "i=1\n",
    "while i<=n:\n",
    "    print(i**2,end=\" \")\n",
    "    i+=1"
   ]
  },
  {
   "cell_type": "code",
   "execution_count": 8,
   "id": "c6495f85",
   "metadata": {},
   "outputs": [],
   "source": [
    "#9)write a python script to print cubes of first N naturals numbers."
   ]
  },
  {
   "cell_type": "code",
   "execution_count": 9,
   "id": "7654493e",
   "metadata": {},
   "outputs": [
    {
     "name": "stdout",
     "output_type": "stream",
     "text": [
      "enter no.of naturals number: 10\n",
      "1 8 27 64 125 216 343 512 729 1000 "
     ]
    }
   ],
   "source": [
    "n=int(input(\"enter no.of naturals number: \"))\n",
    "i=1\n",
    "while i<=n:\n",
    "    print(i**3,end=\" \")\n",
    "    i+=1"
   ]
  },
  {
   "cell_type": "code",
   "execution_count": 10,
   "id": "85e5317b",
   "metadata": {},
   "outputs": [],
   "source": [
    "#10)write a python script to print first 10 multiples of N"
   ]
  },
  {
   "cell_type": "code",
   "execution_count": 5,
   "id": "9b75bded",
   "metadata": {},
   "outputs": [
    {
     "name": "stdout",
     "output_type": "stream",
     "text": [
      "enter the number: 2\n",
      "2 4 6 8 10 12 14 16 18 20 "
     ]
    }
   ],
   "source": [
    "n=int(input(\"enter the number: \"))\n",
    "i=1\n",
    "while i<=10:\n",
    "    print(n*i,end=\" \")\n",
    "    i+=1\n",
    "    "
   ]
  },
  {
   "cell_type": "code",
   "execution_count": 6,
   "id": "1ac56eda",
   "metadata": {},
   "outputs": [
    {
     "name": "stdout",
     "output_type": "stream",
     "text": [
      "enter the number: 5\n",
      "5 * 1 = 5\n",
      "5 * 2 = 10\n",
      "5 * 3 = 15\n",
      "5 * 4 = 20\n",
      "5 * 5 = 25\n",
      "5 * 6 = 30\n",
      "5 * 7 = 35\n",
      "5 * 8 = 40\n",
      "5 * 9 = 45\n",
      "5 * 10 = 50\n"
     ]
    }
   ],
   "source": [
    "n=int(input(\"enter the number: \"))\n",
    "i=1\n",
    "while i<=10:\n",
    "    print(n,\"*\",i,\"=\",n*i)\n",
    "    i+=1\n",
    "    "
   ]
  },
  {
   "cell_type": "code",
   "execution_count": 1,
   "id": "9ed528b1",
   "metadata": {},
   "outputs": [
    {
     "name": "stdout",
     "output_type": "stream",
     "text": [
      "enter the multiple number: 7\n",
      "enter the no.of times of multiple number: 6\n",
      "42 "
     ]
    }
   ],
   "source": [
    "a=int(input(\"enter the multiple number: \"))# this one not is corrct but can be used\n",
    "b=int(input(\"enter the no.of times of multiple number: \"))# for indivisual multi\n",
    "i=1\n",
    "while i*a<=a:\n",
    "    print(a*b,end=\" \")\n",
    "    i+=1"
   ]
  },
  {
   "cell_type": "code",
   "execution_count": null,
   "id": "bc54e290",
   "metadata": {},
   "outputs": [],
   "source": []
  }
 ],
 "metadata": {
  "kernelspec": {
   "display_name": "Python 3 (ipykernel)",
   "language": "python",
   "name": "python3"
  },
  "language_info": {
   "codemirror_mode": {
    "name": "ipython",
    "version": 3
   },
   "file_extension": ".py",
   "mimetype": "text/x-python",
   "name": "python",
   "nbconvert_exporter": "python",
   "pygments_lexer": "ipython3",
   "version": "3.9.12"
  }
 },
 "nbformat": 4,
 "nbformat_minor": 5
}
