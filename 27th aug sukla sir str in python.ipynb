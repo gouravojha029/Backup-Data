{
 "cells": [
  {
   "cell_type": "code",
   "execution_count": 1,
   "id": "0ab6b439",
   "metadata": {},
   "outputs": [],
   "source": [
    "# hashbale"
   ]
  },
  {
   "cell_type": "code",
   "execution_count": 2,
   "id": "a16a3e3b",
   "metadata": {},
   "outputs": [],
   "source": [
    "x=5"
   ]
  },
  {
   "cell_type": "code",
   "execution_count": 3,
   "id": "5aff6166",
   "metadata": {},
   "outputs": [
    {
     "data": {
      "text/plain": [
       "5"
      ]
     },
     "execution_count": 3,
     "metadata": {},
     "output_type": "execute_result"
    }
   ],
   "source": [
    "hash(x)"
   ]
  },
  {
   "cell_type": "code",
   "execution_count": 4,
   "id": "86e1b6ba",
   "metadata": {},
   "outputs": [],
   "source": [
    "y=4.5"
   ]
  },
  {
   "cell_type": "code",
   "execution_count": 5,
   "id": "5bd131da",
   "metadata": {},
   "outputs": [
    {
     "data": {
      "text/plain": [
       "float"
      ]
     },
     "execution_count": 5,
     "metadata": {},
     "output_type": "execute_result"
    }
   ],
   "source": [
    "type(y)"
   ]
  },
  {
   "cell_type": "code",
   "execution_count": 6,
   "id": "02b26788",
   "metadata": {},
   "outputs": [
    {
     "data": {
      "text/plain": [
       "1152921504606846980"
      ]
     },
     "execution_count": 6,
     "metadata": {},
     "output_type": "execute_result"
    }
   ],
   "source": [
    "hash(y)"
   ]
  },
  {
   "cell_type": "code",
   "execution_count": 7,
   "id": "1fd52466",
   "metadata": {},
   "outputs": [],
   "source": [
    "l4=[10,30,50,20]"
   ]
  },
  {
   "cell_type": "code",
   "execution_count": 8,
   "id": "cf608e84",
   "metadata": {},
   "outputs": [
    {
     "ename": "TypeError",
     "evalue": "unhashable type: 'list'",
     "output_type": "error",
     "traceback": [
      "\u001b[1;31m---------------------------------------------------------------------------\u001b[0m",
      "\u001b[1;31mTypeError\u001b[0m                                 Traceback (most recent call last)",
      "Input \u001b[1;32mIn [8]\u001b[0m, in \u001b[0;36m<cell line: 1>\u001b[1;34m()\u001b[0m\n\u001b[1;32m----> 1\u001b[0m \u001b[38;5;28;43mhash\u001b[39;49m\u001b[43m(\u001b[49m\u001b[43ml4\u001b[49m\u001b[43m)\u001b[49m\n",
      "\u001b[1;31mTypeError\u001b[0m: unhashable type: 'list'"
     ]
    }
   ],
   "source": [
    "hash(l4)"
   ]
  },
  {
   "cell_type": "code",
   "execution_count": 9,
   "id": "3f9b47e6",
   "metadata": {},
   "outputs": [],
   "source": [
    "del y"
   ]
  },
  {
   "cell_type": "code",
   "execution_count": 10,
   "id": "a7777aa4",
   "metadata": {},
   "outputs": [],
   "source": [
    "z=4.5"
   ]
  },
  {
   "cell_type": "code",
   "execution_count": 11,
   "id": "43215041",
   "metadata": {},
   "outputs": [
    {
     "data": {
      "text/plain": [
       "1152921504606846980"
      ]
     },
     "execution_count": 11,
     "metadata": {},
     "output_type": "execute_result"
    }
   ],
   "source": [
    "hash(z)"
   ]
  },
  {
   "cell_type": "code",
   "execution_count": 12,
   "id": "72eb3dc5",
   "metadata": {},
   "outputs": [],
   "source": [
    "# if an object has a hash value that does not change during its entire lifetime"
   ]
  },
  {
   "cell_type": "code",
   "execution_count": 16,
   "id": "84cc54ea",
   "metadata": {},
   "outputs": [],
   "source": [
    "# hash value(maping value ) location for value"
   ]
  },
  {
   "cell_type": "code",
   "execution_count": 14,
   "id": "2b2fd7f1",
   "metadata": {},
   "outputs": [],
   "source": [
    "# list,set,dict(mutable) are not hashable"
   ]
  },
  {
   "cell_type": "code",
   "execution_count": 15,
   "id": "eb956a6f",
   "metadata": {},
   "outputs": [],
   "source": [
    "# hash funct is present in builtin module"
   ]
  },
  {
   "cell_type": "code",
   "execution_count": 17,
   "id": "56f4adeb",
   "metadata": {},
   "outputs": [],
   "source": [
    "# str"
   ]
  },
  {
   "cell_type": "code",
   "execution_count": 18,
   "id": "bd321aa8",
   "metadata": {},
   "outputs": [
    {
     "name": "stdout",
     "output_type": "stream",
     "text": [
      "teacher's day\n"
     ]
    }
   ],
   "source": [
    "print(\"teacher's day\")"
   ]
  },
  {
   "cell_type": "code",
   "execution_count": 19,
   "id": "9861fd93",
   "metadata": {},
   "outputs": [
    {
     "name": "stdout",
     "output_type": "stream",
     "text": [
      "\"teacher's day\"\n"
     ]
    }
   ],
   "source": [
    "print(\"\\\"teacher's day\\\"\")"
   ]
  },
  {
   "cell_type": "code",
   "execution_count": 20,
   "id": "c12be247",
   "metadata": {},
   "outputs": [
    {
     "name": "stdout",
     "output_type": "stream",
     "text": [
      "\"teacher's day\"\n"
     ]
    }
   ],
   "source": [
    "print('''\"teacher's day\"''')"
   ]
  },
  {
   "cell_type": "code",
   "execution_count": 21,
   "id": "1c68bcc5",
   "metadata": {},
   "outputs": [],
   "source": [
    "# accessing str element"
   ]
  },
  {
   "cell_type": "code",
   "execution_count": 22,
   "id": "7cfff567",
   "metadata": {},
   "outputs": [],
   "source": [
    "s1=\"mysirg\""
   ]
  },
  {
   "cell_type": "code",
   "execution_count": 23,
   "id": "081fcdd0",
   "metadata": {},
   "outputs": [
    {
     "data": {
      "text/plain": [
       "'m'"
      ]
     },
     "execution_count": 23,
     "metadata": {},
     "output_type": "execute_result"
    }
   ],
   "source": [
    "s1[0]"
   ]
  },
  {
   "cell_type": "code",
   "execution_count": 24,
   "id": "6d3008f2",
   "metadata": {},
   "outputs": [
    {
     "data": {
      "text/plain": [
       "'y'"
      ]
     },
     "execution_count": 24,
     "metadata": {},
     "output_type": "execute_result"
    }
   ],
   "source": [
    "s1[1]"
   ]
  },
  {
   "cell_type": "code",
   "execution_count": 25,
   "id": "705134ac",
   "metadata": {},
   "outputs": [
    {
     "data": {
      "text/plain": [
       "'r'"
      ]
     },
     "execution_count": 25,
     "metadata": {},
     "output_type": "execute_result"
    }
   ],
   "source": [
    "s1[-2]"
   ]
  },
  {
   "cell_type": "code",
   "execution_count": 27,
   "id": "aa7deb6b",
   "metadata": {},
   "outputs": [
    {
     "name": "stdout",
     "output_type": "stream",
     "text": [
      "m y s i r g "
     ]
    }
   ],
   "source": [
    "for i in s1:\n",
    "    print(i,end=\" \")\n",
    "    "
   ]
  },
  {
   "cell_type": "code",
   "execution_count": 28,
   "id": "4fc29af4",
   "metadata": {},
   "outputs": [
    {
     "name": "stdout",
     "output_type": "stream",
     "text": [
      "m y s i r g "
     ]
    }
   ],
   "source": [
    "i=0\n",
    "while i<len(s1):\n",
    "    print(s1[i],end=\" \")\n",
    "    i=i+1"
   ]
  },
  {
   "cell_type": "code",
   "execution_count": 29,
   "id": "1a4e1044",
   "metadata": {},
   "outputs": [
    {
     "data": {
      "text/plain": [
       "'mysirg'"
      ]
     },
     "execution_count": 29,
     "metadata": {},
     "output_type": "execute_result"
    }
   ],
   "source": [
    "s1"
   ]
  },
  {
   "cell_type": "code",
   "execution_count": 30,
   "id": "686a0d6d",
   "metadata": {},
   "outputs": [
    {
     "data": {
      "text/plain": [
       "6"
      ]
     },
     "execution_count": 30,
     "metadata": {},
     "output_type": "execute_result"
    }
   ],
   "source": [
    "len(s1)"
   ]
  },
  {
   "cell_type": "code",
   "execution_count": 32,
   "id": "3c337e01",
   "metadata": {},
   "outputs": [
    {
     "data": {
      "text/plain": [
       "'g'"
      ]
     },
     "execution_count": 32,
     "metadata": {},
     "output_type": "execute_result"
    }
   ],
   "source": [
    "min(s1) # unicode of g is small"
   ]
  },
  {
   "cell_type": "code",
   "execution_count": 33,
   "id": "072ec7fd",
   "metadata": {},
   "outputs": [],
   "source": [
    "s1=\"Mysirg Education Services\""
   ]
  },
  {
   "cell_type": "code",
   "execution_count": 35,
   "id": "66f7a5d7",
   "metadata": {},
   "outputs": [
    {
     "data": {
      "text/plain": [
       "' '"
      ]
     },
     "execution_count": 35,
     "metadata": {},
     "output_type": "execute_result"
    }
   ],
   "source": [
    "min(s1) # in this full string unicode of space is small nd space is also a \n",
    "        # character"
   ]
  },
  {
   "cell_type": "code",
   "execution_count": 36,
   "id": "a39de735",
   "metadata": {},
   "outputs": [
    {
     "data": {
      "text/plain": [
       "'y'"
      ]
     },
     "execution_count": 36,
     "metadata": {},
     "output_type": "execute_result"
    }
   ],
   "source": [
    "max(s1)"
   ]
  },
  {
   "cell_type": "code",
   "execution_count": 37,
   "id": "ba7e9d01",
   "metadata": {},
   "outputs": [
    {
     "ename": "TypeError",
     "evalue": "unsupported operand type(s) for +: 'int' and 'str'",
     "output_type": "error",
     "traceback": [
      "\u001b[1;31m---------------------------------------------------------------------------\u001b[0m",
      "\u001b[1;31mTypeError\u001b[0m                                 Traceback (most recent call last)",
      "Input \u001b[1;32mIn [37]\u001b[0m, in \u001b[0;36m<cell line: 1>\u001b[1;34m()\u001b[0m\n\u001b[1;32m----> 1\u001b[0m \u001b[38;5;28;43msum\u001b[39;49m\u001b[43m(\u001b[49m\u001b[43ms1\u001b[49m\u001b[43m)\u001b[49m\n",
      "\u001b[1;31mTypeError\u001b[0m: unsupported operand type(s) for +: 'int' and 'str'"
     ]
    }
   ],
   "source": [
    "sum(s1)"
   ]
  },
  {
   "cell_type": "code",
   "execution_count": 38,
   "id": "7e4a1d12",
   "metadata": {},
   "outputs": [],
   "source": [
    "s2=\"1234\""
   ]
  },
  {
   "cell_type": "code",
   "execution_count": 39,
   "id": "8d9e749d",
   "metadata": {},
   "outputs": [
    {
     "ename": "TypeError",
     "evalue": "unsupported operand type(s) for +: 'int' and 'str'",
     "output_type": "error",
     "traceback": [
      "\u001b[1;31m---------------------------------------------------------------------------\u001b[0m",
      "\u001b[1;31mTypeError\u001b[0m                                 Traceback (most recent call last)",
      "Input \u001b[1;32mIn [39]\u001b[0m, in \u001b[0;36m<cell line: 1>\u001b[1;34m()\u001b[0m\n\u001b[1;32m----> 1\u001b[0m \u001b[38;5;28;43msum\u001b[39;49m\u001b[43m(\u001b[49m\u001b[43ms2\u001b[49m\u001b[43m)\u001b[49m\n",
      "\u001b[1;31mTypeError\u001b[0m: unsupported operand type(s) for +: 'int' and 'str'"
     ]
    }
   ],
   "source": [
    "sum(s2)"
   ]
  },
  {
   "cell_type": "code",
   "execution_count": 41,
   "id": "c2a8159a",
   "metadata": {},
   "outputs": [
    {
     "ename": "TypeError",
     "evalue": "'int' object is not iterable",
     "output_type": "error",
     "traceback": [
      "\u001b[1;31m---------------------------------------------------------------------------\u001b[0m",
      "\u001b[1;31mTypeError\u001b[0m                                 Traceback (most recent call last)",
      "Input \u001b[1;32mIn [41]\u001b[0m, in \u001b[0;36m<cell line: 1>\u001b[1;34m()\u001b[0m\n\u001b[1;32m----> 1\u001b[0m \u001b[38;5;28;43msum\u001b[39;49m\u001b[43m(\u001b[49m\u001b[38;5;28;43mint\u001b[39;49m\u001b[43m(\u001b[49m\u001b[43ms2\u001b[49m\u001b[43m)\u001b[49m\u001b[43m)\u001b[49m\n",
      "\u001b[1;31mTypeError\u001b[0m: 'int' object is not iterable"
     ]
    }
   ],
   "source": [
    "sum(int(s2))  # sum funct alawys take iterable type value"
   ]
  },
  {
   "cell_type": "code",
   "execution_count": 42,
   "id": "71c304e3",
   "metadata": {},
   "outputs": [
    {
     "ename": "TypeError",
     "evalue": "unsupported operand type(s) for +: 'int' and 'str'",
     "output_type": "error",
     "traceback": [
      "\u001b[1;31m---------------------------------------------------------------------------\u001b[0m",
      "\u001b[1;31mTypeError\u001b[0m                                 Traceback (most recent call last)",
      "Input \u001b[1;32mIn [42]\u001b[0m, in \u001b[0;36m<cell line: 1>\u001b[1;34m()\u001b[0m\n\u001b[1;32m----> 1\u001b[0m \u001b[38;5;28;43msum\u001b[39;49m\u001b[43m(\u001b[49m\u001b[38;5;28;43mlist\u001b[39;49m\u001b[43m(\u001b[49m\u001b[43ms2\u001b[49m\u001b[43m)\u001b[49m\u001b[43m)\u001b[49m\n",
      "\u001b[1;31mTypeError\u001b[0m: unsupported operand type(s) for +: 'int' and 'str'"
     ]
    }
   ],
   "source": [
    "sum(list(s2))"
   ]
  },
  {
   "cell_type": "code",
   "execution_count": 43,
   "id": "41866701",
   "metadata": {},
   "outputs": [
    {
     "ename": "TypeError",
     "evalue": "eval() arg 1 must be a string, bytes or code object",
     "output_type": "error",
     "traceback": [
      "\u001b[1;31m---------------------------------------------------------------------------\u001b[0m",
      "\u001b[1;31mTypeError\u001b[0m                                 Traceback (most recent call last)",
      "Input \u001b[1;32mIn [43]\u001b[0m, in \u001b[0;36m<cell line: 1>\u001b[1;34m()\u001b[0m\n\u001b[1;32m----> 1\u001b[0m \u001b[38;5;28msum\u001b[39m(\u001b[38;5;28;43meval\u001b[39;49m\u001b[43m(\u001b[49m\u001b[38;5;28;43mlist\u001b[39;49m\u001b[43m(\u001b[49m\u001b[43ms2\u001b[49m\u001b[43m)\u001b[49m\u001b[43m)\u001b[49m)\n",
      "\u001b[1;31mTypeError\u001b[0m: eval() arg 1 must be a string, bytes or code object"
     ]
    }
   ],
   "source": [
    "sum(eval(list(s2)))"
   ]
  },
  {
   "cell_type": "code",
   "execution_count": 44,
   "id": "9f7c35e6",
   "metadata": {},
   "outputs": [],
   "source": [
    "# karna toh sum funct se he hai"
   ]
  },
  {
   "cell_type": "code",
   "execution_count": 46,
   "id": "4c578346",
   "metadata": {},
   "outputs": [
    {
     "data": {
      "text/plain": [
       "10"
      ]
     },
     "execution_count": 46,
     "metadata": {},
     "output_type": "execute_result"
    }
   ],
   "source": [
    "sum([int(i)   for i in s2])"
   ]
  },
  {
   "cell_type": "code",
   "execution_count": 1,
   "id": "efca075b",
   "metadata": {},
   "outputs": [],
   "source": [
    "# sum(list(int(s2))) this was also not possible as inside list only one argument\n",
    "# can be passed and that need to be iterable but int is not iterable"
   ]
  },
  {
   "cell_type": "code",
   "execution_count": 2,
   "id": "609484ca",
   "metadata": {},
   "outputs": [],
   "source": [
    "# s2=\"1a2b3c4\" u have to do addition of digit"
   ]
  },
  {
   "cell_type": "code",
   "execution_count": 4,
   "id": "08be496a",
   "metadata": {},
   "outputs": [],
   "source": [
    "s2=\"1a2b3c4\""
   ]
  },
  {
   "cell_type": "code",
   "execution_count": 5,
   "id": "66be06ac",
   "metadata": {},
   "outputs": [
    {
     "ename": "ValueError",
     "evalue": "invalid literal for int() with base 10: 'a'",
     "output_type": "error",
     "traceback": [
      "\u001b[1;31m---------------------------------------------------------------------------\u001b[0m",
      "\u001b[1;31mValueError\u001b[0m                                Traceback (most recent call last)",
      "Input \u001b[1;32mIn [5]\u001b[0m, in \u001b[0;36m<cell line: 1>\u001b[1;34m()\u001b[0m\n\u001b[1;32m----> 1\u001b[0m [ \u001b[38;5;28mint\u001b[39m(e)   \u001b[38;5;28;01mfor\u001b[39;00m e \u001b[38;5;129;01min\u001b[39;00m s2]\n",
      "Input \u001b[1;32mIn [5]\u001b[0m, in \u001b[0;36m<listcomp>\u001b[1;34m(.0)\u001b[0m\n\u001b[1;32m----> 1\u001b[0m [ \u001b[38;5;28;43mint\u001b[39;49m\u001b[43m(\u001b[49m\u001b[43me\u001b[49m\u001b[43m)\u001b[49m   \u001b[38;5;28;01mfor\u001b[39;00m e \u001b[38;5;129;01min\u001b[39;00m s2]\n",
      "\u001b[1;31mValueError\u001b[0m: invalid literal for int() with base 10: 'a'"
     ]
    }
   ],
   "source": [
    "[ int(e)   for e in s2]"
   ]
  },
  {
   "cell_type": "code",
   "execution_count": 6,
   "id": "0c5386f6",
   "metadata": {},
   "outputs": [
    {
     "data": {
      "text/plain": [
       "[1, 2, 3, 4]"
      ]
     },
     "execution_count": 6,
     "metadata": {},
     "output_type": "execute_result"
    }
   ],
   "source": [
    "[ int(i)  for i in s2 if ord(i)>=49 and ord(i)<=57]"
   ]
  },
  {
   "cell_type": "code",
   "execution_count": 7,
   "id": "23a79fe1",
   "metadata": {},
   "outputs": [
    {
     "data": {
      "text/plain": [
       "10"
      ]
     },
     "execution_count": 7,
     "metadata": {},
     "output_type": "execute_result"
    }
   ],
   "source": [
    "sum([ int(i)  for i in s2 if ord(i)>=49 and ord(i)<=57])"
   ]
  },
  {
   "cell_type": "code",
   "execution_count": 8,
   "id": "9bf681a6",
   "metadata": {},
   "outputs": [],
   "source": [
    "# in the above unicode of digits lie between 47 to 57"
   ]
  },
  {
   "cell_type": "code",
   "execution_count": 11,
   "id": "ae7434a2",
   "metadata": {},
   "outputs": [
    {
     "ename": "TypeError",
     "evalue": "'end' is an invalid keyword argument for sort()",
     "output_type": "error",
     "traceback": [
      "\u001b[1;31m---------------------------------------------------------------------------\u001b[0m",
      "\u001b[1;31mTypeError\u001b[0m                                 Traceback (most recent call last)",
      "Input \u001b[1;32mIn [11]\u001b[0m, in \u001b[0;36m<cell line: 2>\u001b[1;34m()\u001b[0m\n\u001b[0;32m      1\u001b[0m s1\u001b[38;5;241m=\u001b[39m\u001b[38;5;124m\"\u001b[39m\u001b[38;5;124mMysirg Education Services\u001b[39m\u001b[38;5;124m\"\u001b[39m\n\u001b[1;32m----> 2\u001b[0m \u001b[38;5;28;43msorted\u001b[39;49m\u001b[43m(\u001b[49m\u001b[43ms1\u001b[49m\u001b[43m,\u001b[49m\u001b[43mend\u001b[49m\u001b[38;5;241;43m=\u001b[39;49m\u001b[38;5;124;43m\"\u001b[39;49m\u001b[38;5;124;43m \u001b[39;49m\u001b[38;5;124;43m\"\u001b[39;49m\u001b[43m)\u001b[49m\n",
      "\u001b[1;31mTypeError\u001b[0m: 'end' is an invalid keyword argument for sort()"
     ]
    }
   ],
   "source": [
    "s1=\"Mysirg Education Services\"\n",
    "sorted(s1,end=\" \")"
   ]
  },
  {
   "cell_type": "code",
   "execution_count": 12,
   "id": "1e2eac23",
   "metadata": {},
   "outputs": [],
   "source": [
    "s1=\"Mysirg Education Services\""
   ]
  },
  {
   "cell_type": "code",
   "execution_count": 14,
   "id": "d507b151",
   "metadata": {},
   "outputs": [
    {
     "data": {
      "text/plain": [
       "[' ',\n",
       " ' ',\n",
       " 'E',\n",
       " 'M',\n",
       " 'S',\n",
       " 'a',\n",
       " 'c',\n",
       " 'c',\n",
       " 'd',\n",
       " 'e',\n",
       " 'e',\n",
       " 'g',\n",
       " 'i',\n",
       " 'i',\n",
       " 'i',\n",
       " 'n',\n",
       " 'o',\n",
       " 'r',\n",
       " 'r',\n",
       " 's',\n",
       " 's',\n",
       " 't',\n",
       " 'u',\n",
       " 'v',\n",
       " 'y']"
      ]
     },
     "execution_count": 14,
     "metadata": {},
     "output_type": "execute_result"
    }
   ],
   "source": [
    "sorted(s1) # sorted always give the list of sort element"
   ]
  },
  {
   "cell_type": "code",
   "execution_count": 15,
   "id": "66de9edc",
   "metadata": {},
   "outputs": [],
   "source": [
    "# str object method(atributes)"
   ]
  },
  {
   "cell_type": "code",
   "execution_count": 16,
   "id": "c63d061c",
   "metadata": {},
   "outputs": [
    {
     "data": {
      "text/plain": [
       "'Mysirg Education Services'"
      ]
     },
     "execution_count": 16,
     "metadata": {},
     "output_type": "execute_result"
    }
   ],
   "source": [
    "s1"
   ]
  },
  {
   "cell_type": "code",
   "execution_count": 17,
   "id": "1ee35ba5",
   "metadata": {},
   "outputs": [
    {
     "data": {
      "text/plain": [
       "7"
      ]
     },
     "execution_count": 17,
     "metadata": {},
     "output_type": "execute_result"
    }
   ],
   "source": [
    "s1.index(\"E\")"
   ]
  },
  {
   "cell_type": "code",
   "execution_count": 18,
   "id": "c3289b7a",
   "metadata": {},
   "outputs": [
    {
     "data": {
      "text/plain": [
       "2"
      ]
     },
     "execution_count": 18,
     "metadata": {},
     "output_type": "execute_result"
    }
   ],
   "source": [
    "s1.count(\"e\")"
   ]
  },
  {
   "cell_type": "code",
   "execution_count": 19,
   "id": "6a737531",
   "metadata": {},
   "outputs": [
    {
     "data": {
      "text/plain": [
       "2"
      ]
     },
     "execution_count": 19,
     "metadata": {},
     "output_type": "execute_result"
    }
   ],
   "source": [
    "s1.count(\" \")"
   ]
  },
  {
   "cell_type": "code",
   "execution_count": 20,
   "id": "38b00e4a",
   "metadata": {},
   "outputs": [
    {
     "data": {
      "text/plain": [
       "1"
      ]
     },
     "execution_count": 20,
     "metadata": {},
     "output_type": "execute_result"
    }
   ],
   "source": [
    "s1.count(\"at\")"
   ]
  },
  {
   "cell_type": "code",
   "execution_count": 21,
   "id": "c9c7f028",
   "metadata": {},
   "outputs": [
    {
     "data": {
      "text/plain": [
       "True"
      ]
     },
     "execution_count": 21,
     "metadata": {},
     "output_type": "execute_result"
    }
   ],
   "source": [
    "s1.startswith(\"My\")"
   ]
  },
  {
   "cell_type": "code",
   "execution_count": 24,
   "id": "c685f78b",
   "metadata": {},
   "outputs": [
    {
     "data": {
      "text/plain": [
       "False"
      ]
     },
     "execution_count": 24,
     "metadata": {},
     "output_type": "execute_result"
    }
   ],
   "source": [
    "s1.endswith(\"services\")# \"s\" should be capital"
   ]
  },
  {
   "cell_type": "code",
   "execution_count": 25,
   "id": "83542a00",
   "metadata": {},
   "outputs": [
    {
     "data": {
      "text/plain": [
       "True"
      ]
     },
     "execution_count": 25,
     "metadata": {},
     "output_type": "execute_result"
    }
   ],
   "source": [
    "s1.endswith(\"Services\")"
   ]
  },
  {
   "cell_type": "code",
   "execution_count": 26,
   "id": "388dae34",
   "metadata": {},
   "outputs": [
    {
     "data": {
      "text/plain": [
       "'1a2b3c4'"
      ]
     },
     "execution_count": 26,
     "metadata": {},
     "output_type": "execute_result"
    }
   ],
   "source": [
    "s2"
   ]
  },
  {
   "cell_type": "code",
   "execution_count": 27,
   "id": "a1028550",
   "metadata": {},
   "outputs": [
    {
     "data": {
      "text/plain": [
       "False"
      ]
     },
     "execution_count": 27,
     "metadata": {},
     "output_type": "execute_result"
    }
   ],
   "source": [
    "s2.isdigit()"
   ]
  },
  {
   "cell_type": "code",
   "execution_count": 28,
   "id": "c3d09a69",
   "metadata": {},
   "outputs": [],
   "source": [
    "s3=\"1234\""
   ]
  },
  {
   "cell_type": "code",
   "execution_count": 29,
   "id": "83a51bf6",
   "metadata": {},
   "outputs": [
    {
     "data": {
      "text/plain": [
       "True"
      ]
     },
     "execution_count": 29,
     "metadata": {},
     "output_type": "execute_result"
    }
   ],
   "source": [
    "s3.isdigit()"
   ]
  },
  {
   "cell_type": "code",
   "execution_count": 30,
   "id": "88c082f8",
   "metadata": {},
   "outputs": [
    {
     "data": {
      "text/plain": [
       "True"
      ]
     },
     "execution_count": 30,
     "metadata": {},
     "output_type": "execute_result"
    }
   ],
   "source": [
    "s2.isalnum()"
   ]
  },
  {
   "cell_type": "code",
   "execution_count": 31,
   "id": "1a18c498",
   "metadata": {},
   "outputs": [
    {
     "data": {
      "text/plain": [
       "'1234'"
      ]
     },
     "execution_count": 31,
     "metadata": {},
     "output_type": "execute_result"
    }
   ],
   "source": [
    "s3"
   ]
  },
  {
   "cell_type": "code",
   "execution_count": 32,
   "id": "3829228d",
   "metadata": {},
   "outputs": [
    {
     "data": {
      "text/plain": [
       "True"
      ]
     },
     "execution_count": 32,
     "metadata": {},
     "output_type": "execute_result"
    }
   ],
   "source": [
    "s3.isalnum()"
   ]
  },
  {
   "cell_type": "code",
   "execution_count": 33,
   "id": "ba41b1de",
   "metadata": {},
   "outputs": [
    {
     "data": {
      "text/plain": [
       "False"
      ]
     },
     "execution_count": 33,
     "metadata": {},
     "output_type": "execute_result"
    }
   ],
   "source": [
    "s3.isalpha()"
   ]
  },
  {
   "cell_type": "code",
   "execution_count": 34,
   "id": "0d3bae9c",
   "metadata": {},
   "outputs": [],
   "source": [
    "s4=\"abc\""
   ]
  },
  {
   "cell_type": "code",
   "execution_count": 35,
   "id": "d03eb90f",
   "metadata": {},
   "outputs": [
    {
     "data": {
      "text/plain": [
       "False"
      ]
     },
     "execution_count": 35,
     "metadata": {},
     "output_type": "execute_result"
    }
   ],
   "source": [
    "s4.isupper()"
   ]
  },
  {
   "cell_type": "code",
   "execution_count": 36,
   "id": "69ba7adf",
   "metadata": {},
   "outputs": [
    {
     "data": {
      "text/plain": [
       "True"
      ]
     },
     "execution_count": 36,
     "metadata": {},
     "output_type": "execute_result"
    }
   ],
   "source": [
    "s4.islower()"
   ]
  },
  {
   "cell_type": "code",
   "execution_count": 37,
   "id": "c5a1351c",
   "metadata": {},
   "outputs": [
    {
     "data": {
      "text/plain": [
       "'Mysirg Education Services'"
      ]
     },
     "execution_count": 37,
     "metadata": {},
     "output_type": "execute_result"
    }
   ],
   "source": [
    "s1"
   ]
  },
  {
   "cell_type": "code",
   "execution_count": 38,
   "id": "53154ba2",
   "metadata": {},
   "outputs": [
    {
     "data": {
      "text/plain": [
       "False"
      ]
     },
     "execution_count": 38,
     "metadata": {},
     "output_type": "execute_result"
    }
   ],
   "source": [
    "s1.isupper()"
   ]
  },
  {
   "cell_type": "code",
   "execution_count": 39,
   "id": "771cedbb",
   "metadata": {},
   "outputs": [
    {
     "data": {
      "text/plain": [
       "False"
      ]
     },
     "execution_count": 39,
     "metadata": {},
     "output_type": "execute_result"
    }
   ],
   "source": [
    "s1.islower()"
   ]
  },
  {
   "cell_type": "code",
   "execution_count": 40,
   "id": "92d4dc5c",
   "metadata": {},
   "outputs": [],
   "source": [
    "# format"
   ]
  },
  {
   "cell_type": "code",
   "execution_count": 41,
   "id": "f876e35e",
   "metadata": {},
   "outputs": [],
   "source": [
    "s5=\"{}, welcome\""
   ]
  },
  {
   "cell_type": "code",
   "execution_count": 42,
   "id": "50b91550",
   "metadata": {},
   "outputs": [
    {
     "ename": "SyntaxError",
     "evalue": "invalid syntax (1267714404.py, line 1)",
     "output_type": "error",
     "traceback": [
      "\u001b[1;36m  Input \u001b[1;32mIn [42]\u001b[1;36m\u001b[0m\n\u001b[1;33m    s5.format{\"saurabh\"}\u001b[0m\n\u001b[1;37m             ^\u001b[0m\n\u001b[1;31mSyntaxError\u001b[0m\u001b[1;31m:\u001b[0m invalid syntax\n"
     ]
    }
   ],
   "source": [
    "s5.format{\"saurabh\"}"
   ]
  },
  {
   "cell_type": "code",
   "execution_count": 43,
   "id": "d5a6461a",
   "metadata": {},
   "outputs": [
    {
     "data": {
      "text/plain": [
       "'saurabh, welcome'"
      ]
     },
     "execution_count": 43,
     "metadata": {},
     "output_type": "execute_result"
    }
   ],
   "source": [
    "s5.format(\"saurabh\")"
   ]
  },
  {
   "cell_type": "code",
   "execution_count": 44,
   "id": "dbaaa135",
   "metadata": {},
   "outputs": [],
   "source": [
    "a=5\n",
    "b=4.5"
   ]
  },
  {
   "cell_type": "code",
   "execution_count": 45,
   "id": "ba471d2d",
   "metadata": {},
   "outputs": [],
   "source": [
    "s5=\"value of a is {} and b is {}\""
   ]
  },
  {
   "cell_type": "code",
   "execution_count": 46,
   "id": "1b2e89b3",
   "metadata": {},
   "outputs": [
    {
     "data": {
      "text/plain": [
       "'value of a is 5 and b is 4.5'"
      ]
     },
     "execution_count": 46,
     "metadata": {},
     "output_type": "execute_result"
    }
   ],
   "source": [
    "s5.format(a,b)"
   ]
  },
  {
   "cell_type": "code",
   "execution_count": 47,
   "id": "116e31f7",
   "metadata": {},
   "outputs": [
    {
     "data": {
      "text/plain": [
       "'value of a is {} and b is {}'"
      ]
     },
     "execution_count": 47,
     "metadata": {},
     "output_type": "execute_result"
    }
   ],
   "source": [
    "s5"
   ]
  },
  {
   "cell_type": "code",
   "execution_count": 48,
   "id": "3b391d7b",
   "metadata": {},
   "outputs": [],
   "source": [
    "s5=\"value of a is {1} and value of b is {0}\" # here 0 and 1 is index and in\n",
    "# format values are in sequence"
   ]
  },
  {
   "cell_type": "code",
   "execution_count": 49,
   "id": "432ad23a",
   "metadata": {},
   "outputs": [
    {
     "data": {
      "text/plain": [
       "'value of a is 4.5 and value of b is 5'"
      ]
     },
     "execution_count": 49,
     "metadata": {},
     "output_type": "execute_result"
    }
   ],
   "source": [
    "s5.format(a,b)"
   ]
  },
  {
   "cell_type": "code",
   "execution_count": 50,
   "id": "21c42d5b",
   "metadata": {},
   "outputs": [
    {
     "name": "stdout",
     "output_type": "stream",
     "text": [
      "9.5,4.5,5,0.5 these are the values\n"
     ]
    }
   ],
   "source": [
    "print(\"{2},{1},{0},{3} these are the values\".format(a,b,a+b,a-b))"
   ]
  },
  {
   "cell_type": "code",
   "execution_count": 51,
   "id": "d1ada9bc",
   "metadata": {},
   "outputs": [],
   "source": [
    "# so in the above we can see the sequence the as {2} means index 2 expression\n",
    "# will take first which gives (a+b)=9.5 and so on."
   ]
  },
  {
   "cell_type": "code",
   "execution_count": 52,
   "id": "f9916ed8",
   "metadata": {},
   "outputs": [
    {
     "data": {
      "text/plain": [
       "(5, 4.5)"
      ]
     },
     "execution_count": 52,
     "metadata": {},
     "output_type": "execute_result"
    }
   ],
   "source": [
    "a,b"
   ]
  },
  {
   "cell_type": "code",
   "execution_count": 1,
   "id": "5d723bde",
   "metadata": {},
   "outputs": [],
   "source": [
    "# same problem statement u have to take list from user"
   ]
  },
  {
   "cell_type": "code",
   "execution_count": 3,
   "id": "1a455eec",
   "metadata": {},
   "outputs": [
    {
     "name": "stdout",
     "output_type": "stream",
     "text": [
      "enter number separated by coma\n",
      "10,30,20,50,40\n",
      "[10, 30, 20, 50, 40]\n"
     ]
    }
   ],
   "source": [
    "print(\"enter number separated by coma\")\n",
    "l1=[int(i)  for i in input().split(',')]\n",
    "print(l1)"
   ]
  },
  {
   "cell_type": "code",
   "execution_count": 4,
   "id": "d312244d",
   "metadata": {},
   "outputs": [],
   "source": [
    "s1=\"mysirg education services\""
   ]
  },
  {
   "cell_type": "code",
   "execution_count": 6,
   "id": "71b5d359",
   "metadata": {},
   "outputs": [
    {
     "data": {
      "text/plain": [
       "['mysirg', 'education', 'services']"
      ]
     },
     "execution_count": 6,
     "metadata": {},
     "output_type": "execute_result"
    }
   ],
   "source": [
    "s1.split(' ')# split always return the list of str type element"
   ]
  },
  {
   "cell_type": "code",
   "execution_count": 7,
   "id": "391f485a",
   "metadata": {},
   "outputs": [
    {
     "data": {
      "text/plain": [
       "['mysirg ', 'ducation s', 'rvic', 's']"
      ]
     },
     "execution_count": 7,
     "metadata": {},
     "output_type": "execute_result"
    }
   ],
   "source": [
    "s1.split(\"e\")"
   ]
  },
  {
   "cell_type": "code",
   "execution_count": 9,
   "id": "c28d0d62",
   "metadata": {},
   "outputs": [],
   "source": [
    "# join it returns the str from list of str (opposite of split)"
   ]
  },
  {
   "cell_type": "code",
   "execution_count": 10,
   "id": "4832abf2",
   "metadata": {},
   "outputs": [],
   "source": [
    "l1=[\"mysirg\", \"education\", \"services\"]"
   ]
  },
  {
   "cell_type": "code",
   "execution_count": 11,
   "id": "aca366be",
   "metadata": {},
   "outputs": [
    {
     "data": {
      "text/plain": [
       "'mysirg education services'"
      ]
     },
     "execution_count": 11,
     "metadata": {},
     "output_type": "execute_result"
    }
   ],
   "source": [
    "\" \".join(l1)"
   ]
  },
  {
   "cell_type": "code",
   "execution_count": 1,
   "id": "feaea6cd",
   "metadata": {},
   "outputs": [],
   "source": [
    "s1=\"mysirg education services\""
   ]
  },
  {
   "cell_type": "code",
   "execution_count": 2,
   "id": "994bd03e",
   "metadata": {},
   "outputs": [
    {
     "data": {
      "text/plain": [
       "'yigeu'"
      ]
     },
     "execution_count": 2,
     "metadata": {},
     "output_type": "execute_result"
    }
   ],
   "source": [
    "s1[1:10:2]"
   ]
  },
  {
   "cell_type": "code",
   "execution_count": 3,
   "id": "372d5f36",
   "metadata": {},
   "outputs": [
    {
     "data": {
      "text/plain": [
       "'cude '"
      ]
     },
     "execution_count": 3,
     "metadata": {},
     "output_type": "execute_result"
    }
   ],
   "source": [
    "s1[10:5:-1]"
   ]
  },
  {
   "cell_type": "code",
   "execution_count": 4,
   "id": "73fc37dc",
   "metadata": {},
   "outputs": [
    {
     "data": {
      "text/plain": [
       "'mysir'"
      ]
     },
     "execution_count": 4,
     "metadata": {},
     "output_type": "execute_result"
    }
   ],
   "source": [
    "s1[:5:1]"
   ]
  },
  {
   "cell_type": "code",
   "execution_count": 5,
   "id": "d6186193",
   "metadata": {},
   "outputs": [
    {
     "data": {
      "text/plain": [
       "'vices'"
      ]
     },
     "execution_count": 5,
     "metadata": {},
     "output_type": "execute_result"
    }
   ],
   "source": [
    "s1[20:]"
   ]
  },
  {
   "cell_type": "code",
   "execution_count": 6,
   "id": "a74ec96d",
   "metadata": {},
   "outputs": [
    {
     "data": {
      "text/plain": [
       "'secivres noitacude grisym'"
      ]
     },
     "execution_count": 6,
     "metadata": {},
     "output_type": "execute_result"
    }
   ],
   "source": [
    "s1[::-1]"
   ]
  },
  {
   "cell_type": "code",
   "execution_count": 7,
   "id": "83ddadd5",
   "metadata": {},
   "outputs": [],
   "source": [
    "# slicing operator is applicable on list also"
   ]
  },
  {
   "cell_type": "code",
   "execution_count": null,
   "id": "829eca22",
   "metadata": {},
   "outputs": [],
   "source": []
  }
 ],
 "metadata": {
  "kernelspec": {
   "display_name": "Python 3 (ipykernel)",
   "language": "python",
   "name": "python3"
  },
  "language_info": {
   "codemirror_mode": {
    "name": "ipython",
    "version": 3
   },
   "file_extension": ".py",
   "mimetype": "text/x-python",
   "name": "python",
   "nbconvert_exporter": "python",
   "pygments_lexer": "ipython3",
   "version": "3.9.12"
  }
 },
 "nbformat": 4,
 "nbformat_minor": 5
}
