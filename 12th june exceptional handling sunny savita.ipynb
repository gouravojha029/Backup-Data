{
 "cells": [
  {
   "cell_type": "code",
   "execution_count": 1,
   "id": "7a4d1fa8",
   "metadata": {},
   "outputs": [],
   "source": [
    "# exceptional handaling( run time error)not compile time error"
   ]
  },
  {
   "cell_type": "code",
   "execution_count": 2,
   "id": "7f6f01cb",
   "metadata": {},
   "outputs": [],
   "source": [
    "# reason for exceptional handaling\n",
    "#1) my further code excuation will stop \n",
    "#2)  this run time error are not user friendly\n"
   ]
  },
  {
   "cell_type": "code",
   "execution_count": 3,
   "id": "9aaf3392",
   "metadata": {},
   "outputs": [],
   "source": [
    "# exception can be handle with help of five keywords\n",
    "# try,except,else,raise,finally"
   ]
  },
  {
   "cell_type": "code",
   "execution_count": 4,
   "id": "51e46077",
   "metadata": {},
   "outputs": [
    {
     "name": "stdout",
     "output_type": "stream",
     "text": [
      "enter a first number10\n",
      "enter a second number0\n"
     ]
    },
    {
     "ename": "ZeroDivisionError",
     "evalue": "division by zero",
     "output_type": "error",
     "traceback": [
      "\u001b[1;31m---------------------------------------------------------------------------\u001b[0m",
      "\u001b[1;31mZeroDivisionError\u001b[0m                         Traceback (most recent call last)",
      "Input \u001b[1;32mIn [4]\u001b[0m, in \u001b[0;36m<cell line: 3>\u001b[1;34m()\u001b[0m\n\u001b[0;32m      1\u001b[0m a\u001b[38;5;241m=\u001b[39m \u001b[38;5;28mint\u001b[39m(\u001b[38;5;28minput\u001b[39m(\u001b[38;5;124m\"\u001b[39m\u001b[38;5;124menter a first number\u001b[39m\u001b[38;5;124m\"\u001b[39m))\n\u001b[0;32m      2\u001b[0m b\u001b[38;5;241m=\u001b[39m \u001b[38;5;28mint\u001b[39m(\u001b[38;5;28minput\u001b[39m(\u001b[38;5;124m\"\u001b[39m\u001b[38;5;124menter a second number\u001b[39m\u001b[38;5;124m\"\u001b[39m))\n\u001b[1;32m----> 3\u001b[0m c\u001b[38;5;241m=\u001b[39m \u001b[43ma\u001b[49m\u001b[38;5;241;43m/\u001b[39;49m\u001b[43mb\u001b[49m\n\u001b[0;32m      4\u001b[0m \u001b[38;5;28mprint\u001b[39m(c)\n",
      "\u001b[1;31mZeroDivisionError\u001b[0m: division by zero"
     ]
    }
   ],
   "source": [
    "a= int(input(\"enter a first number\"))\n",
    "b= int(input(\"enter a second number\"))\n",
    "c= a/b\n",
    "print(c)"
   ]
  },
  {
   "cell_type": "code",
   "execution_count": 6,
   "id": "147e996f",
   "metadata": {},
   "outputs": [
    {
     "name": "stdout",
     "output_type": "stream",
     "text": [
      "enter a first number10\n",
      "enter a second number0\n",
      "b should not be a zero\n"
     ]
    }
   ],
   "source": [
    "a= int(input(\"enter a first number\"))\n",
    "b= int(input(\"enter a second number\"))\n",
    "try:\n",
    "    c= a/b      # chance of getting error is here\n",
    "    print(c)\n",
    "except:\n",
    "    print(\"b should not be a zero\")"
   ]
  },
  {
   "cell_type": "code",
   "execution_count": 7,
   "id": "a31627f9",
   "metadata": {},
   "outputs": [
    {
     "name": "stdout",
     "output_type": "stream",
     "text": [
      "enter a first number10\n",
      "enter a second number5\n",
      "2.0\n"
     ]
    }
   ],
   "source": [
    "a= int(input(\"enter a first number\"))\n",
    "b= int(input(\"enter a second number\"))\n",
    "try:\n",
    "    c= a/b      # chance of getting error is here\n",
    "    print(c)\n",
    "except:\n",
    "    print(\"b should not be a zero\")"
   ]
  },
  {
   "cell_type": "code",
   "execution_count": 1,
   "id": "da257921",
   "metadata": {},
   "outputs": [
    {
     "name": "stdout",
     "output_type": "stream",
     "text": [
      "enter a first number10\n",
      "enter a second number0\n",
      "b should not be a zero\n"
     ]
    }
   ],
   "source": [
    "a= int(input(\"enter a first number\"))\n",
    "b= int(input(\"enter a second number\"))\n",
    "try:\n",
    "    c= a/b      # chance of getting error is here\n",
    "    print(c)\n",
    "except ZeroDivisionError:\n",
    "    print(\"b should not be a zero\")"
   ]
  },
  {
   "cell_type": "code",
   "execution_count": 2,
   "id": "5ac39092",
   "metadata": {},
   "outputs": [
    {
     "ename": "SyntaxError",
     "evalue": "unmatched ')' (2006120883.py, line 5)",
     "output_type": "error",
     "traceback": [
      "\u001b[1;36m  Input \u001b[1;32mIn [2]\u001b[1;36m\u001b[0m\n\u001b[1;33m    print(c))   # syntex error\u001b[0m\n\u001b[1;37m            ^\u001b[0m\n\u001b[1;31mSyntaxError\u001b[0m\u001b[1;31m:\u001b[0m unmatched ')'\n"
     ]
    }
   ],
   "source": [
    "a= int(input(\"enter a first number\"))\n",
    "b= int(input(\"enter a second number\"))\n",
    "try:\n",
    "    c= a/b      # chance of getting error is here\n",
    "    print(c))   # syntex error\n",
    "except:\n",
    "    print(\"b should not be a zero\")\n",
    "d=a+b"
   ]
  },
  {
   "cell_type": "code",
   "execution_count": 3,
   "id": "3b1f274c",
   "metadata": {},
   "outputs": [],
   "source": [
    "# so in the above u can see exception does not handle the syntex error(compile)"
   ]
  },
  {
   "cell_type": "code",
   "execution_count": 5,
   "id": "1dbd680f",
   "metadata": {},
   "outputs": [
    {
     "name": "stdout",
     "output_type": "stream",
     "text": [
      "enter a first number10\n",
      "enter a second number0\n",
      "b should not be zero\n",
      "10\n"
     ]
    }
   ],
   "source": [
    "a= int(input(\"enter a first number\"))\n",
    "b= int(input(\"enter a second number\"))\n",
    "try:\n",
    "    c=a/b\n",
    "    print(c)\n",
    "except:\n",
    "    print(\"b should not be zero\")\n",
    "d=a+b\n",
    "print(d)"
   ]
  },
  {
   "cell_type": "code",
   "execution_count": 6,
   "id": "cac4e3d9",
   "metadata": {},
   "outputs": [
    {
     "name": "stdout",
     "output_type": "stream",
     "text": [
      "enter first integer5\n",
      "enter second integer2.5\n"
     ]
    },
    {
     "ename": "ValueError",
     "evalue": "invalid literal for int() with base 10: '2.5'",
     "output_type": "error",
     "traceback": [
      "\u001b[1;31m---------------------------------------------------------------------------\u001b[0m",
      "\u001b[1;31mValueError\u001b[0m                                Traceback (most recent call last)",
      "Input \u001b[1;32mIn [6]\u001b[0m, in \u001b[0;36m<cell line: 2>\u001b[1;34m()\u001b[0m\n\u001b[0;32m      1\u001b[0m a\u001b[38;5;241m=\u001b[39m\u001b[38;5;28mint\u001b[39m(\u001b[38;5;28minput\u001b[39m(\u001b[38;5;124m\"\u001b[39m\u001b[38;5;124menter first integer\u001b[39m\u001b[38;5;124m\"\u001b[39m))\n\u001b[1;32m----> 2\u001b[0m b\u001b[38;5;241m=\u001b[39m\u001b[38;5;28;43mint\u001b[39;49m\u001b[43m(\u001b[49m\u001b[38;5;28;43minput\u001b[39;49m\u001b[43m(\u001b[49m\u001b[38;5;124;43m\"\u001b[39;49m\u001b[38;5;124;43menter second integer\u001b[39;49m\u001b[38;5;124;43m\"\u001b[39;49m\u001b[43m)\u001b[49m\u001b[43m)\u001b[49m\n\u001b[0;32m      3\u001b[0m \u001b[38;5;28;01mtry\u001b[39;00m:\n\u001b[0;32m      4\u001b[0m     c\u001b[38;5;241m=\u001b[39ma\u001b[38;5;241m/\u001b[39mb\n",
      "\u001b[1;31mValueError\u001b[0m: invalid literal for int() with base 10: '2.5'"
     ]
    }
   ],
   "source": [
    "a=int(input(\"enter first integer\"))\n",
    "b=int(input(\"enter second integer\"))\n",
    "try:\n",
    "    c=a/b\n",
    "    print(c)\n",
    "except:\n",
    "    print(\"cannot enter non-integer value\")\n",
    "    print(\"enter non-zero denominator\")"
   ]
  },
  {
   "cell_type": "code",
   "execution_count": 8,
   "id": "0087760a",
   "metadata": {},
   "outputs": [
    {
     "name": "stdout",
     "output_type": "stream",
     "text": [
      "enter first integer5\n",
      "enter second integer0\n",
      "cannot enter non-integer value\n",
      "enter non-zero denominator\n"
     ]
    }
   ],
   "source": [
    "a=int(input(\"enter first integer\"))\n",
    "b=int(input(\"enter second integer\"))\n",
    "try:\n",
    "    c=a/b\n",
    "    print(c)\n",
    "except:\n",
    "    print(\"cannot enter non-integer value\")\n",
    "    print(\"enter non-zero denominator\")"
   ]
  },
  {
   "cell_type": "code",
   "execution_count": null,
   "id": "1c9e2651",
   "metadata": {},
   "outputs": [],
   "source": []
  }
 ],
 "metadata": {
  "kernelspec": {
   "display_name": "Python 3 (ipykernel)",
   "language": "python",
   "name": "python3"
  },
  "language_info": {
   "codemirror_mode": {
    "name": "ipython",
    "version": 3
   },
   "file_extension": ".py",
   "mimetype": "text/x-python",
   "name": "python",
   "nbconvert_exporter": "python",
   "pygments_lexer": "ipython3",
   "version": "3.9.12"
  }
 },
 "nbformat": 4,
 "nbformat_minor": 5
}
