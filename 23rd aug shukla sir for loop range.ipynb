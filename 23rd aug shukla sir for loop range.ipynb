{
 "cells": [
  {
   "cell_type": "code",
   "execution_count": 1,
   "id": "393ae6a4",
   "metadata": {},
   "outputs": [],
   "source": [
    "# for loop"
   ]
  },
  {
   "cell_type": "code",
   "execution_count": 3,
   "id": "f46b1651",
   "metadata": {},
   "outputs": [
    {
     "name": "stdout",
     "output_type": "stream",
     "text": [
      "m\n",
      "y\n",
      "s\n",
      "i\n",
      "r\n",
      "g\n"
     ]
    }
   ],
   "source": [
    "for i in \"mysirg\":\n",
    "    print(i)  # print always changes the line"
   ]
  },
  {
   "cell_type": "code",
   "execution_count": 4,
   "id": "eb1a1607",
   "metadata": {},
   "outputs": [],
   "source": [
    "# write a program to count \"a\" in a given strng,using for loop"
   ]
  },
  {
   "cell_type": "code",
   "execution_count": 12,
   "id": "cf139fce",
   "metadata": {},
   "outputs": [
    {
     "name": "stdout",
     "output_type": "stream",
     "text": [
      "enter a string mahesh\n",
      "0\n",
      "0\n",
      "0\n",
      "0\n",
      "0\n",
      "0\n"
     ]
    }
   ],
   "source": [
    "b=input(\"enter a string \")\n",
    "for i in b:\n",
    "    print(i.count(a))"
   ]
  },
  {
   "cell_type": "code",
   "execution_count": 15,
   "id": "aa1feefc",
   "metadata": {},
   "outputs": [
    {
     "name": "stdout",
     "output_type": "stream",
     "text": [
      "enter a string virat\n"
     ]
    },
    {
     "ename": "TypeError",
     "evalue": "can only concatenate str (not \"int\") to str",
     "output_type": "error",
     "traceback": [
      "\u001b[1;31m---------------------------------------------------------------------------\u001b[0m",
      "\u001b[1;31mTypeError\u001b[0m                                 Traceback (most recent call last)",
      "Input \u001b[1;32mIn [15]\u001b[0m, in \u001b[0;36m<cell line: 2>\u001b[1;34m()\u001b[0m\n\u001b[0;32m      2\u001b[0m \u001b[38;5;28;01mfor\u001b[39;00m i \u001b[38;5;129;01min\u001b[39;00m x:\n\u001b[0;32m      3\u001b[0m     \u001b[38;5;28;01mif\u001b[39;00m i\u001b[38;5;241m==\u001b[39m\u001b[38;5;124m\"\u001b[39m\u001b[38;5;124ma\u001b[39m\u001b[38;5;124m\"\u001b[39m:\n\u001b[1;32m----> 4\u001b[0m         i\u001b[38;5;241m=\u001b[39m\u001b[43mi\u001b[49m\u001b[38;5;241;43m+\u001b[39;49m\u001b[38;5;241;43m1\u001b[39;49m\n\u001b[0;32m      5\u001b[0m         \u001b[38;5;28mprint\u001b[39m(i\u001b[38;5;241m.\u001b[39mcount(a))\n",
      "\u001b[1;31mTypeError\u001b[0m: can only concatenate str (not \"int\") to str"
     ]
    }
   ],
   "source": [
    "x=input(\"enter a string \")\n",
    "for i in x:\n",
    "    if i==\"a\":\n",
    "        i=i+1\n",
    "        print(i.count(a))\n",
    "    \n"
   ]
  },
  {
   "cell_type": "code",
   "execution_count": 16,
   "id": "1d1b5047",
   "metadata": {},
   "outputs": [],
   "source": [
    "# write a program to count \"a\" in a given strng,using for loop"
   ]
  },
  {
   "cell_type": "code",
   "execution_count": 20,
   "id": "f6cda237",
   "metadata": {},
   "outputs": [
    {
     "name": "stdout",
     "output_type": "stream",
     "text": [
      "enter a string virat\n",
      "count= 0\n",
      "count= 0\n",
      "count= 0\n",
      "count= 1\n",
      "count= 1\n"
     ]
    }
   ],
   "source": [
    "x=input(\"enter a string \")\n",
    "count=0\n",
    "for i in x:\n",
    "    if i==\"a\":\n",
    "        count+=1\n",
    "    print(\"count=\",count)  #indention is not correct"
   ]
  },
  {
   "cell_type": "code",
   "execution_count": 19,
   "id": "3121678e",
   "metadata": {},
   "outputs": [
    {
     "name": "stdout",
     "output_type": "stream",
     "text": [
      "enter a string virat\n",
      "count= 1\n"
     ]
    }
   ],
   "source": [
    "x=input(\"enter a string \")\n",
    "count=0\n",
    "for i in x:\n",
    "    if i==\"a\":\n",
    "        count+=1\n",
    "print(\"count=\",count)"
   ]
  },
  {
   "cell_type": "code",
   "execution_count": 21,
   "id": "c05dcc2c",
   "metadata": {},
   "outputs": [
    {
     "name": "stdout",
     "output_type": "stream",
     "text": [
      "enter a string gourav ojha\n",
      "count= 2\n"
     ]
    }
   ],
   "source": [
    "x=input(\"enter a string \")\n",
    "count=0\n",
    "for i in x:\n",
    "    if i==\"a\":\n",
    "        count+=1\n",
    "print(\"count=\",count)"
   ]
  },
  {
   "cell_type": "code",
   "execution_count": 22,
   "id": "51a133f8",
   "metadata": {},
   "outputs": [],
   "source": [
    "# iterable object are the one which allowed acesses of each element of it."
   ]
  },
  {
   "cell_type": "code",
   "execution_count": 23,
   "id": "6adcb337",
   "metadata": {},
   "outputs": [
    {
     "data": {
      "text/plain": [
       "int"
      ]
     },
     "execution_count": 23,
     "metadata": {},
     "output_type": "execute_result"
    }
   ],
   "source": [
    "x=125\n",
    "type(x)"
   ]
  },
  {
   "cell_type": "code",
   "execution_count": 24,
   "id": "cc8f1060",
   "metadata": {},
   "outputs": [
    {
     "ename": "TypeError",
     "evalue": "'int' object is not iterable",
     "output_type": "error",
     "traceback": [
      "\u001b[1;31m---------------------------------------------------------------------------\u001b[0m",
      "\u001b[1;31mTypeError\u001b[0m                                 Traceback (most recent call last)",
      "Input \u001b[1;32mIn [24]\u001b[0m, in \u001b[0;36m<cell line: 1>\u001b[1;34m()\u001b[0m\n\u001b[1;32m----> 1\u001b[0m \u001b[38;5;28;01mfor\u001b[39;00m e \u001b[38;5;129;01min\u001b[39;00m x:\n\u001b[0;32m      2\u001b[0m     \u001b[38;5;28mprint\u001b[39m(e)\n",
      "\u001b[1;31mTypeError\u001b[0m: 'int' object is not iterable"
     ]
    }
   ],
   "source": [
    "for e in x:\n",
    "    print(e)"
   ]
  },
  {
   "cell_type": "code",
   "execution_count": 25,
   "id": "069a22ac",
   "metadata": {},
   "outputs": [],
   "source": [
    "# so int,float,bool,complex are not iterable"
   ]
  },
  {
   "cell_type": "code",
   "execution_count": 28,
   "id": "dff2b160",
   "metadata": {},
   "outputs": [
    {
     "data": {
      "text/plain": [
       "'125'"
      ]
     },
     "execution_count": 28,
     "metadata": {},
     "output_type": "execute_result"
    }
   ],
   "source": [
    "str(x)  # str is iterable"
   ]
  },
  {
   "cell_type": "code",
   "execution_count": 27,
   "id": "cc7c101c",
   "metadata": {},
   "outputs": [
    {
     "name": "stdout",
     "output_type": "stream",
     "text": [
      "1\n",
      "2\n",
      "5\n"
     ]
    }
   ],
   "source": [
    "for i in str(x):\n",
    "    print(i)"
   ]
  },
  {
   "cell_type": "code",
   "execution_count": 29,
   "id": "edd2be94",
   "metadata": {},
   "outputs": [
    {
     "name": "stdout",
     "output_type": "stream",
     "text": [
      "1\n",
      "2\n",
      "5\n"
     ]
    }
   ],
   "source": [
    "for i in str(x):\n",
    "    print(int(i))"
   ]
  },
  {
   "cell_type": "code",
   "execution_count": 31,
   "id": "2527fd86",
   "metadata": {},
   "outputs": [
    {
     "name": "stdout",
     "output_type": "stream",
     "text": [
      "enter a string gourav\n",
      "g\n",
      "o\n",
      "u\n"
     ]
    }
   ],
   "source": [
    "x=input(\"enter a string \")\n",
    "for i in x:\n",
    "    if i==\"r\":\n",
    "        break\n",
    "    print(i)\n",
    "else:\n",
    "    print(\"all the characters are processed\")"
   ]
  },
  {
   "cell_type": "code",
   "execution_count": 32,
   "id": "c835967b",
   "metadata": {},
   "outputs": [
    {
     "name": "stdout",
     "output_type": "stream",
     "text": [
      "enter a string apple\n",
      "a\n",
      "p\n",
      "p\n",
      "l\n",
      "e\n",
      "all the characters are processed\n"
     ]
    }
   ],
   "source": [
    "x=input(\"enter a string \")\n",
    "for i in x:\n",
    "    if i==\"r\":\n",
    "        break\n",
    "    print(i)\n",
    "else:\n",
    "    print(\"all the characters are processed\")"
   ]
  },
  {
   "cell_type": "code",
   "execution_count": 34,
   "id": "4ba732d2",
   "metadata": {},
   "outputs": [
    {
     "name": "stdout",
     "output_type": "stream",
     "text": [
      "enter a string manish\n",
      "manish all the characters are processed\n"
     ]
    }
   ],
   "source": [
    "x=input(\"enter a string \")\n",
    "for i in x:\n",
    "    if i==\"r\":\n",
    "        break\n",
    "    print(i,end='')\n",
    "else:\n",
    "    print(\" all the characters are processed\")"
   ]
  },
  {
   "cell_type": "code",
   "execution_count": 1,
   "id": "ccbd705a",
   "metadata": {},
   "outputs": [],
   "source": [
    "# range"
   ]
  },
  {
   "cell_type": "code",
   "execution_count": 2,
   "id": "6be35baf",
   "metadata": {},
   "outputs": [],
   "source": [
    "r1=range(2,10,2)"
   ]
  },
  {
   "cell_type": "code",
   "execution_count": 3,
   "id": "2c74356b",
   "metadata": {},
   "outputs": [
    {
     "name": "stdout",
     "output_type": "stream",
     "text": [
      "2 4 6 8 "
     ]
    }
   ],
   "source": [
    "for i in r1:\n",
    "    print(i,end=' ')"
   ]
  },
  {
   "cell_type": "code",
   "execution_count": 4,
   "id": "fdb3ff7a",
   "metadata": {},
   "outputs": [
    {
     "data": {
      "text/plain": [
       "range(0, -10)"
      ]
     },
     "execution_count": 4,
     "metadata": {},
     "output_type": "execute_result"
    }
   ],
   "source": [
    "range(-10)"
   ]
  },
  {
   "cell_type": "code",
   "execution_count": 6,
   "id": "2cae2c49",
   "metadata": {},
   "outputs": [
    {
     "data": {
      "text/plain": [
       "0"
      ]
     },
     "execution_count": 6,
     "metadata": {},
     "output_type": "execute_result"
    }
   ],
   "source": [
    "len(range(0,-10))"
   ]
  },
  {
   "cell_type": "code",
   "execution_count": 8,
   "id": "14e34128",
   "metadata": {},
   "outputs": [
    {
     "data": {
      "text/plain": [
       "[0, 1, 2, 3, 4, 5, 6, 7, 8, 9]"
      ]
     },
     "execution_count": 8,
     "metadata": {},
     "output_type": "execute_result"
    }
   ],
   "source": [
    "list(range(10))"
   ]
  },
  {
   "cell_type": "code",
   "execution_count": 10,
   "id": "c90a118d",
   "metadata": {},
   "outputs": [
    {
     "data": {
      "text/plain": [
       "10"
      ]
     },
     "execution_count": 10,
     "metadata": {},
     "output_type": "execute_result"
    }
   ],
   "source": [
    "len(range(10))"
   ]
  },
  {
   "cell_type": "code",
   "execution_count": 11,
   "id": "d74fd782",
   "metadata": {},
   "outputs": [
    {
     "data": {
      "text/plain": [
       "range(0, -10)"
      ]
     },
     "execution_count": 11,
     "metadata": {},
     "output_type": "execute_result"
    }
   ],
   "source": [
    "range(-10)"
   ]
  },
  {
   "cell_type": "code",
   "execution_count": 13,
   "id": "d60e4fc9",
   "metadata": {},
   "outputs": [],
   "source": [
    "for i in range(-10): # output is empty because start value is 0 and end value \n",
    "                     # is -10 but direction is 1 means positive by default\n",
    "                     # therefore blank output\n",
    "    print(i)"
   ]
  },
  {
   "cell_type": "code",
   "execution_count": 14,
   "id": "e1c036af",
   "metadata": {},
   "outputs": [
    {
     "data": {
      "text/plain": [
       "range(0, -10, -1)"
      ]
     },
     "execution_count": 14,
     "metadata": {},
     "output_type": "execute_result"
    }
   ],
   "source": [
    "range(0,-10,-1)"
   ]
  },
  {
   "cell_type": "code",
   "execution_count": 15,
   "id": "2a4084d6",
   "metadata": {},
   "outputs": [
    {
     "data": {
      "text/plain": [
       "[0, -1, -2, -3, -4, -5, -6, -7, -8, -9]"
      ]
     },
     "execution_count": 15,
     "metadata": {},
     "output_type": "execute_result"
    }
   ],
   "source": [
    "list(range(0,-10,-1))"
   ]
  },
  {
   "cell_type": "code",
   "execution_count": 17,
   "id": "9d5324d8",
   "metadata": {},
   "outputs": [
    {
     "name": "stdout",
     "output_type": "stream",
     "text": [
      "0 -1 -2 -3 -4 -5 -6 -7 -8 -9 "
     ]
    }
   ],
   "source": [
    "for i in range(0,-10,-1):\n",
    "    print(i,end=\" \")"
   ]
  },
  {
   "cell_type": "code",
   "execution_count": 18,
   "id": "ca03a54d",
   "metadata": {},
   "outputs": [
    {
     "data": {
      "text/plain": [
       "10"
      ]
     },
     "execution_count": 18,
     "metadata": {},
     "output_type": "execute_result"
    }
   ],
   "source": [
    "len(range(0,-10,-1))"
   ]
  },
  {
   "cell_type": "code",
   "execution_count": 20,
   "id": "a749bbb0",
   "metadata": {},
   "outputs": [
    {
     "name": "stdout",
     "output_type": "stream",
     "text": [
      "0 1 2 3 4 5 6 7 8 9 "
     ]
    }
   ],
   "source": [
    "for i in range(10):\n",
    "    print(i,end=\" \")"
   ]
  },
  {
   "cell_type": "code",
   "execution_count": 21,
   "id": "e75bccc0",
   "metadata": {},
   "outputs": [],
   "source": [
    "# write a program to print first n natural numbers"
   ]
  },
  {
   "cell_type": "code",
   "execution_count": 23,
   "id": "5cad360f",
   "metadata": {},
   "outputs": [
    {
     "name": "stdout",
     "output_type": "stream",
     "text": [
      "enter a number10\n",
      "1 2 3 4 5 6 7 8 9 10 "
     ]
    }
   ],
   "source": [
    "for i in range(int(input(\"enter a number\"))):\n",
    "    print(i+1,end=\" \") # why i am doing i+1 other wise it will print 0 at first\n",
    "                       # and it will not be a natural then"
   ]
  },
  {
   "cell_type": "code",
   "execution_count": 25,
   "id": "fb433c0f",
   "metadata": {},
   "outputs": [
    {
     "name": "stdout",
     "output_type": "stream",
     "text": [
      "enter a number10\n",
      "1 2 3 4 5 6 7 8 9 10 "
     ]
    }
   ],
   "source": [
    "for i in range(1,int(input(\"enter a number\"))+1):\n",
    "    print(i,end=\" \")"
   ]
  },
  {
   "cell_type": "code",
   "execution_count": 26,
   "id": "19a85691",
   "metadata": {},
   "outputs": [],
   "source": [
    "# write a program to print squares of first n natural numbers"
   ]
  },
  {
   "cell_type": "code",
   "execution_count": 31,
   "id": "d464af3e",
   "metadata": {},
   "outputs": [
    {
     "name": "stdout",
     "output_type": "stream",
     "text": [
      "enter the number 10\n",
      "1 4 9 16 25 36 49 64 81 100 "
     ]
    }
   ],
   "source": [
    "for i in range(int(input(\"enter the number \"))):\n",
    "    print((i+1)**2,end=\" \")"
   ]
  },
  {
   "cell_type": "code",
   "execution_count": null,
   "id": "7b929efd",
   "metadata": {},
   "outputs": [],
   "source": [
    "\n"
   ]
  },
  {
   "cell_type": "code",
   "execution_count": 1,
   "id": "c4cfd488",
   "metadata": {},
   "outputs": [],
   "source": [
    "# write a program to print first n even natural numbers in reverse order"
   ]
  },
  {
   "cell_type": "code",
   "execution_count": 3,
   "id": "d5699a95",
   "metadata": {},
   "outputs": [
    {
     "name": "stdout",
     "output_type": "stream",
     "text": [
      "enter a number5\n",
      "10 8 6 4 2 "
     ]
    }
   ],
   "source": [
    "for i in range(2*int(input(\"enter a number\")),0,-2):\n",
    "    print(i,end=\" \")"
   ]
  },
  {
   "cell_type": "code",
   "execution_count": null,
   "id": "9be4f5f3",
   "metadata": {},
   "outputs": [],
   "source": []
  }
 ],
 "metadata": {
  "kernelspec": {
   "display_name": "Python 3 (ipykernel)",
   "language": "python",
   "name": "python3"
  },
  "language_info": {
   "codemirror_mode": {
    "name": "ipython",
    "version": 3
   },
   "file_extension": ".py",
   "mimetype": "text/x-python",
   "name": "python",
   "nbconvert_exporter": "python",
   "pygments_lexer": "ipython3",
   "version": "3.9.12"
  }
 },
 "nbformat": 4,
 "nbformat_minor": 5
}
