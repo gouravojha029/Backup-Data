{
 "cells": [
  {
   "cell_type": "code",
   "execution_count": 1,
   "id": "8b9ac584",
   "metadata": {},
   "outputs": [],
   "source": [
    "# write a python script to check wether a given number is positive or \n",
    "# non-positive."
   ]
  },
  {
   "cell_type": "code",
   "execution_count": 3,
   "id": "35f452f9",
   "metadata": {},
   "outputs": [
    {
     "name": "stdout",
     "output_type": "stream",
     "text": [
      "enter  a number: -5\n",
      "non positive\n"
     ]
    }
   ],
   "source": [
    "n=float(input(\"enter  a number: \"))\n",
    "if n>0:\n",
    "    print(\"number is positive\")\n",
    "else:\n",
    "    print(\"non positive\")"
   ]
  },
  {
   "cell_type": "code",
   "execution_count": 4,
   "id": "8b0b5d33",
   "metadata": {},
   "outputs": [],
   "source": [
    "#2)write a python script to check whether a given number is divisible by 5 or\n",
    "#  not."
   ]
  },
  {
   "cell_type": "code",
   "execution_count": 13,
   "id": "27dfff8b",
   "metadata": {},
   "outputs": [
    {
     "name": "stdout",
     "output_type": "stream",
     "text": [
      "enter a number: 25\n",
      "number is divisible by 5\n"
     ]
    }
   ],
   "source": [
    "# in single line \n",
    "print(\"number is not divisible by 5\"  if  int(input(\"enter a number: \"))%5 else \"number is divisible by 5\")"
   ]
  },
  {
   "cell_type": "code",
   "execution_count": 14,
   "id": "0989f495",
   "metadata": {},
   "outputs": [
    {
     "name": "stdout",
     "output_type": "stream",
     "text": [
      "enter a number: 10\n",
      "divisible by zero\n"
     ]
    }
   ],
   "source": [
    "n=int(input(\"enter a number: \"))\n",
    "if n%5 ==0:\n",
    "    print(\"divisible by zero\")\n",
    "else:\n",
    "    print(\"not divisible by zero\")"
   ]
  },
  {
   "cell_type": "code",
   "execution_count": 7,
   "id": "68c6d761",
   "metadata": {},
   "outputs": [
    {
     "name": "stdout",
     "output_type": "stream",
     "text": [
      "enter a number: 12\n",
      "not divisible by zero\n"
     ]
    }
   ],
   "source": [
    "n=int(input(\"enter a number: \"))\n",
    "if n%5 ==0:\n",
    "    print(\"divisible by zero\")\n",
    "else:\n",
    "    print(\"not divisible by zero\")"
   ]
  },
  {
   "cell_type": "code",
   "execution_count": 11,
   "id": "44985387",
   "metadata": {},
   "outputs": [],
   "source": [
    "#3)write a python script to check whether a given number is even or odd."
   ]
  },
  {
   "cell_type": "code",
   "execution_count": 1,
   "id": "a3e2a8a5",
   "metadata": {},
   "outputs": [
    {
     "name": "stdout",
     "output_type": "stream",
     "text": [
      "enter a number: 8\n",
      "number is divisible by 2\n"
     ]
    }
   ],
   "source": [
    "print(\"number is not divisible by2\"if int(input(\"enter a number: \"))%2 else \"number is divisible by 2\")"
   ]
  },
  {
   "cell_type": "code",
   "execution_count": 9,
   "id": "43da5add",
   "metadata": {},
   "outputs": [
    {
     "name": "stdout",
     "output_type": "stream",
     "text": [
      "enter a number: 5\n",
      "odd number\n"
     ]
    }
   ],
   "source": [
    "n=int(input(\"enter a number: \"))\n",
    "if n%2==0:\n",
    "    print(\"even number\")\n",
    "else:\n",
    "    print(\"odd number\")"
   ]
  },
  {
   "cell_type": "code",
   "execution_count": 10,
   "id": "91134d77",
   "metadata": {},
   "outputs": [
    {
     "name": "stdout",
     "output_type": "stream",
     "text": [
      "enter a number: 8\n",
      "even number\n"
     ]
    }
   ],
   "source": [
    "n=int(input(\"enter a number: \"))\n",
    "if n%2==0:\n",
    "    print(\"even number\")\n",
    "else:\n",
    "    print(\"odd number\")"
   ]
  },
  {
   "cell_type": "code",
   "execution_count": 12,
   "id": "34ad7f89",
   "metadata": {},
   "outputs": [],
   "source": [
    "#4)write a python script to print greater between two numbers.print number only\n",
    "# once even if the numbers are same."
   ]
  },
  {
   "cell_type": "code",
   "execution_count": 2,
   "id": "b6bd4c11",
   "metadata": {},
   "outputs": [
    {
     "name": "stdout",
     "output_type": "stream",
     "text": [
      "enter two numbers\n",
      "5\n",
      "6\n",
      "6\n"
     ]
    }
   ],
   "source": [
    "print(\"enter two numbers\")\n",
    "a,b=int(input()),int(input())\n",
    "print(a if a>b else b)"
   ]
  },
  {
   "cell_type": "code",
   "execution_count": 3,
   "id": "55dae638",
   "metadata": {},
   "outputs": [
    {
     "name": "stdout",
     "output_type": "stream",
     "text": [
      "enter two numbers\n",
      "10\n",
      "10\n",
      "10\n"
     ]
    }
   ],
   "source": [
    "print(\"enter two numbers\")\n",
    "a,b=int(input()),int(input())\n",
    "print(a if a>b else b)# answer for last line even number are same."
   ]
  },
  {
   "cell_type": "code",
   "execution_count": 4,
   "id": "e0efa92b",
   "metadata": {},
   "outputs": [],
   "source": [
    "#5)write a python script to print two given words in dictionary order."
   ]
  },
  {
   "cell_type": "code",
   "execution_count": 8,
   "id": "469d490f",
   "metadata": {},
   "outputs": [
    {
     "name": "stdout",
     "output_type": "stream",
     "text": [
      "enter two words\n",
      "bhopal\n",
      "ajmer\n",
      "('ajmer', 'bhopal')\n"
     ]
    }
   ],
   "source": [
    "print(\"enter two words\")\n",
    "a,b=input(),input()\n",
    "print((b,a)  if a>b else (a,b))"
   ]
  },
  {
   "cell_type": "code",
   "execution_count": 9,
   "id": "fc1461bc",
   "metadata": {},
   "outputs": [
    {
     "name": "stdout",
     "output_type": "stream",
     "text": [
      "enter two words\n",
      "ajmer\n",
      "bhopal\n",
      "('ajmer', 'bhopal')\n"
     ]
    }
   ],
   "source": [
    "print(\"enter two words\")\n",
    "a,b=input(),input()\n",
    "print((b,a)  if a>b else (a,b))"
   ]
  },
  {
   "cell_type": "code",
   "execution_count": 11,
   "id": "e53fb261",
   "metadata": {},
   "outputs": [
    {
     "name": "stdout",
     "output_type": "stream",
     "text": [
      "enter two words\n",
      "ojha\n",
      "gourav\n",
      "('gourav', 'ojha')\n"
     ]
    }
   ],
   "source": [
    "print(\"enter two words\")\n",
    "a,b=input(),input()\n",
    "print((b,a)  if a>b else (a,b))"
   ]
  },
  {
   "cell_type": "code",
   "execution_count": 1,
   "id": "93af159d",
   "metadata": {},
   "outputs": [],
   "source": [
    "#6)write a python script to check whether a given number is a three digit \n",
    "# number or not."
   ]
  },
  {
   "cell_type": "code",
   "execution_count": 2,
   "id": "3123377a",
   "metadata": {},
   "outputs": [
    {
     "name": "stdout",
     "output_type": "stream",
     "text": [
      "enter a number: 105\n",
      "three digit number\n"
     ]
    }
   ],
   "source": [
    "x=int(input(\"enter a number: \"))\n",
    "if 99<x<1000:\n",
    "    print(\"three digit number\")\n",
    "else:\n",
    "    print(\"not a three digit number\")"
   ]
  },
  {
   "cell_type": "code",
   "execution_count": 3,
   "id": "5c7624fa",
   "metadata": {},
   "outputs": [],
   "source": [
    "#7)write a python a script to check whether a given number is  positive,negative\n",
    "#  or zero."
   ]
  },
  {
   "cell_type": "code",
   "execution_count": 7,
   "id": "780c6754",
   "metadata": {},
   "outputs": [
    {
     "name": "stdout",
     "output_type": "stream",
     "text": [
      "enter a number: 0\n",
      "zero\n"
     ]
    }
   ],
   "source": [
    "x=int(input(\"enter a number: \"))\n",
    "if x>0:\n",
    "    print(\"positive\")\n",
    "elif x<0:\n",
    "    print(\"negative\")\n",
    "else:\n",
    "    print(\"zero\")\n",
    "    \n",
    "    \n",
    "    "
   ]
  },
  {
   "cell_type": "code",
   "execution_count": 6,
   "id": "dd66114a",
   "metadata": {},
   "outputs": [
    {
     "name": "stdout",
     "output_type": "stream",
     "text": [
      "enter a number: -8\n",
      "negative\n"
     ]
    }
   ],
   "source": [
    "x=int(input(\"enter a number: \"))\n",
    "if x>0:\n",
    "    print(\"positive\")\n",
    "elif x==0:\n",
    "    print(\"zero\")\n",
    "else:\n",
    "    print(\"negative\")\n",
    "    "
   ]
  },
  {
   "cell_type": "code",
   "execution_count": 8,
   "id": "ecbcd507",
   "metadata": {},
   "outputs": [],
   "source": [
    "#8)write a python script to check whether a given quadratic equation has two \n",
    "#  real and distinct roots,real and equal roots or imiginary roots.\n",
    "# quadratic equation=ax**2+bx+c"
   ]
  },
  {
   "cell_type": "code",
   "execution_count": 10,
   "id": "089ae0c8",
   "metadata": {},
   "outputs": [
    {
     "name": "stdout",
     "output_type": "stream",
     "text": [
      "enter a value of a: ,value of b: ,value of c: \n",
      "5\n",
      "-4\n",
      "6\n",
      "imiginary roots\n"
     ]
    }
   ],
   "source": [
    "print(\"enter a value of a: ,value of b: ,value of c: \")\n",
    "a,b,c=int(input()),int(input()),int(input())\n",
    "d=b**2-4*a*c\n",
    "if d>0:\n",
    "    print(\"real and two distinct roots\")\n",
    "elif d==0:\n",
    "    print(\"real and equal roots\")\n",
    "else:\n",
    "    print(\"imiginary roots\")"
   ]
  },
  {
   "cell_type": "code",
   "execution_count": 11,
   "id": "ba84c27b",
   "metadata": {},
   "outputs": [],
   "source": [
    "#9)write a python script to check whether a given year is a leap year or not."
   ]
  },
  {
   "cell_type": "code",
   "execution_count": 3,
   "id": "fe858892",
   "metadata": {},
   "outputs": [
    {
     "name": "stdout",
     "output_type": "stream",
     "text": [
      "enter a year\n",
      "2400\n",
      "leap year\n"
     ]
    }
   ],
   "source": [
    "print(\"enter a year\")\n",
    "year=int(input())\n",
    "if year%400==0 or year%100!=0 and year%4==0:\n",
    "    print(\"leap year\")\n",
    "else:\n",
    "    print(\"non leap year\")"
   ]
  },
  {
   "cell_type": "code",
   "execution_count": 5,
   "id": "8ccdc7a6",
   "metadata": {},
   "outputs": [],
   "source": [
    "#10)write a python script to print greater among three numbers.print number\n",
    "#  only once even if the numbers are same."
   ]
  },
  {
   "cell_type": "code",
   "execution_count": 8,
   "id": "9645f4f9",
   "metadata": {},
   "outputs": [
    {
     "name": "stdout",
     "output_type": "stream",
     "text": [
      "enter three number\n",
      "17\n",
      "19\n",
      "24\n",
      "greater number is\n",
      "24\n"
     ]
    }
   ],
   "source": [
    "print(\"enter three number\")\n",
    "a,b,c=int(input()),int(input()),int(input())\n",
    "print(\"greater number is\")\n",
    "print((a if a>c else c)  if a>b else (b if b>c else c))\n"
   ]
  },
  {
   "cell_type": "code",
   "execution_count": 9,
   "id": "c1c6ef2a",
   "metadata": {},
   "outputs": [
    {
     "name": "stdout",
     "output_type": "stream",
     "text": [
      "enter three number\n",
      "29\n",
      "19\n",
      "11\n",
      "greater number is\n",
      "29\n"
     ]
    }
   ],
   "source": [
    "print(\"enter three number\")\n",
    "a,b,c=int(input()),int(input()),int(input())\n",
    "print(\"greater number is\")\n",
    "print((a if a>c else c)  if a>b else (b if b>c else c))\n"
   ]
  },
  {
   "cell_type": "code",
   "execution_count": 10,
   "id": "906d8d18",
   "metadata": {},
   "outputs": [],
   "source": [
    "#11)write a python script to take the month value in numeric format and dislay\n",
    "#  the number of days in it."
   ]
  },
  {
   "cell_type": "code",
   "execution_count": 1,
   "id": "2dce7ac5",
   "metadata": {},
   "outputs": [
    {
     "name": "stdout",
     "output_type": "stream",
     "text": [
      "enter month number: 5\n",
      "31 days\n"
     ]
    }
   ],
   "source": [
    "month=int(input(\"enter month number: \"))\n",
    "if month in(1,3,5,7,8,10,12):\n",
    "    print(\"31 days\")\n",
    "elif month in(4,6,9,11):\n",
    "    print(\"30 days\")\n",
    "elif month==2:\n",
    "    print(\"28 or 29 days\")\n",
    "else:\n",
    "    print(\"invalid number\")"
   ]
  },
  {
   "cell_type": "code",
   "execution_count": 2,
   "id": "a48c7976",
   "metadata": {},
   "outputs": [],
   "source": [
    "#12)write a python script to accept one complex number fromm the user and \n",
    "#  display the greater number between real part and imaginary part."
   ]
  },
  {
   "cell_type": "code",
   "execution_count": 3,
   "id": "6850ec47",
   "metadata": {},
   "outputs": [
    {
     "name": "stdout",
     "output_type": "stream",
     "text": [
      "enter complex number: 3+4j\n",
      "4.0\n"
     ]
    }
   ],
   "source": [
    "x=complex(input(\"enter complex number: \"))\n",
    "print((x.real)  if x.real>x.imag else x.imag)"
   ]
  },
  {
   "cell_type": "code",
   "execution_count": null,
   "id": "8fd60583",
   "metadata": {},
   "outputs": [],
   "source": []
  }
 ],
 "metadata": {
  "kernelspec": {
   "display_name": "Python 3 (ipykernel)",
   "language": "python",
   "name": "python3"
  },
  "language_info": {
   "codemirror_mode": {
    "name": "ipython",
    "version": 3
   },
   "file_extension": ".py",
   "mimetype": "text/x-python",
   "name": "python",
   "nbconvert_exporter": "python",
   "pygments_lexer": "ipython3",
   "version": "3.9.12"
  }
 },
 "nbformat": 4,
 "nbformat_minor": 5
}
