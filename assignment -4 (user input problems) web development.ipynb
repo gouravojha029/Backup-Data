{
 "cells": [
  {
   "cell_type": "code",
   "execution_count": 1,
   "id": "2ee81c6c",
   "metadata": {},
   "outputs": [],
   "source": [
    "#1) write a python script to take your name as input from the user and then \n",
    "#   print it."
   ]
  },
  {
   "cell_type": "code",
   "execution_count": 3,
   "id": "10b129bd",
   "metadata": {},
   "outputs": [
    {
     "name": "stdout",
     "output_type": "stream",
     "text": [
      "enter your name: gourav ojha\n",
      "gourav ojha\n"
     ]
    }
   ],
   "source": [
    "name=input(\"enter your name: \")\n",
    "print(name)"
   ]
  },
  {
   "cell_type": "code",
   "execution_count": 4,
   "id": "24c55796",
   "metadata": {},
   "outputs": [],
   "source": [
    "#2)write a python script to take input from the user.input must be a number."
   ]
  },
  {
   "cell_type": "code",
   "execution_count": 5,
   "id": "51df79e3",
   "metadata": {},
   "outputs": [
    {
     "name": "stdout",
     "output_type": "stream",
     "text": [
      "enter a number56\n",
      "56\n"
     ]
    }
   ],
   "source": [
    "number=int(input(\"enter a number\"))\n",
    "print(number)"
   ]
  },
  {
   "cell_type": "code",
   "execution_count": 6,
   "id": "bbecff35",
   "metadata": {},
   "outputs": [],
   "source": [
    "#3)write a python script which takes two numbers from the user, then calculate\n",
    "#  their sum and display the result."
   ]
  },
  {
   "cell_type": "code",
   "execution_count": 7,
   "id": "d478d34e",
   "metadata": {},
   "outputs": [
    {
     "name": "stdout",
     "output_type": "stream",
     "text": [
      "enter a first number 5\n",
      "enter a second number 6\n",
      "11\n"
     ]
    }
   ],
   "source": [
    "a=int(input(\"enter a first number \"))\n",
    "b=int(input(\"enter a second number \"))\n",
    "c=a+b\n",
    "print(c)"
   ]
  },
  {
   "cell_type": "code",
   "execution_count": 8,
   "id": "cb03f2b9",
   "metadata": {},
   "outputs": [],
   "source": [
    "#4)write a python script which takes the radius from the user and display area\n",
    "#  of a circle. "
   ]
  },
  {
   "cell_type": "code",
   "execution_count": 10,
   "id": "64013a34",
   "metadata": {},
   "outputs": [
    {
     "name": "stdout",
     "output_type": "stream",
     "text": [
      "enter the radius of a circle2.5\n",
      "19.625\n"
     ]
    }
   ],
   "source": [
    "a=eval(input(\"enter the radius of a circle\"))\n",
    "area=3.14*a**2\n",
    "print(area)"
   ]
  },
  {
   "cell_type": "code",
   "execution_count": 11,
   "id": "82f92928",
   "metadata": {},
   "outputs": [
    {
     "name": "stdout",
     "output_type": "stream",
     "text": [
      "enter the radius 2\n",
      "12.56\n"
     ]
    }
   ],
   "source": [
    "PI=3.14\n",
    "radius=float(input(\"enter the radius \"))\n",
    "area_of_circle=PI*radius*radius\n",
    "print(area_of_circle)"
   ]
  },
  {
   "cell_type": "code",
   "execution_count": 12,
   "id": "0771ad18",
   "metadata": {},
   "outputs": [],
   "source": [
    "#5)write a python script to calculate the square of a number.number is entered \n",
    "#  by the user."
   ]
  },
  {
   "cell_type": "code",
   "execution_count": 14,
   "id": "1657b163",
   "metadata": {},
   "outputs": [
    {
     "name": "stdout",
     "output_type": "stream",
     "text": [
      "enter the number: 5\n",
      "25.0\n"
     ]
    }
   ],
   "source": [
    "number=float(input(\"enter the number: \"))\n",
    "print(number**2)"
   ]
  },
  {
   "cell_type": "code",
   "execution_count": 16,
   "id": "1593380f",
   "metadata": {},
   "outputs": [],
   "source": [
    "#6)write a python script to calculate the area of triangle.number is entered \n",
    "#  by the  the user."
   ]
  },
  {
   "cell_type": "code",
   "execution_count": 18,
   "id": "5db005ed",
   "metadata": {},
   "outputs": [
    {
     "name": "stdout",
     "output_type": "stream",
     "text": [
      "enter a length of base: 4\n",
      "enter a length of height8\n",
      "area of triangle\n",
      "16.0\n"
     ]
    }
   ],
   "source": [
    "HALF=0.5\n",
    "base=float(input(\"enter a length of base: \"))\n",
    "height=float(input(\"enter a length of height\"))\n",
    "# operation\n",
    "# formula=HALF*base*height\n",
    "area_of_triangle=HALF*base*height\n",
    "print(\"area of triangle\")\n",
    "print(area_of_triangle)"
   ]
  },
  {
   "cell_type": "code",
   "execution_count": 19,
   "id": "4fdd6d65",
   "metadata": {},
   "outputs": [],
   "source": [
    "#7) write a python script to calculate average of three numbers,entered by the\n",
    "#   user."
   ]
  },
  {
   "cell_type": "code",
   "execution_count": 2,
   "id": "78945237",
   "metadata": {},
   "outputs": [
    {
     "name": "stdout",
     "output_type": "stream",
     "text": [
      "entered a first number: 4\n",
      "entred a second number: 6\n",
      "entered a third number: 8\n",
      "average of three numbers\n",
      "6.0\n"
     ]
    }
   ],
   "source": [
    "number1=float(input(\"entered a first number: \"))\n",
    "number2=float(input(\"entred a second number: \"))\n",
    "number3=float(input(\"entered a third number: \"))\n",
    "#operation\n",
    "#formula= number1+number2+number3/2\n",
    "average_of_number=(number1+number2+number3)/3\n",
    "print(\"average of three numbers\",average_of_number,sep='\\n')"
   ]
  },
  {
   "cell_type": "code",
   "execution_count": 3,
   "id": "18206404",
   "metadata": {},
   "outputs": [],
   "source": [
    "#8) write a python script to calculate simple interest."
   ]
  },
  {
   "cell_type": "code",
   "execution_count": 4,
   "id": "6aa4fb84",
   "metadata": {},
   "outputs": [
    {
     "name": "stdout",
     "output_type": "stream",
     "text": [
      "entered a principal amount: 120\n",
      "entered a rate5\n",
      "entered a time2\n",
      "simple interest\n",
      "12.0\n"
     ]
    }
   ],
   "source": [
    "P=float(input(\"entered a principal amount: \"))\n",
    "R=float(input(\"entered a rate\"))\n",
    "T=float(input(\"entered a time\"))\n",
    "#operation\n",
    "#formula=(P*R*t)/100\n",
    "simple_interest=(P*R*T)/100\n",
    "print(\"simple interest\",simple_interest,sep='\\n')"
   ]
  },
  {
   "cell_type": "code",
   "execution_count": 5,
   "id": "d5557dae",
   "metadata": {},
   "outputs": [],
   "source": [
    "#9)write a python script to calculate the volume of a cuboid."
   ]
  },
  {
   "cell_type": "code",
   "execution_count": 6,
   "id": "968c333e",
   "metadata": {},
   "outputs": [
    {
     "name": "stdout",
     "output_type": "stream",
     "text": [
      "entered the length: 4\n",
      "entered the breadth: 3\n",
      "entered the height5\n",
      "volume of cuboid\n",
      "60.0\n"
     ]
    }
   ],
   "source": [
    "length=float(input(\"entered the length: \"))\n",
    "breadth=float(input(\"entered the breadth: \"))\n",
    "height=float(input(\"entered the height\"))\n",
    "#operation\n",
    "#formula=length*breadth*height\n",
    "volume_of_cuboid=length*breadth*height\n",
    "print(\"volume of cuboid\",volume_of_cuboid,sep='\\n')"
   ]
  },
  {
   "cell_type": "code",
   "execution_count": 7,
   "id": "45f20e14",
   "metadata": {},
   "outputs": [],
   "source": [
    "#10)write a python a script to calculate area of a rectangle."
   ]
  },
  {
   "cell_type": "code",
   "execution_count": 8,
   "id": "f74e8a4a",
   "metadata": {},
   "outputs": [
    {
     "name": "stdout",
     "output_type": "stream",
     "text": [
      "entred a length: 4\n",
      "entered a breadth5\n",
      "area of rectangle 20.0\n"
     ]
    }
   ],
   "source": [
    "length=float(input(\"entred a length: \"))\n",
    "breadth=float(input(\"entered a breadth\"))\n",
    "#operation\n",
    "#formula=length*breadth\n",
    "area_of_rectangle=length*breadth\n",
    "print(\"area of rectangle\",area_of_rectangle,sep='\\n')"
   ]
  },
  {
   "cell_type": "code",
   "execution_count": 1,
   "id": "b9ddda86",
   "metadata": {},
   "outputs": [],
   "source": [
    "#additional ques- to find the average of number for n numbers.\n"
   ]
  },
  {
   "cell_type": "code",
   "execution_count": 2,
   "id": "f364567f",
   "metadata": {},
   "outputs": [
    {
     "name": "stdout",
     "output_type": "stream",
     "text": [
      "enter the total number you want to  enter: 4\n",
      "enter the number: 4\n",
      "enter the number: 6\n",
      "enter the number: 8\n",
      "enter the number: 10\n",
      "average of number\n",
      "7.0\n"
     ]
    }
   ],
   "source": [
    "n=int(input(\"enter the total number you want to  enter: \"))\n",
    "sum=0\n",
    "for i in range(n):\n",
    "    x=int(input(\"enter the number: \"))\n",
    "    sum=sum+x\n",
    "average_of_number=sum/n\n",
    "print(\"average of number\",average_of_number,sep='\\n')\n",
    "    "
   ]
  },
  {
   "cell_type": "code",
   "execution_count": null,
   "id": "9b439a10",
   "metadata": {},
   "outputs": [],
   "source": []
  }
 ],
 "metadata": {
  "kernelspec": {
   "display_name": "Python 3 (ipykernel)",
   "language": "python",
   "name": "python3"
  },
  "language_info": {
   "codemirror_mode": {
    "name": "ipython",
    "version": 3
   },
   "file_extension": ".py",
   "mimetype": "text/x-python",
   "name": "python",
   "nbconvert_exporter": "python",
   "pygments_lexer": "ipython3",
   "version": "3.9.12"
  }
 },
 "nbformat": 4,
 "nbformat_minor": 5
}
