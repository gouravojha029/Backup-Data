{
 "cells": [
  {
   "cell_type": "code",
   "execution_count": 1,
   "id": "41e168cb",
   "metadata": {},
   "outputs": [],
   "source": [
    "def test(a,b):\n",
    "    return a+b"
   ]
  },
  {
   "cell_type": "code",
   "execution_count": 2,
   "id": "5c9f2424",
   "metadata": {},
   "outputs": [
    {
     "data": {
      "text/plain": [
       "10"
      ]
     },
     "execution_count": 2,
     "metadata": {},
     "output_type": "execute_result"
    }
   ],
   "source": [
    "test(4,6)"
   ]
  },
  {
   "cell_type": "code",
   "execution_count": 4,
   "id": "965dd2dc",
   "metadata": {},
   "outputs": [
    {
     "data": {
      "text/plain": [
       "'sudh kumar'"
      ]
     },
     "execution_count": 4,
     "metadata": {},
     "output_type": "execute_result"
    }
   ],
   "source": [
    "test(\"sudh\",\" kumar\")"
   ]
  },
  {
   "cell_type": "code",
   "execution_count": 5,
   "id": "d1446a8a",
   "metadata": {},
   "outputs": [
    {
     "data": {
      "text/plain": [
       "15"
      ]
     },
     "execution_count": 5,
     "metadata": {},
     "output_type": "execute_result"
    }
   ],
   "source": [
    "test(a=9,b=6)"
   ]
  },
  {
   "cell_type": "code",
   "execution_count": 6,
   "id": "a6bb2767",
   "metadata": {},
   "outputs": [
    {
     "data": {
      "text/plain": [
       "48"
      ]
     },
     "execution_count": 6,
     "metadata": {},
     "output_type": "execute_result"
    }
   ],
   "source": [
    "test(b=45,a=3)"
   ]
  },
  {
   "cell_type": "code",
   "execution_count": 7,
   "id": "3077b9af",
   "metadata": {},
   "outputs": [
    {
     "name": "stdout",
     "output_type": "stream",
     "text": [
      "\n"
     ]
    }
   ],
   "source": [
    "print()"
   ]
  },
  {
   "cell_type": "code",
   "execution_count": 8,
   "id": "15200ffd",
   "metadata": {},
   "outputs": [],
   "source": [
    "def test(a,b):\n",
    "    '''this is my function for concatination or addition'''\n",
    "    return a+b\n",
    "    "
   ]
  },
  {
   "cell_type": "code",
   "execution_count": 10,
   "id": "866e3cca",
   "metadata": {},
   "outputs": [
    {
     "ename": "SyntaxError",
     "evalue": "invalid syntax (329953679.py, line 1)",
     "output_type": "error",
     "traceback": [
      "\u001b[1;36m  Input \u001b[1;32mIn [10]\u001b[1;36m\u001b[0m\n\u001b[1;33m    test(a,b):\u001b[0m\n\u001b[1;37m              ^\u001b[0m\n\u001b[1;31mSyntaxError\u001b[0m\u001b[1;31m:\u001b[0m invalid syntax\n"
     ]
    }
   ],
   "source": [
    "test(a,b)\n",
    "    pass"
   ]
  },
  {
   "cell_type": "code",
   "execution_count": 11,
   "id": "24d416cc",
   "metadata": {},
   "outputs": [],
   "source": [
    "def test1(a,b,c,d,e):\n",
    "    return a,b,c,d,e"
   ]
  },
  {
   "cell_type": "code",
   "execution_count": 12,
   "id": "8e84b4fc",
   "metadata": {},
   "outputs": [
    {
     "ename": "TypeError",
     "evalue": "test1() takes 5 positional arguments but 6 were given",
     "output_type": "error",
     "traceback": [
      "\u001b[1;31m---------------------------------------------------------------------------\u001b[0m",
      "\u001b[1;31mTypeError\u001b[0m                                 Traceback (most recent call last)",
      "Input \u001b[1;32mIn [12]\u001b[0m, in \u001b[0;36m<cell line: 1>\u001b[1;34m()\u001b[0m\n\u001b[1;32m----> 1\u001b[0m \u001b[43mtest1\u001b[49m\u001b[43m(\u001b[49m\u001b[38;5;241;43m3\u001b[39;49m\u001b[43m,\u001b[49m\u001b[38;5;241;43m4\u001b[39;49m\u001b[43m,\u001b[49m\u001b[38;5;241;43m5\u001b[39;49m\u001b[43m,\u001b[49m\u001b[38;5;241;43m6\u001b[39;49m\u001b[43m,\u001b[49m\u001b[38;5;241;43m7\u001b[39;49m\u001b[43m,\u001b[49m\u001b[38;5;241;43m8\u001b[39;49m\u001b[43m)\u001b[49m\n",
      "\u001b[1;31mTypeError\u001b[0m: test1() takes 5 positional arguments but 6 were given"
     ]
    }
   ],
   "source": [
    "test1(3,4,5,6,7,8)"
   ]
  },
  {
   "cell_type": "code",
   "execution_count": 13,
   "id": "d639c448",
   "metadata": {},
   "outputs": [
    {
     "data": {
      "text/plain": [
       "(3, 4, 5, 6, 7)"
      ]
     },
     "execution_count": 13,
     "metadata": {},
     "output_type": "execute_result"
    }
   ],
   "source": [
    "test1(3,4,5,6,7)"
   ]
  },
  {
   "cell_type": "code",
   "execution_count": 14,
   "id": "223ec1e9",
   "metadata": {},
   "outputs": [
    {
     "ename": "TypeError",
     "evalue": "test1() missing 1 required positional argument: 'e'",
     "output_type": "error",
     "traceback": [
      "\u001b[1;31m---------------------------------------------------------------------------\u001b[0m",
      "\u001b[1;31mTypeError\u001b[0m                                 Traceback (most recent call last)",
      "Input \u001b[1;32mIn [14]\u001b[0m, in \u001b[0;36m<cell line: 1>\u001b[1;34m()\u001b[0m\n\u001b[1;32m----> 1\u001b[0m \u001b[43mtest1\u001b[49m\u001b[43m(\u001b[49m\u001b[38;5;241;43m3\u001b[39;49m\u001b[43m,\u001b[49m\u001b[38;5;241;43m4\u001b[39;49m\u001b[43m,\u001b[49m\u001b[38;5;241;43m5\u001b[39;49m\u001b[43m,\u001b[49m\u001b[38;5;241;43m6\u001b[39;49m\u001b[43m)\u001b[49m\n",
      "\u001b[1;31mTypeError\u001b[0m: test1() missing 1 required positional argument: 'e'"
     ]
    }
   ],
   "source": [
    "test1(3,4,5,6)"
   ]
  },
  {
   "cell_type": "code",
   "execution_count": 15,
   "id": "d56a4c87",
   "metadata": {},
   "outputs": [],
   "source": [
    "def test(*a):\n",
    "    return a"
   ]
  },
  {
   "cell_type": "code",
   "execution_count": 16,
   "id": "470377c0",
   "metadata": {},
   "outputs": [
    {
     "data": {
      "text/plain": [
       "(4, 5)"
      ]
     },
     "execution_count": 16,
     "metadata": {},
     "output_type": "execute_result"
    }
   ],
   "source": [
    "test(4,5)"
   ]
  },
  {
   "cell_type": "code",
   "execution_count": 17,
   "id": "ce92a4a4",
   "metadata": {},
   "outputs": [
    {
     "data": {
      "text/plain": [
       "(23, 4, 5, 6, 7, 8)"
      ]
     },
     "execution_count": 17,
     "metadata": {},
     "output_type": "execute_result"
    }
   ],
   "source": [
    "test(23,4,5,6,7,8)"
   ]
  },
  {
   "cell_type": "code",
   "execution_count": 18,
   "id": "ee995e05",
   "metadata": {},
   "outputs": [
    {
     "data": {
      "text/plain": [
       "(1, 2, 3, 4, 5, 6, [3, 4, 5, 5, 9])"
      ]
     },
     "execution_count": 18,
     "metadata": {},
     "output_type": "execute_result"
    }
   ],
   "source": [
    "test(1,2,3,4,5,6,[3,4,5,5,9])"
   ]
  },
  {
   "cell_type": "code",
   "execution_count": 19,
   "id": "4ceef036",
   "metadata": {},
   "outputs": [],
   "source": [
    "def test4(*args):\n",
    "    return args"
   ]
  },
  {
   "cell_type": "code",
   "execution_count": 20,
   "id": "c02ad4ea",
   "metadata": {},
   "outputs": [
    {
     "data": {
      "text/plain": [
       "(34, 45, 5, 56)"
      ]
     },
     "execution_count": 20,
     "metadata": {},
     "output_type": "execute_result"
    }
   ],
   "source": [
    "test4(34,45,5,56)"
   ]
  },
  {
   "cell_type": "code",
   "execution_count": 21,
   "id": "da1ef5e8",
   "metadata": {},
   "outputs": [],
   "source": [
    "def test4(*a):\n",
    "    l=[]\n",
    "    for i in a:\n",
    "        l.append(i)\n",
    "    return l"
   ]
  },
  {
   "cell_type": "code",
   "execution_count": 22,
   "id": "92e2cfda",
   "metadata": {},
   "outputs": [
    {
     "data": {
      "text/plain": [
       "[2, 3, 4, 45, 5, [345, 56, 5, 6]]"
      ]
     },
     "execution_count": 22,
     "metadata": {},
     "output_type": "execute_result"
    }
   ],
   "source": [
    "test4(2,3,4,45,5,[345,56,5,6])"
   ]
  },
  {
   "cell_type": "code",
   "execution_count": 23,
   "id": "a339b40e",
   "metadata": {},
   "outputs": [
    {
     "data": {
      "text/plain": [
       "[3, 4, 5, 65]"
      ]
     },
     "execution_count": 23,
     "metadata": {},
     "output_type": "execute_result"
    }
   ],
   "source": [
    "test4(3,4,5,65)   "
   ]
  },
  {
   "cell_type": "code",
   "execution_count": 1,
   "id": "99f6b734",
   "metadata": {},
   "outputs": [],
   "source": [
    "# in the above i wanted data in the list"
   ]
  },
  {
   "cell_type": "code",
   "execution_count": 2,
   "id": "d21244d7",
   "metadata": {},
   "outputs": [],
   "source": [
    "def test(*a):\n",
    "    l=()\n",
    "    for i in a:\n",
    "        l.append(i)\n",
    "    return l"
   ]
  },
  {
   "cell_type": "code",
   "execution_count": 4,
   "id": "38390548",
   "metadata": {},
   "outputs": [
    {
     "ename": "AttributeError",
     "evalue": "'tuple' object has no attribute 'append'",
     "output_type": "error",
     "traceback": [
      "\u001b[1;31m---------------------------------------------------------------------------\u001b[0m",
      "\u001b[1;31mAttributeError\u001b[0m                            Traceback (most recent call last)",
      "Input \u001b[1;32mIn [4]\u001b[0m, in \u001b[0;36m<cell line: 1>\u001b[1;34m()\u001b[0m\n\u001b[1;32m----> 1\u001b[0m \u001b[43mtest\u001b[49m\u001b[43m(\u001b[49m\u001b[38;5;241;43m2\u001b[39;49m\u001b[43m,\u001b[49m\u001b[38;5;241;43m3\u001b[39;49m\u001b[43m,\u001b[49m\u001b[38;5;241;43m4\u001b[39;49m\u001b[43m,\u001b[49m\u001b[43m[\u001b[49m\u001b[38;5;241;43m5\u001b[39;49m\u001b[43m,\u001b[49m\u001b[38;5;241;43m6\u001b[39;49m\u001b[43m,\u001b[49m\u001b[38;5;241;43m7\u001b[39;49m\u001b[43m]\u001b[49m\u001b[43m)\u001b[49m\n",
      "Input \u001b[1;32mIn [2]\u001b[0m, in \u001b[0;36mtest\u001b[1;34m(*a)\u001b[0m\n\u001b[0;32m      2\u001b[0m l\u001b[38;5;241m=\u001b[39m()\n\u001b[0;32m      3\u001b[0m \u001b[38;5;28;01mfor\u001b[39;00m i \u001b[38;5;129;01min\u001b[39;00m a:\n\u001b[1;32m----> 4\u001b[0m     \u001b[43ml\u001b[49m\u001b[38;5;241;43m.\u001b[39;49m\u001b[43mappend\u001b[49m(i)\n\u001b[0;32m      5\u001b[0m \u001b[38;5;28;01mreturn\u001b[39;00m l\n",
      "\u001b[1;31mAttributeError\u001b[0m: 'tuple' object has no attribute 'append'"
     ]
    }
   ],
   "source": [
    "test(2,3,4,[5,6,7])   # i cannot perform this append function with tuple"
   ]
  },
  {
   "cell_type": "code",
   "execution_count": 5,
   "id": "26b1a22c",
   "metadata": {},
   "outputs": [],
   "source": [
    "def test1(a,b,c,d,*m):\n",
    "    return a,b,c,d,m"
   ]
  },
  {
   "cell_type": "code",
   "execution_count": 6,
   "id": "e91a1932",
   "metadata": {},
   "outputs": [
    {
     "data": {
      "text/plain": [
       "(1, 2, 3, 4, (45, 67, 87, 99))"
      ]
     },
     "execution_count": 6,
     "metadata": {},
     "output_type": "execute_result"
    }
   ],
   "source": [
    "test1(1,2,3,4,45,67,87,99,)"
   ]
  },
  {
   "cell_type": "code",
   "execution_count": 7,
   "id": "57ca4233",
   "metadata": {},
   "outputs": [],
   "source": [
    "def test2(*m,a,b,c,d):\n",
    "    return m,a,b,c,d"
   ]
  },
  {
   "cell_type": "code",
   "execution_count": 8,
   "id": "069263c9",
   "metadata": {},
   "outputs": [
    {
     "ename": "TypeError",
     "evalue": "test2() missing 4 required keyword-only arguments: 'a', 'b', 'c', and 'd'",
     "output_type": "error",
     "traceback": [
      "\u001b[1;31m---------------------------------------------------------------------------\u001b[0m",
      "\u001b[1;31mTypeError\u001b[0m                                 Traceback (most recent call last)",
      "Input \u001b[1;32mIn [8]\u001b[0m, in \u001b[0;36m<cell line: 1>\u001b[1;34m()\u001b[0m\n\u001b[1;32m----> 1\u001b[0m \u001b[43mtest2\u001b[49m\u001b[43m(\u001b[49m\u001b[38;5;241;43m2\u001b[39;49m\u001b[43m,\u001b[49m\u001b[38;5;241;43m45\u001b[39;49m\u001b[43m,\u001b[49m\u001b[38;5;241;43m6\u001b[39;49m\u001b[43m,\u001b[49m\u001b[38;5;241;43m7\u001b[39;49m\u001b[43m,\u001b[49m\u001b[38;5;241;43m89\u001b[39;49m\u001b[43m,\u001b[49m\u001b[38;5;241;43m65\u001b[39;49m\u001b[43m,\u001b[49m\u001b[38;5;241;43m43\u001b[39;49m\u001b[43m,\u001b[49m\u001b[38;5;241;43m4\u001b[39;49m\u001b[43m)\u001b[49m\n",
      "\u001b[1;31mTypeError\u001b[0m: test2() missing 4 required keyword-only arguments: 'a', 'b', 'c', and 'd'"
     ]
    }
   ],
   "source": [
    "test2(2,45,6,7,89,65,43,4)"
   ]
  },
  {
   "cell_type": "code",
   "execution_count": 9,
   "id": "368ca8e9",
   "metadata": {},
   "outputs": [
    {
     "data": {
      "text/plain": [
       "((2, 45, 6, 7), 89, 65, 43, 4)"
      ]
     },
     "execution_count": 9,
     "metadata": {},
     "output_type": "execute_result"
    }
   ],
   "source": [
    "test2(2,45,6,7,a=89,b=65,c=43,d=4)"
   ]
  },
  {
   "cell_type": "code",
   "execution_count": 10,
   "id": "d3015629",
   "metadata": {},
   "outputs": [],
   "source": [
    "def test3(**sudh):\n",
    "    return sudh"
   ]
  },
  {
   "cell_type": "code",
   "execution_count": 11,
   "id": "a472c012",
   "metadata": {},
   "outputs": [
    {
     "ename": "TypeError",
     "evalue": "test3() takes 0 positional arguments but 3 were given",
     "output_type": "error",
     "traceback": [
      "\u001b[1;31m---------------------------------------------------------------------------\u001b[0m",
      "\u001b[1;31mTypeError\u001b[0m                                 Traceback (most recent call last)",
      "Input \u001b[1;32mIn [11]\u001b[0m, in \u001b[0;36m<cell line: 1>\u001b[1;34m()\u001b[0m\n\u001b[1;32m----> 1\u001b[0m \u001b[43mtest3\u001b[49m\u001b[43m(\u001b[49m\u001b[38;5;241;43m3\u001b[39;49m\u001b[43m,\u001b[49m\u001b[38;5;241;43m4\u001b[39;49m\u001b[43m,\u001b[49m\u001b[38;5;241;43m5\u001b[39;49m\u001b[43m)\u001b[49m\n",
      "\u001b[1;31mTypeError\u001b[0m: test3() takes 0 positional arguments but 3 were given"
     ]
    }
   ],
   "source": [
    "test3(3,4,5)"
   ]
  },
  {
   "cell_type": "code",
   "execution_count": 12,
   "id": "6dd10fc0",
   "metadata": {},
   "outputs": [],
   "source": [
    "def test3(**s):\n",
    "    return s"
   ]
  },
  {
   "cell_type": "code",
   "execution_count": 14,
   "id": "022ecc42",
   "metadata": {},
   "outputs": [
    {
     "data": {
      "text/plain": [
       "{'a': 2, 'b': 4, 'c': 5, 'd': 7}"
      ]
     },
     "execution_count": 14,
     "metadata": {},
     "output_type": "execute_result"
    }
   ],
   "source": [
    "test3(a=2,b=4,c=5,d=7)  # so double asteric means it is expecting key value type \n",
    "                         # data or dict type data"
   ]
  },
  {
   "cell_type": "code",
   "execution_count": 15,
   "id": "665aa98a",
   "metadata": {},
   "outputs": [],
   "source": [
    "def test4(*n,**s):\n",
    "    return n,s"
   ]
  },
  {
   "cell_type": "code",
   "execution_count": 17,
   "id": "f4228e60",
   "metadata": {},
   "outputs": [
    {
     "data": {
      "text/plain": [
       "((2, 3, 4, 5, 667, 78), {'a': 29, 'b': 95, 'c': 67, 'd': 55})"
      ]
     },
     "execution_count": 17,
     "metadata": {},
     "output_type": "execute_result"
    }
   ],
   "source": [
    "test4(2,3,4,5,667,78,a=29,b=95,c=67,d=55)"
   ]
  },
  {
   "cell_type": "code",
   "execution_count": 18,
   "id": "478e3b1a",
   "metadata": {},
   "outputs": [],
   "source": [
    "def ojha(*a):\n",
    "    l=[]\n",
    "    for i in a:\n",
    "        l.append(i)\n",
    "    return l"
   ]
  },
  {
   "cell_type": "code",
   "execution_count": 20,
   "id": "ab177e31",
   "metadata": {},
   "outputs": [
    {
     "data": {
      "text/plain": [
       "['ojha', 'sudh', 'shukla', 2, 3, 4]"
      ]
     },
     "execution_count": 20,
     "metadata": {},
     "output_type": "execute_result"
    }
   ],
   "source": [
    "ojha(\"ojha\",\"sudh\",\"shukla\",2,3,4)  # so to get a list while using return function \n",
    "                                    # we have to use append funct"
   ]
  },
  {
   "cell_type": "code",
   "execution_count": 21,
   "id": "48e512cf",
   "metadata": {},
   "outputs": [],
   "source": [
    "# now i want to create a function for addition"
   ]
  },
  {
   "cell_type": "code",
   "execution_count": 31,
   "id": "8eb0ef21",
   "metadata": {},
   "outputs": [],
   "source": [
    "def test6(*m):\n",
    "    a=0\n",
    "    for i in m:\n",
    "        if type(i)==int:\n",
    "            a+=1   # it should be i not 1\n",
    "    return a"
   ]
  },
  {
   "cell_type": "code",
   "execution_count": 23,
   "id": "3b6c5079",
   "metadata": {},
   "outputs": [
    {
     "data": {
      "text/plain": [
       "3"
      ]
     },
     "execution_count": 23,
     "metadata": {},
     "output_type": "execute_result"
    }
   ],
   "source": [
    "test6(2,3,4)"
   ]
  },
  {
   "cell_type": "code",
   "execution_count": 24,
   "id": "b6d45562",
   "metadata": {},
   "outputs": [],
   "source": [
    "def test10(*m):\n",
    "    n=0\n",
    "    for i in m:\n",
    "        if type(i)==int:\n",
    "            n=n+1\n",
    "    return n"
   ]
  },
  {
   "cell_type": "code",
   "execution_count": 25,
   "id": "744e6fe8",
   "metadata": {},
   "outputs": [
    {
     "data": {
      "text/plain": [
       "3"
      ]
     },
     "execution_count": 25,
     "metadata": {},
     "output_type": "execute_result"
    }
   ],
   "source": [
    "test10(2,3,4)"
   ]
  },
  {
   "cell_type": "code",
   "execution_count": 26,
   "id": "12719518",
   "metadata": {},
   "outputs": [],
   "source": [
    "def nice(*b):\n",
    "    a= 0\n",
    "    l=[]\n",
    "    for i in b:\n",
    "        if type == int:\n",
    "            l.append(i)\n",
    "        a=a+1\n",
    "    return a"
   ]
  },
  {
   "cell_type": "code",
   "execution_count": 27,
   "id": "c6f4a04d",
   "metadata": {},
   "outputs": [
    {
     "data": {
      "text/plain": [
       "3"
      ]
     },
     "execution_count": 27,
     "metadata": {},
     "output_type": "execute_result"
    }
   ],
   "source": [
    "nice(4,5,6)"
   ]
  },
  {
   "cell_type": "code",
   "execution_count": 13,
   "id": "735f91b0",
   "metadata": {},
   "outputs": [],
   "source": [
    "def nice(*b):\n",
    "    a= 0\n",
    "    l=[]\n",
    "    for i in b:\n",
    "        if type == int:\n",
    "            l.append(i)\n",
    "        a=a+1\n",
    "    return a"
   ]
  },
  {
   "cell_type": "code",
   "execution_count": 14,
   "id": "e90bf828",
   "metadata": {},
   "outputs": [
    {
     "data": {
      "text/plain": [
       "2"
      ]
     },
     "execution_count": 14,
     "metadata": {},
     "output_type": "execute_result"
    }
   ],
   "source": [
    "nice(4,5)\n"
   ]
  },
  {
   "cell_type": "code",
   "execution_count": 10,
   "id": "d33e7e4b",
   "metadata": {},
   "outputs": [],
   "source": [
    "def test(*v):\n",
    "    a=1\n",
    "    l=[]\n",
    "    for i in v:\n",
    "        if type(i)==int:\n",
    "            l.append(i)\n",
    "        a=a*i\n",
    "    return a"
   ]
  },
  {
   "cell_type": "code",
   "execution_count": 4,
   "id": "a7cebe1e",
   "metadata": {},
   "outputs": [
    {
     "data": {
      "text/plain": [
       "20"
      ]
     },
     "execution_count": 4,
     "metadata": {},
     "output_type": "execute_result"
    }
   ],
   "source": [
    "test(4,5)"
   ]
  },
  {
   "cell_type": "code",
   "execution_count": 5,
   "id": "521d0338",
   "metadata": {},
   "outputs": [
    {
     "data": {
      "text/plain": [
       "120"
      ]
     },
     "execution_count": 5,
     "metadata": {},
     "output_type": "execute_result"
    }
   ],
   "source": [
    "test(5,6,4)"
   ]
  },
  {
   "cell_type": "code",
   "execution_count": 7,
   "id": "be5391a1",
   "metadata": {},
   "outputs": [
    {
     "data": {
      "text/plain": [
       "10.0"
      ]
     },
     "execution_count": 7,
     "metadata": {},
     "output_type": "execute_result"
    }
   ],
   "source": [
    "test(2.5,4)"
   ]
  },
  {
   "cell_type": "code",
   "execution_count": 8,
   "id": "209ce140",
   "metadata": {},
   "outputs": [],
   "source": [
    "def test(*v):\n",
    "    a=0\n",
    "    l=[]\n",
    "    for i in v:\n",
    "        if type(i)==int:\n",
    "            l.append(i)\n",
    "            a=a+i\n",
    "    return a"
   ]
  },
  {
   "cell_type": "code",
   "execution_count": 9,
   "id": "935ba4e3",
   "metadata": {},
   "outputs": [
    {
     "data": {
      "text/plain": [
       "9"
      ]
     },
     "execution_count": 9,
     "metadata": {},
     "output_type": "execute_result"
    }
   ],
   "source": [
    "test(2,3,4)"
   ]
  },
  {
   "cell_type": "code",
   "execution_count": 15,
   "id": "384b3ffd",
   "metadata": {},
   "outputs": [
    {
     "data": {
      "text/plain": [
       "120"
      ]
     },
     "execution_count": 15,
     "metadata": {},
     "output_type": "execute_result"
    }
   ],
   "source": [
    "test(4,5,6)"
   ]
  },
  {
   "cell_type": "code",
   "execution_count": 16,
   "id": "264ea669",
   "metadata": {},
   "outputs": [],
   "source": [
    "def test8(*v):\n",
    "    a=0\n",
    "    l=[]\n",
    "    for i in v:\n",
    "        if type(i)==int:\n",
    "            l.append(i)\n",
    "            a=a+i\n",
    "    return a"
   ]
  },
  {
   "cell_type": "code",
   "execution_count": 17,
   "id": "d1ad2475",
   "metadata": {},
   "outputs": [
    {
     "data": {
      "text/plain": [
       "10"
      ]
     },
     "execution_count": 17,
     "metadata": {},
     "output_type": "execute_result"
    }
   ],
   "source": [
    "test8(2,3,5)"
   ]
  },
  {
   "cell_type": "code",
   "execution_count": 20,
   "id": "3e66f657",
   "metadata": {},
   "outputs": [],
   "source": [
    "def nice(*b):\n",
    "    a= 0\n",
    "    l=[]\n",
    "    for i in b:\n",
    "        if type(i) == int:\n",
    "            l.append(i)\n",
    "            a=a+1\n",
    "    return a"
   ]
  },
  {
   "cell_type": "code",
   "execution_count": 21,
   "id": "78535427",
   "metadata": {},
   "outputs": [
    {
     "data": {
      "text/plain": [
       "3"
      ]
     },
     "execution_count": 21,
     "metadata": {},
     "output_type": "execute_result"
    }
   ],
   "source": [
    "nice(2,3,5)"
   ]
  },
  {
   "cell_type": "code",
   "execution_count": 28,
   "id": "6b4894f7",
   "metadata": {},
   "outputs": [],
   "source": [
    "def test6(*v):\n",
    "    a=0\n",
    "    l=[]\n",
    "    for i in v:\n",
    "        if type(i)==int:\n",
    "            l.append(i)\n",
    "            a=a+1        # look what u have written 1 it should be i\n",
    "    return a"
   ]
  },
  {
   "cell_type": "code",
   "execution_count": 23,
   "id": "f378e828",
   "metadata": {},
   "outputs": [
    {
     "data": {
      "text/plain": [
       "3"
      ]
     },
     "execution_count": 23,
     "metadata": {},
     "output_type": "execute_result"
    }
   ],
   "source": [
    "test6(2,3,4)"
   ]
  },
  {
   "cell_type": "code",
   "execution_count": 24,
   "id": "d0dc10a1",
   "metadata": {},
   "outputs": [],
   "source": [
    "def test8(*v):\n",
    "    a=0\n",
    "    l=[]\n",
    "    for i in v:\n",
    "        if type(i)==int:\n",
    "            l.append(i)\n",
    "            a=a+i\n",
    "    return a"
   ]
  },
  {
   "cell_type": "code",
   "execution_count": 25,
   "id": "d944ce71",
   "metadata": {},
   "outputs": [
    {
     "data": {
      "text/plain": [
       "9"
      ]
     },
     "execution_count": 25,
     "metadata": {},
     "output_type": "execute_result"
    }
   ],
   "source": [
    "test8(2,3,4)"
   ]
  },
  {
   "cell_type": "code",
   "execution_count": 26,
   "id": "98e133e8",
   "metadata": {},
   "outputs": [
    {
     "data": {
      "text/plain": [
       "19"
      ]
     },
     "execution_count": 26,
     "metadata": {},
     "output_type": "execute_result"
    }
   ],
   "source": [
    "test8(6,6,7)"
   ]
  },
  {
   "cell_type": "code",
   "execution_count": 27,
   "id": "2d19d044",
   "metadata": {},
   "outputs": [
    {
     "data": {
      "text/plain": [
       "3"
      ]
     },
     "execution_count": 27,
     "metadata": {},
     "output_type": "execute_result"
    }
   ],
   "source": [
    "test6(6,6,7)"
   ]
  },
  {
   "cell_type": "code",
   "execution_count": 29,
   "id": "05c78503",
   "metadata": {},
   "outputs": [],
   "source": [
    "def test6(*m):\n",
    "    a=0\n",
    "    for i in m:\n",
    "        if type(i)==int:\n",
    "            a+=i\n",
    "    return a"
   ]
  },
  {
   "cell_type": "code",
   "execution_count": 30,
   "id": "4e6436b9",
   "metadata": {},
   "outputs": [
    {
     "data": {
      "text/plain": [
       "19"
      ]
     },
     "execution_count": 30,
     "metadata": {},
     "output_type": "execute_result"
    }
   ],
   "source": [
    "test6(5,6,8)"
   ]
  },
  {
   "cell_type": "code",
   "execution_count": 32,
   "id": "e7525b00",
   "metadata": {},
   "outputs": [],
   "source": [
    "def nice1(*h):\n",
    "    a=1\n",
    "    for i in h:\n",
    "        if type(i)==int:\n",
    "            a=a*i\n",
    "    return a"
   ]
  },
  {
   "cell_type": "code",
   "execution_count": 34,
   "id": "d02b3f86",
   "metadata": {},
   "outputs": [
    {
     "data": {
      "text/plain": [
       "60"
      ]
     },
     "execution_count": 34,
     "metadata": {},
     "output_type": "execute_result"
    }
   ],
   "source": [
    "nice1(3,4,5)"
   ]
  },
  {
   "cell_type": "markdown",
   "id": "0156c44e",
   "metadata": {},
   "source": [
    "# lambda function"
   ]
  },
  {
   "cell_type": "code",
   "execution_count": 35,
   "id": "baed72d0",
   "metadata": {},
   "outputs": [],
   "source": [
    "n=lambda a,b:a+b"
   ]
  },
  {
   "cell_type": "code",
   "execution_count": 36,
   "id": "6da0679c",
   "metadata": {},
   "outputs": [
    {
     "data": {
      "text/plain": [
       "9"
      ]
     },
     "execution_count": 36,
     "metadata": {},
     "output_type": "execute_result"
    }
   ],
   "source": [
    "n(4,5)"
   ]
  },
  {
   "cell_type": "code",
   "execution_count": 37,
   "id": "e5e253dd",
   "metadata": {},
   "outputs": [],
   "source": [
    "def test9(a,b):\n",
    "    return a+b"
   ]
  },
  {
   "cell_type": "code",
   "execution_count": 38,
   "id": "39995f6f",
   "metadata": {},
   "outputs": [
    {
     "data": {
      "text/plain": [
       "16"
      ]
     },
     "execution_count": 38,
     "metadata": {},
     "output_type": "execute_result"
    }
   ],
   "source": [
    "test9(9,7)"
   ]
  },
  {
   "cell_type": "code",
   "execution_count": 39,
   "id": "b8c929f1",
   "metadata": {},
   "outputs": [],
   "source": [
    "d= lambda a,b:a*b"
   ]
  },
  {
   "cell_type": "code",
   "execution_count": 40,
   "id": "eb91a27d",
   "metadata": {},
   "outputs": [
    {
     "data": {
      "text/plain": [
       "45"
      ]
     },
     "execution_count": 40,
     "metadata": {},
     "output_type": "execute_result"
    }
   ],
   "source": [
    "d(5,9)"
   ]
  },
  {
   "cell_type": "code",
   "execution_count": 41,
   "id": "f070706f",
   "metadata": {},
   "outputs": [],
   "source": [
    "b= lambda *sudh:sudh"
   ]
  },
  {
   "cell_type": "code",
   "execution_count": 42,
   "id": "8fe56172",
   "metadata": {},
   "outputs": [
    {
     "data": {
      "text/plain": [
       "(3, 34, 45, 56, 76, 89)"
      ]
     },
     "execution_count": 42,
     "metadata": {},
     "output_type": "execute_result"
    }
   ],
   "source": [
    "b(3,34,45,56,76,89)"
   ]
  },
  {
   "cell_type": "code",
   "execution_count": 43,
   "id": "be3ef660",
   "metadata": {},
   "outputs": [],
   "source": [
    "# comprehension operation"
   ]
  },
  {
   "cell_type": "code",
   "execution_count": 44,
   "id": "415260e7",
   "metadata": {},
   "outputs": [],
   "source": [
    "t=(3,4,4,5,5,6,67,7,7)"
   ]
  },
  {
   "cell_type": "code",
   "execution_count": 45,
   "id": "a90ae414",
   "metadata": {},
   "outputs": [
    {
     "data": {
      "text/plain": [
       "[3, 4, 4, 5, 5, 6, 67, 7, 7]"
      ]
     },
     "execution_count": 45,
     "metadata": {},
     "output_type": "execute_result"
    }
   ],
   "source": [
    "list(t)"
   ]
  },
  {
   "cell_type": "code",
   "execution_count": 46,
   "id": "d19bcf31",
   "metadata": {},
   "outputs": [
    {
     "data": {
      "text/plain": [
       "(3, 4, 4, 5, 5, 6, 67, 7, 7)"
      ]
     },
     "execution_count": 46,
     "metadata": {},
     "output_type": "execute_result"
    }
   ],
   "source": [
    "t"
   ]
  },
  {
   "cell_type": "code",
   "execution_count": 47,
   "id": "e1907076",
   "metadata": {},
   "outputs": [],
   "source": [
    "a=list(t)"
   ]
  },
  {
   "cell_type": "code",
   "execution_count": 48,
   "id": "2fec71ab",
   "metadata": {},
   "outputs": [
    {
     "data": {
      "text/plain": [
       "[3, 4, 4, 5, 5, 6, 67, 7, 7]"
      ]
     },
     "execution_count": 48,
     "metadata": {},
     "output_type": "execute_result"
    }
   ],
   "source": [
    "a"
   ]
  },
  {
   "cell_type": "code",
   "execution_count": 49,
   "id": "d5f4ded9",
   "metadata": {},
   "outputs": [],
   "source": [
    "# now without using list function it can also be converted into list"
   ]
  },
  {
   "cell_type": "code",
   "execution_count": 50,
   "id": "1b350394",
   "metadata": {},
   "outputs": [],
   "source": [
    "t=(3,4,4,5,5,6,67,7,7)\n",
    "l=[]\n",
    "for i in t:\n",
    "    l.append(i)\n",
    "    "
   ]
  },
  {
   "cell_type": "code",
   "execution_count": 51,
   "id": "2862a61d",
   "metadata": {},
   "outputs": [
    {
     "data": {
      "text/plain": [
       "[3, 4, 4, 5, 5, 6, 67, 7, 7]"
      ]
     },
     "execution_count": 51,
     "metadata": {},
     "output_type": "execute_result"
    }
   ],
   "source": [
    "l"
   ]
  },
  {
   "cell_type": "code",
   "execution_count": 52,
   "id": "be31e6e1",
   "metadata": {},
   "outputs": [],
   "source": [
    "t=(3,4,4,5,5,6,67,7,7)"
   ]
  },
  {
   "cell_type": "code",
   "execution_count": 54,
   "id": "5d80252c",
   "metadata": {},
   "outputs": [
    {
     "data": {
      "text/plain": [
       "[3, 4, 4, 5, 5, 6, 67, 7, 7]"
      ]
     },
     "execution_count": 54,
     "metadata": {},
     "output_type": "execute_result"
    }
   ],
   "source": [
    "[i for i in t] # for i in t return i"
   ]
  },
  {
   "cell_type": "code",
   "execution_count": 55,
   "id": "4e2b5f7d",
   "metadata": {},
   "outputs": [],
   "source": [
    "s=\"sudh\""
   ]
  },
  {
   "cell_type": "code",
   "execution_count": 56,
   "id": "404a547c",
   "metadata": {},
   "outputs": [
    {
     "data": {
      "text/plain": [
       "['s', 'u', 'd', 'h']"
      ]
     },
     "execution_count": 56,
     "metadata": {},
     "output_type": "execute_result"
    }
   ],
   "source": [
    "[i for i in s]"
   ]
  },
  {
   "cell_type": "code",
   "execution_count": 60,
   "id": "1b00a107",
   "metadata": {},
   "outputs": [],
   "source": [
    "def ojha(*k):\n",
    "    a=0\n",
    "    for i in k:\n",
    "        if type(i)==int:\n",
    "            a=a+i\n",
    "    return a\n",
    "                 "
   ]
  },
  {
   "cell_type": "code",
   "execution_count": 61,
   "id": "2257842d",
   "metadata": {},
   "outputs": [
    {
     "data": {
      "text/plain": [
       "11"
      ]
     },
     "execution_count": 61,
     "metadata": {},
     "output_type": "execute_result"
    }
   ],
   "source": [
    "ojha(5,6)"
   ]
  },
  {
   "cell_type": "code",
   "execution_count": 64,
   "id": "2755dbb3",
   "metadata": {},
   "outputs": [],
   "source": [
    "d=lambda a,b:a+b  # with the  help of lamda function we can reduce the line of code "
   ]
  },
  {
   "cell_type": "code",
   "execution_count": 63,
   "id": "b4f314e5",
   "metadata": {},
   "outputs": [
    {
     "data": {
      "text/plain": [
       "11"
      ]
     },
     "execution_count": 63,
     "metadata": {},
     "output_type": "execute_result"
    }
   ],
   "source": [
    "d(5,6)"
   ]
  },
  {
   "cell_type": "code",
   "execution_count": 65,
   "id": "cedd5373",
   "metadata": {},
   "outputs": [],
   "source": [
    "v= lambda a,b:a*b"
   ]
  },
  {
   "cell_type": "code",
   "execution_count": 66,
   "id": "22c9ddb7",
   "metadata": {},
   "outputs": [
    {
     "ename": "TypeError",
     "evalue": "<lambda>() takes 2 positional arguments but 3 were given",
     "output_type": "error",
     "traceback": [
      "\u001b[1;31m---------------------------------------------------------------------------\u001b[0m",
      "\u001b[1;31mTypeError\u001b[0m                                 Traceback (most recent call last)",
      "Input \u001b[1;32mIn [66]\u001b[0m, in \u001b[0;36m<cell line: 1>\u001b[1;34m()\u001b[0m\n\u001b[1;32m----> 1\u001b[0m \u001b[43mv\u001b[49m\u001b[43m(\u001b[49m\u001b[38;5;241;43m3\u001b[39;49m\u001b[43m,\u001b[49m\u001b[38;5;241;43m4\u001b[39;49m\u001b[43m,\u001b[49m\u001b[38;5;241;43m5\u001b[39;49m\u001b[43m)\u001b[49m\n",
      "\u001b[1;31mTypeError\u001b[0m: <lambda>() takes 2 positional arguments but 3 were given"
     ]
    }
   ],
   "source": [
    "v(3,4,5)"
   ]
  },
  {
   "cell_type": "code",
   "execution_count": 67,
   "id": "349d4e4c",
   "metadata": {},
   "outputs": [],
   "source": [
    "v= lambda a,b,c:a*b*c"
   ]
  },
  {
   "cell_type": "code",
   "execution_count": 68,
   "id": "7f1c2f9c",
   "metadata": {},
   "outputs": [
    {
     "data": {
      "text/plain": [
       "60"
      ]
     },
     "execution_count": 68,
     "metadata": {},
     "output_type": "execute_result"
    }
   ],
   "source": [
    "v(3,4,5)"
   ]
  },
  {
   "cell_type": "code",
   "execution_count": 69,
   "id": "04bc9abc",
   "metadata": {},
   "outputs": [],
   "source": [
    "# generate list square of each number till 10?"
   ]
  },
  {
   "cell_type": "code",
   "execution_count": 70,
   "id": "84831b11",
   "metadata": {},
   "outputs": [
    {
     "data": {
      "text/plain": [
       "[0, 1, 4, 9, 16, 25, 36, 49, 64, 81]"
      ]
     },
     "execution_count": 70,
     "metadata": {},
     "output_type": "execute_result"
    }
   ],
   "source": [
    "[i*i for i in range(10)]"
   ]
  },
  {
   "cell_type": "code",
   "execution_count": 71,
   "id": "4ddfc079",
   "metadata": {},
   "outputs": [
    {
     "name": "stdout",
     "output_type": "stream",
     "text": [
      "0 1 4 9 16 25 36 49 64 81 "
     ]
    }
   ],
   "source": [
    "for i in range(10):\n",
    "    print(i*i,end=\" \")"
   ]
  },
  {
   "cell_type": "code",
   "execution_count": 73,
   "id": "1f277089",
   "metadata": {},
   "outputs": [],
   "source": [
    "# now i want the above squares in list"
   ]
  },
  {
   "cell_type": "code",
   "execution_count": 74,
   "id": "74f7dc1c",
   "metadata": {},
   "outputs": [],
   "source": [
    "for i in range(10):\n",
    "    l=[]\n",
    "    i=i*i\n",
    "    l.append(i)"
   ]
  },
  {
   "cell_type": "code",
   "execution_count": 75,
   "id": "158dc192",
   "metadata": {},
   "outputs": [
    {
     "data": {
      "text/plain": [
       "[81]"
      ]
     },
     "execution_count": 75,
     "metadata": {},
     "output_type": "execute_result"
    }
   ],
   "source": [
    "l"
   ]
  },
  {
   "cell_type": "code",
   "execution_count": 76,
   "id": "2cb2e8a9",
   "metadata": {},
   "outputs": [],
   "source": [
    "l=[]\n",
    "for i in range(10):\n",
    "    l.append(i*i)"
   ]
  },
  {
   "cell_type": "code",
   "execution_count": 77,
   "id": "6f9fce7c",
   "metadata": {},
   "outputs": [
    {
     "data": {
      "text/plain": [
       "[0, 1, 4, 9, 16, 25, 36, 49, 64, 81]"
      ]
     },
     "execution_count": 77,
     "metadata": {},
     "output_type": "execute_result"
    }
   ],
   "source": [
    "l"
   ]
  },
  {
   "cell_type": "code",
   "execution_count": 78,
   "id": "d4199758",
   "metadata": {},
   "outputs": [
    {
     "name": "stdout",
     "output_type": "stream",
     "text": [
      "0 1 4 9 16 25 36 49 64 81 "
     ]
    }
   ],
   "source": [
    "for i in range(10):\n",
    "    print(i*i,end=\" \")"
   ]
  },
  {
   "cell_type": "code",
   "execution_count": 79,
   "id": "00f2cf10",
   "metadata": {},
   "outputs": [
    {
     "name": "stdout",
     "output_type": "stream",
     "text": [
      "list[0] list[1] list[4] list[9] list[16] list[25] list[36] list[49] list[64] list[81] "
     ]
    }
   ],
   "source": [
    "for i in range(10):\n",
    "    print(list[i*i],end=\" \")"
   ]
  },
  {
   "cell_type": "code",
   "execution_count": 1,
   "id": "ea725d13",
   "metadata": {},
   "outputs": [
    {
     "data": {
      "text/plain": [
       "[1, 4, 9, 16, 25, 36, 49, 64, 81, 100]"
      ]
     },
     "execution_count": 1,
     "metadata": {},
     "output_type": "execute_result"
    }
   ],
   "source": [
    "[(i+1)**2  for i in range(10)]"
   ]
  },
  {
   "cell_type": "code",
   "execution_count": 4,
   "id": "2bdc94cd",
   "metadata": {},
   "outputs": [],
   "source": [
    "def test(*k):\n",
    "    a=0\n",
    "    for i in k:\n",
    "        if type(i)==int:\n",
    "            a+=i\n",
    "    return a"
   ]
  },
  {
   "cell_type": "code",
   "execution_count": 5,
   "id": "caf91c48",
   "metadata": {},
   "outputs": [
    {
     "data": {
      "text/plain": [
       "11"
      ]
     },
     "execution_count": 5,
     "metadata": {},
     "output_type": "execute_result"
    }
   ],
   "source": [
    "test(5,6)"
   ]
  },
  {
   "cell_type": "code",
   "execution_count": 6,
   "id": "ae78ed2f",
   "metadata": {},
   "outputs": [],
   "source": [
    "# comprhension operation will always return the list"
   ]
  },
  {
   "cell_type": "code",
   "execution_count": 7,
   "id": "313c4d97",
   "metadata": {},
   "outputs": [],
   "source": [
    "l= lambda *x: [i for i in x]"
   ]
  },
  {
   "cell_type": "code",
   "execution_count": 8,
   "id": "fe325b6b",
   "metadata": {},
   "outputs": [
    {
     "data": {
      "text/plain": [
       "[4, 5, 6, 7, 8, 9, 11, 12, 13]"
      ]
     },
     "execution_count": 8,
     "metadata": {},
     "output_type": "execute_result"
    }
   ],
   "source": [
    "l(4,5,6,7,8,9,11,12,13)"
   ]
  },
  {
   "cell_type": "code",
   "execution_count": 9,
   "id": "df7d75f5",
   "metadata": {},
   "outputs": [],
   "source": [
    "l= lambda *x: [i**2 for i in x]"
   ]
  },
  {
   "cell_type": "code",
   "execution_count": 10,
   "id": "1392ad7e",
   "metadata": {},
   "outputs": [
    {
     "data": {
      "text/plain": [
       "[16, 25, 36, 49, 64, 81, 121, 144, 169]"
      ]
     },
     "execution_count": 10,
     "metadata": {},
     "output_type": "execute_result"
    }
   ],
   "source": [
    "l(4,5,6,7,8,9,11,12,13)"
   ]
  },
  {
   "cell_type": "code",
   "execution_count": 11,
   "id": "1e9d1fa6",
   "metadata": {},
   "outputs": [],
   "source": [
    "# create a function to count the number of string"
   ]
  },
  {
   "cell_type": "code",
   "execution_count": 14,
   "id": "1d5769e2",
   "metadata": {},
   "outputs": [],
   "source": [
    "def test14(**kwargs):\n",
    "    count=0\n",
    "    for i in kwargs.values():\n",
    "        if type(i)==str or type(i)==list:\n",
    "            count=count+1\n",
    "    return count"
   ]
  },
  {
   "cell_type": "code",
   "execution_count": 15,
   "id": "3193438b",
   "metadata": {},
   "outputs": [
    {
     "data": {
      "text/plain": [
       "3"
      ]
     },
     "execution_count": 15,
     "metadata": {},
     "output_type": "execute_result"
    }
   ],
   "source": [
    "test14(a=7,b=\"sudh\",c=345,d=\"sudh\",l=[2,3,4,45,\"sudh\"])"
   ]
  },
  {
   "cell_type": "code",
   "execution_count": 16,
   "id": "7ec4fafa",
   "metadata": {},
   "outputs": [],
   "source": [
    "def test14(**kwargs):\n",
    "    count=0\n",
    "    print(kwargs)\n",
    "    print(kwargs.values())\n",
    "    for i in kwargs.values():\n",
    "        if type(i)==str or type(i)==list:\n",
    "            count=count+1\n",
    "    return count"
   ]
  },
  {
   "cell_type": "code",
   "execution_count": 17,
   "id": "4cbd9b8f",
   "metadata": {},
   "outputs": [
    {
     "name": "stdout",
     "output_type": "stream",
     "text": [
      "{'a': 7, 'b': 'sudh', 'c': 345, 'd': 'sudh', 'l': [2, 3, 4, 45, 'sudh']}\n",
      "dict_values([7, 'sudh', 345, 'sudh', [2, 3, 4, 45, 'sudh']])\n"
     ]
    },
    {
     "data": {
      "text/plain": [
       "3"
      ]
     },
     "execution_count": 17,
     "metadata": {},
     "output_type": "execute_result"
    }
   ],
   "source": [
    "test14(a=7,b=\"sudh\",c=345,d=\"sudh\",l=[2,3,4,45,\"sudh\"])"
   ]
  },
  {
   "cell_type": "code",
   "execution_count": 18,
   "id": "f300145d",
   "metadata": {},
   "outputs": [],
   "source": [
    "# now i want a list of data which i will pass on run time"
   ]
  },
  {
   "cell_type": "code",
   "execution_count": 20,
   "id": "d225ff48",
   "metadata": {},
   "outputs": [],
   "source": [
    "def test15(**kwargs):\n",
    "    return list(kwargs.values())"
   ]
  },
  {
   "cell_type": "code",
   "execution_count": 21,
   "id": "94edbb61",
   "metadata": {},
   "outputs": [
    {
     "data": {
      "text/plain": [
       "[7, 'sudh', 345, 'sudh', [2, 3, 4, 45, 'sudh']]"
      ]
     },
     "execution_count": 21,
     "metadata": {},
     "output_type": "execute_result"
    }
   ],
   "source": [
    "test15(a=7,b=\"sudh\",c=345,d=\"sudh\",l=[2,3,4,45,\"sudh\"])"
   ]
  },
  {
   "cell_type": "code",
   "execution_count": 22,
   "id": "8dbf4939",
   "metadata": {},
   "outputs": [],
   "source": [
    "t=[1,2,4,5,[1,3,4,6]] # i want to delete 4 from internal list"
   ]
  },
  {
   "cell_type": "code",
   "execution_count": 23,
   "id": "b1d51060",
   "metadata": {},
   "outputs": [],
   "source": [
    "d=[]\n",
    "for i in t:\n",
    "    if type(i)==list:\n",
    "        for j in i:\n",
    "            d.append(j)"
   ]
  },
  {
   "cell_type": "code",
   "execution_count": 24,
   "id": "f07f8830",
   "metadata": {},
   "outputs": [
    {
     "data": {
      "text/plain": [
       "[1, 3, 4, 6]"
      ]
     },
     "execution_count": 24,
     "metadata": {},
     "output_type": "execute_result"
    }
   ],
   "source": [
    "d"
   ]
  },
  {
   "cell_type": "code",
   "execution_count": 25,
   "id": "dbf01088",
   "metadata": {},
   "outputs": [
    {
     "data": {
      "text/plain": [
       "4"
      ]
     },
     "execution_count": 25,
     "metadata": {},
     "output_type": "execute_result"
    }
   ],
   "source": [
    "d.pop(2)"
   ]
  },
  {
   "cell_type": "code",
   "execution_count": 26,
   "id": "8c37805e",
   "metadata": {},
   "outputs": [
    {
     "data": {
      "text/plain": [
       "[1, 3, 6]"
      ]
     },
     "execution_count": 26,
     "metadata": {},
     "output_type": "execute_result"
    }
   ],
   "source": [
    "d"
   ]
  },
  {
   "cell_type": "code",
   "execution_count": null,
   "id": "55d2ed07",
   "metadata": {},
   "outputs": [],
   "source": []
  }
 ],
 "metadata": {
  "kernelspec": {
   "display_name": "Python 3 (ipykernel)",
   "language": "python",
   "name": "python3"
  },
  "language_info": {
   "codemirror_mode": {
    "name": "ipython",
    "version": 3
   },
   "file_extension": ".py",
   "mimetype": "text/x-python",
   "name": "python",
   "nbconvert_exporter": "python",
   "pygments_lexer": "ipython3",
   "version": "3.9.12"
  }
 },
 "nbformat": 4,
 "nbformat_minor": 5
}
