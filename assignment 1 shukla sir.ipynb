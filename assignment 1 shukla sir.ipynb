{
 "cells": [
  {
   "cell_type": "code",
   "execution_count": 1,
   "id": "1ea79193",
   "metadata": {},
   "outputs": [],
   "source": [
    "#q1) write a command to get the python version you are using."
   ]
  },
  {
   "cell_type": "code",
   "execution_count": 2,
   "id": "e25f11cb",
   "metadata": {},
   "outputs": [],
   "source": [
    "import sys"
   ]
  },
  {
   "cell_type": "code",
   "execution_count": 5,
   "id": "fde1cafc",
   "metadata": {},
   "outputs": [
    {
     "name": "stdout",
     "output_type": "stream",
     "text": [
      "python version\n",
      "3.9.12 (main, Apr  4 2022, 05:22:27) [MSC v.1916 64 bit (AMD64)]\n",
      "version info.\n",
      "sys.version_info(major=3, minor=9, micro=12, releaselevel='final', serial=0)\n"
     ]
    }
   ],
   "source": [
    "print(\"python version\")\n",
    "print(sys.version)\n",
    "print(\"version info.\")\n",
    "print(sys.version_info)"
   ]
  },
  {
   "cell_type": "code",
   "execution_count": 6,
   "id": "9f7ac1bb",
   "metadata": {},
   "outputs": [],
   "source": [
    "#q2) write a python script to print hello world on the screen directly in the \n",
    "#    command line"
   ]
  },
  {
   "cell_type": "code",
   "execution_count": 7,
   "id": "6deb6e13",
   "metadata": {},
   "outputs": [
    {
     "name": "stdout",
     "output_type": "stream",
     "text": [
      "hello python\n"
     ]
    }
   ],
   "source": [
    "print(\"hello python\")"
   ]
  },
  {
   "cell_type": "code",
   "execution_count": 8,
   "id": "17d9ab78",
   "metadata": {},
   "outputs": [],
   "source": [
    "#3) write a python and store it in a file and executes the file from the command\n",
    "#   line"
   ]
  },
  {
   "cell_type": "code",
   "execution_count": 9,
   "id": "ae908704",
   "metadata": {},
   "outputs": [],
   "source": [
    "#4) write a python script to print hello python on the screen using vs.code"
   ]
  },
  {
   "cell_type": "code",
   "execution_count": 10,
   "id": "875d0f4a",
   "metadata": {},
   "outputs": [],
   "source": [
    "#5) write a python script to print hello on the first line and python on the \n",
    "#   second line"
   ]
  },
  {
   "cell_type": "code",
   "execution_count": 11,
   "id": "8fa65e27",
   "metadata": {},
   "outputs": [
    {
     "name": "stdout",
     "output_type": "stream",
     "text": [
      "hello\n",
      "python\n"
     ]
    }
   ],
   "source": [
    "print(\"hello\")\n",
    "print(\"python\")"
   ]
  },
  {
   "cell_type": "code",
   "execution_count": 14,
   "id": "fd579b04",
   "metadata": {},
   "outputs": [
    {
     "name": "stdout",
     "output_type": "stream",
     "text": [
      "hello\n",
      "python\n"
     ]
    }
   ],
   "source": [
    "print (\"hello\",\"python\",sep='\\n')"
   ]
  },
  {
   "cell_type": "code",
   "execution_count": 15,
   "id": "93c387de",
   "metadata": {},
   "outputs": [],
   "source": [
    "#6) write a python script to print \"mysirg\" on the screen"
   ]
  },
  {
   "cell_type": "code",
   "execution_count": 23,
   "id": "dc274598",
   "metadata": {},
   "outputs": [
    {
     "name": "stdout",
     "output_type": "stream",
     "text": [
      "\"mysirg\"\n"
     ]
    }
   ],
   "source": [
    "print(\"\\\"mysirg\\\"\")"
   ]
  },
  {
   "cell_type": "code",
   "execution_count": 17,
   "id": "daacbda3",
   "metadata": {},
   "outputs": [],
   "source": [
    "#7) write a python script to print \"teacher's day\" on the screen"
   ]
  },
  {
   "cell_type": "code",
   "execution_count": 24,
   "id": "e0239795",
   "metadata": {},
   "outputs": [
    {
     "name": "stdout",
     "output_type": "stream",
     "text": [
      "\"teacher's day\"\n"
     ]
    }
   ],
   "source": [
    "print(\"\\\"teacher's day\\\"\")"
   ]
  },
  {
   "cell_type": "code",
   "execution_count": 19,
   "id": "9af4e22c",
   "metadata": {},
   "outputs": [],
   "source": [
    "#8) write a python script to print the value of a variable.variable contains \n",
    "#   your name as data?"
   ]
  },
  {
   "cell_type": "code",
   "execution_count": 20,
   "id": "f3d0920a",
   "metadata": {},
   "outputs": [],
   "source": [
    "s=\"gourav\""
   ]
  },
  {
   "cell_type": "code",
   "execution_count": 21,
   "id": "1b265f97",
   "metadata": {},
   "outputs": [
    {
     "data": {
      "text/plain": [
       "'gourav'"
      ]
     },
     "execution_count": 21,
     "metadata": {},
     "output_type": "execute_result"
    }
   ],
   "source": [
    "s"
   ]
  },
  {
   "cell_type": "code",
   "execution_count": 22,
   "id": "ce991eec",
   "metadata": {},
   "outputs": [],
   "source": [
    "#9) write a python to create variable to store your name ,age qualification,years\n",
    "#   of experience and print it"
   ]
  },
  {
   "cell_type": "code",
   "execution_count": 27,
   "id": "666f0b56",
   "metadata": {},
   "outputs": [
    {
     "name": "stdout",
     "output_type": "stream",
     "text": [
      "gourav 26 b.sc,b.ed 4 years\n"
     ]
    }
   ],
   "source": [
    "x=\"gourav\"\n",
    "y=26\n",
    "z=\"b.sc,b.ed\"\n",
    "w=\"4 years\"\n",
    "print(x,y,z,w)\n"
   ]
  },
  {
   "cell_type": "code",
   "execution_count": 26,
   "id": "49271642",
   "metadata": {},
   "outputs": [
    {
     "name": "stdout",
     "output_type": "stream",
     "text": [
      "gourav\n",
      "26\n",
      "b.sc,b.ed\n",
      "4 years\n"
     ]
    }
   ],
   "source": [
    "print(x,y,z,w,sep='\\n')"
   ]
  },
  {
   "cell_type": "code",
   "execution_count": 28,
   "id": "4bdd7232",
   "metadata": {},
   "outputs": [],
   "source": [
    "#10)  write a python script to print values of three variables,each in a new line\n",
    "#     variable contains integer values"
   ]
  },
  {
   "cell_type": "code",
   "execution_count": 29,
   "id": "f43424b1",
   "metadata": {},
   "outputs": [
    {
     "name": "stdout",
     "output_type": "stream",
     "text": [
      "2\n",
      "3\n",
      "4\n"
     ]
    }
   ],
   "source": [
    "a,b,c=2,3,4\n",
    "print(a,b,c,sep='\\n')"
   ]
  },
  {
   "cell_type": "code",
   "execution_count": null,
   "id": "bc19815e",
   "metadata": {},
   "outputs": [],
   "source": []
  }
 ],
 "metadata": {
  "kernelspec": {
   "display_name": "Python 3 (ipykernel)",
   "language": "python",
   "name": "python3"
  },
  "language_info": {
   "codemirror_mode": {
    "name": "ipython",
    "version": 3
   },
   "file_extension": ".py",
   "mimetype": "text/x-python",
   "name": "python",
   "nbconvert_exporter": "python",
   "pygments_lexer": "ipython3",
   "version": "3.9.12"
  }
 },
 "nbformat": 4,
 "nbformat_minor": 5
}
