{
 "cells": [
  {
   "cell_type": "code",
   "execution_count": 1,
   "id": "1be6223b",
   "metadata": {},
   "outputs": [],
   "source": [
    "# string formatting"
   ]
  },
  {
   "cell_type": "code",
   "execution_count": 2,
   "id": "764d81eb",
   "metadata": {},
   "outputs": [
    {
     "data": {
      "text/plain": [
       "'my name is sourabh'"
      ]
     },
     "execution_count": 2,
     "metadata": {},
     "output_type": "execute_result"
    }
   ],
   "source": [
    "s = \"my name is %s\"\n",
    "s%\"sourabh\""
   ]
  },
  {
   "cell_type": "code",
   "execution_count": 5,
   "id": "3c94177c",
   "metadata": {},
   "outputs": [
    {
     "ename": "SyntaxError",
     "evalue": "invalid syntax (3470924840.py, line 1)",
     "output_type": "error",
     "traceback": [
      "\u001b[1;36m  Input \u001b[1;32mIn [5]\u001b[1;36m\u001b[0m\n\u001b[1;33m    s = \"my name is %s\"s%\"saurabh\"\u001b[0m\n\u001b[1;37m                       ^\u001b[0m\n\u001b[1;31mSyntaxError\u001b[0m\u001b[1;31m:\u001b[0m invalid syntax\n"
     ]
    }
   ],
   "source": [
    "s = \"my name is %s\"s%\"saurabh\""
   ]
  },
  {
   "cell_type": "code",
   "execution_count": 6,
   "id": "130cde05",
   "metadata": {},
   "outputs": [],
   "source": [
    "a= 5\n",
    "b= 6\n",
    "s = \"value of a is %d and value of b is %d\""
   ]
  },
  {
   "cell_type": "code",
   "execution_count": 8,
   "id": "6eb04aff",
   "metadata": {},
   "outputs": [
    {
     "data": {
      "text/plain": [
       "'value of a is 5 and value of b is 6'"
      ]
     },
     "execution_count": 8,
     "metadata": {},
     "output_type": "execute_result"
    }
   ],
   "source": [
    "s%(a,b)   # for two values we need to put the bracket"
   ]
  },
  {
   "cell_type": "code",
   "execution_count": 14,
   "id": "27af956d",
   "metadata": {},
   "outputs": [],
   "source": [
    "# %d,%s are format specifier it depends upon the type of varibales,if itis int then %d will be applied\n",
    "# and if it is float then %f will be applied"
   ]
  },
  {
   "cell_type": "code",
   "execution_count": 12,
   "id": "9ba47b3b",
   "metadata": {},
   "outputs": [
    {
     "name": "stdout",
     "output_type": "stream",
     "text": [
      "a = 5 and b=6\n"
     ]
    }
   ],
   "source": [
    "print(\"a = %d and b=%d\"%(a,b))   # same can  be written with print function also"
   ]
  },
  {
   "cell_type": "code",
   "execution_count": 19,
   "id": "18ba3ba4",
   "metadata": {},
   "outputs": [
    {
     "data": {
      "text/plain": [
       "'my name is gourav'"
      ]
     },
     "execution_count": 19,
     "metadata": {},
     "output_type": "execute_result"
    }
   ],
   "source": [
    "b= \"my name is %s\"\n",
    "b%\"gourav\""
   ]
  },
  {
   "cell_type": "code",
   "execution_count": 20,
   "id": "457ef6a3",
   "metadata": {},
   "outputs": [
    {
     "name": "stdout",
     "output_type": "stream",
     "text": [
      "a=8 and b= 9\n"
     ]
    }
   ],
   "source": [
    "a = 8\n",
    "b= 9\n",
    "print(\"a=%d and b= %d\"%(a,b))"
   ]
  },
  {
   "cell_type": "code",
   "execution_count": 21,
   "id": "a73a9b3a",
   "metadata": {},
   "outputs": [],
   "source": [
    "# ARITHMETIC OPERATORS"
   ]
  },
  {
   "cell_type": "code",
   "execution_count": 23,
   "id": "f0953c29",
   "metadata": {},
   "outputs": [
    {
     "data": {
      "text/plain": [
       "8"
      ]
     },
     "execution_count": 23,
     "metadata": {},
     "output_type": "execute_result"
    }
   ],
   "source": [
    "2**3   # POWER OPERATOR"
   ]
  },
  {
   "cell_type": "code",
   "execution_count": 24,
   "id": "63d4cabb",
   "metadata": {},
   "outputs": [
    {
     "data": {
      "text/plain": [
       "1.4142135623730951"
      ]
     },
     "execution_count": 24,
     "metadata": {},
     "output_type": "execute_result"
    }
   ],
   "source": [
    "2**0.5"
   ]
  },
  {
   "cell_type": "code",
   "execution_count": 26,
   "id": "d9f56ae3",
   "metadata": {},
   "outputs": [
    {
     "data": {
      "text/plain": [
       "0.25"
      ]
     },
     "execution_count": 26,
     "metadata": {},
     "output_type": "execute_result"
    }
   ],
   "source": [
    "2**-2    # two the power minus two"
   ]
  },
  {
   "cell_type": "code",
   "execution_count": 27,
   "id": "a08c1192",
   "metadata": {},
   "outputs": [
    {
     "data": {
      "text/plain": [
       "-4"
      ]
     },
     "execution_count": 27,
     "metadata": {},
     "output_type": "execute_result"
    }
   ],
   "source": [
    "-2**2"
   ]
  },
  {
   "cell_type": "code",
   "execution_count": 28,
   "id": "d9b25d67",
   "metadata": {},
   "outputs": [
    {
     "data": {
      "text/plain": [
       "4"
      ]
     },
     "execution_count": 28,
     "metadata": {},
     "output_type": "execute_result"
    }
   ],
   "source": [
    "(-2)**2"
   ]
  },
  {
   "cell_type": "code",
   "execution_count": 29,
   "id": "0d0ade68",
   "metadata": {},
   "outputs": [
    {
     "data": {
      "text/plain": [
       "512"
      ]
     },
     "execution_count": 29,
     "metadata": {},
     "output_type": "execute_result"
    }
   ],
   "source": [
    "2**3**2  # it is actually 2 the power 9 beacuse exponential opoerator will work from right to left"
   ]
  },
  {
   "cell_type": "code",
   "execution_count": 30,
   "id": "a7cc9bad",
   "metadata": {},
   "outputs": [],
   "source": [
    "#  /,// DIVIDE OPERATOR"
   ]
  },
  {
   "cell_type": "code",
   "execution_count": 31,
   "id": "67488008",
   "metadata": {},
   "outputs": [
    {
     "ename": "SyntaxError",
     "evalue": "unexpected character after line continuation character (1028162100.py, line 1)",
     "output_type": "error",
     "traceback": [
      "\u001b[1;36m  Input \u001b[1;32mIn [31]\u001b[1;36m\u001b[0m\n\u001b[1;33m    5\\2\u001b[0m\n\u001b[1;37m      ^\u001b[0m\n\u001b[1;31mSyntaxError\u001b[0m\u001b[1;31m:\u001b[0m unexpected character after line continuation character\n"
     ]
    }
   ],
   "source": [
    "5\\2"
   ]
  },
  {
   "cell_type": "code",
   "execution_count": 34,
   "id": "ecd78a0e",
   "metadata": {},
   "outputs": [
    {
     "data": {
      "text/plain": [
       "2.5"
      ]
     },
     "execution_count": 34,
     "metadata": {},
     "output_type": "execute_result"
    }
   ],
   "source": [
    "5/2   # it will always give float type result   it is also known as true division"
   ]
  },
  {
   "cell_type": "code",
   "execution_count": 35,
   "id": "77b1c06a",
   "metadata": {},
   "outputs": [
    {
     "data": {
      "text/plain": [
       "5.0"
      ]
     },
     "execution_count": 35,
     "metadata": {},
     "output_type": "execute_result"
    }
   ],
   "source": [
    "15/3"
   ]
  },
  {
   "cell_type": "code",
   "execution_count": 36,
   "id": "79deeaab",
   "metadata": {},
   "outputs": [
    {
     "data": {
      "text/plain": [
       "23.4"
      ]
     },
     "execution_count": 36,
     "metadata": {},
     "output_type": "execute_result"
    }
   ],
   "source": [
    "234/10"
   ]
  },
  {
   "cell_type": "code",
   "execution_count": 38,
   "id": "aeb06714",
   "metadata": {},
   "outputs": [
    {
     "data": {
      "text/plain": [
       "2"
      ]
     },
     "execution_count": 38,
     "metadata": {},
     "output_type": "execute_result"
    }
   ],
   "source": [
    "5//2   # floor division it will always give the lower value of the two"
   ]
  },
  {
   "cell_type": "code",
   "execution_count": 41,
   "id": "93fd0a69",
   "metadata": {},
   "outputs": [
    {
     "data": {
      "text/plain": [
       "2.0"
      ]
     },
     "execution_count": 41,
     "metadata": {},
     "output_type": "execute_result"
    }
   ],
   "source": [
    "5.0//2   # if either is float then result will be float"
   ]
  },
  {
   "cell_type": "code",
   "execution_count": 42,
   "id": "3ca77be1",
   "metadata": {},
   "outputs": [
    {
     "data": {
      "text/plain": [
       "3"
      ]
     },
     "execution_count": 42,
     "metadata": {},
     "output_type": "execute_result"
    }
   ],
   "source": [
    "10//3"
   ]
  },
  {
   "cell_type": "code",
   "execution_count": 44,
   "id": "a4de9a58",
   "metadata": {},
   "outputs": [
    {
     "data": {
      "text/plain": [
       "1.0"
      ]
     },
     "execution_count": 44,
     "metadata": {},
     "output_type": "execute_result"
    }
   ],
   "source": [
    "2.5//2"
   ]
  },
  {
   "cell_type": "code",
   "execution_count": 45,
   "id": "690cfc0e",
   "metadata": {},
   "outputs": [
    {
     "data": {
      "text/plain": [
       "5"
      ]
     },
     "execution_count": 45,
     "metadata": {},
     "output_type": "execute_result"
    }
   ],
   "source": [
    "25//5"
   ]
  },
  {
   "cell_type": "code",
   "execution_count": 47,
   "id": "bc51e449",
   "metadata": {},
   "outputs": [
    {
     "data": {
      "text/plain": [
       "1"
      ]
     },
     "execution_count": 47,
     "metadata": {},
     "output_type": "execute_result"
    }
   ],
   "source": [
    "5%2   # modolus operator   this will give remainder"
   ]
  },
  {
   "cell_type": "code",
   "execution_count": 49,
   "id": "64be952c",
   "metadata": {},
   "outputs": [
    {
     "data": {
      "text/plain": [
       "1.0"
      ]
     },
     "execution_count": 49,
     "metadata": {},
     "output_type": "execute_result"
    }
   ],
   "source": [
    "5.0%2   # in c language we cannot write modulus operator with float value"
   ]
  },
  {
   "cell_type": "code",
   "execution_count": 50,
   "id": "d08c6d38",
   "metadata": {},
   "outputs": [
    {
     "data": {
      "text/plain": [
       "0.5"
      ]
     },
     "execution_count": 50,
     "metadata": {},
     "output_type": "execute_result"
    }
   ],
   "source": [
    "2.5%2"
   ]
  },
  {
   "cell_type": "code",
   "execution_count": 2,
   "id": "74c9e598",
   "metadata": {},
   "outputs": [
    {
     "data": {
      "text/plain": [
       "3"
      ]
     },
     "execution_count": 2,
     "metadata": {},
     "output_type": "execute_result"
    }
   ],
   "source": [
    "3%4   # if we will ferom the modulous operation with bigger and smalller number then result will be \n",
    "      # smaller"
   ]
  },
  {
   "cell_type": "code",
   "execution_count": 3,
   "id": "a1b5c9d4",
   "metadata": {},
   "outputs": [
    {
     "data": {
      "text/plain": [
       "4"
      ]
     },
     "execution_count": 3,
     "metadata": {},
     "output_type": "execute_result"
    }
   ],
   "source": [
    "234%10"
   ]
  },
  {
   "cell_type": "code",
   "execution_count": 4,
   "id": "c87faccc",
   "metadata": {},
   "outputs": [
    {
     "ename": "NameError",
     "evalue": "name 'j' is not defined",
     "output_type": "error",
     "traceback": [
      "\u001b[1;31m---------------------------------------------------------------------------\u001b[0m",
      "\u001b[1;31mNameError\u001b[0m                                 Traceback (most recent call last)",
      "Input \u001b[1;32mIn [4]\u001b[0m, in \u001b[0;36m<cell line: 1>\u001b[1;34m()\u001b[0m\n\u001b[1;32m----> 1\u001b[0m \u001b[38;5;241m3\u001b[39m\u001b[38;5;241m+\u001b[39m\u001b[38;5;241m4\u001b[39mj \u001b[38;5;241m+\u001b[39m \u001b[38;5;241m2\u001b[39m\u001b[38;5;241m-\u001b[39m\u001b[43mj\u001b[49m\n",
      "\u001b[1;31mNameError\u001b[0m: name 'j' is not defined"
     ]
    }
   ],
   "source": [
    "3+4j + 2-j"
   ]
  },
  {
   "cell_type": "code",
   "execution_count": 5,
   "id": "1506b45b",
   "metadata": {},
   "outputs": [
    {
     "data": {
      "text/plain": [
       "(5+3j)"
      ]
     },
     "execution_count": 5,
     "metadata": {},
     "output_type": "execute_result"
    }
   ],
   "source": [
    "3+4j + 2-1j"
   ]
  },
  {
   "cell_type": "code",
   "execution_count": 7,
   "id": "f495a685",
   "metadata": {},
   "outputs": [
    {
     "data": {
      "text/plain": [
       "'abcdef'"
      ]
     },
     "execution_count": 7,
     "metadata": {},
     "output_type": "execute_result"
    }
   ],
   "source": [
    "\"abc\"+\"def\"   # when it is str type data + operation will become concatination operation"
   ]
  },
  {
   "cell_type": "code",
   "execution_count": 8,
   "id": "2ffd2682",
   "metadata": {},
   "outputs": [
    {
     "data": {
      "text/plain": [
       "9"
      ]
     },
     "execution_count": 8,
     "metadata": {},
     "output_type": "execute_result"
    }
   ],
   "source": [
    "a = 0b101\n",
    "b= 0b100\n",
    "a+b"
   ]
  },
  {
   "cell_type": "code",
   "execution_count": 10,
   "id": "49464963",
   "metadata": {},
   "outputs": [
    {
     "data": {
      "text/plain": [
       "'0b1001'"
      ]
     },
     "execution_count": 10,
     "metadata": {},
     "output_type": "execute_result"
    }
   ],
   "source": [
    "bin(a+b)   # if you want result in binary"
   ]
  },
  {
   "cell_type": "code",
   "execution_count": 11,
   "id": "de26ef3e",
   "metadata": {},
   "outputs": [
    {
     "data": {
      "text/plain": [
       "12"
      ]
     },
     "execution_count": 11,
     "metadata": {},
     "output_type": "execute_result"
    }
   ],
   "source": [
    "3*4"
   ]
  },
  {
   "cell_type": "code",
   "execution_count": 14,
   "id": "ab90eee4",
   "metadata": {},
   "outputs": [
    {
     "data": {
      "text/plain": [
       "'abababab'"
      ]
     },
     "execution_count": 14,
     "metadata": {},
     "output_type": "execute_result"
    }
   ],
   "source": [
    "\"ab\"*4  # this time it is known as repetion operator and it will always give str type result"
   ]
  },
  {
   "cell_type": "code",
   "execution_count": 17,
   "id": "4055a474",
   "metadata": {},
   "outputs": [
    {
     "ename": "TypeError",
     "evalue": "can't multiply sequence by non-int of type 'float'",
     "output_type": "error",
     "traceback": [
      "\u001b[1;31m---------------------------------------------------------------------------\u001b[0m",
      "\u001b[1;31mTypeError\u001b[0m                                 Traceback (most recent call last)",
      "Input \u001b[1;32mIn [17]\u001b[0m, in \u001b[0;36m<cell line: 1>\u001b[1;34m()\u001b[0m\n\u001b[1;32m----> 1\u001b[0m \u001b[38;5;124;43m\"\u001b[39;49m\u001b[38;5;124;43mab\u001b[39;49m\u001b[38;5;124;43m\"\u001b[39;49m\u001b[38;5;241;43m*\u001b[39;49m\u001b[38;5;241;43m4.5\u001b[39;49m\n",
      "\u001b[1;31mTypeError\u001b[0m: can't multiply sequence by non-int of type 'float'"
     ]
    }
   ],
   "source": [
    "\"ab\"*4.5  # so you have to use int only for repetion value   not float"
   ]
  },
  {
   "cell_type": "code",
   "execution_count": 18,
   "id": "1836e9f7",
   "metadata": {},
   "outputs": [
    {
     "ename": "TypeError",
     "evalue": "can't multiply sequence by non-int of type 'str'",
     "output_type": "error",
     "traceback": [
      "\u001b[1;31m---------------------------------------------------------------------------\u001b[0m",
      "\u001b[1;31mTypeError\u001b[0m                                 Traceback (most recent call last)",
      "Input \u001b[1;32mIn [18]\u001b[0m, in \u001b[0;36m<cell line: 1>\u001b[1;34m()\u001b[0m\n\u001b[1;32m----> 1\u001b[0m \u001b[38;5;124;43m\"\u001b[39;49m\u001b[38;5;124;43mab\u001b[39;49m\u001b[38;5;124;43m\"\u001b[39;49m\u001b[38;5;241;43m*\u001b[39;49m\u001b[38;5;124;43m\"\u001b[39;49m\u001b[38;5;124;43mab\u001b[39;49m\u001b[38;5;124;43m\"\u001b[39;49m\n",
      "\u001b[1;31mTypeError\u001b[0m: can't multiply sequence by non-int of type 'str'"
     ]
    }
   ],
   "source": [
    "\"ab\"*\"ab\""
   ]
  },
  {
   "cell_type": "code",
   "execution_count": 20,
   "id": "7a671b70",
   "metadata": {},
   "outputs": [],
   "source": [
    "# relational operator  it will always give true and false value"
   ]
  },
  {
   "cell_type": "code",
   "execution_count": 21,
   "id": "3ad7b403",
   "metadata": {},
   "outputs": [
    {
     "data": {
      "text/plain": [
       "False"
      ]
     },
     "execution_count": 21,
     "metadata": {},
     "output_type": "execute_result"
    }
   ],
   "source": [
    "3>4"
   ]
  },
  {
   "cell_type": "code",
   "execution_count": 22,
   "id": "4066762e",
   "metadata": {},
   "outputs": [
    {
     "data": {
      "text/plain": [
       "True"
      ]
     },
     "execution_count": 22,
     "metadata": {},
     "output_type": "execute_result"
    }
   ],
   "source": [
    "10>3"
   ]
  },
  {
   "cell_type": "code",
   "execution_count": 23,
   "id": "2fb767e4",
   "metadata": {},
   "outputs": [
    {
     "data": {
      "text/plain": [
       "True"
      ]
     },
     "execution_count": 23,
     "metadata": {},
     "output_type": "execute_result"
    }
   ],
   "source": [
    "10!=9"
   ]
  },
  {
   "cell_type": "code",
   "execution_count": 24,
   "id": "6f7203e2",
   "metadata": {},
   "outputs": [
    {
     "data": {
      "text/plain": [
       "True"
      ]
     },
     "execution_count": 24,
     "metadata": {},
     "output_type": "execute_result"
    }
   ],
   "source": [
    "5>=5"
   ]
  },
  {
   "cell_type": "code",
   "execution_count": 30,
   "id": "31e7945c",
   "metadata": {},
   "outputs": [
    {
     "data": {
      "text/plain": [
       "True"
      ]
     },
     "execution_count": 30,
     "metadata": {},
     "output_type": "execute_result"
    }
   ],
   "source": [
    "10>8>6  # but in c   or c++language it is false   beacuse in  c langugae the result 1 for true and \n",
    "         # 0 for flase"
   ]
  },
  {
   "cell_type": "code",
   "execution_count": 31,
   "id": "1065686b",
   "metadata": {},
   "outputs": [
    {
     "data": {
      "text/plain": [
       "True"
      ]
     },
     "execution_count": 31,
     "metadata": {},
     "output_type": "execute_result"
    }
   ],
   "source": [
    "8>7>6>5>4>3>2"
   ]
  },
  {
   "cell_type": "code",
   "execution_count": 33,
   "id": "3805a106",
   "metadata": {},
   "outputs": [
    {
     "data": {
      "text/plain": [
       "False"
      ]
     },
     "execution_count": 33,
     "metadata": {},
     "output_type": "execute_result"
    }
   ],
   "source": [
    "8>7>6>5>4>3<2  # if any one condition is false then whole thing is false"
   ]
  },
  {
   "cell_type": "code",
   "execution_count": 34,
   "id": "b59841c5",
   "metadata": {},
   "outputs": [],
   "source": [
    "# even we can compare the two string"
   ]
  },
  {
   "cell_type": "code",
   "execution_count": 36,
   "id": "2fd6a794",
   "metadata": {},
   "outputs": [
    {
     "data": {
      "text/plain": [
       "True"
      ]
     },
     "execution_count": 36,
     "metadata": {},
     "output_type": "execute_result"
    }
   ],
   "source": [
    "\"Ram\">\"Bharat\"  #  in alphabatecal order one which comes later is greater and one which comes befor\n",
    "                # is smaller"
   ]
  },
  {
   "cell_type": "code",
   "execution_count": 38,
   "id": "0d9b1c80",
   "metadata": {},
   "outputs": [
    {
     "ename": "TypeError",
     "evalue": "'>' not supported between instances of 'str' and 'int'",
     "output_type": "error",
     "traceback": [
      "\u001b[1;31m---------------------------------------------------------------------------\u001b[0m",
      "\u001b[1;31mTypeError\u001b[0m                                 Traceback (most recent call last)",
      "Input \u001b[1;32mIn [38]\u001b[0m, in \u001b[0;36m<cell line: 1>\u001b[1;34m()\u001b[0m\n\u001b[1;32m----> 1\u001b[0m \u001b[38;5;124;43m\"\u001b[39;49m\u001b[38;5;124;43mRam\u001b[39;49m\u001b[38;5;124;43m\"\u001b[39;49m\u001b[38;5;241;43m>\u001b[39;49m\u001b[38;5;241;43m200\u001b[39;49m\n",
      "\u001b[1;31mTypeError\u001b[0m: '>' not supported between instances of 'str' and 'int'"
     ]
    }
   ],
   "source": [
    "\"Ram\">200 # this is a inequality operator and two diffeerent data type cannot be compared\n",
    "          # excecpt the float and int"
   ]
  },
  {
   "cell_type": "code",
   "execution_count": 40,
   "id": "59889e5e",
   "metadata": {},
   "outputs": [
    {
     "ename": "TypeError",
     "evalue": "'>' not supported between instances of 'complex' and 'complex'",
     "output_type": "error",
     "traceback": [
      "\u001b[1;31m---------------------------------------------------------------------------\u001b[0m",
      "\u001b[1;31mTypeError\u001b[0m                                 Traceback (most recent call last)",
      "Input \u001b[1;32mIn [40]\u001b[0m, in \u001b[0;36m<cell line: 1>\u001b[1;34m()\u001b[0m\n\u001b[1;32m----> 1\u001b[0m \u001b[43m(\u001b[49m\u001b[38;5;241;43m3\u001b[39;49m\u001b[38;5;241;43m+\u001b[39;49m\u001b[38;5;241;43m4\u001b[39;49m\u001b[43mj\u001b[49m\u001b[43m)\u001b[49m\u001b[38;5;241;43m>\u001b[39;49m\u001b[43m(\u001b[49m\u001b[38;5;241;43m2\u001b[39;49m\u001b[38;5;241;43m-\u001b[39;49m\u001b[38;5;241;43m1\u001b[39;49m\u001b[43mj\u001b[49m\u001b[43m)\u001b[49m\n",
      "\u001b[1;31mTypeError\u001b[0m: '>' not supported between instances of 'complex' and 'complex'"
     ]
    }
   ],
   "source": [
    "(3+4j)>(2-1j)  # in complex number there is nothing such as big or small"
   ]
  },
  {
   "cell_type": "code",
   "execution_count": 43,
   "id": "9c698ba3",
   "metadata": {},
   "outputs": [
    {
     "data": {
      "text/plain": [
       "True"
      ]
     },
     "execution_count": 43,
     "metadata": {},
     "output_type": "execute_result"
    }
   ],
   "source": [
    "4.5>4  # this one float and int still it works "
   ]
  },
  {
   "cell_type": "code",
   "execution_count": 44,
   "id": "1cfe8577",
   "metadata": {},
   "outputs": [
    {
     "data": {
      "text/plain": [
       "True"
      ]
     },
     "execution_count": 44,
     "metadata": {},
     "output_type": "execute_result"
    }
   ],
   "source": [
    "True > False"
   ]
  },
  {
   "cell_type": "code",
   "execution_count": 45,
   "id": "efc86d19",
   "metadata": {},
   "outputs": [
    {
     "data": {
      "text/plain": [
       "2"
      ]
     },
     "execution_count": 45,
     "metadata": {},
     "output_type": "execute_result"
    }
   ],
   "source": [
    "True + True"
   ]
  },
  {
   "cell_type": "code",
   "execution_count": 47,
   "id": "2d6f0c51",
   "metadata": {},
   "outputs": [
    {
     "data": {
      "text/plain": [
       "False"
      ]
     },
     "execution_count": 47,
     "metadata": {},
     "output_type": "execute_result"
    }
   ],
   "source": [
    "\"a\"==97   # this one is a inequality operation and and it will never give error"
   ]
  },
  {
   "cell_type": "code",
   "execution_count": 1,
   "id": "7c9728a1",
   "metadata": {},
   "outputs": [
    {
     "data": {
      "text/plain": [
       "False"
      ]
     },
     "execution_count": 1,
     "metadata": {},
     "output_type": "execute_result"
    }
   ],
   "source": [
    "\"5\"==5  # see it is  giving false but not error because one str and other is int"
   ]
  },
  {
   "cell_type": "code",
   "execution_count": 51,
   "id": "c856fa3d",
   "metadata": {},
   "outputs": [
    {
     "data": {
      "text/plain": [
       "False"
      ]
     },
     "execution_count": 51,
     "metadata": {},
     "output_type": "execute_result"
    }
   ],
   "source": [
    "3+4j== 2-1j"
   ]
  },
  {
   "cell_type": "code",
   "execution_count": 53,
   "id": "734d71b9",
   "metadata": {},
   "outputs": [
    {
     "data": {
      "text/plain": [
       "True"
      ]
     },
     "execution_count": 53,
     "metadata": {},
     "output_type": "execute_result"
    }
   ],
   "source": [
    "ord(\"a\")==97   # ord gives uincode"
   ]
  },
  {
   "cell_type": "code",
   "execution_count": 54,
   "id": "7b727ae1",
   "metadata": {},
   "outputs": [
    {
     "data": {
      "text/plain": [
       "True"
      ]
     },
     "execution_count": 54,
     "metadata": {},
     "output_type": "execute_result"
    }
   ],
   "source": [
    "3!=\"3\""
   ]
  },
  {
   "cell_type": "code",
   "execution_count": 55,
   "id": "7bccffb8",
   "metadata": {},
   "outputs": [],
   "source": [
    "# logical operators   not ,and, or"
   ]
  },
  {
   "cell_type": "code",
   "execution_count": 56,
   "id": "f79ea978",
   "metadata": {},
   "outputs": [
    {
     "data": {
      "text/plain": [
       "False"
      ]
     },
     "execution_count": 56,
     "metadata": {},
     "output_type": "execute_result"
    }
   ],
   "source": [
    "3>4"
   ]
  },
  {
   "cell_type": "code",
   "execution_count": 58,
   "id": "eb11efcf",
   "metadata": {},
   "outputs": [
    {
     "data": {
      "text/plain": [
       "True"
      ]
     },
     "execution_count": 58,
     "metadata": {},
     "output_type": "execute_result"
    }
   ],
   "source": [
    "not 3>4"
   ]
  },
  {
   "cell_type": "code",
   "execution_count": 59,
   "id": "e3d0db1f",
   "metadata": {},
   "outputs": [],
   "source": [
    "(a,b)=5,4"
   ]
  },
  {
   "cell_type": "code",
   "execution_count": 60,
   "id": "df58c4c5",
   "metadata": {},
   "outputs": [
    {
     "data": {
      "text/plain": [
       "5"
      ]
     },
     "execution_count": 60,
     "metadata": {},
     "output_type": "execute_result"
    }
   ],
   "source": [
    "a"
   ]
  },
  {
   "cell_type": "code",
   "execution_count": 61,
   "id": "874d5991",
   "metadata": {},
   "outputs": [
    {
     "ename": "ZeroDivisionError",
     "evalue": "division by zero",
     "output_type": "error",
     "traceback": [
      "\u001b[1;31m---------------------------------------------------------------------------\u001b[0m",
      "\u001b[1;31mZeroDivisionError\u001b[0m                         Traceback (most recent call last)",
      "Input \u001b[1;32mIn [61]\u001b[0m, in \u001b[0;36m<cell line: 1>\u001b[1;34m()\u001b[0m\n\u001b[1;32m----> 1\u001b[0m a\u001b[38;5;241m>\u001b[39m\u001b[38;5;241m0\u001b[39m \u001b[38;5;129;01mand\u001b[39;00m \u001b[43mb\u001b[49m\u001b[38;5;241;43m/\u001b[39;49m\u001b[38;5;241;43m0\u001b[39;49m\n",
      "\u001b[1;31mZeroDivisionError\u001b[0m: division by zero"
     ]
    }
   ],
   "source": [
    "a>0 and b/0"
   ]
  },
  {
   "cell_type": "code",
   "execution_count": 63,
   "id": "e9643bff",
   "metadata": {},
   "outputs": [
    {
     "data": {
      "text/plain": [
       "True"
      ]
     },
     "execution_count": 63,
     "metadata": {},
     "output_type": "execute_result"
    }
   ],
   "source": [
    "a>0 or b/0   # in case of or if the first expresion is true than it is true no need to check further"
   ]
  },
  {
   "cell_type": "code",
   "execution_count": 65,
   "id": "efeb4eaf",
   "metadata": {},
   "outputs": [
    {
     "data": {
      "text/plain": [
       "False"
      ]
     },
     "execution_count": 65,
     "metadata": {},
     "output_type": "execute_result"
    }
   ],
   "source": [
    "a<0 and b/0  # i case of false if the first expresssion is false that means whole expression is false"
   ]
  },
  {
   "cell_type": "code",
   "execution_count": 67,
   "id": "09de7c9c",
   "metadata": {},
   "outputs": [
    {
     "data": {
      "text/plain": [
       "4"
      ]
     },
     "execution_count": 67,
     "metadata": {},
     "output_type": "execute_result"
    }
   ],
   "source": [
    "3 and 4  # if the operands is non- bool type then result is also non - bool"
   ]
  },
  {
   "cell_type": "code",
   "execution_count": 70,
   "id": "3446bb69",
   "metadata": {},
   "outputs": [],
   "source": [
    "# in the above the outcomes  depend upon the value on which the result is depended\n",
    "# non zero value always true and zero value is false"
   ]
  },
  {
   "cell_type": "code",
   "execution_count": 72,
   "id": "d5de9894",
   "metadata": {},
   "outputs": [
    {
     "data": {
      "text/plain": [
       "0"
      ]
     },
     "execution_count": 72,
     "metadata": {},
     "output_type": "execute_result"
    }
   ],
   "source": [
    "0 and 5  # since zero is false threrfore whole expression is false as it is a and operator"
   ]
  },
  {
   "cell_type": "code",
   "execution_count": 73,
   "id": "0da9ed56",
   "metadata": {},
   "outputs": [
    {
     "data": {
      "text/plain": [
       "3"
      ]
     },
     "execution_count": 73,
     "metadata": {},
     "output_type": "execute_result"
    }
   ],
   "source": [
    "3 or 6"
   ]
  },
  {
   "cell_type": "code",
   "execution_count": 74,
   "id": "b51d5352",
   "metadata": {},
   "outputs": [
    {
     "data": {
      "text/plain": [
       "'Seeta'"
      ]
     },
     "execution_count": 74,
     "metadata": {},
     "output_type": "execute_result"
    }
   ],
   "source": [
    "\"Seeta\" or \"Geeta\""
   ]
  },
  {
   "cell_type": "code",
   "execution_count": 76,
   "id": "3b4a0077",
   "metadata": {},
   "outputs": [
    {
     "data": {
      "text/plain": [
       "5"
      ]
     },
     "execution_count": 76,
     "metadata": {},
     "output_type": "execute_result"
    }
   ],
   "source": [
    "3 and 4 and 5   # this time result is depending on 5"
   ]
  },
  {
   "cell_type": "code",
   "execution_count": 78,
   "id": "f2054cda",
   "metadata": {},
   "outputs": [
    {
     "data": {
      "text/plain": [
       "3"
      ]
     },
     "execution_count": 78,
     "metadata": {},
     "output_type": "execute_result"
    }
   ],
   "source": [
    "3 or 4 and 5  # since  it is a or operend therefore it is true and no need to check further"
   ]
  },
  {
   "cell_type": "code",
   "execution_count": 2,
   "id": "b2ce7406",
   "metadata": {},
   "outputs": [],
   "source": [
    "a = 97"
   ]
  },
  {
   "cell_type": "code",
   "execution_count": 3,
   "id": "bd628b10",
   "metadata": {},
   "outputs": [
    {
     "data": {
      "text/plain": [
       "97"
      ]
     },
     "execution_count": 3,
     "metadata": {},
     "output_type": "execute_result"
    }
   ],
   "source": [
    "a"
   ]
  },
  {
   "cell_type": "code",
   "execution_count": 4,
   "id": "32aeaa53",
   "metadata": {},
   "outputs": [
    {
     "data": {
      "text/plain": [
       "'0b11001'"
      ]
     },
     "execution_count": 4,
     "metadata": {},
     "output_type": "execute_result"
    }
   ],
   "source": [
    "bin(25)"
   ]
  },
  {
   "cell_type": "code",
   "execution_count": 7,
   "id": "1f5a5fc9",
   "metadata": {},
   "outputs": [
    {
     "data": {
      "text/plain": [
       "-26"
      ]
     },
     "execution_count": 7,
     "metadata": {},
     "output_type": "execute_result"
    }
   ],
   "source": [
    "~25  # not oprator which belongs bitwise operator"
   ]
  },
  {
   "cell_type": "code",
   "execution_count": 8,
   "id": "c902685f",
   "metadata": {},
   "outputs": [],
   "source": [
    "# asssingment operator"
   ]
  },
  {
   "cell_type": "code",
   "execution_count": 9,
   "id": "aa598347",
   "metadata": {},
   "outputs": [],
   "source": [
    "a=5\n",
    "b=6"
   ]
  },
  {
   "cell_type": "code",
   "execution_count": 10,
   "id": "2093c840",
   "metadata": {},
   "outputs": [
    {
     "ename": "SyntaxError",
     "evalue": "cannot assign to literal (403356722.py, line 1)",
     "output_type": "error",
     "traceback": [
      "\u001b[1;36m  Input \u001b[1;32mIn [10]\u001b[1;36m\u001b[0m\n\u001b[1;33m    a=5,b=6\u001b[0m\n\u001b[1;37m      ^\u001b[0m\n\u001b[1;31mSyntaxError\u001b[0m\u001b[1;31m:\u001b[0m cannot assign to literal\n"
     ]
    }
   ],
   "source": [
    "a=5,b=6"
   ]
  },
  {
   "cell_type": "code",
   "execution_count": 11,
   "id": "535587c4",
   "metadata": {},
   "outputs": [],
   "source": [
    "a,b=5,6"
   ]
  },
  {
   "cell_type": "code",
   "execution_count": 13,
   "id": "56cfab09",
   "metadata": {},
   "outputs": [],
   "source": [
    "# identity operator   is ,is not"
   ]
  },
  {
   "cell_type": "code",
   "execution_count": 14,
   "id": "e7d7fc12",
   "metadata": {},
   "outputs": [],
   "source": [
    "a =5\n",
    "b= 5"
   ]
  },
  {
   "cell_type": "code",
   "execution_count": 15,
   "id": "697d9451",
   "metadata": {},
   "outputs": [
    {
     "data": {
      "text/plain": [
       "2104049559984"
      ]
     },
     "execution_count": 15,
     "metadata": {},
     "output_type": "execute_result"
    }
   ],
   "source": [
    "id(a)"
   ]
  },
  {
   "cell_type": "code",
   "execution_count": 16,
   "id": "831ea3d4",
   "metadata": {},
   "outputs": [
    {
     "data": {
      "text/plain": [
       "2104049559984"
      ]
     },
     "execution_count": 16,
     "metadata": {},
     "output_type": "execute_result"
    }
   ],
   "source": [
    "id(b)"
   ]
  },
  {
   "cell_type": "code",
   "execution_count": 17,
   "id": "46aa18e5",
   "metadata": {},
   "outputs": [],
   "source": [
    "# in the above both the variables are refering to same object"
   ]
  },
  {
   "cell_type": "code",
   "execution_count": 20,
   "id": "1349d92d",
   "metadata": {},
   "outputs": [
    {
     "data": {
      "text/plain": [
       "True"
      ]
     },
     "execution_count": 20,
     "metadata": {},
     "output_type": "execute_result"
    }
   ],
   "source": [
    "a is b  # another easy way to find   use  is operator"
   ]
  },
  {
   "cell_type": "code",
   "execution_count": 21,
   "id": "5b2930dd",
   "metadata": {},
   "outputs": [
    {
     "data": {
      "text/plain": [
       "False"
      ]
     },
     "execution_count": 21,
     "metadata": {},
     "output_type": "execute_result"
    }
   ],
   "source": [
    "a is not b"
   ]
  },
  {
   "cell_type": "code",
   "execution_count": 23,
   "id": "1ef109de",
   "metadata": {},
   "outputs": [],
   "source": [
    "# membership operator  in , not in"
   ]
  },
  {
   "cell_type": "code",
   "execution_count": 25,
   "id": "a6472bd0",
   "metadata": {},
   "outputs": [
    {
     "ename": "TypeError",
     "evalue": "argument of type 'int' is not iterable",
     "output_type": "error",
     "traceback": [
      "\u001b[1;31m---------------------------------------------------------------------------\u001b[0m",
      "\u001b[1;31mTypeError\u001b[0m                                 Traceback (most recent call last)",
      "Input \u001b[1;32mIn [25]\u001b[0m, in \u001b[0;36m<cell line: 1>\u001b[1;34m()\u001b[0m\n\u001b[1;32m----> 1\u001b[0m \u001b[38;5;241;43m3\u001b[39;49m\u001b[43m \u001b[49m\u001b[38;5;129;43;01min\u001b[39;49;00m\u001b[43m \u001b[49m\u001b[38;5;241;43m435\u001b[39;49m\n",
      "\u001b[1;31mTypeError\u001b[0m: argument of type 'int' is not iterable"
     ]
    }
   ],
   "source": [
    "3 in 435   # since int not iterable therefore error"
   ]
  },
  {
   "cell_type": "code",
   "execution_count": 26,
   "id": "48816522",
   "metadata": {},
   "outputs": [],
   "source": [
    "s = \"my sirg\""
   ]
  },
  {
   "cell_type": "code",
   "execution_count": 29,
   "id": "2fef2bce",
   "metadata": {},
   "outputs": [
    {
     "data": {
      "text/plain": [
       "True"
      ]
     },
     "execution_count": 29,
     "metadata": {},
     "output_type": "execute_result"
    }
   ],
   "source": [
    "\"my\" in s"
   ]
  },
  {
   "cell_type": "code",
   "execution_count": 30,
   "id": "ebeb6c27",
   "metadata": {},
   "outputs": [
    {
     "data": {
      "text/plain": [
       "True"
      ]
     },
     "execution_count": 30,
     "metadata": {},
     "output_type": "execute_result"
    }
   ],
   "source": [
    "\"sir\" in s"
   ]
  },
  {
   "cell_type": "code",
   "execution_count": 31,
   "id": "c8321ee2",
   "metadata": {},
   "outputs": [
    {
     "data": {
      "text/plain": [
       "False"
      ]
     },
     "execution_count": 31,
     "metadata": {},
     "output_type": "execute_result"
    }
   ],
   "source": [
    "\"i\" not in s"
   ]
  },
  {
   "cell_type": "code",
   "execution_count": null,
   "id": "06cde291",
   "metadata": {},
   "outputs": [],
   "source": []
  }
 ],
 "metadata": {
  "kernelspec": {
   "display_name": "Python 3 (ipykernel)",
   "language": "python",
   "name": "python3"
  },
  "language_info": {
   "codemirror_mode": {
    "name": "ipython",
    "version": 3
   },
   "file_extension": ".py",
   "mimetype": "text/x-python",
   "name": "python",
   "nbconvert_exporter": "python",
   "pygments_lexer": "ipython3",
   "version": "3.9.12"
  }
 },
 "nbformat": 4,
 "nbformat_minor": 5
}
