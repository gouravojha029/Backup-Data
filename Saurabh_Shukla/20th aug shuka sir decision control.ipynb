{
 "cells": [
  {
   "cell_type": "code",
   "execution_count": 1,
   "id": "28a1f4bd",
   "metadata": {},
   "outputs": [],
   "source": [
    "# decision control"
   ]
  },
  {
   "cell_type": "code",
   "execution_count": 2,
   "id": "7fe0b2b4",
   "metadata": {},
   "outputs": [],
   "source": [
    "# q): write a program to check whether a given number is positive or non positive"
   ]
  },
  {
   "cell_type": "code",
   "execution_count": 5,
   "id": "c20bf05e",
   "metadata": {},
   "outputs": [
    {
     "name": "stdout",
     "output_type": "stream",
     "text": [
      "enter a number: 5\n",
      "positive\n"
     ]
    }
   ],
   "source": [
    "a = int(input(\"enter a number: \"))\n",
    "if a > 0:\n",
    "    print(\"positive\")\n",
    "if a <=0:\n",
    "    print(\"non-positive\")"
   ]
  },
  {
   "cell_type": "code",
   "execution_count": 6,
   "id": "825a17bb",
   "metadata": {},
   "outputs": [
    {
     "name": "stdout",
     "output_type": "stream",
     "text": [
      "enter a number: 5\n",
      "positive\n"
     ]
    }
   ],
   "source": [
    "a = int(input(\"enter a number: \"))\n",
    "if a > 0:\n",
    "    print(\"positive\")\n",
    "if a <=0:\n",
    "    print(\"non-positive\")\n",
    "    print()"
   ]
  },
  {
   "cell_type": "code",
   "execution_count": 7,
   "id": "9e5b193d",
   "metadata": {},
   "outputs": [
    {
     "name": "stdout",
     "output_type": "stream",
     "text": [
      "enter a number: -8\n",
      "non-positive\n",
      "\n"
     ]
    }
   ],
   "source": [
    "a = int(input(\"enter a number: \"))\n",
    "if a > 0:\n",
    "    print(\"positive\")\n",
    "if a <=0:\n",
    "    print(\"non-positive\")\n",
    "    print()"
   ]
  },
  {
   "cell_type": "code",
   "execution_count": 8,
   "id": "eec3882d",
   "metadata": {},
   "outputs": [
    {
     "name": "stdout",
     "output_type": "stream",
     "text": [
      "enter a number: 0\n",
      "non-positive\n",
      "\n"
     ]
    }
   ],
   "source": [
    "a = int(input(\"enter a number: \"))\n",
    "if a > 0:\n",
    "    print(\"positive\")\n",
    "if a <=0:\n",
    "    print(\"non-positive\")\n",
    "    print()\n",
    "    "
   ]
  },
  {
   "cell_type": "code",
   "execution_count": 9,
   "id": "2a828227",
   "metadata": {},
   "outputs": [],
   "source": [
    "# if else"
   ]
  },
  {
   "cell_type": "code",
   "execution_count": 10,
   "id": "3f40e5f7",
   "metadata": {},
   "outputs": [],
   "source": [
    "# same above program but this time with the help of if else"
   ]
  },
  {
   "cell_type": "code",
   "execution_count": 11,
   "id": "e9fd59ec",
   "metadata": {},
   "outputs": [
    {
     "name": "stdout",
     "output_type": "stream",
     "text": [
      "enter a number: 4.5\n"
     ]
    },
    {
     "ename": "ValueError",
     "evalue": "invalid literal for int() with base 10: '4.5'",
     "output_type": "error",
     "traceback": [
      "\u001b[1;31m---------------------------------------------------------------------------\u001b[0m",
      "\u001b[1;31mValueError\u001b[0m                                Traceback (most recent call last)",
      "Input \u001b[1;32mIn [11]\u001b[0m, in \u001b[0;36m<cell line: 1>\u001b[1;34m()\u001b[0m\n\u001b[1;32m----> 1\u001b[0m a \u001b[38;5;241m=\u001b[39m \u001b[38;5;28;43mint\u001b[39;49m\u001b[43m(\u001b[49m\u001b[38;5;28;43minput\u001b[39;49m\u001b[43m(\u001b[49m\u001b[38;5;124;43m\"\u001b[39;49m\u001b[38;5;124;43menter a number: \u001b[39;49m\u001b[38;5;124;43m\"\u001b[39;49m\u001b[43m)\u001b[49m\u001b[43m)\u001b[49m\n\u001b[0;32m      2\u001b[0m \u001b[38;5;28;01mif\u001b[39;00m a \u001b[38;5;241m>\u001b[39m \u001b[38;5;241m0\u001b[39m:\n\u001b[0;32m      3\u001b[0m     \u001b[38;5;28mprint\u001b[39m(\u001b[38;5;124m\"\u001b[39m\u001b[38;5;124mpositive\u001b[39m\u001b[38;5;124m\"\u001b[39m)\n",
      "\u001b[1;31mValueError\u001b[0m: invalid literal for int() with base 10: '4.5'"
     ]
    }
   ],
   "source": [
    "a = int(input(\"enter a number: \"))\n",
    "if a > 0:\n",
    "    print(\"positive\")\n",
    "else:\n",
    "    print(\"non-positive\")"
   ]
  },
  {
   "cell_type": "code",
   "execution_count": 12,
   "id": "3cd64092",
   "metadata": {},
   "outputs": [
    {
     "name": "stdout",
     "output_type": "stream",
     "text": [
      "enter a number: 7\n",
      "positive\n"
     ]
    }
   ],
   "source": [
    "a = int(input(\"enter a number: \"))\n",
    "if a > 0:\n",
    "    print(\"positive\")\n",
    "else:\n",
    "    print(\"non-positive\")"
   ]
  },
  {
   "cell_type": "code",
   "execution_count": 13,
   "id": "1740286e",
   "metadata": {},
   "outputs": [
    {
     "name": "stdout",
     "output_type": "stream",
     "text": [
      "enter a number: -8\n",
      "non-positive\n"
     ]
    }
   ],
   "source": [
    "a = int(input(\"enter a number: \"))\n",
    "if a > 0:\n",
    "    print(\"positive\")\n",
    "else:\n",
    "    print(\"non-positive\")"
   ]
  },
  {
   "cell_type": "code",
   "execution_count": 14,
   "id": "4c93f4d2",
   "metadata": {},
   "outputs": [
    {
     "ename": "SyntaxError",
     "evalue": "invalid syntax (1322592646.py, line 5)",
     "output_type": "error",
     "traceback": [
      "\u001b[1;36m  Input \u001b[1;32mIn [14]\u001b[1;36m\u001b[0m\n\u001b[1;33m    else:\u001b[0m\n\u001b[1;37m    ^\u001b[0m\n\u001b[1;31mSyntaxError\u001b[0m\u001b[1;31m:\u001b[0m invalid syntax\n"
     ]
    }
   ],
   "source": [
    "a = int(input(\"enter a number: \"))\n",
    "if a > 0:\n",
    "    print(\"positive\")\n",
    "print(\"hello\")\n",
    "else:\n",
    "    print(\"non-positive\")"
   ]
  },
  {
   "cell_type": "code",
   "execution_count": 15,
   "id": "4469837d",
   "metadata": {},
   "outputs": [],
   "source": [
    "# if ,elif,else"
   ]
  },
  {
   "cell_type": "code",
   "execution_count": 16,
   "id": "26310bf8",
   "metadata": {},
   "outputs": [],
   "source": [
    "# Q): write a program to print grade obtained in a test, take marks obtained from user and display\n",
    "#    the grade"
   ]
  },
  {
   "cell_type": "code",
   "execution_count": 17,
   "id": "82b0b3bf",
   "metadata": {},
   "outputs": [
    {
     "name": "stdout",
     "output_type": "stream",
     "text": [
      "enter the marks: 34\n",
      "grade F\n"
     ]
    }
   ],
   "source": [
    "m= int(input(\"enter the marks: \"))\n",
    "if 90 < m <= 100:\n",
    "    print(\"grade A\")\n",
    "elif 80 < m <=90:\n",
    "    print(\"grade B\")\n",
    "elif 70 < m <= 80:\n",
    "    print(\"grade C\")\n",
    "elif 60 < m <=70:\n",
    "    print(\"grade D\")\n",
    "elif 50 <= m <=60:\n",
    "    print(\"grade E\")\n",
    "else:\n",
    "    print(\"grade F\")\n",
    "    \n",
    "    "
   ]
  },
  {
   "cell_type": "code",
   "execution_count": 18,
   "id": "7e318364",
   "metadata": {},
   "outputs": [
    {
     "name": "stdout",
     "output_type": "stream",
     "text": [
      "enter the marks: 80\n",
      "grade C\n"
     ]
    }
   ],
   "source": [
    "m= int(input(\"enter the marks: \"))\n",
    "if 90 < m <= 100:\n",
    "    print(\"grade A\")\n",
    "elif 80 < m <=90:\n",
    "    print(\"grade B\")\n",
    "elif 70 < m <= 80:\n",
    "    print(\"grade C\")\n",
    "elif 60 < m <=70:\n",
    "    print(\"grade D\")\n",
    "elif 50 <= m <=60:\n",
    "    print(\"grade E\")\n",
    "else:\n",
    "    print(\"grade F\")\n",
    "    "
   ]
  },
  {
   "cell_type": "code",
   "execution_count": null,
   "id": "e4c0afcb",
   "metadata": {},
   "outputs": [],
   "source": []
  },
  {
   "cell_type": "code",
   "execution_count": 19,
   "id": "886bac93",
   "metadata": {},
   "outputs": [
    {
     "name": "stdout",
     "output_type": "stream",
     "text": [
      "enter the marks: 61\n",
      "grade D\n"
     ]
    }
   ],
   "source": [
    "m= int(input(\"enter the marks: \"))\n",
    "if 90 < m <= 100:\n",
    "    print(\"grade A\")\n",
    "elif 80 < m <=90:\n",
    "    print(\"grade B\")\n",
    "elif 70 < m <= 80:\n",
    "    print(\"grade C\")\n",
    "elif 60 < m <=70:\n",
    "    print(\"grade D\")\n",
    "elif 50 <= m <=60:\n",
    "    print(\"grade E\")\n",
    "else:\n",
    "    print(\"grade F\")\n",
    "    "
   ]
  },
  {
   "cell_type": "code",
   "execution_count": null,
   "id": "32c2732d",
   "metadata": {},
   "outputs": [],
   "source": []
  },
  {
   "cell_type": "code",
   "execution_count": 20,
   "id": "f5d4e4aa",
   "metadata": {},
   "outputs": [
    {
     "name": "stdout",
     "output_type": "stream",
     "text": [
      "enter the marks: 91\n",
      "grade A\n"
     ]
    }
   ],
   "source": [
    "m= int(input(\"enter the marks: \"))\n",
    "if 90 < m <= 100:\n",
    "    print(\"grade A\")\n",
    "elif 80 < m <=90:\n",
    "    print(\"grade B\")\n",
    "elif 70 < m <= 80:\n",
    "    print(\"grade C\")\n",
    "elif 60 < m <=70:\n",
    "    print(\"grade D\")\n",
    "elif 50 <= m <=60:\n",
    "    print(\"grade E\")\n",
    "else:\n",
    "    print(\"grade F\")\n",
    "    "
   ]
  },
  {
   "cell_type": "code",
   "execution_count": 21,
   "id": "8619fb72",
   "metadata": {},
   "outputs": [],
   "source": [
    "# single line if else"
   ]
  },
  {
   "cell_type": "code",
   "execution_count": 22,
   "id": "168ac16e",
   "metadata": {},
   "outputs": [],
   "source": [
    "# q): write a program to check whether a given number is positive or non positive"
   ]
  },
  {
   "cell_type": "code",
   "execution_count": 24,
   "id": "dcc3d06c",
   "metadata": {},
   "outputs": [
    {
     "name": "stdout",
     "output_type": "stream",
     "text": [
      "enter a number: 5\n"
     ]
    },
    {
     "data": {
      "text/plain": [
       "'positive'"
      ]
     },
     "execution_count": 24,
     "metadata": {},
     "output_type": "execute_result"
    }
   ],
   "source": [
    "   \"positive\"  if   int(input(\"enter a number: \"))> 0  else \"non-positive\" "
   ]
  },
  {
   "cell_type": "code",
   "execution_count": 25,
   "id": "dbddda17",
   "metadata": {},
   "outputs": [
    {
     "name": "stdout",
     "output_type": "stream",
     "text": [
      "enter a number: -5\n"
     ]
    },
    {
     "data": {
      "text/plain": [
       "'non-positive'"
      ]
     },
     "execution_count": 25,
     "metadata": {},
     "output_type": "execute_result"
    }
   ],
   "source": [
    "\"positive\"  if   int(input(\"enter a number: \"))> 0  else \"non-positive\" "
   ]
  },
  {
   "cell_type": "code",
   "execution_count": 26,
   "id": "1bd1afdd",
   "metadata": {},
   "outputs": [
    {
     "name": "stdout",
     "output_type": "stream",
     "text": [
      "enter a number: 7\n",
      "positive\n"
     ]
    }
   ],
   "source": [
    "print(\"positive\"  if   int(input(\"enter a number: \"))> 0  else \"non-positive\")"
   ]
  },
  {
   "cell_type": "code",
   "execution_count": 27,
   "id": "e2037e32",
   "metadata": {},
   "outputs": [],
   "source": [
    "# match ,  it is a soft keyword it can also be used as variable"
   ]
  },
  {
   "cell_type": "code",
   "execution_count": 33,
   "id": "b1b83314",
   "metadata": {},
   "outputs": [
    {
     "ename": "SyntaxError",
     "evalue": "invalid syntax (1489005890.py, line 2)",
     "output_type": "error",
     "traceback": [
      "\u001b[1;36m  Input \u001b[1;32mIn [33]\u001b[1;36m\u001b[0m\n\u001b[1;33m    match x:\u001b[0m\n\u001b[1;37m          ^\u001b[0m\n\u001b[1;31mSyntaxError\u001b[0m\u001b[1;31m:\u001b[0m invalid syntax\n"
     ]
    }
   ],
   "source": [
    "x = int(input(\"enter a number\"))\n",
    "match x:\n",
    "    case 1:\n",
    "        print(\"one\")\n",
    "    case 2:\n",
    "        print(\"two\")\n",
    "    case 3:\n",
    "        print(\"three\")\n",
    "    case 4:\n",
    "        print(\"four\")\n",
    "        "
   ]
  },
  {
   "cell_type": "code",
   "execution_count": 34,
   "id": "e0335578",
   "metadata": {},
   "outputs": [
    {
     "ename": "SyntaxError",
     "evalue": "invalid syntax (2861684816.py, line 2)",
     "output_type": "error",
     "traceback": [
      "\u001b[1;36m  Input \u001b[1;32mIn [34]\u001b[1;36m\u001b[0m\n\u001b[1;33m    match x:\u001b[0m\n\u001b[1;37m          ^\u001b[0m\n\u001b[1;31mSyntaxError\u001b[0m\u001b[1;31m:\u001b[0m invalid syntax\n"
     ]
    }
   ],
   "source": [
    "x = int(input(\"enter a number\"))\n",
    "match x:\n",
    "    case 1:\n",
    "        print(\"one\")\n",
    "    case 2:\n",
    "        print(\"two\")\n",
    "    case 3:\n",
    "        print(\"three\")\n",
    "    case 4:\n",
    "        print(\"four\")\n",
    "    case_:\n",
    "        print(\"default\")"
   ]
  },
  {
   "cell_type": "code",
   "execution_count": 35,
   "id": "a45db006",
   "metadata": {},
   "outputs": [],
   "source": [
    "# match is not workin on jupyter"
   ]
  },
  {
   "cell_type": "code",
   "execution_count": 38,
   "id": "f45f1144",
   "metadata": {},
   "outputs": [
    {
     "ename": "SyntaxError",
     "evalue": "invalid syntax (417270732.py, line 4)",
     "output_type": "error",
     "traceback": [
      "\u001b[1;36m  Input \u001b[1;32mIn [38]\u001b[1;36m\u001b[0m\n\u001b[1;33m    match x:\u001b[0m\n\u001b[1;37m          ^\u001b[0m\n\u001b[1;31mSyntaxError\u001b[0m\u001b[1;31m:\u001b[0m invalid syntax\n"
     ]
    }
   ],
   "source": [
    "x = eval(input(\"enter a number\"))\n",
    "# eval is a function with the help of which we can inter variety of data type and it take it as it is\n",
    " # now we can put str,int bool, float \n",
    "match x:\n",
    "    case 1:\n",
    "        print(\"one\")\n",
    "    case 2:\n",
    "        print(\"two\")\n",
    "    case True :\n",
    "        print(\"three\")\n",
    "    case \"-4\":\n",
    "        print(\"four\")\n",
    "    case_:\n",
    "        print(\"default\")"
   ]
  },
  {
   "cell_type": "code",
   "execution_count": 1,
   "id": "fb9cea0b",
   "metadata": {},
   "outputs": [],
   "source": [
    "# Eval - eval function argument is always string but the data inside string is which type basically \n",
    "# eval function reveles"
   ]
  },
  {
   "cell_type": "code",
   "execution_count": 2,
   "id": "fbe57fe5",
   "metadata": {},
   "outputs": [
    {
     "data": {
      "text/plain": [
       "3"
      ]
     },
     "execution_count": 2,
     "metadata": {},
     "output_type": "execute_result"
    }
   ],
   "source": [
    "eval(\"3\")"
   ]
  },
  {
   "cell_type": "code",
   "execution_count": 3,
   "id": "5bb0eab9",
   "metadata": {},
   "outputs": [
    {
     "data": {
      "text/plain": [
       "3.5"
      ]
     },
     "execution_count": 3,
     "metadata": {},
     "output_type": "execute_result"
    }
   ],
   "source": [
    "eval(\"3.5\")"
   ]
  },
  {
   "cell_type": "code",
   "execution_count": 4,
   "id": "1ab3889a",
   "metadata": {},
   "outputs": [
    {
     "ename": "TypeError",
     "evalue": "eval() arg 1 must be a string, bytes or code object",
     "output_type": "error",
     "traceback": [
      "\u001b[1;31m---------------------------------------------------------------------------\u001b[0m",
      "\u001b[1;31mTypeError\u001b[0m                                 Traceback (most recent call last)",
      "Input \u001b[1;32mIn [4]\u001b[0m, in \u001b[0;36m<cell line: 1>\u001b[1;34m()\u001b[0m\n\u001b[1;32m----> 1\u001b[0m \u001b[38;5;28;43meval\u001b[39;49m\u001b[43m(\u001b[49m\u001b[38;5;241;43m3.5\u001b[39;49m\u001b[43m)\u001b[49m\n",
      "\u001b[1;31mTypeError\u001b[0m: eval() arg 1 must be a string, bytes or code object"
     ]
    }
   ],
   "source": [
    "eval(3.5)"
   ]
  },
  {
   "cell_type": "code",
   "execution_count": 5,
   "id": "d920b3c0",
   "metadata": {},
   "outputs": [
    {
     "data": {
      "text/plain": [
       "(3+4j)"
      ]
     },
     "execution_count": 5,
     "metadata": {},
     "output_type": "execute_result"
    }
   ],
   "source": [
    "eval(\"3+4j\")"
   ]
  },
  {
   "cell_type": "code",
   "execution_count": 6,
   "id": "e8fb1106",
   "metadata": {},
   "outputs": [
    {
     "ename": "SyntaxError",
     "evalue": "unexpected EOF while parsing (<string>, line 1)",
     "output_type": "error",
     "traceback": [
      "Traceback \u001b[1;36m(most recent call last)\u001b[0m:\n",
      "  File \u001b[0;32m~\\anaconda3\\lib\\site-packages\\IPython\\core\\interactiveshell.py:3369\u001b[0m in \u001b[0;35mrun_code\u001b[0m\n    exec(code_obj, self.user_global_ns, self.user_ns)\n",
      "\u001b[1;36m  Input \u001b[1;32mIn [6]\u001b[1;36m in \u001b[1;35m<cell line: 1>\u001b[1;36m\u001b[0m\n\u001b[1;33m    eval(\"3abc\")\u001b[0m\n",
      "\u001b[1;36m  File \u001b[1;32m<string>:1\u001b[1;36m\u001b[0m\n\u001b[1;33m    3abc\u001b[0m\n\u001b[1;37m     ^\u001b[0m\n\u001b[1;31mSyntaxError\u001b[0m\u001b[1;31m:\u001b[0m unexpected EOF while parsing\n"
     ]
    }
   ],
   "source": [
    "eval(\"3abc\")"
   ]
  },
  {
   "cell_type": "code",
   "execution_count": 7,
   "id": "acb91a23",
   "metadata": {},
   "outputs": [
    {
     "ename": "NameError",
     "evalue": "name 'abc' is not defined",
     "output_type": "error",
     "traceback": [
      "\u001b[1;31m---------------------------------------------------------------------------\u001b[0m",
      "\u001b[1;31mNameError\u001b[0m                                 Traceback (most recent call last)",
      "Input \u001b[1;32mIn [7]\u001b[0m, in \u001b[0;36m<cell line: 1>\u001b[1;34m()\u001b[0m\n\u001b[1;32m----> 1\u001b[0m \u001b[38;5;28;43meval\u001b[39;49m\u001b[43m(\u001b[49m\u001b[38;5;124;43m\"\u001b[39;49m\u001b[38;5;124;43mabc\u001b[39;49m\u001b[38;5;124;43m\"\u001b[39;49m\u001b[43m)\u001b[49m\n",
      "File \u001b[1;32m<string>:1\u001b[0m, in \u001b[0;36m<module>\u001b[1;34m\u001b[0m\n",
      "\u001b[1;31mNameError\u001b[0m: name 'abc' is not defined"
     ]
    }
   ],
   "source": [
    "eval(\"abc\")"
   ]
  },
  {
   "cell_type": "code",
   "execution_count": 8,
   "id": "b2587e30",
   "metadata": {},
   "outputs": [
    {
     "ename": "NameError",
     "evalue": "name 'abc' is not defined",
     "output_type": "error",
     "traceback": [
      "\u001b[1;31m---------------------------------------------------------------------------\u001b[0m",
      "\u001b[1;31mNameError\u001b[0m                                 Traceback (most recent call last)",
      "Input \u001b[1;32mIn [8]\u001b[0m, in \u001b[0;36m<cell line: 1>\u001b[1;34m()\u001b[0m\n\u001b[1;32m----> 1\u001b[0m \u001b[38;5;28meval\u001b[39m(\u001b[43mabc\u001b[49m)\n",
      "\u001b[1;31mNameError\u001b[0m: name 'abc' is not defined"
     ]
    }
   ],
   "source": [
    "eval(abc)"
   ]
  },
  {
   "cell_type": "code",
   "execution_count": null,
   "id": "98ff1c2c",
   "metadata": {},
   "outputs": [],
   "source": []
  }
 ],
 "metadata": {
  "kernelspec": {
   "display_name": "Python 3 (ipykernel)",
   "language": "python",
   "name": "python3"
  },
  "language_info": {
   "codemirror_mode": {
    "name": "ipython",
    "version": 3
   },
   "file_extension": ".py",
   "mimetype": "text/x-python",
   "name": "python",
   "nbconvert_exporter": "python",
   "pygments_lexer": "ipython3",
   "version": "3.9.12"
  }
 },
 "nbformat": 4,
 "nbformat_minor": 5
}
