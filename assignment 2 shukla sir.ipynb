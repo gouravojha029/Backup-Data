{
 "cells": [
  {
   "cell_type": "code",
   "execution_count": 1,
   "id": "4fe81035",
   "metadata": {},
   "outputs": [],
   "source": [
    "#1)write a python script to add a comments and prints \"learning python \" on \n",
    "#  screen."
   ]
  },
  {
   "cell_type": "code",
   "execution_count": 2,
   "id": "28ff4cd1",
   "metadata": {},
   "outputs": [
    {
     "name": "stdout",
     "output_type": "stream",
     "text": [
      "\"learning python\"\n"
     ]
    }
   ],
   "source": [
    "# beginer in python\n",
    "print(\"\\\"learning python\\\"\")"
   ]
  },
  {
   "cell_type": "code",
   "execution_count": 3,
   "id": "c5056482",
   "metadata": {},
   "outputs": [],
   "source": [
    "#2) write a python a script to add multi line comments and print values of four\n",
    "#   variables,each in a new line.variable contains any values."
   ]
  },
  {
   "cell_type": "code",
   "execution_count": 7,
   "id": "501e9f2d",
   "metadata": {},
   "outputs": [
    {
     "name": "stdout",
     "output_type": "stream",
     "text": [
      "4\n",
      "5\n",
      "9\n",
      "10\n"
     ]
    }
   ],
   "source": [
    "'''\n",
    "taking four variables\n",
    "and trying to print the \n",
    "different values\n",
    "'''\n",
    "a=4\n",
    "b=5\n",
    "c=9\n",
    "d=10\n",
    "print(a,b,c,d,sep='\\n')"
   ]
  },
  {
   "cell_type": "code",
   "execution_count": 10,
   "id": "5a02e08c",
   "metadata": {},
   "outputs": [],
   "source": [
    "#3) write a python script to print types of variables.create 5 variables each of\n",
    "#   them containing different types of data.(like 35,True ,\"mysirg\",5.46,3+4j)."
   ]
  },
  {
   "cell_type": "code",
   "execution_count": 11,
   "id": "8804f6fe",
   "metadata": {},
   "outputs": [
    {
     "name": "stdout",
     "output_type": "stream",
     "text": [
      "<class 'int'>\n",
      "<class 'bool'>\n",
      "<class 'str'>\n",
      "<class 'float'>\n",
      "<class 'complex'>\n"
     ]
    }
   ],
   "source": [
    "a = 35\n",
    "b = True\n",
    "c = \"mysirg\"\n",
    "d = 5.46\n",
    "e = 3+4j\n",
    "print(type(a))\n",
    "print(type(b))\n",
    "print(type(c))\n",
    "print(type(d))\n",
    "print(type(e))"
   ]
  },
  {
   "cell_type": "code",
   "execution_count": 12,
   "id": "6bfae2c5",
   "metadata": {},
   "outputs": [
    {
     "name": "stdout",
     "output_type": "stream",
     "text": [
      "<class 'int'> <class 'bool'> <class 'str'> <class 'float'> <class 'complex'>\n"
     ]
    }
   ],
   "source": [
    "print(type(a),type(b),type(c),type(d),type(e))"
   ]
  },
  {
   "cell_type": "code",
   "execution_count": 13,
   "id": "bcac9e9a",
   "metadata": {},
   "outputs": [],
   "source": [
    "#4) write a python script to print the id of two variables containing the same\n",
    "#   integer values."
   ]
  },
  {
   "cell_type": "code",
   "execution_count": 19,
   "id": "77b0f452",
   "metadata": {},
   "outputs": [
    {
     "name": "stdout",
     "output_type": "stream",
     "text": [
      "2177515874736\n",
      "2177515874736\n"
     ]
    }
   ],
   "source": [
    "a=5\n",
    "b=5\n",
    "print(id(a))\n",
    "print(id(b))"
   ]
  },
  {
   "cell_type": "code",
   "execution_count": 15,
   "id": "5227a895",
   "metadata": {},
   "outputs": [
    {
     "data": {
      "text/plain": [
       "2177515874736"
      ]
     },
     "execution_count": 15,
     "metadata": {},
     "output_type": "execute_result"
    }
   ],
   "source": [
    "id(a)"
   ]
  },
  {
   "cell_type": "code",
   "execution_count": 16,
   "id": "4e2ffc1a",
   "metadata": {},
   "outputs": [
    {
     "data": {
      "text/plain": [
       "2177515874736"
      ]
     },
     "execution_count": 16,
     "metadata": {},
     "output_type": "execute_result"
    }
   ],
   "source": [
    "id(b)"
   ]
  },
  {
   "cell_type": "code",
   "execution_count": 18,
   "id": "67430a37",
   "metadata": {},
   "outputs": [],
   "source": [
    "#5)create four variables in a python script and assign values of different data\n",
    "#  types to them.write a python script to print value,its type and id of each\n",
    "# variable"
   ]
  },
  {
   "cell_type": "code",
   "execution_count": 22,
   "id": "2bc52fa4",
   "metadata": {},
   "outputs": [
    {
     "name": "stdout",
     "output_type": "stream",
     "text": [
      "5 True nice 9.2 <class 'int'> <class 'bool'> <class 'str'> <class 'str'>\n",
      "2177515874736 140729242212456 2175437849008 2175478806992\n"
     ]
    }
   ],
   "source": [
    "a= 5\n",
    "b= True\n",
    "c= \"nice\"\n",
    "d= 9.2\n",
    "print(a,b,c,d,type(a),type(b),type(c),type(c))\n",
    "print(id(a),id(b),id(c),id(d))"
   ]
  },
  {
   "cell_type": "code",
   "execution_count": 1,
   "id": "f84a3a0b",
   "metadata": {},
   "outputs": [],
   "source": [
    "#6) write a python script to print all the keywords"
   ]
  },
  {
   "cell_type": "code",
   "execution_count": 6,
   "id": "25596f50",
   "metadata": {},
   "outputs": [
    {
     "name": "stdout",
     "output_type": "stream",
     "text": [
      "['False', 'None', 'True', '__peg_parser__', 'and', 'as', 'assert', 'async', 'await', 'break', 'class', 'continue', 'def', 'del', 'elif', 'else', 'except', 'finally', 'for', 'from', 'global', 'if', 'import', 'in', 'is', 'lambda', 'nonlocal', 'not', 'or', 'pass', 'raise', 'return', 'try', 'while', 'with', 'yield']\n",
      "36\n"
     ]
    }
   ],
   "source": [
    "import keyword\n",
    "print(keyword.kwlist)\n",
    "print(len(keyword.kwlist))"
   ]
  },
  {
   "cell_type": "code",
   "execution_count": 7,
   "id": "7187ca5b",
   "metadata": {},
   "outputs": [],
   "source": [
    "#7) on python shell use help() function and display the list of keywords"
   ]
  },
  {
   "cell_type": "code",
   "execution_count": null,
   "id": "d9ffe36e",
   "metadata": {},
   "outputs": [
    {
     "name": "stdout",
     "output_type": "stream",
     "text": [
      "\n",
      "Welcome to Python 3.9's help utility!\n",
      "\n",
      "If this is your first time using Python, you should definitely check out\n",
      "the tutorial on the Internet at https://docs.python.org/3.9/tutorial/.\n",
      "\n",
      "Enter the name of any module, keyword, or topic to get help on writing\n",
      "Python programs and using Python modules.  To quit this help utility and\n",
      "return to the interpreter, just type \"quit\".\n",
      "\n",
      "To get a list of available modules, keywords, symbols, or topics, type\n",
      "\"modules\", \"keywords\", \"symbols\", or \"topics\".  Each module also comes\n",
      "with a one-line summary of what it does; to list the modules whose name\n",
      "or summary contain a given string such as \"spam\", type \"modules spam\".\n",
      "\n",
      "help> keyword\n",
      "Help on module keyword:\n",
      "\n",
      "NAME\n",
      "    keyword - Keywords (from \"Grammar/python.gram\")\n",
      "\n",
      "MODULE REFERENCE\n",
      "    https://docs.python.org/3.9/library/keyword\n",
      "    \n",
      "    The following documentation is automatically generated from the Python\n",
      "    source files.  It may be incomplete, incorrect or include features that\n",
      "    are considered implementation detail and may vary between Python\n",
      "    implementations.  When in doubt, consult the module reference at the\n",
      "    location listed above.\n",
      "\n",
      "DESCRIPTION\n",
      "    This file is automatically generated; please don't muck it up!\n",
      "    \n",
      "    To update the symbols in this file, 'cd' to the top directory of\n",
      "    the python source tree and run:\n",
      "    \n",
      "        PYTHONPATH=Tools/peg_generator python3 -m pegen.keywordgen         Grammar/Grammar         Grammar/Tokens         Lib/keyword.py\n",
      "    \n",
      "    Alternatively, you can run 'make regen-keyword'.\n",
      "\n",
      "FUNCTIONS\n",
      "    iskeyword = __contains__(...) method of builtins.frozenset instance\n",
      "        x.__contains__(y) <==> y in x.\n",
      "    \n",
      "    issoftkeyword = __contains__(...) method of builtins.frozenset instance\n",
      "        x.__contains__(y) <==> y in x.\n",
      "\n",
      "DATA\n",
      "    __all__ = ['iskeyword', 'issoftkeyword', 'kwlist', 'softkwlist']\n",
      "    kwlist = ['False', 'None', 'True', '__peg_parser__', 'and', 'as', 'ass...\n",
      "    softkwlist = []\n",
      "\n",
      "FILE\n",
      "    c:\\users\\intel\\anaconda3\\lib\\keyword.py\n",
      "\n",
      "\n",
      "help> keywords\n",
      "\n",
      "Here is a list of the Python keywords.  Enter any keyword to get more help.\n",
      "\n",
      "False               break               for                 not\n",
      "None                class               from                or\n",
      "True                continue            global              pass\n",
      "__peg_parser__      def                 if                  raise\n",
      "and                 del                 import              return\n",
      "as                  elif                in                  try\n",
      "assert              else                is                  while\n",
      "async               except              lambda              with\n",
      "await               finally             nonlocal            yield\n",
      "\n"
     ]
    }
   ],
   "source": [
    "help()"
   ]
  },
  {
   "cell_type": "code",
   "execution_count": null,
   "id": "b1f3db3f",
   "metadata": {},
   "outputs": [],
   "source": [
    "#8) create two python files A0.py and A1.py.create a variable in A1.py and \n",
    "#   assign some value to it.write a python script to import A1 module in A0 and\n",
    "#   print value of the variable created in A0.py"
   ]
  },
  {
   "cell_type": "code",
   "execution_count": 2,
   "id": "19617385",
   "metadata": {},
   "outputs": [],
   "source": [
    "#9) name the keyword used as data in the python script."
   ]
  },
  {
   "cell_type": "code",
   "execution_count": 4,
   "id": "b16b3bcb",
   "metadata": {},
   "outputs": [],
   "source": [
    "# Ans- True,False,None all are soft keywords and can be used as data"
   ]
  },
  {
   "cell_type": "code",
   "execution_count": 5,
   "id": "b66be7af",
   "metadata": {},
   "outputs": [],
   "source": [
    "#10) write a python script to display the currrent date and time.first create\n",
    "#    variables  to store date and time,then display date and time inn proper \n",
    "#    format(like-13-8-2022 and 9:00pm)"
   ]
  },
  {
   "cell_type": "code",
   "execution_count": 6,
   "id": "edaf36a6",
   "metadata": {},
   "outputs": [
    {
     "name": "stdout",
     "output_type": "stream",
     "text": [
      "2022-08-26 16:40:41.557770\n"
     ]
    }
   ],
   "source": [
    "from datetime import datetime\n",
    "dt = datetime.today();\n",
    "print(dt)"
   ]
  },
  {
   "cell_type": "code",
   "execution_count": 1,
   "id": "fb4297d6",
   "metadata": {},
   "outputs": [
    {
     "ename": "NameError",
     "evalue": "name 'dt' is not defined",
     "output_type": "error",
     "traceback": [
      "\u001b[1;31m---------------------------------------------------------------------------\u001b[0m",
      "\u001b[1;31mNameError\u001b[0m                                 Traceback (most recent call last)",
      "Input \u001b[1;32mIn [1]\u001b[0m, in \u001b[0;36m<cell line: 1>\u001b[1;34m()\u001b[0m\n\u001b[1;32m----> 1\u001b[0m d1\u001b[38;5;241m=\u001b[39m \u001b[43mdt\u001b[49m\u001b[38;5;241m.\u001b[39mstrftime(\u001b[38;5;124m\"\u001b[39m\u001b[38;5;132;01m%d\u001b[39;00m\u001b[38;5;124m-\u001b[39m\u001b[38;5;124m%\u001b[39m\u001b[38;5;124mm-\u001b[39m\u001b[38;5;124m%\u001b[39m\u001b[38;5;124mY and \u001b[39m\u001b[38;5;124m%\u001b[39m\u001b[38;5;124mI:\u001b[39m\u001b[38;5;124m%\u001b[39m\u001b[38;5;124mM \u001b[39m\u001b[38;5;124m%\u001b[39m\u001b[38;5;124mP\u001b[39m\u001b[38;5;124m\"\u001b[39m)\n\u001b[0;32m      2\u001b[0m \u001b[38;5;28mprint\u001b[39m(d1)\n",
      "\u001b[1;31mNameError\u001b[0m: name 'dt' is not defined"
     ]
    }
   ],
   "source": [
    "d1= dt.strftime(\"%d-%m-%Y and %I:%M %P\")\n",
    "print(d1)"
   ]
  },
  {
   "cell_type": "code",
   "execution_count": 2,
   "id": "2b28aa71",
   "metadata": {},
   "outputs": [
    {
     "name": "stdout",
     "output_type": "stream",
     "text": [
      "2022-08-26 19:34:55.745717\n"
     ]
    }
   ],
   "source": [
    "from datetime import datetime\n",
    "dt = datetime.today();\n",
    "print(dt)"
   ]
  },
  {
   "cell_type": "code",
   "execution_count": 7,
   "id": "c8efdcb8",
   "metadata": {},
   "outputs": [
    {
     "name": "stdout",
     "output_type": "stream",
     "text": [
      "26-08-22  19:34:55\n"
     ]
    }
   ],
   "source": [
    "date_str= dt.strftime(\"%d-%m-%y  %H:%M:%S\")\n",
    "print(date_str)"
   ]
  },
  {
   "cell_type": "code",
   "execution_count": 1,
   "id": "a770aa2e",
   "metadata": {},
   "outputs": [
    {
     "name": "stdout",
     "output_type": "stream",
     "text": [
      "2022-08-27 18:31:28.858985\n"
     ]
    }
   ],
   "source": [
    "from datetime import datetime\n",
    "dt = datetime.today();\n",
    "print(dt)"
   ]
  },
  {
   "cell_type": "code",
   "execution_count": 5,
   "id": "50e6124d",
   "metadata": {},
   "outputs": [
    {
     "name": "stdout",
     "output_type": "stream",
     "text": [
      "August/27/22\n"
     ]
    }
   ],
   "source": [
    "date_str=dt.strftime(\"%B/%d/%y\")\n",
    "print(date_str)"
   ]
  },
  {
   "cell_type": "code",
   "execution_count": 7,
   "id": "61ebafad",
   "metadata": {},
   "outputs": [
    {
     "name": "stdout",
     "output_type": "stream",
     "text": [
      "27/Aug/2022\n"
     ]
    }
   ],
   "source": [
    "date_str=dt.strftime(\"%d/%b/%Y\")\n",
    "print(date_str)"
   ]
  },
  {
   "cell_type": "code",
   "execution_count": null,
   "id": "9c6fe2eb",
   "metadata": {},
   "outputs": [],
   "source": []
  }
 ],
 "metadata": {
  "kernelspec": {
   "display_name": "Python 3 (ipykernel)",
   "language": "python",
   "name": "python3"
  },
  "language_info": {
   "codemirror_mode": {
    "name": "ipython",
    "version": 3
   },
   "file_extension": ".py",
   "mimetype": "text/x-python",
   "name": "python",
   "nbconvert_exporter": "python",
   "pygments_lexer": "ipython3",
   "version": "3.9.12"
  }
 },
 "nbformat": 4,
 "nbformat_minor": 5
}
