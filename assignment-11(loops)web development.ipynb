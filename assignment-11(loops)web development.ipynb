{
 "cells": [
  {
   "cell_type": "code",
   "execution_count": 1,
   "id": "3704fade",
   "metadata": {},
   "outputs": [],
   "source": [
    "#1)write a python script to calculate sum of first N natural numbers."
   ]
  },
  {
   "cell_type": "code",
   "execution_count": 7,
   "id": "56c27389",
   "metadata": {},
   "outputs": [
    {
     "name": "stdout",
     "output_type": "stream",
     "text": [
      "enter the number: 10\n",
      "sum of first  10 number is  55\n"
     ]
    }
   ],
   "source": [
    "n=int(input(\"enter the number: \"))\n",
    "sum=0\n",
    "for i in range(1,n+1):\n",
    "    sum=sum+i\n",
    "print(\"sum of first \",n,\"number is \",sum)"
   ]
  },
  {
   "cell_type": "code",
   "execution_count": 1,
   "id": "0736f949",
   "metadata": {},
   "outputs": [
    {
     "name": "stdout",
     "output_type": "stream",
     "text": [
      "enter the number: 10\n",
      "the sum is  55\n"
     ]
    }
   ],
   "source": [
    "# using while loop\n",
    "n=int(input(\"enter the number: \"))\n",
    "sum=0\n",
    "i=1\n",
    "while i<=n:\n",
    "    sum=sum+i\n",
    "    i=i+1\n",
    "print(\"the sum is \",sum)"
   ]
  },
  {
   "cell_type": "code",
   "execution_count": null,
   "id": "7689674e",
   "metadata": {},
   "outputs": [
    {
     "name": "stdout",
     "output_type": "stream",
     "text": [
      "enter the number: 10\n"
     ]
    }
   ],
   "source": [
    "# using while loop\n",
    "n=int(input(\"enter the number: \"))\n",
    "sum=0\n",
    "i=1\n",
    "while i<=n:\n",
    "    sum=sum+i\n",
    "print(\"the sum is \",sum)\n",
    "i=i+1  # incriment should be above"
   ]
  },
  {
   "cell_type": "code",
   "execution_count": 1,
   "id": "c74ab8ac",
   "metadata": {},
   "outputs": [],
   "source": [
    "#2)write a python script to calculate sum of squares of first N naturals number"
   ]
  },
  {
   "cell_type": "code",
   "execution_count": 3,
   "id": "de49f24f",
   "metadata": {},
   "outputs": [
    {
     "name": "stdout",
     "output_type": "stream",
     "text": [
      "enter the number: 10\n",
      "sum of square first 10 number is  385\n"
     ]
    }
   ],
   "source": [
    "n=int(input(\"enter the number: \"))\n",
    "sum=0\n",
    "for i in range(1,n+1):\n",
    "    sum=sum+i**2\n",
    "print(\"sum of square first\",n,\"number is \",sum)"
   ]
  },
  {
   "cell_type": "code",
   "execution_count": 1,
   "id": "670e0903",
   "metadata": {},
   "outputs": [
    {
     "name": "stdout",
     "output_type": "stream",
     "text": [
      "enter the number: 10\n",
      "the sum is 385\n"
     ]
    }
   ],
   "source": [
    "#using while loop\n",
    "n=int(input(\"enter the number: \"))\n",
    "sum=0\n",
    "i=1\n",
    "while i<=n:\n",
    "    sum=sum+i**2\n",
    "    i+=1\n",
    "print(\"the sum is\",sum)\n",
    "\n"
   ]
  },
  {
   "cell_type": "code",
   "execution_count": 4,
   "id": "ee6539ec",
   "metadata": {},
   "outputs": [],
   "source": [
    "#3)write a python script to calculate sum of cubes of first N natural numbers"
   ]
  },
  {
   "cell_type": "code",
   "execution_count": 5,
   "id": "021af63f",
   "metadata": {},
   "outputs": [
    {
     "name": "stdout",
     "output_type": "stream",
     "text": [
      "enter the number: 10\n",
      "sum of cubes of first 10 number is  3025\n"
     ]
    }
   ],
   "source": [
    "n=int(input(\"enter the number: \"))\n",
    "sum=0\n",
    "for i in range(1,n+1):\n",
    "    sum=sum+i**3\n",
    "print(\"sum of cubes of first\",n,\"number is \",sum)"
   ]
  },
  {
   "cell_type": "code",
   "execution_count": 2,
   "id": "2c477faf",
   "metadata": {},
   "outputs": [
    {
     "name": "stdout",
     "output_type": "stream",
     "text": [
      "enter the number: 10\n",
      "the sum is 3025\n"
     ]
    }
   ],
   "source": [
    "#using while loop\n",
    "n=int(input(\"enter the number: \"))\n",
    "sum=0\n",
    "i=1\n",
    "while i<=n:\n",
    "    sum=sum+i**3\n",
    "    i+=1\n",
    "print(\"the sum is\",sum)"
   ]
  },
  {
   "cell_type": "code",
   "execution_count": 3,
   "id": "0deea5a3",
   "metadata": {},
   "outputs": [],
   "source": [
    "#4)write a python script to calculate sum of first N odd naturals numbers."
   ]
  },
  {
   "cell_type": "code",
   "execution_count": 4,
   "id": "ceab39d3",
   "metadata": {},
   "outputs": [
    {
     "name": "stdout",
     "output_type": "stream",
     "text": [
      "enter the number: 10\n",
      "the sum of odd is 25\n"
     ]
    }
   ],
   "source": [
    "n=int(input(\"enter the number: \"))\n",
    "sum=0\n",
    "for i in range(1,n+1):\n",
    "    if i%2 !=0:\n",
    "        sum=sum+i\n",
    "print(\"the sum of odd is\",sum)"
   ]
  },
  {
   "cell_type": "code",
   "execution_count": null,
   "id": "33c952d6",
   "metadata": {},
   "outputs": [],
   "source": [
    "#using while loop\n",
    "n=int(input(\"enter the number: \"))\n",
    "sum=0\n",
    "i=1\n",
    "while i<=n:\n",
    "    if i%2 !=0:\n",
    "        sum=sum+i\n",
    "        i=i+1\n",
    "print(\"the sum is\",sum)"
   ]
  },
  {
   "cell_type": "code",
   "execution_count": 1,
   "id": "07e37622",
   "metadata": {},
   "outputs": [
    {
     "name": "stdout",
     "output_type": "stream",
     "text": [
      "enter the number: 10\n",
      "the sum is 25\n"
     ]
    }
   ],
   "source": [
    "#using while loop\n",
    "n=int(input(\"enter the number: \"))\n",
    "sum=0\n",
    "i=1\n",
    "while i<=n:\n",
    "    if i%2 !=0:\n",
    "        sum=sum+i\n",
    "    i=i+1\n",
    "print(\"the sum is\",sum)"
   ]
  },
  {
   "cell_type": "code",
   "execution_count": 2,
   "id": "9da97459",
   "metadata": {},
   "outputs": [],
   "source": [
    "#5)write a python a script to calculate sum of first N even natural"
   ]
  },
  {
   "cell_type": "code",
   "execution_count": 3,
   "id": "ca3e0c14",
   "metadata": {},
   "outputs": [
    {
     "name": "stdout",
     "output_type": "stream",
     "text": [
      "enter the number: 10\n",
      "the sum is 30\n"
     ]
    }
   ],
   "source": [
    "n=int(input(\"enter the number: \"))\n",
    "sum=0\n",
    "for i in range(2,n+1):\n",
    "    if i%2==0:\n",
    "        sum=sum+i\n",
    "print(\"the sum is\",sum)"
   ]
  },
  {
   "cell_type": "code",
   "execution_count": 6,
   "id": "b31eeb60",
   "metadata": {},
   "outputs": [
    {
     "name": "stdout",
     "output_type": "stream",
     "text": [
      "enter the number: 10\n",
      "the sum is 30\n"
     ]
    }
   ],
   "source": [
    "#using while loop\n",
    "n=int(input(\"enter the number: \"))\n",
    "sum=0\n",
    "i=1\n",
    "while i<=n:\n",
    "    if i%2==0:\n",
    "        sum=sum+i\n",
    "    i=i+1\n",
    "print(\"the sum is\",sum)"
   ]
  },
  {
   "cell_type": "code",
   "execution_count": 7,
   "id": "f51bd474",
   "metadata": {},
   "outputs": [],
   "source": [
    "#6)write a python script to calculate factorial of a given number"
   ]
  },
  {
   "cell_type": "code",
   "execution_count": 1,
   "id": "a2f0a9fd",
   "metadata": {},
   "outputs": [
    {
     "name": "stdout",
     "output_type": "stream",
     "text": [
      "enter the number: 7\n",
      "the factorial of  7 is 5040\n"
     ]
    }
   ],
   "source": [
    "n=int(input(\"enter the number: \"))\n",
    "factorial=1\n",
    "for i in range(1,n+1):\n",
    "    factorial=factorial*i\n",
    "print(\"the factorial of \",n,\"is\",factorial)"
   ]
  },
  {
   "cell_type": "code",
   "execution_count": 2,
   "id": "d3db383d",
   "metadata": {},
   "outputs": [],
   "source": [
    "#7)write a python script to count digits in a given number."
   ]
  },
  {
   "cell_type": "code",
   "execution_count": 2,
   "id": "3b287c56",
   "metadata": {},
   "outputs": [
    {
     "name": "stdout",
     "output_type": "stream",
     "text": [
      "enter the number: 7654\n",
      "the number of digits are 4\n"
     ]
    }
   ],
   "source": [
    "n=int(input(\"enter the number: \"))\n",
    "count=0\n",
    "while n!=0:\n",
    "    n=n//10\n",
    "    count=count+1\n",
    "print(\"the number of digits are\",count)\n",
    "    "
   ]
  },
  {
   "cell_type": "code",
   "execution_count": 1,
   "id": "03839fce",
   "metadata": {},
   "outputs": [
    {
     "name": "stdout",
     "output_type": "stream",
     "text": [
      "enter the numbr: 987654\n",
      "the number of digits 6\n"
     ]
    }
   ],
   "source": [
    "#for any integer negative or non negative\n",
    "n=int(input(\"enter the numbr: \"))\n",
    "count=0\n",
    "if n<0:\n",
    "    n=-1*n\n",
    "if n==0:\n",
    "    count=1\n",
    "while n !=0:\n",
    "    n=n//10\n",
    "    count=count+1\n",
    "print(\"the number of digits\",count)"
   ]
  },
  {
   "cell_type": "code",
   "execution_count": 4,
   "id": "f832cd2d",
   "metadata": {},
   "outputs": [
    {
     "name": "stdout",
     "output_type": "stream",
     "text": [
      "enter the numbr: 0\n",
      "the number of digits 1\n"
     ]
    }
   ],
   "source": [
    "#for any integer negative or non negative\n",
    "n=int(input(\"enter the numbr: \"))#   this one is much better\n",
    "count=0\n",
    "if n<0:\n",
    "    n=-1*n\n",
    "if n==0:\n",
    "    count=1\n",
    "while n !=0:\n",
    "    n=n//10\n",
    "    count=count+1\n",
    "print(\"the number of digits\",count)"
   ]
  },
  {
   "cell_type": "code",
   "execution_count": 5,
   "id": "c1bc3db4",
   "metadata": {},
   "outputs": [],
   "source": [
    "#8)write a python a script to calculate sum of digits of a given number"
   ]
  },
  {
   "cell_type": "code",
   "execution_count": 10,
   "id": "f1865d5a",
   "metadata": {},
   "outputs": [
    {
     "name": "stdout",
     "output_type": "stream",
     "text": [
      "enter the number: 567\n",
      "sum of digits are 18\n"
     ]
    }
   ],
   "source": [
    "n=int(input(\"enter the number: \"))\n",
    "sum=0\n",
    "while n>0:\n",
    "    sum=sum+n%10\n",
    "    n=n//10\n",
    "print(\"sum of digits are\",sum)"
   ]
  },
  {
   "cell_type": "code",
   "execution_count": null,
   "id": "dda0aa57",
   "metadata": {},
   "outputs": [],
   "source": [
    "#9)write a python script to print binary equivalent of a given decimal number.\n",
    "# (do not use oct() method) "
   ]
  },
  {
   "cell_type": "code",
   "execution_count": 1,
   "id": "bed3cc5d",
   "metadata": {},
   "outputs": [
    {
     "name": "stdout",
     "output_type": "stream",
     "text": [
      "enter the number: 10\n",
      "0101"
     ]
    }
   ],
   "source": [
    "num=int(input(\"enter the number: \"))\n",
    "while num>0:\n",
    "    print(num%2,end=\"\")\n",
    "    num=num//2"
   ]
  },
  {
   "cell_type": "code",
   "execution_count": 2,
   "id": "801445e9",
   "metadata": {},
   "outputs": [
    {
     "name": "stdout",
     "output_type": "stream",
     "text": [
      "enter the number: 12\n",
      "0011"
     ]
    }
   ],
   "source": [
    "num=int(input(\"enter the number: \"))\n",
    "while num>0:\n",
    "    print(num%2,end=\"\")\n",
    "    num=num//2"
   ]
  },
  {
   "cell_type": "code",
   "execution_count": null,
   "id": "bf83551a",
   "metadata": {},
   "outputs": [],
   "source": []
  }
 ],
 "metadata": {
  "kernelspec": {
   "display_name": "Python 3 (ipykernel)",
   "language": "python",
   "name": "python3"
  },
  "language_info": {
   "codemirror_mode": {
    "name": "ipython",
    "version": 3
   },
   "file_extension": ".py",
   "mimetype": "text/x-python",
   "name": "python",
   "nbconvert_exporter": "python",
   "pygments_lexer": "ipython3",
   "version": "3.9.12"
  }
 },
 "nbformat": 4,
 "nbformat_minor": 5
}
